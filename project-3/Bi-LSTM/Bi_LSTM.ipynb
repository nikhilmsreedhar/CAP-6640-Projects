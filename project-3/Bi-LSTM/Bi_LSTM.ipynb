{
  "metadata": {
    "colab": {
      "provenance": []
    },
    "kernelspec": {
      "name": "python3",
      "display_name": "Python 3",
      "language": "python"
    },
    "language_info": {
      "name": "python",
      "version": "3.10.13",
      "mimetype": "text/x-python",
      "codemirror_mode": {
        "name": "ipython",
        "version": 3
      },
      "pygments_lexer": "ipython3",
      "nbconvert_exporter": "python",
      "file_extension": ".py"
    },
    "kaggle": {
      "accelerator": "gpu",
      "dataSources": [
        {
          "sourceId": 8040364,
          "sourceType": "datasetVersion",
          "datasetId": 4740315
        }
      ],
      "dockerImageVersionId": 30683,
      "isInternetEnabled": true,
      "language": "python",
      "sourceType": "notebook",
      "isGpuEnabled": true
    }
  },
  "nbformat_minor": 0,
  "nbformat": 4,
  "cells": [
    {
      "cell_type": "code",
      "source": [
        "try:\n",
        "  from seqeval.metrics import classification_report, f1_score\n",
        "except:\n",
        "  !pip install seqeval\n",
        "  from seqeval.metrics import classification_report, f1_score"
      ],
      "metadata": {
        "id": "SldYqkl-HgFP",
        "execution": {
          "iopub.status.busy": "2024-04-12T19:29:32.267218Z",
          "iopub.execute_input": "2024-04-12T19:29:32.268029Z",
          "iopub.status.idle": "2024-04-12T19:29:49.756854Z",
          "shell.execute_reply.started": "2024-04-12T19:29:32.267988Z",
          "shell.execute_reply": "2024-04-12T19:29:49.755988Z"
        },
        "trusted": true,
        "outputId": "a3d010d1-3775-4f8f-8290-73dbacb9982e"
      },
      "execution_count": null,
      "outputs": [
        {
          "name": "stdout",
          "text": "Collecting seqeval\n  Downloading seqeval-1.2.2.tar.gz (43 kB)\n\u001b[2K     \u001b[90m━━━━━━━━━━━━━━━━━━━━━━━━━━━━━━━━━━━━━━━━\u001b[0m \u001b[32m43.6/43.6 kB\u001b[0m \u001b[31m1.5 MB/s\u001b[0m eta \u001b[36m0:00:00\u001b[0m\n\u001b[?25h  Preparing metadata (setup.py) ... \u001b[?25ldone\n\u001b[?25hRequirement already satisfied: numpy>=1.14.0 in /opt/conda/lib/python3.10/site-packages (from seqeval) (1.26.4)\nRequirement already satisfied: scikit-learn>=0.21.3 in /opt/conda/lib/python3.10/site-packages (from seqeval) (1.2.2)\nRequirement already satisfied: scipy>=1.3.2 in /opt/conda/lib/python3.10/site-packages (from scikit-learn>=0.21.3->seqeval) (1.11.4)\nRequirement already satisfied: joblib>=1.1.1 in /opt/conda/lib/python3.10/site-packages (from scikit-learn>=0.21.3->seqeval) (1.3.2)\nRequirement already satisfied: threadpoolctl>=2.0.0 in /opt/conda/lib/python3.10/site-packages (from scikit-learn>=0.21.3->seqeval) (3.2.0)\nBuilding wheels for collected packages: seqeval\n  Building wheel for seqeval (setup.py) ... \u001b[?25ldone\n\u001b[?25h  Created wheel for seqeval: filename=seqeval-1.2.2-py3-none-any.whl size=16162 sha256=512e0bf6525837e16342875d63400436a289595623f46124d8dedb6a756aa485\n  Stored in directory: /root/.cache/pip/wheels/1a/67/4a/ad4082dd7dfc30f2abfe4d80a2ed5926a506eb8a972b4767fa\nSuccessfully built seqeval\nInstalling collected packages: seqeval\nSuccessfully installed seqeval-1.2.2\n",
          "output_type": "stream"
        }
      ]
    },
    {
      "cell_type": "code",
      "source": [
        "try:\n",
        "  from future.utils import iteritems\n",
        "except:\n",
        "  !pip install future\n",
        "  from future.utils import iteritems"
      ],
      "metadata": {
        "execution": {
          "iopub.status.busy": "2024-04-12T19:29:49.758571Z",
          "iopub.execute_input": "2024-04-12T19:29:49.758974Z",
          "iopub.status.idle": "2024-04-12T19:29:49.766917Z",
          "shell.execute_reply.started": "2024-04-12T19:29:49.758944Z",
          "shell.execute_reply": "2024-04-12T19:29:49.766133Z"
        },
        "trusted": true,
        "id": "ZnHhKJiY4yW8"
      },
      "execution_count": null,
      "outputs": []
    },
    {
      "cell_type": "code",
      "source": [
        "import numpy as np\n",
        "import pandas as pd\n",
        "from keras.preprocessing.sequence import pad_sequences\n",
        "from keras.utils import to_categorical\n",
        "from sklearn.model_selection import train_test_split\n",
        "from keras.models import Model\n",
        "from keras.layers import Input\n",
        "from keras.layers import LSTM, Embedding, Dense, TimeDistributed, Dropout, Bidirectional\n",
        "from keras.optimizers import AdamW\n",
        "from keras.metrics import CategoricalAccuracy\n",
        "import tensorflow.keras.backend as K\n",
        "from seqeval.metrics import classification_report, f1_score\n",
        "from spacy import displacy\n",
        "import spacy"
      ],
      "metadata": {
        "execution": {
          "iopub.status.busy": "2024-04-12T19:29:49.769920Z",
          "iopub.execute_input": "2024-04-12T19:29:49.770227Z",
          "iopub.status.idle": "2024-04-12T19:30:08.447143Z",
          "shell.execute_reply.started": "2024-04-12T19:29:49.770203Z",
          "shell.execute_reply": "2024-04-12T19:30:08.446098Z"
        },
        "trusted": true,
        "id": "fPe-mv4D4yW8",
        "outputId": "aea77f4a-dc09-4b3f-ba5f-df2e727ca26f"
      },
      "execution_count": null,
      "outputs": [
        {
          "name": "stderr",
          "text": "2024-04-12 19:29:52.452805: E external/local_xla/xla/stream_executor/cuda/cuda_dnn.cc:9261] Unable to register cuDNN factory: Attempting to register factory for plugin cuDNN when one has already been registered\n2024-04-12 19:29:52.452956: E external/local_xla/xla/stream_executor/cuda/cuda_fft.cc:607] Unable to register cuFFT factory: Attempting to register factory for plugin cuFFT when one has already been registered\n2024-04-12 19:29:52.587435: E external/local_xla/xla/stream_executor/cuda/cuda_blas.cc:1515] Unable to register cuBLAS factory: Attempting to register factory for plugin cuBLAS when one has already been registered\n",
          "output_type": "stream"
        }
      ]
    },
    {
      "cell_type": "code",
      "source": [
        "df = pd.read_csv(\"/kaggle/input/ner-data/ner.csv\", encoding = \"ISO-8859-1\", on_bad_lines=\"skip\")\n",
        "df = df.ffill()"
      ],
      "metadata": {
        "id": "bijE3GCoH32l",
        "execution": {
          "iopub.status.busy": "2024-04-12T19:30:08.449353Z",
          "iopub.execute_input": "2024-04-12T19:30:08.449903Z",
          "iopub.status.idle": "2024-04-12T19:30:25.284881Z",
          "shell.execute_reply.started": "2024-04-12T19:30:08.449876Z",
          "shell.execute_reply": "2024-04-12T19:30:25.284051Z"
        },
        "trusted": true
      },
      "execution_count": null,
      "outputs": []
    },
    {
      "cell_type": "code",
      "source": [
        "df.columns"
      ],
      "metadata": {
        "colab": {
          "base_uri": "https://localhost:8080/"
        },
        "id": "V_hLOgidLhvz",
        "outputId": "26f78ca6-f7f6-47e2-ba39-581d2d44bc51",
        "execution": {
          "iopub.status.busy": "2024-04-12T19:30:25.286450Z",
          "iopub.execute_input": "2024-04-12T19:30:25.286723Z",
          "iopub.status.idle": "2024-04-12T19:30:25.294242Z",
          "shell.execute_reply.started": "2024-04-12T19:30:25.286701Z",
          "shell.execute_reply": "2024-04-12T19:30:25.293018Z"
        },
        "trusted": true
      },
      "execution_count": null,
      "outputs": [
        {
          "execution_count": 5,
          "output_type": "execute_result",
          "data": {
            "text/plain": "Index(['Unnamed: 0', 'lemma', 'next-lemma', 'next-next-lemma', 'next-next-pos',\n       'next-next-shape', 'next-next-word', 'next-pos', 'next-shape',\n       'next-word', 'pos', 'prev-iob', 'prev-lemma', 'prev-pos',\n       'prev-prev-iob', 'prev-prev-lemma', 'prev-prev-pos', 'prev-prev-shape',\n       'prev-prev-word', 'prev-shape', 'prev-word', 'sentence_idx', 'shape',\n       'word', 'tag'],\n      dtype='object')"
          },
          "metadata": {}
        }
      ]
    },
    {
      "cell_type": "code",
      "source": [
        "df = df.drop(['Unnamed: 0', 'lemma', 'next-lemma', 'next-next-lemma', 'next-next-pos',\n",
        "       'next-next-shape', 'next-next-word', 'next-pos', 'next-shape',\n",
        "       'next-word', 'prev-iob', 'prev-lemma', 'prev-pos',\n",
        "       'prev-prev-iob', 'prev-prev-lemma', 'prev-prev-pos', 'prev-prev-shape',\n",
        "       'prev-prev-word', 'prev-shape', 'prev-word', 'shape'],axis=1)"
      ],
      "metadata": {
        "id": "1RDQpKAuLl5j",
        "execution": {
          "iopub.status.busy": "2024-04-12T19:30:25.295552Z",
          "iopub.execute_input": "2024-04-12T19:30:25.296211Z",
          "iopub.status.idle": "2024-04-12T19:30:25.466914Z",
          "shell.execute_reply.started": "2024-04-12T19:30:25.296178Z",
          "shell.execute_reply": "2024-04-12T19:30:25.466131Z"
        },
        "trusted": true
      },
      "execution_count": null,
      "outputs": []
    },
    {
      "cell_type": "code",
      "source": [
        "df"
      ],
      "metadata": {
        "colab": {
          "base_uri": "https://localhost:8080/",
          "height": 423
        },
        "id": "7pbHXwXmL0v0",
        "outputId": "74c665b0-0148-4c72-84ee-3f475a7a413c",
        "execution": {
          "iopub.status.busy": "2024-04-12T19:30:25.468068Z",
          "iopub.execute_input": "2024-04-12T19:30:25.468408Z",
          "iopub.status.idle": "2024-04-12T19:30:25.486468Z",
          "shell.execute_reply.started": "2024-04-12T19:30:25.468377Z",
          "shell.execute_reply": "2024-04-12T19:30:25.485551Z"
        },
        "trusted": true
      },
      "execution_count": null,
      "outputs": [
        {
          "execution_count": 7,
          "output_type": "execute_result",
          "data": {
            "text/plain": "         pos  sentence_idx           word tag\n0        NNS           1.0      Thousands   O\n1         IN           1.0             of   O\n2        NNS           1.0  demonstrators   O\n3        VBP           1.0           have   O\n4        VBN           1.0        marched   O\n...      ...           ...            ...  ..\n1050790  PRP       47959.0           they   O\n1050791  VBD       47959.0      responded   O\n1050792   TO       47959.0             to   O\n1050793   DT       47959.0            the   O\n1050794   NN       47959.0         attack   O\n\n[1050795 rows x 4 columns]",
            "text/html": "<div>\n<style scoped>\n    .dataframe tbody tr th:only-of-type {\n        vertical-align: middle;\n    }\n\n    .dataframe tbody tr th {\n        vertical-align: top;\n    }\n\n    .dataframe thead th {\n        text-align: right;\n    }\n</style>\n<table border=\"1\" class=\"dataframe\">\n  <thead>\n    <tr style=\"text-align: right;\">\n      <th></th>\n      <th>pos</th>\n      <th>sentence_idx</th>\n      <th>word</th>\n      <th>tag</th>\n    </tr>\n  </thead>\n  <tbody>\n    <tr>\n      <th>0</th>\n      <td>NNS</td>\n      <td>1.0</td>\n      <td>Thousands</td>\n      <td>O</td>\n    </tr>\n    <tr>\n      <th>1</th>\n      <td>IN</td>\n      <td>1.0</td>\n      <td>of</td>\n      <td>O</td>\n    </tr>\n    <tr>\n      <th>2</th>\n      <td>NNS</td>\n      <td>1.0</td>\n      <td>demonstrators</td>\n      <td>O</td>\n    </tr>\n    <tr>\n      <th>3</th>\n      <td>VBP</td>\n      <td>1.0</td>\n      <td>have</td>\n      <td>O</td>\n    </tr>\n    <tr>\n      <th>4</th>\n      <td>VBN</td>\n      <td>1.0</td>\n      <td>marched</td>\n      <td>O</td>\n    </tr>\n    <tr>\n      <th>...</th>\n      <td>...</td>\n      <td>...</td>\n      <td>...</td>\n      <td>...</td>\n    </tr>\n    <tr>\n      <th>1050790</th>\n      <td>PRP</td>\n      <td>47959.0</td>\n      <td>they</td>\n      <td>O</td>\n    </tr>\n    <tr>\n      <th>1050791</th>\n      <td>VBD</td>\n      <td>47959.0</td>\n      <td>responded</td>\n      <td>O</td>\n    </tr>\n    <tr>\n      <th>1050792</th>\n      <td>TO</td>\n      <td>47959.0</td>\n      <td>to</td>\n      <td>O</td>\n    </tr>\n    <tr>\n      <th>1050793</th>\n      <td>DT</td>\n      <td>47959.0</td>\n      <td>the</td>\n      <td>O</td>\n    </tr>\n    <tr>\n      <th>1050794</th>\n      <td>NN</td>\n      <td>47959.0</td>\n      <td>attack</td>\n      <td>O</td>\n    </tr>\n  </tbody>\n</table>\n<p>1050795 rows × 4 columns</p>\n</div>"
          },
          "metadata": {}
        }
      ]
    },
    {
      "cell_type": "code",
      "source": [
        "df.info()"
      ],
      "metadata": {
        "colab": {
          "base_uri": "https://localhost:8080/"
        },
        "id": "apgsfxF-MzRD",
        "outputId": "fd6b3929-e9fd-46de-cab3-51f0c14986f8",
        "execution": {
          "iopub.status.busy": "2024-04-12T19:30:25.487519Z",
          "iopub.execute_input": "2024-04-12T19:30:25.487800Z",
          "iopub.status.idle": "2024-04-12T19:30:25.795042Z",
          "shell.execute_reply.started": "2024-04-12T19:30:25.487776Z",
          "shell.execute_reply": "2024-04-12T19:30:25.794139Z"
        },
        "trusted": true
      },
      "execution_count": null,
      "outputs": [
        {
          "name": "stdout",
          "text": "<class 'pandas.core.frame.DataFrame'>\nRangeIndex: 1050795 entries, 0 to 1050794\nData columns (total 4 columns):\n #   Column        Non-Null Count    Dtype  \n---  ------        --------------    -----  \n 0   pos           1050795 non-null  object \n 1   sentence_idx  1050795 non-null  float64\n 2   word          1050795 non-null  object \n 3   tag           1050795 non-null  object \ndtypes: float64(1), object(3)\nmemory usage: 32.1+ MB\n",
          "output_type": "stream"
        }
      ]
    },
    {
      "cell_type": "code",
      "source": [
        "df.head()"
      ],
      "metadata": {
        "colab": {
          "base_uri": "https://localhost:8080/",
          "height": 206
        },
        "id": "ZaxaOw5_O66E",
        "outputId": "8c046513-803d-41a8-ef3c-c07b73063b22",
        "execution": {
          "iopub.status.busy": "2024-04-12T19:30:25.796233Z",
          "iopub.execute_input": "2024-04-12T19:30:25.796515Z",
          "iopub.status.idle": "2024-04-12T19:30:25.807200Z",
          "shell.execute_reply.started": "2024-04-12T19:30:25.796492Z",
          "shell.execute_reply": "2024-04-12T19:30:25.806295Z"
        },
        "trusted": true
      },
      "execution_count": null,
      "outputs": [
        {
          "execution_count": 9,
          "output_type": "execute_result",
          "data": {
            "text/plain": "   pos  sentence_idx           word tag\n0  NNS           1.0      Thousands   O\n1   IN           1.0             of   O\n2  NNS           1.0  demonstrators   O\n3  VBP           1.0           have   O\n4  VBN           1.0        marched   O",
            "text/html": "<div>\n<style scoped>\n    .dataframe tbody tr th:only-of-type {\n        vertical-align: middle;\n    }\n\n    .dataframe tbody tr th {\n        vertical-align: top;\n    }\n\n    .dataframe thead th {\n        text-align: right;\n    }\n</style>\n<table border=\"1\" class=\"dataframe\">\n  <thead>\n    <tr style=\"text-align: right;\">\n      <th></th>\n      <th>pos</th>\n      <th>sentence_idx</th>\n      <th>word</th>\n      <th>tag</th>\n    </tr>\n  </thead>\n  <tbody>\n    <tr>\n      <th>0</th>\n      <td>NNS</td>\n      <td>1.0</td>\n      <td>Thousands</td>\n      <td>O</td>\n    </tr>\n    <tr>\n      <th>1</th>\n      <td>IN</td>\n      <td>1.0</td>\n      <td>of</td>\n      <td>O</td>\n    </tr>\n    <tr>\n      <th>2</th>\n      <td>NNS</td>\n      <td>1.0</td>\n      <td>demonstrators</td>\n      <td>O</td>\n    </tr>\n    <tr>\n      <th>3</th>\n      <td>VBP</td>\n      <td>1.0</td>\n      <td>have</td>\n      <td>O</td>\n    </tr>\n    <tr>\n      <th>4</th>\n      <td>VBN</td>\n      <td>1.0</td>\n      <td>marched</td>\n      <td>O</td>\n    </tr>\n  </tbody>\n</table>\n</div>"
          },
          "metadata": {}
        }
      ]
    },
    {
      "cell_type": "code",
      "source": [
        "words = list(set(df['word'].values))\n",
        "words.append(\"ENDPAD\")\n",
        "pos_tags = list(set(df['pos'].values))\n",
        "tags = list(set(df['tag'].values))"
      ],
      "metadata": {
        "id": "pVot9a6IPDbN",
        "execution": {
          "iopub.status.busy": "2024-04-12T19:30:25.810925Z",
          "iopub.execute_input": "2024-04-12T19:30:25.811289Z",
          "iopub.status.idle": "2024-04-12T19:30:25.971683Z",
          "shell.execute_reply.started": "2024-04-12T19:30:25.811260Z",
          "shell.execute_reply": "2024-04-12T19:30:25.970698Z"
        },
        "trusted": true
      },
      "execution_count": null,
      "outputs": []
    },
    {
      "cell_type": "code",
      "source": [
        "words_encoded = {word: i for i, word in enumerate(words)}\n",
        "pos_encoded = {pos_tag: i for i, pos_tag in enumerate(pos_tags)}\n",
        "ner_tag_encoded = {tag: i for i, tag in enumerate(tags)}\n",
        "get_encoded_tag = {tag: i for i, tag in iteritems(ner_tag_encoded)}"
      ],
      "metadata": {
        "execution": {
          "iopub.status.busy": "2024-04-12T19:30:25.973096Z",
          "iopub.execute_input": "2024-04-12T19:30:25.973542Z",
          "iopub.status.idle": "2024-04-12T19:30:25.990414Z",
          "shell.execute_reply.started": "2024-04-12T19:30:25.973509Z",
          "shell.execute_reply": "2024-04-12T19:30:25.989529Z"
        },
        "trusted": true,
        "id": "hqCZe6It4yW_"
      },
      "execution_count": null,
      "outputs": []
    },
    {
      "cell_type": "code",
      "source": [
        "def combine(group):\n",
        "   return [(word, pos, tag) for word, pos, tag in zip(group['word'].values.tolist(), group['pos'].values.tolist(), group['tag'].values.tolist())]"
      ],
      "metadata": {
        "id": "W1qkkIb1QIGZ",
        "execution": {
          "iopub.status.busy": "2024-04-12T19:30:25.991464Z",
          "iopub.execute_input": "2024-04-12T19:30:25.991775Z",
          "iopub.status.idle": "2024-04-12T19:30:25.999601Z",
          "shell.execute_reply.started": "2024-04-12T19:30:25.991749Z",
          "shell.execute_reply": "2024-04-12T19:30:25.998780Z"
        },
        "trusted": true
      },
      "execution_count": null,
      "outputs": []
    },
    {
      "cell_type": "code",
      "source": [
        "def preprocess(df):\n",
        "    df=df.groupby(['sentence_idx']).apply(combine, include_groups = True).reset_index().rename(columns={0:'combined'})\n",
        "    df['sentence']=df['combined'].apply(lambda sentence:\" \".join([s[0] for s in sentence]))\n",
        "    df['pos']=df['combined'].apply(lambda sentence:\" \".join([s[1] for s in sentence]))\n",
        "    df['tag']=df['combined'].apply(lambda sentence:\" \".join([s[2] for s in sentence]))\n",
        "    df['tag_list']=df['tag'].apply(lambda tag: tag.split())\n",
        "    df.drop(\"combined\", inplace=True, axis=1)\n",
        "    return df"
      ],
      "metadata": {
        "execution": {
          "iopub.status.busy": "2024-04-12T19:30:26.000673Z",
          "iopub.execute_input": "2024-04-12T19:30:26.000972Z",
          "iopub.status.idle": "2024-04-12T19:30:26.010231Z",
          "shell.execute_reply.started": "2024-04-12T19:30:26.000949Z",
          "shell.execute_reply": "2024-04-12T19:30:26.009374Z"
        },
        "trusted": true,
        "id": "PvzFdpoJ4yW_"
      },
      "execution_count": null,
      "outputs": []
    },
    {
      "cell_type": "code",
      "source": [
        "df_preprocessed = preprocess(df)\n",
        "df_preprocessed.head()"
      ],
      "metadata": {
        "id": "dkx4j5WLR0Pi",
        "execution": {
          "iopub.status.busy": "2024-04-12T19:30:26.011487Z",
          "iopub.execute_input": "2024-04-12T19:30:26.011851Z",
          "iopub.status.idle": "2024-04-12T19:30:31.358294Z",
          "shell.execute_reply.started": "2024-04-12T19:30:26.011820Z",
          "shell.execute_reply": "2024-04-12T19:30:31.357318Z"
        },
        "trusted": true,
        "outputId": "6a51b1e4-338f-4535-82ec-343e87e3c4e2"
      },
      "execution_count": null,
      "outputs": [
        {
          "name": "stderr",
          "text": "/tmp/ipykernel_34/1500455423.py:2: DeprecationWarning: DataFrameGroupBy.apply operated on the grouping columns. This behavior is deprecated, and in a future version of pandas the grouping columns will be excluded from the operation. Either pass `include_groups=False` to exclude the groupings or explicitly select the grouping columns after groupby to silence this warning.\n  df=df.groupby(['sentence_idx']).apply(combine, include_groups = True).reset_index().rename(columns={0:'combined'})\n",
          "output_type": "stream"
        },
        {
          "execution_count": 14,
          "output_type": "execute_result",
          "data": {
            "text/plain": "   sentence_idx                                           sentence  \\\n0           1.0  Thousands of demonstrators have marched throug...   \n1           2.0  Families of soldiers killed in the conflict jo...   \n2           3.0  They marched from the Houses of Parliament to ...   \n3           4.0  Police put the number of marchers at 10,000 wh...   \n4           5.0  The protest comes on the eve of the annual con...   \n\n                                                 pos  \\\n0  NNS IN NNS VBP VBN IN NNP TO VB DT NN IN NNP C...   \n1  NNS IN NNS VBN IN DT NN VBD DT NNS WP VBD NNS ...   \n2  PRP VBD IN DT NNS IN NN TO DT NN IN NNP NNP . ...   \n3  NNS VBD DT NN IN NNS IN CD IN NNS VBD PRP VBD ...   \n4  DT NN VBZ IN DT NN IN DT JJ NN IN NNP POS VBG ...   \n\n                                                 tag  \\\n0  O O O O O O B-geo O O O O O B-geo O O O O O B-...   \n1  O O O O O O O O O O O O O O O O O O B-per O O ...   \n2  O O O O O O O O O O O B-geo I-geo O O O O O O ...   \n3  O O O O O O O O O O O O O O O O O O O O O O O ...   \n4  O O O O O O O O O O O B-geo O O B-org I-org O ...   \n\n                                            tag_list  \n0  [O, O, O, O, O, O, B-geo, O, O, O, O, O, B-geo...  \n1  [O, O, O, O, O, O, O, O, O, O, O, O, O, O, O, ...  \n2  [O, O, O, O, O, O, O, O, O, O, O, B-geo, I-geo...  \n3  [O, O, O, O, O, O, O, O, O, O, O, O, O, O, O, ...  \n4  [O, O, O, O, O, O, O, O, O, O, O, B-geo, O, O,...  ",
            "text/html": "<div>\n<style scoped>\n    .dataframe tbody tr th:only-of-type {\n        vertical-align: middle;\n    }\n\n    .dataframe tbody tr th {\n        vertical-align: top;\n    }\n\n    .dataframe thead th {\n        text-align: right;\n    }\n</style>\n<table border=\"1\" class=\"dataframe\">\n  <thead>\n    <tr style=\"text-align: right;\">\n      <th></th>\n      <th>sentence_idx</th>\n      <th>sentence</th>\n      <th>pos</th>\n      <th>tag</th>\n      <th>tag_list</th>\n    </tr>\n  </thead>\n  <tbody>\n    <tr>\n      <th>0</th>\n      <td>1.0</td>\n      <td>Thousands of demonstrators have marched throug...</td>\n      <td>NNS IN NNS VBP VBN IN NNP TO VB DT NN IN NNP C...</td>\n      <td>O O O O O O B-geo O O O O O B-geo O O O O O B-...</td>\n      <td>[O, O, O, O, O, O, B-geo, O, O, O, O, O, B-geo...</td>\n    </tr>\n    <tr>\n      <th>1</th>\n      <td>2.0</td>\n      <td>Families of soldiers killed in the conflict jo...</td>\n      <td>NNS IN NNS VBN IN DT NN VBD DT NNS WP VBD NNS ...</td>\n      <td>O O O O O O O O O O O O O O O O O O B-per O O ...</td>\n      <td>[O, O, O, O, O, O, O, O, O, O, O, O, O, O, O, ...</td>\n    </tr>\n    <tr>\n      <th>2</th>\n      <td>3.0</td>\n      <td>They marched from the Houses of Parliament to ...</td>\n      <td>PRP VBD IN DT NNS IN NN TO DT NN IN NNP NNP . ...</td>\n      <td>O O O O O O O O O O O B-geo I-geo O O O O O O ...</td>\n      <td>[O, O, O, O, O, O, O, O, O, O, O, B-geo, I-geo...</td>\n    </tr>\n    <tr>\n      <th>3</th>\n      <td>4.0</td>\n      <td>Police put the number of marchers at 10,000 wh...</td>\n      <td>NNS VBD DT NN IN NNS IN CD IN NNS VBD PRP VBD ...</td>\n      <td>O O O O O O O O O O O O O O O O O O O O O O O ...</td>\n      <td>[O, O, O, O, O, O, O, O, O, O, O, O, O, O, O, ...</td>\n    </tr>\n    <tr>\n      <th>4</th>\n      <td>5.0</td>\n      <td>The protest comes on the eve of the annual con...</td>\n      <td>DT NN VBZ IN DT NN IN DT JJ NN IN NNP POS VBG ...</td>\n      <td>O O O O O O O O O O O B-geo O O B-org I-org O ...</td>\n      <td>[O, O, O, O, O, O, O, O, O, O, O, B-geo, O, O,...</td>\n    </tr>\n  </tbody>\n</table>\n</div>"
          },
          "metadata": {}
        }
      ]
    },
    {
      "cell_type": "code",
      "source": [
        "sentences_list=df_preprocessed['sentence'].tolist()\n",
        "tags_list=df_preprocessed['tag_list'].tolist()\n",
        "for i, sentence in enumerate(sentences_list):\n",
        "    sentences_list[i] = sentences_list[i].split()\n",
        "print(sentences_list[0])\n",
        "print('\\n',tags_list[0])"
      ],
      "metadata": {
        "colab": {
          "base_uri": "https://localhost:8080/"
        },
        "id": "paB5KfA3X2xd",
        "outputId": "52be2f60-1d89-4505-9c7f-ee703383c2ac",
        "execution": {
          "iopub.status.busy": "2024-04-12T19:30:31.359590Z",
          "iopub.execute_input": "2024-04-12T19:30:31.359860Z",
          "iopub.status.idle": "2024-04-12T19:30:31.819965Z",
          "shell.execute_reply.started": "2024-04-12T19:30:31.359838Z",
          "shell.execute_reply": "2024-04-12T19:30:31.819052Z"
        },
        "trusted": true
      },
      "execution_count": null,
      "outputs": [
        {
          "name": "stdout",
          "text": "['Thousands', 'of', 'demonstrators', 'have', 'marched', 'through', 'London', 'to', 'protest', 'the', 'war', 'in', 'Iraq', 'and', 'demand', 'the', 'withdrawal', 'of', 'British', 'troops', 'from', 'that', 'country', '.', 'Thousands', 'of', 'demonstrators', 'have', 'marched', 'through', 'London', 'to', 'protest', 'the', 'war', 'in', 'Iraq', 'and', 'demand', 'the', 'withdrawal', 'of', 'British', 'troops', 'from', 'that', 'country', '.']\n\n ['O', 'O', 'O', 'O', 'O', 'O', 'B-geo', 'O', 'O', 'O', 'O', 'O', 'B-geo', 'O', 'O', 'O', 'O', 'O', 'B-gpe', 'O', 'O', 'O', 'O', 'O', 'O', 'O', 'O', 'O', 'O', 'O', 'B-geo', 'O', 'O', 'O', 'O', 'O', 'B-geo', 'O', 'O', 'O', 'O', 'O', 'B-gpe', 'O', 'O', 'O', 'O', 'O']\n",
          "output_type": "stream"
        }
      ]
    },
    {
      "cell_type": "code",
      "source": [
        "max_len = 140\n",
        "X = [[words_encoded[w] for w in s] for s in sentences_list]\n",
        "X = pad_sequences(maxlen=max_len, sequences=X, padding=\"post\",value=len(words) - 1)\n",
        "y = [[ner_tag_encoded[w] for w in s] for s in tags_list]\n",
        "y = pad_sequences(maxlen=max_len, sequences=y, padding=\"post\", value=ner_tag_encoded[\"O\"])"
      ],
      "metadata": {
        "id": "t9GgD7r5TNQL",
        "execution": {
          "iopub.status.busy": "2024-04-12T19:30:31.821173Z",
          "iopub.execute_input": "2024-04-12T19:30:31.821465Z",
          "iopub.status.idle": "2024-04-12T19:30:32.585256Z",
          "shell.execute_reply.started": "2024-04-12T19:30:31.821440Z",
          "shell.execute_reply": "2024-04-12T19:30:32.584266Z"
        },
        "trusted": true
      },
      "execution_count": null,
      "outputs": []
    },
    {
      "cell_type": "code",
      "source": [
        "y = [to_categorical(i, num_classes=len(tags)) for i in y]"
      ],
      "metadata": {
        "id": "Ea8bDXV4UIi1",
        "execution": {
          "iopub.status.busy": "2024-04-12T19:30:32.586461Z",
          "iopub.execute_input": "2024-04-12T19:30:32.586835Z",
          "iopub.status.idle": "2024-04-12T19:30:34.132536Z",
          "shell.execute_reply.started": "2024-04-12T19:30:32.586810Z",
          "shell.execute_reply": "2024-04-12T19:30:34.131699Z"
        },
        "trusted": true
      },
      "execution_count": null,
      "outputs": []
    },
    {
      "cell_type": "code",
      "source": [
        "X_train, X_test, y_train, y_test = train_test_split(X, y, test_size=0.2)"
      ],
      "metadata": {
        "id": "QO5CuWadUKNe",
        "execution": {
          "iopub.status.busy": "2024-04-12T19:30:34.133675Z",
          "iopub.execute_input": "2024-04-12T19:30:34.133971Z",
          "iopub.status.idle": "2024-04-12T19:30:34.160049Z",
          "shell.execute_reply.started": "2024-04-12T19:30:34.133946Z",
          "shell.execute_reply": "2024-04-12T19:30:34.159038Z"
        },
        "trusted": true
      },
      "execution_count": null,
      "outputs": []
    },
    {
      "cell_type": "code",
      "source": [
        "input = Input(shape=(max_len,))\n",
        "model = Embedding(input_dim=len(words), output_dim=300)(input)\n",
        "model = Dropout(0.1)(model)\n",
        "model = Bidirectional(LSTM(units=128, return_sequences=True, recurrent_dropout=0.1))(model)\n",
        "out = TimeDistributed(Dense(len(tags), activation=\"softmax\"))(model)\n",
        "model = Model(input, out)\n",
        "\n",
        "model_json = model.to_json()\n",
        "with open(\"lstm_model.json\", \"w\") as json_file:\n",
        "    json_file.write(model_json)\n",
        "model.save_weights(\"lstm_model_weights.weights.h5\")\n",
        "\n",
        "\n",
        "model.summary()"
      ],
      "metadata": {
        "colab": {
          "base_uri": "https://localhost:8080/"
        },
        "id": "FBYNqgi1UOg7",
        "outputId": "9a6844d6-629e-4d3c-d32c-2cb92a291d47",
        "execution": {
          "iopub.status.busy": "2024-04-12T19:30:34.161351Z",
          "iopub.execute_input": "2024-04-12T19:30:34.161642Z",
          "iopub.status.idle": "2024-04-12T19:30:35.290282Z",
          "shell.execute_reply.started": "2024-04-12T19:30:34.161618Z",
          "shell.execute_reply": "2024-04-12T19:30:35.289406Z"
        },
        "trusted": true
      },
      "execution_count": null,
      "outputs": [
        {
          "output_type": "display_data",
          "data": {
            "text/plain": "\u001b[1mModel: \"functional_1\"\u001b[0m\n",
            "text/html": "<pre style=\"white-space:pre;overflow-x:auto;line-height:normal;font-family:Menlo,'DejaVu Sans Mono',consolas,'Courier New',monospace\"><span style=\"font-weight: bold\">Model: \"functional_1\"</span>\n</pre>\n"
          },
          "metadata": {}
        },
        {
          "output_type": "display_data",
          "data": {
            "text/plain": "┏━━━━━━━━━━━━━━━━━━━━━━━━━━━━━━━━━┳━━━━━━━━━━━━━━━━━━━━━━━━┳━━━━━━━━━━━━━━━┓\n┃\u001b[1m \u001b[0m\u001b[1mLayer (type)                   \u001b[0m\u001b[1m \u001b[0m┃\u001b[1m \u001b[0m\u001b[1mOutput Shape          \u001b[0m\u001b[1m \u001b[0m┃\u001b[1m \u001b[0m\u001b[1m      Param #\u001b[0m\u001b[1m \u001b[0m┃\n┡━━━━━━━━━━━━━━━━━━━━━━━━━━━━━━━━━╇━━━━━━━━━━━━━━━━━━━━━━━━╇━━━━━━━━━━━━━━━┩\n│ input_layer (\u001b[38;5;33mInputLayer\u001b[0m)        │ (\u001b[38;5;45mNone\u001b[0m, \u001b[38;5;34m140\u001b[0m)            │             \u001b[38;5;34m0\u001b[0m │\n├─────────────────────────────────┼────────────────────────┼───────────────┤\n│ embedding (\u001b[38;5;33mEmbedding\u001b[0m)           │ (\u001b[38;5;45mNone\u001b[0m, \u001b[38;5;34m140\u001b[0m, \u001b[38;5;34m300\u001b[0m)       │     \u001b[38;5;34m9,051,600\u001b[0m │\n├─────────────────────────────────┼────────────────────────┼───────────────┤\n│ dropout (\u001b[38;5;33mDropout\u001b[0m)               │ (\u001b[38;5;45mNone\u001b[0m, \u001b[38;5;34m140\u001b[0m, \u001b[38;5;34m300\u001b[0m)       │             \u001b[38;5;34m0\u001b[0m │\n├─────────────────────────────────┼────────────────────────┼───────────────┤\n│ bidirectional (\u001b[38;5;33mBidirectional\u001b[0m)   │ (\u001b[38;5;45mNone\u001b[0m, \u001b[38;5;34m140\u001b[0m, \u001b[38;5;34m256\u001b[0m)       │       \u001b[38;5;34m439,296\u001b[0m │\n├─────────────────────────────────┼────────────────────────┼───────────────┤\n│ time_distributed                │ (\u001b[38;5;45mNone\u001b[0m, \u001b[38;5;34m140\u001b[0m, \u001b[38;5;34m17\u001b[0m)        │         \u001b[38;5;34m4,369\u001b[0m │\n│ (\u001b[38;5;33mTimeDistributed\u001b[0m)               │                        │               │\n└─────────────────────────────────┴────────────────────────┴───────────────┘\n",
            "text/html": "<pre style=\"white-space:pre;overflow-x:auto;line-height:normal;font-family:Menlo,'DejaVu Sans Mono',consolas,'Courier New',monospace\">┏━━━━━━━━━━━━━━━━━━━━━━━━━━━━━━━━━┳━━━━━━━━━━━━━━━━━━━━━━━━┳━━━━━━━━━━━━━━━┓\n┃<span style=\"font-weight: bold\"> Layer (type)                    </span>┃<span style=\"font-weight: bold\"> Output Shape           </span>┃<span style=\"font-weight: bold\">       Param # </span>┃\n┡━━━━━━━━━━━━━━━━━━━━━━━━━━━━━━━━━╇━━━━━━━━━━━━━━━━━━━━━━━━╇━━━━━━━━━━━━━━━┩\n│ input_layer (<span style=\"color: #0087ff; text-decoration-color: #0087ff\">InputLayer</span>)        │ (<span style=\"color: #00d7ff; text-decoration-color: #00d7ff\">None</span>, <span style=\"color: #00af00; text-decoration-color: #00af00\">140</span>)            │             <span style=\"color: #00af00; text-decoration-color: #00af00\">0</span> │\n├─────────────────────────────────┼────────────────────────┼───────────────┤\n│ embedding (<span style=\"color: #0087ff; text-decoration-color: #0087ff\">Embedding</span>)           │ (<span style=\"color: #00d7ff; text-decoration-color: #00d7ff\">None</span>, <span style=\"color: #00af00; text-decoration-color: #00af00\">140</span>, <span style=\"color: #00af00; text-decoration-color: #00af00\">300</span>)       │     <span style=\"color: #00af00; text-decoration-color: #00af00\">9,051,600</span> │\n├─────────────────────────────────┼────────────────────────┼───────────────┤\n│ dropout (<span style=\"color: #0087ff; text-decoration-color: #0087ff\">Dropout</span>)               │ (<span style=\"color: #00d7ff; text-decoration-color: #00d7ff\">None</span>, <span style=\"color: #00af00; text-decoration-color: #00af00\">140</span>, <span style=\"color: #00af00; text-decoration-color: #00af00\">300</span>)       │             <span style=\"color: #00af00; text-decoration-color: #00af00\">0</span> │\n├─────────────────────────────────┼────────────────────────┼───────────────┤\n│ bidirectional (<span style=\"color: #0087ff; text-decoration-color: #0087ff\">Bidirectional</span>)   │ (<span style=\"color: #00d7ff; text-decoration-color: #00d7ff\">None</span>, <span style=\"color: #00af00; text-decoration-color: #00af00\">140</span>, <span style=\"color: #00af00; text-decoration-color: #00af00\">256</span>)       │       <span style=\"color: #00af00; text-decoration-color: #00af00\">439,296</span> │\n├─────────────────────────────────┼────────────────────────┼───────────────┤\n│ time_distributed                │ (<span style=\"color: #00d7ff; text-decoration-color: #00d7ff\">None</span>, <span style=\"color: #00af00; text-decoration-color: #00af00\">140</span>, <span style=\"color: #00af00; text-decoration-color: #00af00\">17</span>)        │         <span style=\"color: #00af00; text-decoration-color: #00af00\">4,369</span> │\n│ (<span style=\"color: #0087ff; text-decoration-color: #0087ff\">TimeDistributed</span>)               │                        │               │\n└─────────────────────────────────┴────────────────────────┴───────────────┘\n</pre>\n"
          },
          "metadata": {}
        },
        {
          "output_type": "display_data",
          "data": {
            "text/plain": "\u001b[1m Total params: \u001b[0m\u001b[38;5;34m9,495,265\u001b[0m (36.22 MB)\n",
            "text/html": "<pre style=\"white-space:pre;overflow-x:auto;line-height:normal;font-family:Menlo,'DejaVu Sans Mono',consolas,'Courier New',monospace\"><span style=\"font-weight: bold\"> Total params: </span><span style=\"color: #00af00; text-decoration-color: #00af00\">9,495,265</span> (36.22 MB)\n</pre>\n"
          },
          "metadata": {}
        },
        {
          "output_type": "display_data",
          "data": {
            "text/plain": "\u001b[1m Trainable params: \u001b[0m\u001b[38;5;34m9,495,265\u001b[0m (36.22 MB)\n",
            "text/html": "<pre style=\"white-space:pre;overflow-x:auto;line-height:normal;font-family:Menlo,'DejaVu Sans Mono',consolas,'Courier New',monospace\"><span style=\"font-weight: bold\"> Trainable params: </span><span style=\"color: #00af00; text-decoration-color: #00af00\">9,495,265</span> (36.22 MB)\n</pre>\n"
          },
          "metadata": {}
        },
        {
          "output_type": "display_data",
          "data": {
            "text/plain": "\u001b[1m Non-trainable params: \u001b[0m\u001b[38;5;34m0\u001b[0m (0.00 B)\n",
            "text/html": "<pre style=\"white-space:pre;overflow-x:auto;line-height:normal;font-family:Menlo,'DejaVu Sans Mono',consolas,'Courier New',monospace\"><span style=\"font-weight: bold\"> Non-trainable params: </span><span style=\"color: #00af00; text-decoration-color: #00af00\">0</span> (0.00 B)\n</pre>\n"
          },
          "metadata": {}
        }
      ]
    },
    {
      "cell_type": "code",
      "source": [
        "def recall_m(y_true, y_pred):\n",
        "    true_positives = K.sum(K.round(K.clip(y_true * y_pred, 0, 1)))\n",
        "    possible_positives = K.sum(K.round(K.clip(y_true, 0, 1)))\n",
        "    recall = true_positives / (possible_positives + K.epsilon())\n",
        "    return recall\n",
        "\n",
        "def precision_m(y_true, y_pred):\n",
        "    true_positives = K.sum(K.round(K.clip(y_true * y_pred, 0, 1)))\n",
        "    predicted_positives = K.sum(K.round(K.clip(y_pred, 0, 1)))\n",
        "    precision = true_positives / (predicted_positives + K.epsilon())\n",
        "    return precision\n",
        "\n",
        "def f1_m(y_true, y_pred):\n",
        "    precision = precision_m(y_true, y_pred)\n",
        "    recall = recall_m(y_true, y_pred)\n",
        "    return 2*((precision*recall)/(precision+recall+K.epsilon()))"
      ],
      "metadata": {
        "execution": {
          "iopub.status.busy": "2024-04-12T19:30:35.291335Z",
          "iopub.execute_input": "2024-04-12T19:30:35.291628Z",
          "iopub.status.idle": "2024-04-12T19:30:35.299053Z",
          "shell.execute_reply.started": "2024-04-12T19:30:35.291604Z",
          "shell.execute_reply": "2024-04-12T19:30:35.298234Z"
        },
        "trusted": true,
        "id": "EsnSS9AQ4yXB"
      },
      "execution_count": null,
      "outputs": []
    },
    {
      "cell_type": "code",
      "source": [
        "model.compile(optimizer=AdamW(learning_rate = 3e-3), loss=\"categorical_crossentropy\", metrics=[CategoricalAccuracy(), f1_m,precision_m, recall_m])\n",
        "history = model.fit(X_train, np.array(y_train), batch_size=256, epochs=5, validation_split=0.2, verbose=1)"
      ],
      "metadata": {
        "execution": {
          "iopub.status.busy": "2024-04-12T19:30:35.300306Z",
          "iopub.execute_input": "2024-04-12T19:30:35.300567Z",
          "iopub.status.idle": "2024-04-12T19:33:14.927725Z",
          "shell.execute_reply.started": "2024-04-12T19:30:35.300545Z",
          "shell.execute_reply": "2024-04-12T19:33:14.926633Z"
        },
        "trusted": true,
        "id": "S-Xq9YtL4yXB",
        "outputId": "2e941f95-7f24-4c88-8aba-a2963a87accd"
      },
      "execution_count": null,
      "outputs": [
        {
          "name": "stdout",
          "text": "Epoch 1/5\n\u001b[1m88/88\u001b[0m \u001b[32m━━━━━━━━━━━━━━━━━━━━\u001b[0m\u001b[37m\u001b[0m \u001b[1m44s\u001b[0m 347ms/step - categorical_accuracy: 0.9157 - f1_m: 0.9111 - loss: 0.3107 - precision_m: 0.9230 - recall_m: 0.9007 - val_categorical_accuracy: 0.9881 - val_f1_m: 0.9883 - val_loss: 0.0439 - val_precision_m: 0.9933 - val_recall_m: 0.9834\nEpoch 2/5\n\u001b[1m88/88\u001b[0m \u001b[32m━━━━━━━━━━━━━━━━━━━━\u001b[0m\u001b[37m\u001b[0m \u001b[1m29s\u001b[0m 326ms/step - categorical_accuracy: 0.9906 - f1_m: 0.9908 - loss: 0.0334 - precision_m: 0.9944 - recall_m: 0.9872 - val_categorical_accuracy: 0.9915 - val_f1_m: 0.9918 - val_loss: 0.0284 - val_precision_m: 0.9935 - val_recall_m: 0.9900\nEpoch 3/5\n\u001b[1m88/88\u001b[0m \u001b[32m━━━━━━━━━━━━━━━━━━━━\u001b[0m\u001b[37m\u001b[0m \u001b[1m29s\u001b[0m 328ms/step - categorical_accuracy: 0.9942 - f1_m: 0.9943 - loss: 0.0196 - precision_m: 0.9956 - recall_m: 0.9930 - val_categorical_accuracy: 0.9922 - val_f1_m: 0.9924 - val_loss: 0.0259 - val_precision_m: 0.9937 - val_recall_m: 0.9912\nEpoch 4/5\n\u001b[1m88/88\u001b[0m \u001b[32m━━━━━━━━━━━━━━━━━━━━\u001b[0m\u001b[37m\u001b[0m \u001b[1m29s\u001b[0m 328ms/step - categorical_accuracy: 0.9956 - f1_m: 0.9957 - loss: 0.0146 - precision_m: 0.9965 - recall_m: 0.9949 - val_categorical_accuracy: 0.9922 - val_f1_m: 0.9925 - val_loss: 0.0261 - val_precision_m: 0.9935 - val_recall_m: 0.9914\nEpoch 5/5\n\u001b[1m88/88\u001b[0m \u001b[32m━━━━━━━━━━━━━━━━━━━━\u001b[0m\u001b[37m\u001b[0m \u001b[1m29s\u001b[0m 326ms/step - categorical_accuracy: 0.9963 - f1_m: 0.9964 - loss: 0.0119 - precision_m: 0.9970 - recall_m: 0.9958 - val_categorical_accuracy: 0.9923 - val_f1_m: 0.9925 - val_loss: 0.0274 - val_precision_m: 0.9932 - val_recall_m: 0.9917\n",
          "output_type": "stream"
        }
      ]
    },
    {
      "cell_type": "code",
      "source": [
        "import matplotlib.pyplot as plt\n",
        "plt.plot(history.history['categorical_accuracy'])\n",
        "plt.plot(history.history['val_categorical_accuracy'])\n",
        "plt.title('model accuracy')\n",
        "plt.ylabel('accuracy')\n",
        "plt.xlabel('epoch')\n",
        "plt.legend(['train', 'val'], loc='upper left')\n",
        "plt.show()"
      ],
      "metadata": {
        "execution": {
          "iopub.status.busy": "2024-04-12T19:37:54.820303Z",
          "iopub.execute_input": "2024-04-12T19:37:54.821042Z",
          "iopub.status.idle": "2024-04-12T19:37:55.198700Z",
          "shell.execute_reply.started": "2024-04-12T19:37:54.820988Z",
          "shell.execute_reply": "2024-04-12T19:37:55.197572Z"
        },
        "trusted": true,
        "id": "Q1P4K6eG4yXC",
        "outputId": "dface038-f8eb-495d-8f33-2cecca5c6cb2"
      },
      "execution_count": null,
      "outputs": [
        {
          "output_type": "display_data",
          "data": {
            "text/plain": "<Figure size 640x480 with 1 Axes>",
            "image/png": "[encoded data removed]"
          },
          "metadata": {}
        }
      ]
    },
    {
      "cell_type": "code",
      "source": [
        "plt.plot(history.history['loss'])\n",
        "plt.plot(history.history['val_loss'])\n",
        "plt.title('loss')\n",
        "plt.ylabel('loss value')\n",
        "plt.xlabel('epoch')\n",
        "plt.legend(['train', 'val'], loc='upper left')\n",
        "plt.show()"
      ],
      "metadata": {
        "execution": {
          "iopub.status.busy": "2024-04-12T19:37:55.203031Z",
          "iopub.execute_input": "2024-04-12T19:37:55.203832Z",
          "iopub.status.idle": "2024-04-12T19:37:55.525565Z",
          "shell.execute_reply.started": "2024-04-12T19:37:55.203794Z",
          "shell.execute_reply": "2024-04-12T19:37:55.524529Z"
        },
        "trusted": true,
        "id": "28MeYAL24yXC",
        "outputId": "700addf9-32e0-4053-a1c7-fb34561280a1"
      },
      "execution_count": null,
      "outputs": [
        {
          "output_type": "display_data",
          "data": {
            "text/plain": "<Figure size 640x480 with 1 Axes>",
            "image/png": "[encoded data removed]"
          },
          "metadata": {}
        }
      ]
    },
    {
      "cell_type": "code",
      "source": [
        "plt.plot(history.history['f1_m'])\n",
        "plt.plot(history.history['val_f1_m'])\n",
        "\n",
        "plt.title('f1-score')\n",
        "plt.ylabel('f1-score value')\n",
        "plt.xlabel('epoch')\n",
        "plt.legend(['train', 'val'], loc='upper left')\n",
        "plt.show()"
      ],
      "metadata": {
        "execution": {
          "iopub.status.busy": "2024-04-12T19:37:55.526932Z",
          "iopub.execute_input": "2024-04-12T19:37:55.527327Z",
          "iopub.status.idle": "2024-04-12T19:37:55.813443Z",
          "shell.execute_reply.started": "2024-04-12T19:37:55.527290Z",
          "shell.execute_reply": "2024-04-12T19:37:55.812511Z"
        },
        "trusted": true,
        "id": "G0Di8YCs4yXC",
        "outputId": "63c6babb-7b79-4927-d87c-428a4f1358a3"
      },
      "execution_count": null,
      "outputs": [
        {
          "output_type": "display_data",
          "data": {
            "text/plain": "<Figure size 640x480 with 1 Axes>",
            "image/png": "[encoded data removed]"
          },
          "metadata": {}
        }
      ]
    },
    {
      "cell_type": "code",
      "source": [
        "model.evaluate(X_test, np.asarray(y_test))"
      ],
      "metadata": {
        "colab": {
          "base_uri": "https://localhost:8080/"
        },
        "id": "dhCabrftoNez",
        "outputId": "0e4d5686-a8e5-40ec-e909-e11dd995c4e7",
        "execution": {
          "iopub.status.busy": "2024-04-12T19:33:14.930104Z",
          "iopub.execute_input": "2024-04-12T19:33:14.930399Z",
          "iopub.status.idle": "2024-04-12T19:33:29.867047Z",
          "shell.execute_reply.started": "2024-04-12T19:33:14.930369Z",
          "shell.execute_reply": "2024-04-12T19:33:29.866058Z"
        },
        "trusted": true
      },
      "execution_count": null,
      "outputs": [
        {
          "name": "stdout",
          "text": "\u001b[1m220/220\u001b[0m \u001b[32m━━━━━━━━━━━━━━━━━━━━\u001b[0m\u001b[37m\u001b[0m \u001b[1m15s\u001b[0m 67ms/step - categorical_accuracy: 0.9929 - f1_m: 0.9930 - loss: 0.0250 - precision_m: 0.9937 - recall_m: 0.9923\n",
          "output_type": "stream"
        },
        {
          "execution_count": 22,
          "output_type": "execute_result",
          "data": {
            "text/plain": "[0.026211438700556755,\n 0.9926000833511353,\n 0.9927398562431335,\n 0.9934624433517456,\n 0.9920185208320618]"
          },
          "metadata": {}
        }
      ]
    },
    {
      "cell_type": "code",
      "source": [
        "def get_labels(predictions):\n",
        "  output = []\n",
        "  for pred in predictions:\n",
        "    output_i = []\n",
        "    for p in pred:\n",
        "      p_i = np.argmax(p)\n",
        "      output_i.append(get_encoded_tag[p_i])\n",
        "    output.append(output_i)\n",
        "  return output"
      ],
      "metadata": {
        "id": "tN_KH5ForIkV",
        "execution": {
          "iopub.status.busy": "2024-04-12T19:33:29.868412Z",
          "iopub.execute_input": "2024-04-12T19:33:29.868867Z",
          "iopub.status.idle": "2024-04-12T19:33:29.874437Z",
          "shell.execute_reply.started": "2024-04-12T19:33:29.868832Z",
          "shell.execute_reply": "2024-04-12T19:33:29.873506Z"
        },
        "trusted": true
      },
      "execution_count": null,
      "outputs": []
    },
    {
      "cell_type": "code",
      "source": [
        "y_pred = model.predict(X_test)\n",
        "prediction_labels = get_labels(y_pred)\n",
        "test_labels = get_labels(y_test)"
      ],
      "metadata": {
        "colab": {
          "base_uri": "https://localhost:8080/"
        },
        "id": "QbsrHcVqsc80",
        "outputId": "e4d3e5ed-0fc8-4216-c5f4-0db383d9868a",
        "execution": {
          "iopub.status.busy": "2024-04-12T19:33:29.875980Z",
          "iopub.execute_input": "2024-04-12T19:33:29.876293Z",
          "iopub.status.idle": "2024-04-12T19:33:54.328841Z",
          "shell.execute_reply.started": "2024-04-12T19:33:29.876270Z",
          "shell.execute_reply": "2024-04-12T19:33:54.328028Z"
        },
        "trusted": true
      },
      "execution_count": null,
      "outputs": [
        {
          "name": "stdout",
          "text": "\u001b[1m220/220\u001b[0m \u001b[32m━━━━━━━━━━━━━━━━━━━━\u001b[0m\u001b[37m\u001b[0m \u001b[1m17s\u001b[0m 69ms/step\n",
          "output_type": "stream"
        }
      ]
    },
    {
      "cell_type": "code",
      "source": [
        "print(\"f1 score on testing set: \", f1_score(test_labels, prediction_labels))"
      ],
      "metadata": {
        "colab": {
          "base_uri": "https://localhost:8080/"
        },
        "id": "70EwZ_HdpYvG",
        "outputId": "b3807d44-0b27-4722-93db-24772172a1c7",
        "execution": {
          "iopub.status.busy": "2024-04-12T19:33:54.330129Z",
          "iopub.execute_input": "2024-04-12T19:33:54.330441Z",
          "iopub.status.idle": "2024-04-12T19:33:58.460855Z",
          "shell.execute_reply.started": "2024-04-12T19:33:54.330415Z",
          "shell.execute_reply": "2024-04-12T19:33:58.459877Z"
        },
        "trusted": true
      },
      "execution_count": null,
      "outputs": [
        {
          "name": "stdout",
          "text": "f1 score on testing set:  0.8018748301784259\n",
          "output_type": "stream"
        }
      ]
    },
    {
      "cell_type": "code",
      "source": [
        "print(classification_report(test_labels, prediction_labels))"
      ],
      "metadata": {
        "colab": {
          "base_uri": "https://localhost:8080/"
        },
        "id": "mbO0vkcFquER",
        "outputId": "4c5f855c-c398-4e63-b9ec-4ed7281e5eab",
        "execution": {
          "iopub.status.busy": "2024-04-12T19:33:58.462100Z",
          "iopub.execute_input": "2024-04-12T19:33:58.462414Z",
          "iopub.status.idle": "2024-04-12T19:34:18.969437Z",
          "shell.execute_reply.started": "2024-04-12T19:33:58.462390Z",
          "shell.execute_reply": "2024-04-12T19:34:18.968408Z"
        },
        "trusted": true
      },
      "execution_count": null,
      "outputs": [
        {
          "name": "stdout",
          "text": "              precision    recall  f1-score   support\n\n         art       0.17      0.01      0.02        83\n         eve       0.30      0.24      0.27        58\n         geo       0.83      0.87      0.85      7466\n         gpe       0.96      0.93      0.95      3241\n         nat       0.50      0.02      0.04        55\n         org       0.69      0.63      0.66      3990\n         per       0.72      0.68      0.69      3387\n         tim       0.86      0.83      0.85      4054\n\n   micro avg       0.81      0.79      0.80     22334\n   macro avg       0.63      0.53      0.54     22334\nweighted avg       0.81      0.79      0.80     22334\n\n",
          "output_type": "stream"
        }
      ]
    },
    {
      "cell_type": "code",
      "source": [
        "for i in range(0, 5):\n",
        "  text = X_test[i]\n",
        "  p = model.predict(np.array([text]))\n",
        "  p = np.argmax(p, axis=-1)\n",
        "  gt = np.argmax(y_test[i], axis=-1)\n",
        "  print(\"Test sentence:\", i+1)\n",
        "  print(\"{:14} {:5}: \\t{}\".format(\"Word\", \"True NER Labels\", \"Predicted NER labels\"))\n",
        "  for idx, (w,pred) in enumerate(zip(X_test[i],p[0])):\n",
        "      if words[w] != \"ENDPAD\":\n",
        "          print(\"{:14} {:5} \\t\\t\\t{}\".format(words[w], get_encoded_tag[gt[idx]], tags[pred]))\n",
        "  print(\"\\n\")"
      ],
      "metadata": {
        "colab": {
          "base_uri": "https://localhost:8080/"
        },
        "id": "kNMZYxPAaAaB",
        "outputId": "17eb80da-0ec9-4a2d-ee13-1e6cac86b214",
        "execution": {
          "iopub.status.busy": "2024-04-12T19:34:18.970955Z",
          "iopub.execute_input": "2024-04-12T19:34:18.971785Z",
          "iopub.status.idle": "2024-04-12T19:34:19.621326Z",
          "shell.execute_reply.started": "2024-04-12T19:34:18.971747Z",
          "shell.execute_reply": "2024-04-12T19:34:19.620378Z"
        },
        "trusted": true
      },
      "execution_count": null,
      "outputs": [
        {
          "name": "stdout",
          "text": "\u001b[1m1/1\u001b[0m \u001b[32m━━━━━━━━━━━━━━━━━━━━\u001b[0m\u001b[37m\u001b[0m \u001b[1m0s\u001b[0m 110ms/step\nTest sentence: 1\nWord           True NER Labels: \tPredicted NER labels\nBut            O     \t\t\tO\nfor            O     \t\t\tO\nthe            O     \t\t\tO\npast           B-tim \t\t\tB-tim\ntwo            I-tim \t\t\tI-tim\nyears          O     \t\t\tO\n,              O     \t\t\tO\nNorwegian      B-gpe \t\t\tB-gpe\nwhale          O     \t\t\tO\nhunters        O     \t\t\tO\nhave           O     \t\t\tO\nfallen         O     \t\t\tO\nshort          O     \t\t\tO\nof             O     \t\t\tO\nthe            O     \t\t\tO\nquotas         O     \t\t\tO\n.              O     \t\t\tO\n\n\n\u001b[1m1/1\u001b[0m \u001b[32m━━━━━━━━━━━━━━━━━━━━\u001b[0m\u001b[37m\u001b[0m \u001b[1m0s\u001b[0m 73ms/step\nTest sentence: 2\nWord           True NER Labels: \tPredicted NER labels\nThe            O     \t\t\tO\nvictims        O     \t\t\tO\nwere           O     \t\t\tO\npassengers     O     \t\t\tO\nof             O     \t\t\tO\na              O     \t\t\tO\nminibus        O     \t\t\tO\npassing        O     \t\t\tO\nthrough        O     \t\t\tO\nan             O     \t\t\tO\narea           O     \t\t\tO\nknown          O     \t\t\tO\nas             O     \t\t\tO\nthe            O     \t\t\tO\n\"              O     \t\t\tO\ntriangle       O     \t\t\tO\nof             O     \t\t\tO\ndeath          O     \t\t\tO\n.              O     \t\t\tO\n\"              O     \t\t\tO\n\n\n\u001b[1m1/1\u001b[0m \u001b[32m━━━━━━━━━━━━━━━━━━━━\u001b[0m\u001b[37m\u001b[0m \u001b[1m0s\u001b[0m 82ms/step\nTest sentence: 3\nWord           True NER Labels: \tPredicted NER labels\nIndia          B-org \t\t\tB-geo\nlast           O     \t\t\tO\nwon            O     \t\t\tO\na              O     \t\t\tO\nhome           O     \t\t\tO\nseries         O     \t\t\tO\nagainst        O     \t\t\tO\nPakistan       B-org \t\t\tB-geo\nin             O     \t\t\tO\n1979           B-tim \t\t\tB-tim\n,              O     \t\t\tO\nbut            O     \t\t\tO\nleads          O     \t\t\tO\nthis           O     \t\t\tO\nseries         O     \t\t\tO\n1-0            O     \t\t\tO\nafter          O     \t\t\tO\nwinning        O     \t\t\tO\nthe            O     \t\t\tO\nfirst          O     \t\t\tO\ntest           O     \t\t\tO\nby             O     \t\t\tO\nsix            O     \t\t\tO\nwickets        O     \t\t\tO\n.              O     \t\t\tO\nIndia          B-org \t\t\tB-geo\nlast           O     \t\t\tO\nwon            O     \t\t\tO\na              O     \t\t\tO\nhome           O     \t\t\tO\nseries         O     \t\t\tO\nagainst        O     \t\t\tO\nPakistan       B-org \t\t\tB-geo\nin             O     \t\t\tO\n1979           B-tim \t\t\tB-tim\n,              O     \t\t\tO\nbut            O     \t\t\tO\nleads          O     \t\t\tO\nthis           O     \t\t\tO\nseries         O     \t\t\tO\n1-0            O     \t\t\tO\nafter          O     \t\t\tO\nwinning        O     \t\t\tO\nthe            O     \t\t\tO\nfirst          O     \t\t\tO\ntest           O     \t\t\tO\nby             O     \t\t\tO\nsix            O     \t\t\tO\nwickets        O     \t\t\tO\n.              O     \t\t\tO\n\n\n\u001b[1m1/1\u001b[0m \u001b[32m━━━━━━━━━━━━━━━━━━━━\u001b[0m\u001b[37m\u001b[0m \u001b[1m0s\u001b[0m 74ms/step\nTest sentence: 4\nWord           True NER Labels: \tPredicted NER labels\nBut            O     \t\t\tO\nas             O     \t\t\tO\nhe             O     \t\t\tO\nstill          O     \t\t\tO\ncontinued      O     \t\t\tO\nto             O     \t\t\tO\nstay           O     \t\t\tO\n,              O     \t\t\tO\nas             O     \t\t\tO\ntime           O     \t\t\tO\nwent           O     \t\t\tO\non             O     \t\t\tO\n,              O     \t\t\tO\nthe            O     \t\t\tO\nrich           O     \t\t\tO\nman            O     \t\t\tO\nbecame         O     \t\t\tO\naccustomed     O     \t\t\tO\nto             O     \t\t\tO\nthe            O     \t\t\tO\nsmell          O     \t\t\tO\n,              O     \t\t\tO\nand            O     \t\t\tO\nfeeling        O     \t\t\tO\nno             O     \t\t\tO\nmanner         O     \t\t\tO\nof             O     \t\t\tO\ninconvenience  O     \t\t\tO\n,              O     \t\t\tO\nmade           O     \t\t\tO\nno             O     \t\t\tO\nfurther        O     \t\t\tO\ncomplaints     O     \t\t\tO\n.              O     \t\t\tO\n\n\n\u001b[1m1/1\u001b[0m \u001b[32m━━━━━━━━━━━━━━━━━━━━\u001b[0m\u001b[37m\u001b[0m \u001b[1m0s\u001b[0m 75ms/step\nTest sentence: 5\nWord           True NER Labels: \tPredicted NER labels\nAuthorities    O     \t\t\tO\nattribute      O     \t\t\tO\nthe            O     \t\t\tO\naccident       O     \t\t\tO\nto             O     \t\t\tO\nbad            O     \t\t\tO\npackaging      O     \t\t\tO\nand            O     \t\t\tO\nsay            O     \t\t\tO\nit             O     \t\t\tO\nposed          O     \t\t\tO\nno             O     \t\t\tO\nthreat         O     \t\t\tO\nto             O     \t\t\tO\nhumans         O     \t\t\tO\n.              O     \t\t\tO\nAuthorities    O     \t\t\tO\nattribute      O     \t\t\tO\nthe            O     \t\t\tO\naccident       O     \t\t\tO\nto             O     \t\t\tO\nbad            O     \t\t\tO\npackaging      O     \t\t\tO\nand            O     \t\t\tO\nsay            O     \t\t\tO\nit             O     \t\t\tO\nposed          O     \t\t\tO\nno             O     \t\t\tO\nthreat         O     \t\t\tO\nto             O     \t\t\tO\nhumans         O     \t\t\tO\n.              O     \t\t\tO\n\n\n",
          "output_type": "stream"
        }
      ]
    },
    {
      "cell_type": "code",
      "source": [
        "# Try to get this working\n",
        "\n",
        "# # nlp = spacy.load(\"en_core_web_sm\")\n",
        "# from keras.models import model_from_json\n",
        "# # Load the saved model architecture from JSON\n",
        "# with open(\"lstm_model.json\", \"r\") as json_file:\n",
        "#     loaded_model_json = json_file.read()\n",
        "\n",
        "# loaded_model = model_from_json(loaded_model_json)\n",
        "# # loaded_model.load_weights(\"lstm_model_weights.weights.h5\")\n",
        "\n",
        "# Visualize NER tagging on test set examples with spacy\n",
        "nlp = spacy.load(\"en_core_web_sm\")\n",
        "# nlp_entity = spacy.load(\"lstm_model.json\")\n",
        "# nlp.add_pipe(\"ner\", source=loaded_model)\n",
        "for i in range(0, 5):\n",
        "  text = X_test[i]\n",
        "  spacy_str = []\n",
        "  for w in text:\n",
        "    if words[w] != \"ENDPAD\":\n",
        "      spacy_str.append(words[w])\n",
        "  spacy_str = ' '.join(spacy_str)\n",
        "  doc = nlp(str(spacy_str))\n",
        "  print(\"{}. \".format(i+1))\n",
        "  displacy.render(doc, style=\"ent\")\n",
        "  print(\"\\n\")"
      ],
      "metadata": {
        "colab": {
          "base_uri": "https://localhost:8080/",
          "height": 738
        },
        "id": "6kYAPtbRbjvl",
        "outputId": "6650cc48-677d-464d-db3d-dd8b3ce2fcc0",
        "execution": {
          "iopub.status.busy": "2024-04-12T19:34:19.625422Z",
          "iopub.execute_input": "2024-04-12T19:34:19.625728Z",
          "iopub.status.idle": "2024-04-12T19:34:20.902238Z",
          "shell.execute_reply.started": "2024-04-12T19:34:19.625703Z",
          "shell.execute_reply": "2024-04-12T19:34:20.901224Z"
        },
        "trusted": true
      },
      "execution_count": null,
      "outputs": [
        {
          "name": "stdout",
          "text": "1. \n",
          "output_type": "stream"
        },
        {
          "output_type": "display_data",
          "data": {
            "text/plain": "<IPython.core.display.HTML object>",
            "text/html": "<span class=\"tex2jax_ignore\"><div class=\"entities\" style=\"line-height: 2.5; direction: ltr\">But for \n<mark class=\"entity\" style=\"background: #bfe1d9; padding: 0.45em 0.6em; margin: 0 0.25em; line-height: 1; border-radius: 0.35em;\">\n    the past two years\n    <span style=\"font-size: 0.8em; font-weight: bold; line-height: 1; border-radius: 0.35em; vertical-align: middle; margin-left: 0.5rem\">DATE</span>\n</mark>\n , \n<mark class=\"entity\" style=\"background: #c887fb; padding: 0.45em 0.6em; margin: 0 0.25em; line-height: 1; border-radius: 0.35em;\">\n    Norwegian\n    <span style=\"font-size: 0.8em; font-weight: bold; line-height: 1; border-radius: 0.35em; vertical-align: middle; margin-left: 0.5rem\">NORP</span>\n</mark>\n whale hunters have fallen short of the quotas .</div></span>"
          },
          "metadata": {}
        },
        {
          "name": "stdout",
          "text": "\n\n2. \n",
          "output_type": "stream"
        },
        {
          "name": "stderr",
          "text": "/opt/conda/lib/python3.10/site-packages/spacy/displacy/__init__.py:213: UserWarning: [W006] No entities to visualize found in Doc object. If this is surprising to you, make sure the Doc was processed using a model that supports named entity recognition, and check the `doc.ents` property manually if necessary.\n  warnings.warn(Warnings.W006)\n",
          "output_type": "stream"
        },
        {
          "output_type": "display_data",
          "data": {
            "text/plain": "<IPython.core.display.HTML object>",
            "text/html": "<span class=\"tex2jax_ignore\"><div class=\"entities\" style=\"line-height: 2.5; direction: ltr\">The victims were passengers of a minibus passing through an area known as the &quot; triangle of death . &quot;</div></span>"
          },
          "metadata": {}
        },
        {
          "name": "stdout",
          "text": "\n\n3. \n",
          "output_type": "stream"
        },
        {
          "output_type": "display_data",
          "data": {
            "text/plain": "<IPython.core.display.HTML object>",
            "text/html": "<span class=\"tex2jax_ignore\"><div class=\"entities\" style=\"line-height: 2.5; direction: ltr\">\n<mark class=\"entity\" style=\"background: #feca74; padding: 0.45em 0.6em; margin: 0 0.25em; line-height: 1; border-radius: 0.35em;\">\n    India\n    <span style=\"font-size: 0.8em; font-weight: bold; line-height: 1; border-radius: 0.35em; vertical-align: middle; margin-left: 0.5rem\">GPE</span>\n</mark>\n last won a home series against \n<mark class=\"entity\" style=\"background: #feca74; padding: 0.45em 0.6em; margin: 0 0.25em; line-height: 1; border-radius: 0.35em;\">\n    Pakistan\n    <span style=\"font-size: 0.8em; font-weight: bold; line-height: 1; border-radius: 0.35em; vertical-align: middle; margin-left: 0.5rem\">GPE</span>\n</mark>\n in \n<mark class=\"entity\" style=\"background: #bfe1d9; padding: 0.45em 0.6em; margin: 0 0.25em; line-height: 1; border-radius: 0.35em;\">\n    1979\n    <span style=\"font-size: 0.8em; font-weight: bold; line-height: 1; border-radius: 0.35em; vertical-align: middle; margin-left: 0.5rem\">DATE</span>\n</mark>\n , but leads this series \n<mark class=\"entity\" style=\"background: #e4e7d2; padding: 0.45em 0.6em; margin: 0 0.25em; line-height: 1; border-radius: 0.35em;\">\n    1\n    <span style=\"font-size: 0.8em; font-weight: bold; line-height: 1; border-radius: 0.35em; vertical-align: middle; margin-left: 0.5rem\">CARDINAL</span>\n</mark>\n-0 after winning the \n<mark class=\"entity\" style=\"background: #e4e7d2; padding: 0.45em 0.6em; margin: 0 0.25em; line-height: 1; border-radius: 0.35em;\">\n    first\n    <span style=\"font-size: 0.8em; font-weight: bold; line-height: 1; border-radius: 0.35em; vertical-align: middle; margin-left: 0.5rem\">ORDINAL</span>\n</mark>\n test by \n<mark class=\"entity\" style=\"background: #e4e7d2; padding: 0.45em 0.6em; margin: 0 0.25em; line-height: 1; border-radius: 0.35em;\">\n    six\n    <span style=\"font-size: 0.8em; font-weight: bold; line-height: 1; border-radius: 0.35em; vertical-align: middle; margin-left: 0.5rem\">CARDINAL</span>\n</mark>\n wickets . \n<mark class=\"entity\" style=\"background: #feca74; padding: 0.45em 0.6em; margin: 0 0.25em; line-height: 1; border-radius: 0.35em;\">\n    India\n    <span style=\"font-size: 0.8em; font-weight: bold; line-height: 1; border-radius: 0.35em; vertical-align: middle; margin-left: 0.5rem\">GPE</span>\n</mark>\n last won a home series against \n<mark class=\"entity\" style=\"background: #feca74; padding: 0.45em 0.6em; margin: 0 0.25em; line-height: 1; border-radius: 0.35em;\">\n    Pakistan\n    <span style=\"font-size: 0.8em; font-weight: bold; line-height: 1; border-radius: 0.35em; vertical-align: middle; margin-left: 0.5rem\">GPE</span>\n</mark>\n in \n<mark class=\"entity\" style=\"background: #bfe1d9; padding: 0.45em 0.6em; margin: 0 0.25em; line-height: 1; border-radius: 0.35em;\">\n    1979\n    <span style=\"font-size: 0.8em; font-weight: bold; line-height: 1; border-radius: 0.35em; vertical-align: middle; margin-left: 0.5rem\">DATE</span>\n</mark>\n , but leads this series \n<mark class=\"entity\" style=\"background: #e4e7d2; padding: 0.45em 0.6em; margin: 0 0.25em; line-height: 1; border-radius: 0.35em;\">\n    1\n    <span style=\"font-size: 0.8em; font-weight: bold; line-height: 1; border-radius: 0.35em; vertical-align: middle; margin-left: 0.5rem\">CARDINAL</span>\n</mark>\n-0 after winning the \n<mark class=\"entity\" style=\"background: #e4e7d2; padding: 0.45em 0.6em; margin: 0 0.25em; line-height: 1; border-radius: 0.35em;\">\n    first\n    <span style=\"font-size: 0.8em; font-weight: bold; line-height: 1; border-radius: 0.35em; vertical-align: middle; margin-left: 0.5rem\">ORDINAL</span>\n</mark>\n test by \n<mark class=\"entity\" style=\"background: #e4e7d2; padding: 0.45em 0.6em; margin: 0 0.25em; line-height: 1; border-radius: 0.35em;\">\n    six\n    <span style=\"font-size: 0.8em; font-weight: bold; line-height: 1; border-radius: 0.35em; vertical-align: middle; margin-left: 0.5rem\">CARDINAL</span>\n</mark>\n wickets .</div></span>"
          },
          "metadata": {}
        },
        {
          "name": "stdout",
          "text": "\n\n4. \n",
          "output_type": "stream"
        },
        {
          "output_type": "display_data",
          "data": {
            "text/plain": "<IPython.core.display.HTML object>",
            "text/html": "<span class=\"tex2jax_ignore\"><div class=\"entities\" style=\"line-height: 2.5; direction: ltr\">But as he still continued to stay , as time went on , the rich man became accustomed to the smell , and feeling no manner of inconvenience , made no further complaints .</div></span>"
          },
          "metadata": {}
        },
        {
          "name": "stdout",
          "text": "\n\n5. \n",
          "output_type": "stream"
        },
        {
          "output_type": "display_data",
          "data": {
            "text/plain": "<IPython.core.display.HTML object>",
            "text/html": "<span class=\"tex2jax_ignore\"><div class=\"entities\" style=\"line-height: 2.5; direction: ltr\">Authorities attribute the accident to bad packaging and say it posed no threat to humans . Authorities attribute the accident to bad packaging and say it posed no threat to humans .</div></span>"
          },
          "metadata": {}
        },
        {
          "name": "stdout",
          "text": "\n\n",
          "output_type": "stream"
        }
      ]
    }
  ]
}