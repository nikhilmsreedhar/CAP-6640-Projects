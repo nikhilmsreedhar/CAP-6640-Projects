{
  "metadata": {
    "colab": {
      "provenance": []
    },
    "kernelspec": {
      "name": "python3",
      "display_name": "Python 3",
      "language": "python"
    },
    "language_info": {
      "name": "python",
      "version": "3.10.13",
      "mimetype": "text/x-python",
      "codemirror_mode": {
        "name": "ipython",
        "version": 3
      },
      "pygments_lexer": "ipython3",
      "nbconvert_exporter": "python",
      "file_extension": ".py"
    },
    "kaggle": {
      "accelerator": "gpu",
      "dataSources": [
        {
          "sourceId": 8040364,
          "sourceType": "datasetVersion",
          "datasetId": 4740315
        }
      ],
      "dockerImageVersionId": 30683,
      "isInternetEnabled": true,
      "language": "python",
      "sourceType": "notebook",
      "isGpuEnabled": true
    }
  },
  "nbformat_minor": 0,
  "nbformat": 4,
  "cells": [
    {
      "cell_type": "code",
      "source": [
        "try:\n",
        "  from future.utils import iteritems\n",
        "except:\n",
        "  !pip install future\n",
        "  from future.utils import iteritems"
      ],
      "metadata": {
        "id": "D344ISNThOaN",
        "execution": {
          "iopub.status.busy": "2024-04-16T00:57:36.824713Z",
          "iopub.execute_input": "2024-04-16T00:57:36.825637Z",
          "iopub.status.idle": "2024-04-16T00:57:36.838958Z",
          "shell.execute_reply.started": "2024-04-16T00:57:36.825596Z",
          "shell.execute_reply": "2024-04-16T00:57:36.838084Z"
        },
        "trusted": true
      },
      "execution_count": null,
      "outputs": []
    },
    {
      "cell_type": "code",
      "source": [
        "import numpy as np\n",
        "import pandas as pd\n",
        "import spacy\n",
        "import os\n",
        "import matplotlib.pyplot as plt\n",
        "from spacy import displacy\n",
        "from future.utils import iteritems\n",
        "from sklearn.model_selection import train_test_split\n",
        "from sklearn.metrics import classification_report, f1_score\n",
        "from keras.models import Model\n",
        "from keras.layers import Input\n",
        "from keras.layers import LSTM, Embedding, Dense, TimeDistributed, Dropout, Bidirectional\n",
        "from keras.optimizers import AdamW\n",
        "from keras.metrics import CategoricalAccuracy\n",
        "from keras.preprocessing.sequence import pad_sequences\n",
        "from keras.utils import to_categorical\n",
        "import tensorflow.keras.backend as K"
      ],
      "metadata": {
        "id": "K9Burv-KhOaO",
        "execution": {
          "iopub.status.busy": "2024-04-16T00:57:37.211753Z",
          "iopub.execute_input": "2024-04-16T00:57:37.212167Z",
          "iopub.status.idle": "2024-04-16T00:57:45.029379Z",
          "shell.execute_reply.started": "2024-04-16T00:57:37.212135Z",
          "shell.execute_reply": "2024-04-16T00:57:45.028198Z"
        },
        "trusted": true,
        "outputId": "33b73a18-bdac-4296-fcc0-3205d5d48a73"
      },
      "execution_count": null,
      "outputs": [
        {
          "name": "stderr",
          "text": "2024-04-16 00:57:42.364383: E external/local_xla/xla/stream_executor/cuda/cuda_dnn.cc:9261] Unable to register cuDNN factory: Attempting to register factory for plugin cuDNN when one has already been registered\n2024-04-16 00:57:42.364445: E external/local_xla/xla/stream_executor/cuda/cuda_fft.cc:607] Unable to register cuFFT factory: Attempting to register factory for plugin cuFFT when one has already been registered\n2024-04-16 00:57:42.366011: E external/local_xla/xla/stream_executor/cuda/cuda_blas.cc:1515] Unable to register cuBLAS factory: Attempting to register factory for plugin cuBLAS when one has already been registered\n",
          "output_type": "stream"
        }
      ]
    },
    {
      "cell_type": "code",
      "source": [
        "for dirname, _, filenames in os.walk('/kaggle/input'):\n",
        "    for filename in filenames:\n",
        "        print(os.path.join(dirname, filename))"
      ],
      "metadata": {
        "id": "cbOw66p_hOaP",
        "outputId": "59789919-07cc-4fa0-a9b5-5f569005b1df",
        "execution": {
          "iopub.status.busy": "2024-04-16T00:57:45.031536Z",
          "iopub.execute_input": "2024-04-16T00:57:45.032374Z",
          "iopub.status.idle": "2024-04-16T00:57:45.040434Z",
          "shell.execute_reply.started": "2024-04-16T00:57:45.032333Z",
          "shell.execute_reply": "2024-04-16T00:57:45.039169Z"
        },
        "trusted": true
      },
      "execution_count": null,
      "outputs": [
        {
          "name": "stdout",
          "text": "/kaggle/input/ner-data/ner.csv\n",
          "output_type": "stream"
        }
      ]
    },
    {
      "cell_type": "code",
      "source": [
        "df = pd.read_csv(\"/kaggle/input/ner-data/ner.csv\",\n",
        "                 encoding = \"ISO-8859-1\",\n",
        "                 on_bad_lines=\"skip\")\n",
        "df = df.ffill()"
      ],
      "metadata": {
        "id": "bijE3GCoH32l",
        "execution": {
          "iopub.status.busy": "2024-04-16T00:57:45.042062Z",
          "iopub.execute_input": "2024-04-16T00:57:45.042378Z",
          "iopub.status.idle": "2024-04-16T00:58:01.127845Z",
          "shell.execute_reply.started": "2024-04-16T00:57:45.042350Z",
          "shell.execute_reply": "2024-04-16T00:58:01.126959Z"
        },
        "trusted": true
      },
      "execution_count": null,
      "outputs": []
    },
    {
      "cell_type": "code",
      "source": [
        "df.columns"
      ],
      "metadata": {
        "colab": {
          "base_uri": "https://localhost:8080/"
        },
        "id": "V_hLOgidLhvz",
        "outputId": "26f78ca6-f7f6-47e2-ba39-581d2d44bc51",
        "execution": {
          "iopub.status.busy": "2024-04-16T00:58:01.130224Z",
          "iopub.execute_input": "2024-04-16T00:58:01.130574Z",
          "iopub.status.idle": "2024-04-16T00:58:01.138086Z",
          "shell.execute_reply.started": "2024-04-16T00:58:01.130546Z",
          "shell.execute_reply": "2024-04-16T00:58:01.137059Z"
        },
        "trusted": true
      },
      "execution_count": null,
      "outputs": [
        {
          "execution_count": 5,
          "output_type": "execute_result",
          "data": {
            "text/plain": "Index(['Unnamed: 0', 'lemma', 'next-lemma', 'next-next-lemma', 'next-next-pos',\n       'next-next-shape', 'next-next-word', 'next-pos', 'next-shape',\n       'next-word', 'pos', 'prev-iob', 'prev-lemma', 'prev-pos',\n       'prev-prev-iob', 'prev-prev-lemma', 'prev-prev-pos', 'prev-prev-shape',\n       'prev-prev-word', 'prev-shape', 'prev-word', 'sentence_idx', 'shape',\n       'word', 'tag'],\n      dtype='object')"
          },
          "metadata": {}
        }
      ]
    },
    {
      "cell_type": "code",
      "source": [
        "df = df.drop(['Unnamed: 0', 'lemma', 'next-lemma', 'next-next-lemma', 'next-next-pos',\n",
        "       'next-next-shape', 'next-next-word', 'next-pos', 'next-shape',\n",
        "       'next-word', 'prev-iob', 'prev-lemma', 'prev-pos',\n",
        "       'prev-prev-iob', 'prev-prev-lemma', 'prev-prev-pos', 'prev-prev-shape',\n",
        "       'prev-prev-word', 'prev-shape', 'prev-word', 'shape'],axis=1)"
      ],
      "metadata": {
        "id": "1RDQpKAuLl5j",
        "execution": {
          "iopub.status.busy": "2024-04-16T00:58:01.139395Z",
          "iopub.execute_input": "2024-04-16T00:58:01.139730Z",
          "iopub.status.idle": "2024-04-16T00:58:01.316039Z",
          "shell.execute_reply.started": "2024-04-16T00:58:01.139699Z",
          "shell.execute_reply": "2024-04-16T00:58:01.315180Z"
        },
        "trusted": true
      },
      "execution_count": null,
      "outputs": []
    },
    {
      "cell_type": "code",
      "source": [
        "df"
      ],
      "metadata": {
        "colab": {
          "base_uri": "https://localhost:8080/",
          "height": 423
        },
        "id": "7pbHXwXmL0v0",
        "outputId": "74c665b0-0148-4c72-84ee-3f475a7a413c",
        "execution": {
          "iopub.status.busy": "2024-04-16T00:58:01.317198Z",
          "iopub.execute_input": "2024-04-16T00:58:01.317540Z",
          "iopub.status.idle": "2024-04-16T00:58:01.334092Z",
          "shell.execute_reply.started": "2024-04-16T00:58:01.317508Z",
          "shell.execute_reply": "2024-04-16T00:58:01.333025Z"
        },
        "trusted": true
      },
      "execution_count": null,
      "outputs": [
        {
          "execution_count": 7,
          "output_type": "execute_result",
          "data": {
            "text/plain": "         pos  sentence_idx           word tag\n0        NNS           1.0      Thousands   O\n1         IN           1.0             of   O\n2        NNS           1.0  demonstrators   O\n3        VBP           1.0           have   O\n4        VBN           1.0        marched   O\n...      ...           ...            ...  ..\n1050790  PRP       47959.0           they   O\n1050791  VBD       47959.0      responded   O\n1050792   TO       47959.0             to   O\n1050793   DT       47959.0            the   O\n1050794   NN       47959.0         attack   O\n\n[1050795 rows x 4 columns]",
            "text/html": "<div>\n<style scoped>\n    .dataframe tbody tr th:only-of-type {\n        vertical-align: middle;\n    }\n\n    .dataframe tbody tr th {\n        vertical-align: top;\n    }\n\n    .dataframe thead th {\n        text-align: right;\n    }\n</style>\n<table border=\"1\" class=\"dataframe\">\n  <thead>\n    <tr style=\"text-align: right;\">\n      <th></th>\n      <th>pos</th>\n      <th>sentence_idx</th>\n      <th>word</th>\n      <th>tag</th>\n    </tr>\n  </thead>\n  <tbody>\n    <tr>\n      <th>0</th>\n      <td>NNS</td>\n      <td>1.0</td>\n      <td>Thousands</td>\n      <td>O</td>\n    </tr>\n    <tr>\n      <th>1</th>\n      <td>IN</td>\n      <td>1.0</td>\n      <td>of</td>\n      <td>O</td>\n    </tr>\n    <tr>\n      <th>2</th>\n      <td>NNS</td>\n      <td>1.0</td>\n      <td>demonstrators</td>\n      <td>O</td>\n    </tr>\n    <tr>\n      <th>3</th>\n      <td>VBP</td>\n      <td>1.0</td>\n      <td>have</td>\n      <td>O</td>\n    </tr>\n    <tr>\n      <th>4</th>\n      <td>VBN</td>\n      <td>1.0</td>\n      <td>marched</td>\n      <td>O</td>\n    </tr>\n    <tr>\n      <th>...</th>\n      <td>...</td>\n      <td>...</td>\n      <td>...</td>\n      <td>...</td>\n    </tr>\n    <tr>\n      <th>1050790</th>\n      <td>PRP</td>\n      <td>47959.0</td>\n      <td>they</td>\n      <td>O</td>\n    </tr>\n    <tr>\n      <th>1050791</th>\n      <td>VBD</td>\n      <td>47959.0</td>\n      <td>responded</td>\n      <td>O</td>\n    </tr>\n    <tr>\n      <th>1050792</th>\n      <td>TO</td>\n      <td>47959.0</td>\n      <td>to</td>\n      <td>O</td>\n    </tr>\n    <tr>\n      <th>1050793</th>\n      <td>DT</td>\n      <td>47959.0</td>\n      <td>the</td>\n      <td>O</td>\n    </tr>\n    <tr>\n      <th>1050794</th>\n      <td>NN</td>\n      <td>47959.0</td>\n      <td>attack</td>\n      <td>O</td>\n    </tr>\n  </tbody>\n</table>\n<p>1050795 rows × 4 columns</p>\n</div>"
          },
          "metadata": {}
        }
      ]
    },
    {
      "cell_type": "code",
      "source": [
        "df.info()"
      ],
      "metadata": {
        "colab": {
          "base_uri": "https://localhost:8080/"
        },
        "id": "apgsfxF-MzRD",
        "outputId": "fd6b3929-e9fd-46de-cab3-51f0c14986f8",
        "execution": {
          "iopub.status.busy": "2024-04-16T00:58:01.335283Z",
          "iopub.execute_input": "2024-04-16T00:58:01.335669Z",
          "iopub.status.idle": "2024-04-16T00:58:01.644262Z",
          "shell.execute_reply.started": "2024-04-16T00:58:01.335627Z",
          "shell.execute_reply": "2024-04-16T00:58:01.643183Z"
        },
        "trusted": true
      },
      "execution_count": null,
      "outputs": [
        {
          "name": "stdout",
          "text": "<class 'pandas.core.frame.DataFrame'>\nRangeIndex: 1050795 entries, 0 to 1050794\nData columns (total 4 columns):\n #   Column        Non-Null Count    Dtype  \n---  ------        --------------    -----  \n 0   pos           1050795 non-null  object \n 1   sentence_idx  1050795 non-null  float64\n 2   word          1050795 non-null  object \n 3   tag           1050795 non-null  object \ndtypes: float64(1), object(3)\nmemory usage: 32.1+ MB\n",
          "output_type": "stream"
        }
      ]
    },
    {
      "cell_type": "code",
      "source": [
        "df.head()"
      ],
      "metadata": {
        "colab": {
          "base_uri": "https://localhost:8080/",
          "height": 206
        },
        "id": "ZaxaOw5_O66E",
        "outputId": "8c046513-803d-41a8-ef3c-c07b73063b22",
        "execution": {
          "iopub.status.busy": "2024-04-16T00:58:01.645710Z",
          "iopub.execute_input": "2024-04-16T00:58:01.646662Z",
          "iopub.status.idle": "2024-04-16T00:58:01.658342Z",
          "shell.execute_reply.started": "2024-04-16T00:58:01.646622Z",
          "shell.execute_reply": "2024-04-16T00:58:01.657394Z"
        },
        "trusted": true
      },
      "execution_count": null,
      "outputs": [
        {
          "execution_count": 9,
          "output_type": "execute_result",
          "data": {
            "text/plain": "   pos  sentence_idx           word tag\n0  NNS           1.0      Thousands   O\n1   IN           1.0             of   O\n2  NNS           1.0  demonstrators   O\n3  VBP           1.0           have   O\n4  VBN           1.0        marched   O",
            "text/html": "<div>\n<style scoped>\n    .dataframe tbody tr th:only-of-type {\n        vertical-align: middle;\n    }\n\n    .dataframe tbody tr th {\n        vertical-align: top;\n    }\n\n    .dataframe thead th {\n        text-align: right;\n    }\n</style>\n<table border=\"1\" class=\"dataframe\">\n  <thead>\n    <tr style=\"text-align: right;\">\n      <th></th>\n      <th>pos</th>\n      <th>sentence_idx</th>\n      <th>word</th>\n      <th>tag</th>\n    </tr>\n  </thead>\n  <tbody>\n    <tr>\n      <th>0</th>\n      <td>NNS</td>\n      <td>1.0</td>\n      <td>Thousands</td>\n      <td>O</td>\n    </tr>\n    <tr>\n      <th>1</th>\n      <td>IN</td>\n      <td>1.0</td>\n      <td>of</td>\n      <td>O</td>\n    </tr>\n    <tr>\n      <th>2</th>\n      <td>NNS</td>\n      <td>1.0</td>\n      <td>demonstrators</td>\n      <td>O</td>\n    </tr>\n    <tr>\n      <th>3</th>\n      <td>VBP</td>\n      <td>1.0</td>\n      <td>have</td>\n      <td>O</td>\n    </tr>\n    <tr>\n      <th>4</th>\n      <td>VBN</td>\n      <td>1.0</td>\n      <td>marched</td>\n      <td>O</td>\n    </tr>\n  </tbody>\n</table>\n</div>"
          },
          "metadata": {}
        }
      ]
    },
    {
      "cell_type": "code",
      "source": [
        "words = list(set(df['word'].values))\n",
        "words.append(\"ENDPAD\")\n",
        "pos_tags = list(set(df['pos'].values))\n",
        "tags = list(set(df['tag'].values))\n",
        "words_encoded = {word: i for i, word in enumerate(words)}\n",
        "pos_encoded = {pos_tag: i for i, pos_tag in enumerate(pos_tags)}\n",
        "ner_tag_encoded = {tag: i for i, tag in enumerate(tags)}\n",
        "get_encoded_tag = {tag: i for i, tag in iteritems(ner_tag_encoded)}"
      ],
      "metadata": {
        "id": "qLuZ2mGOj0FF",
        "execution": {
          "iopub.status.busy": "2024-04-16T00:58:01.659576Z",
          "iopub.execute_input": "2024-04-16T00:58:01.659924Z",
          "iopub.status.idle": "2024-04-16T00:58:01.832430Z",
          "shell.execute_reply.started": "2024-04-16T00:58:01.659899Z",
          "shell.execute_reply": "2024-04-16T00:58:01.831362Z"
        },
        "trusted": true
      },
      "execution_count": null,
      "outputs": []
    },
    {
      "cell_type": "code",
      "source": [
        "def preprocess(df):\n",
        "    def combine(group):\n",
        "       return [(word, pos, tag) for word, pos, tag in zip(group['word'].values.tolist(),\n",
        "                                                          group['pos'].values.tolist(),\n",
        "                                                          group['tag'].values.tolist())]\n",
        "\n",
        "    df=df.groupby(['sentence_idx']).apply(combine, include_groups = False).reset_index().rename(columns={0:'combined'})\n",
        "    df['sentence']=df['combined'].apply(lambda sentence:\" \".join([s[0] for s in sentence]))\n",
        "    df['pos']=df['combined'].apply(lambda sentence:\" \".join([s[1] for s in sentence]))\n",
        "    df['tag']=df['combined'].apply(lambda sentence:\" \".join([s[2] for s in sentence]))\n",
        "    df['tag_list']=df['tag'].apply(lambda tag: tag.split())\n",
        "    df.drop(\"combined\", inplace=True, axis=1)\n",
        "    return df"
      ],
      "metadata": {
        "id": "IfC17lg3j0FG",
        "execution": {
          "iopub.status.busy": "2024-04-16T00:58:01.836865Z",
          "iopub.execute_input": "2024-04-16T00:58:01.837167Z",
          "iopub.status.idle": "2024-04-16T00:58:01.846688Z",
          "shell.execute_reply.started": "2024-04-16T00:58:01.837144Z",
          "shell.execute_reply": "2024-04-16T00:58:01.845749Z"
        },
        "trusted": true
      },
      "execution_count": null,
      "outputs": []
    },
    {
      "cell_type": "code",
      "source": [
        "df_preprocessed = preprocess(df)\n",
        "df_preprocessed.head()"
      ],
      "metadata": {
        "id": "eo0nqdyfj0FG",
        "outputId": "96c050e6-f576-48b2-c8af-4e457f299dbc",
        "execution": {
          "iopub.status.busy": "2024-04-16T00:58:01.847906Z",
          "iopub.execute_input": "2024-04-16T00:58:01.848211Z",
          "iopub.status.idle": "2024-04-16T00:58:07.240176Z",
          "shell.execute_reply.started": "2024-04-16T00:58:01.848160Z",
          "shell.execute_reply": "2024-04-16T00:58:07.239055Z"
        },
        "trusted": true
      },
      "execution_count": null,
      "outputs": [
        {
          "execution_count": 12,
          "output_type": "execute_result",
          "data": {
            "text/plain": "   sentence_idx                                           sentence  \\\n0           1.0  Thousands of demonstrators have marched throug...   \n1           2.0  Families of soldiers killed in the conflict jo...   \n2           3.0  They marched from the Houses of Parliament to ...   \n3           4.0  Police put the number of marchers at 10,000 wh...   \n4           5.0  The protest comes on the eve of the annual con...   \n\n                                                 pos  \\\n0  NNS IN NNS VBP VBN IN NNP TO VB DT NN IN NNP C...   \n1  NNS IN NNS VBN IN DT NN VBD DT NNS WP VBD NNS ...   \n2  PRP VBD IN DT NNS IN NN TO DT NN IN NNP NNP . ...   \n3  NNS VBD DT NN IN NNS IN CD IN NNS VBD PRP VBD ...   \n4  DT NN VBZ IN DT NN IN DT JJ NN IN NNP POS VBG ...   \n\n                                                 tag  \\\n0  O O O O O O B-geo O O O O O B-geo O O O O O B-...   \n1  O O O O O O O O O O O O O O O O O O B-per O O ...   \n2  O O O O O O O O O O O B-geo I-geo O O O O O O ...   \n3  O O O O O O O O O O O O O O O O O O O O O O O ...   \n4  O O O O O O O O O O O B-geo O O B-org I-org O ...   \n\n                                            tag_list  \n0  [O, O, O, O, O, O, B-geo, O, O, O, O, O, B-geo...  \n1  [O, O, O, O, O, O, O, O, O, O, O, O, O, O, O, ...  \n2  [O, O, O, O, O, O, O, O, O, O, O, B-geo, I-geo...  \n3  [O, O, O, O, O, O, O, O, O, O, O, O, O, O, O, ...  \n4  [O, O, O, O, O, O, O, O, O, O, O, B-geo, O, O,...  ",
            "text/html": "<div>\n<style scoped>\n    .dataframe tbody tr th:only-of-type {\n        vertical-align: middle;\n    }\n\n    .dataframe tbody tr th {\n        vertical-align: top;\n    }\n\n    .dataframe thead th {\n        text-align: right;\n    }\n</style>\n<table border=\"1\" class=\"dataframe\">\n  <thead>\n    <tr style=\"text-align: right;\">\n      <th></th>\n      <th>sentence_idx</th>\n      <th>sentence</th>\n      <th>pos</th>\n      <th>tag</th>\n      <th>tag_list</th>\n    </tr>\n  </thead>\n  <tbody>\n    <tr>\n      <th>0</th>\n      <td>1.0</td>\n      <td>Thousands of demonstrators have marched throug...</td>\n      <td>NNS IN NNS VBP VBN IN NNP TO VB DT NN IN NNP C...</td>\n      <td>O O O O O O B-geo O O O O O B-geo O O O O O B-...</td>\n      <td>[O, O, O, O, O, O, B-geo, O, O, O, O, O, B-geo...</td>\n    </tr>\n    <tr>\n      <th>1</th>\n      <td>2.0</td>\n      <td>Families of soldiers killed in the conflict jo...</td>\n      <td>NNS IN NNS VBN IN DT NN VBD DT NNS WP VBD NNS ...</td>\n      <td>O O O O O O O O O O O O O O O O O O B-per O O ...</td>\n      <td>[O, O, O, O, O, O, O, O, O, O, O, O, O, O, O, ...</td>\n    </tr>\n    <tr>\n      <th>2</th>\n      <td>3.0</td>\n      <td>They marched from the Houses of Parliament to ...</td>\n      <td>PRP VBD IN DT NNS IN NN TO DT NN IN NNP NNP . ...</td>\n      <td>O O O O O O O O O O O B-geo I-geo O O O O O O ...</td>\n      <td>[O, O, O, O, O, O, O, O, O, O, O, B-geo, I-geo...</td>\n    </tr>\n    <tr>\n      <th>3</th>\n      <td>4.0</td>\n      <td>Police put the number of marchers at 10,000 wh...</td>\n      <td>NNS VBD DT NN IN NNS IN CD IN NNS VBD PRP VBD ...</td>\n      <td>O O O O O O O O O O O O O O O O O O O O O O O ...</td>\n      <td>[O, O, O, O, O, O, O, O, O, O, O, O, O, O, O, ...</td>\n    </tr>\n    <tr>\n      <th>4</th>\n      <td>5.0</td>\n      <td>The protest comes on the eve of the annual con...</td>\n      <td>DT NN VBZ IN DT NN IN DT JJ NN IN NNP POS VBG ...</td>\n      <td>O O O O O O O O O O O B-geo O O B-org I-org O ...</td>\n      <td>[O, O, O, O, O, O, O, O, O, O, O, B-geo, O, O,...</td>\n    </tr>\n  </tbody>\n</table>\n</div>"
          },
          "metadata": {}
        }
      ]
    },
    {
      "cell_type": "code",
      "source": [
        "sentences_list=df_preprocessed['sentence'].tolist()\n",
        "tags_list=df_preprocessed['tag_list'].tolist()\n",
        "for i, sentence in enumerate(sentences_list):\n",
        "    sentences_list[i] = sentences_list[i].split()\n",
        "print(sentences_list[0])\n",
        "print('\\n',tags_list[0])"
      ],
      "metadata": {
        "id": "LMrSjNevj0FG",
        "outputId": "54a0ded8-d8ab-41da-8191-0239e4080760",
        "execution": {
          "iopub.status.busy": "2024-04-16T00:58:07.241344Z",
          "iopub.execute_input": "2024-04-16T00:58:07.241626Z",
          "iopub.status.idle": "2024-04-16T00:58:07.357007Z",
          "shell.execute_reply.started": "2024-04-16T00:58:07.241603Z",
          "shell.execute_reply": "2024-04-16T00:58:07.355864Z"
        },
        "trusted": true
      },
      "execution_count": null,
      "outputs": [
        {
          "name": "stdout",
          "text": "['Thousands', 'of', 'demonstrators', 'have', 'marched', 'through', 'London', 'to', 'protest', 'the', 'war', 'in', 'Iraq', 'and', 'demand', 'the', 'withdrawal', 'of', 'British', 'troops', 'from', 'that', 'country', '.', 'Thousands', 'of', 'demonstrators', 'have', 'marched', 'through', 'London', 'to', 'protest', 'the', 'war', 'in', 'Iraq', 'and', 'demand', 'the', 'withdrawal', 'of', 'British', 'troops', 'from', 'that', 'country', '.']\n\n ['O', 'O', 'O', 'O', 'O', 'O', 'B-geo', 'O', 'O', 'O', 'O', 'O', 'B-geo', 'O', 'O', 'O', 'O', 'O', 'B-gpe', 'O', 'O', 'O', 'O', 'O', 'O', 'O', 'O', 'O', 'O', 'O', 'B-geo', 'O', 'O', 'O', 'O', 'O', 'B-geo', 'O', 'O', 'O', 'O', 'O', 'B-gpe', 'O', 'O', 'O', 'O', 'O']\n",
          "output_type": "stream"
        }
      ]
    },
    {
      "cell_type": "code",
      "source": [
        "encoded_tags=[[ner_tag_encoded[w] for w in tag] for tag in tags_list]\n",
        "encoded_sentences=[[words_encoded[w] for w in sentence] for sentence in sentences_list]"
      ],
      "metadata": {
        "id": "7A09sqb9j0FH",
        "execution": {
          "iopub.status.busy": "2024-04-16T00:58:07.358211Z",
          "iopub.execute_input": "2024-04-16T00:58:07.358870Z",
          "iopub.status.idle": "2024-04-16T00:58:08.024827Z",
          "shell.execute_reply.started": "2024-04-16T00:58:07.358833Z",
          "shell.execute_reply": "2024-04-16T00:58:08.023759Z"
        },
        "trusted": true
      },
      "execution_count": null,
      "outputs": []
    },
    {
      "cell_type": "code",
      "source": [
        "max_len = max(len(sentence) for sentence in encoded_sentences)\n",
        "print(max_len)\n",
        "padded_encoded_sentences=pad_sequences(maxlen=max_len,\n",
        "                                       sequences=encoded_sentences,\n",
        "                                       padding=\"post\",\n",
        "                                       value=len(words)-1)\n",
        "padded_encoded_tags=pad_sequences(maxlen=max_len,\n",
        "                                  sequences=encoded_tags,\n",
        "                                  padding=\"post\",\n",
        "                                  value=ner_tag_encoded['O'])"
      ],
      "metadata": {
        "id": "8clp18fij0FH",
        "outputId": "0f0c05ad-a563-4a99-fd9f-00f2c93b7575",
        "execution": {
          "iopub.status.busy": "2024-04-16T00:58:08.026079Z",
          "iopub.execute_input": "2024-04-16T00:58:08.026347Z",
          "iopub.status.idle": "2024-04-16T00:58:08.436124Z",
          "shell.execute_reply.started": "2024-04-16T00:58:08.026325Z",
          "shell.execute_reply": "2024-04-16T00:58:08.434840Z"
        },
        "trusted": true
      },
      "execution_count": null,
      "outputs": [
        {
          "name": "stdout",
          "text": "140\n",
          "output_type": "stream"
        }
      ]
    },
    {
      "cell_type": "code",
      "source": [
        "target = [to_categorical(i,num_classes = len(tags)) for i in padded_encoded_tags]\n",
        "print(\"Shape of categorical labels for first input sequence: \",target[0].shape)\n",
        "print(\"Vocabulary size: \",len(words))"
      ],
      "metadata": {
        "id": "hlww4kYZj0FH",
        "outputId": "5b2c0026-1216-46e5-8f0e-191e2abb4120",
        "execution": {
          "iopub.status.busy": "2024-04-16T00:58:08.437261Z",
          "iopub.execute_input": "2024-04-16T00:58:08.437572Z",
          "iopub.status.idle": "2024-04-16T00:58:09.977601Z",
          "shell.execute_reply.started": "2024-04-16T00:58:08.437545Z",
          "shell.execute_reply": "2024-04-16T00:58:09.976633Z"
        },
        "trusted": true
      },
      "execution_count": null,
      "outputs": [
        {
          "name": "stdout",
          "text": "Shape of categorical labels for first input sequence:  (140, 17)\nVocabulary size:  30172\n",
          "output_type": "stream"
        }
      ]
    },
    {
      "cell_type": "code",
      "source": [
        "X_train, X_test, y_train, y_test = train_test_split(padded_encoded_sentences,\n",
        "                                                    target,\n",
        "                                                    test_size=0.2)"
      ],
      "metadata": {
        "id": "QO5CuWadUKNe",
        "execution": {
          "iopub.status.busy": "2024-04-16T00:58:09.978758Z",
          "iopub.execute_input": "2024-04-16T00:58:09.979078Z",
          "iopub.status.idle": "2024-04-16T00:58:10.006421Z",
          "shell.execute_reply.started": "2024-04-16T00:58:09.979052Z",
          "shell.execute_reply": "2024-04-16T00:58:10.005549Z"
        },
        "trusted": true
      },
      "execution_count": null,
      "outputs": []
    },
    {
      "cell_type": "code",
      "source": [
        "embedding_dim=128\n",
        "\n",
        "input = Input(shape=(max_len,))\n",
        "model = Embedding(input_dim=len(words), output_dim=embedding_dim)(input)\n",
        "model = Bidirectional(LSTM(units=128, return_sequences=True))(model)\n",
        "out = TimeDistributed(Dense(len(tags), activation=\"softmax\"))(model)\n",
        "model = Model(input, out)\n",
        "\n",
        "model.summary()"
      ],
      "metadata": {
        "colab": {
          "base_uri": "https://localhost:8080/"
        },
        "id": "FBYNqgi1UOg7",
        "outputId": "9a6844d6-629e-4d3c-d32c-2cb92a291d47",
        "execution": {
          "iopub.status.busy": "2024-04-16T00:58:10.007534Z",
          "iopub.execute_input": "2024-04-16T00:58:10.007834Z",
          "iopub.status.idle": "2024-04-16T00:58:11.039730Z",
          "shell.execute_reply.started": "2024-04-16T00:58:10.007806Z",
          "shell.execute_reply": "2024-04-16T00:58:11.038708Z"
        },
        "trusted": true
      },
      "execution_count": null,
      "outputs": [
        {
          "output_type": "display_data",
          "data": {
            "text/plain": "\u001b[1mModel: \"functional_1\"\u001b[0m\n",
            "text/html": "<pre style=\"white-space:pre;overflow-x:auto;line-height:normal;font-family:Menlo,'DejaVu Sans Mono',consolas,'Courier New',monospace\"><span style=\"font-weight: bold\">Model: \"functional_1\"</span>\n</pre>\n"
          },
          "metadata": {}
        },
        {
          "output_type": "display_data",
          "data": {
            "text/plain": "┏━━━━━━━━━━━━━━━━━━━━━━━━━━━━━━━━━┳━━━━━━━━━━━━━━━━━━━━━━━━┳━━━━━━━━━━━━━━━┓\n┃\u001b[1m \u001b[0m\u001b[1mLayer (type)                   \u001b[0m\u001b[1m \u001b[0m┃\u001b[1m \u001b[0m\u001b[1mOutput Shape          \u001b[0m\u001b[1m \u001b[0m┃\u001b[1m \u001b[0m\u001b[1m      Param #\u001b[0m\u001b[1m \u001b[0m┃\n┡━━━━━━━━━━━━━━━━━━━━━━━━━━━━━━━━━╇━━━━━━━━━━━━━━━━━━━━━━━━╇━━━━━━━━━━━━━━━┩\n│ input_layer (\u001b[38;5;33mInputLayer\u001b[0m)        │ (\u001b[38;5;45mNone\u001b[0m, \u001b[38;5;34m140\u001b[0m)            │             \u001b[38;5;34m0\u001b[0m │\n├─────────────────────────────────┼────────────────────────┼───────────────┤\n│ embedding (\u001b[38;5;33mEmbedding\u001b[0m)           │ (\u001b[38;5;45mNone\u001b[0m, \u001b[38;5;34m140\u001b[0m, \u001b[38;5;34m128\u001b[0m)       │     \u001b[38;5;34m3,862,016\u001b[0m │\n├─────────────────────────────────┼────────────────────────┼───────────────┤\n│ bidirectional (\u001b[38;5;33mBidirectional\u001b[0m)   │ (\u001b[38;5;45mNone\u001b[0m, \u001b[38;5;34m140\u001b[0m, \u001b[38;5;34m256\u001b[0m)       │       \u001b[38;5;34m263,168\u001b[0m │\n├─────────────────────────────────┼────────────────────────┼───────────────┤\n│ time_distributed                │ (\u001b[38;5;45mNone\u001b[0m, \u001b[38;5;34m140\u001b[0m, \u001b[38;5;34m17\u001b[0m)        │         \u001b[38;5;34m4,369\u001b[0m │\n│ (\u001b[38;5;33mTimeDistributed\u001b[0m)               │                        │               │\n└─────────────────────────────────┴────────────────────────┴───────────────┘\n",
            "text/html": "<pre style=\"white-space:pre;overflow-x:auto;line-height:normal;font-family:Menlo,'DejaVu Sans Mono',consolas,'Courier New',monospace\">┏━━━━━━━━━━━━━━━━━━━━━━━━━━━━━━━━━┳━━━━━━━━━━━━━━━━━━━━━━━━┳━━━━━━━━━━━━━━━┓\n┃<span style=\"font-weight: bold\"> Layer (type)                    </span>┃<span style=\"font-weight: bold\"> Output Shape           </span>┃<span style=\"font-weight: bold\">       Param # </span>┃\n┡━━━━━━━━━━━━━━━━━━━━━━━━━━━━━━━━━╇━━━━━━━━━━━━━━━━━━━━━━━━╇━━━━━━━━━━━━━━━┩\n│ input_layer (<span style=\"color: #0087ff; text-decoration-color: #0087ff\">InputLayer</span>)        │ (<span style=\"color: #00d7ff; text-decoration-color: #00d7ff\">None</span>, <span style=\"color: #00af00; text-decoration-color: #00af00\">140</span>)            │             <span style=\"color: #00af00; text-decoration-color: #00af00\">0</span> │\n├─────────────────────────────────┼────────────────────────┼───────────────┤\n│ embedding (<span style=\"color: #0087ff; text-decoration-color: #0087ff\">Embedding</span>)           │ (<span style=\"color: #00d7ff; text-decoration-color: #00d7ff\">None</span>, <span style=\"color: #00af00; text-decoration-color: #00af00\">140</span>, <span style=\"color: #00af00; text-decoration-color: #00af00\">128</span>)       │     <span style=\"color: #00af00; text-decoration-color: #00af00\">3,862,016</span> │\n├─────────────────────────────────┼────────────────────────┼───────────────┤\n│ bidirectional (<span style=\"color: #0087ff; text-decoration-color: #0087ff\">Bidirectional</span>)   │ (<span style=\"color: #00d7ff; text-decoration-color: #00d7ff\">None</span>, <span style=\"color: #00af00; text-decoration-color: #00af00\">140</span>, <span style=\"color: #00af00; text-decoration-color: #00af00\">256</span>)       │       <span style=\"color: #00af00; text-decoration-color: #00af00\">263,168</span> │\n├─────────────────────────────────┼────────────────────────┼───────────────┤\n│ time_distributed                │ (<span style=\"color: #00d7ff; text-decoration-color: #00d7ff\">None</span>, <span style=\"color: #00af00; text-decoration-color: #00af00\">140</span>, <span style=\"color: #00af00; text-decoration-color: #00af00\">17</span>)        │         <span style=\"color: #00af00; text-decoration-color: #00af00\">4,369</span> │\n│ (<span style=\"color: #0087ff; text-decoration-color: #0087ff\">TimeDistributed</span>)               │                        │               │\n└─────────────────────────────────┴────────────────────────┴───────────────┘\n</pre>\n"
          },
          "metadata": {}
        },
        {
          "output_type": "display_data",
          "data": {
            "text/plain": "\u001b[1m Total params: \u001b[0m\u001b[38;5;34m4,129,553\u001b[0m (15.75 MB)\n",
            "text/html": "<pre style=\"white-space:pre;overflow-x:auto;line-height:normal;font-family:Menlo,'DejaVu Sans Mono',consolas,'Courier New',monospace\"><span style=\"font-weight: bold\"> Total params: </span><span style=\"color: #00af00; text-decoration-color: #00af00\">4,129,553</span> (15.75 MB)\n</pre>\n"
          },
          "metadata": {}
        },
        {
          "output_type": "display_data",
          "data": {
            "text/plain": "\u001b[1m Trainable params: \u001b[0m\u001b[38;5;34m4,129,553\u001b[0m (15.75 MB)\n",
            "text/html": "<pre style=\"white-space:pre;overflow-x:auto;line-height:normal;font-family:Menlo,'DejaVu Sans Mono',consolas,'Courier New',monospace\"><span style=\"font-weight: bold\"> Trainable params: </span><span style=\"color: #00af00; text-decoration-color: #00af00\">4,129,553</span> (15.75 MB)\n</pre>\n"
          },
          "metadata": {}
        },
        {
          "output_type": "display_data",
          "data": {
            "text/plain": "\u001b[1m Non-trainable params: \u001b[0m\u001b[38;5;34m0\u001b[0m (0.00 B)\n",
            "text/html": "<pre style=\"white-space:pre;overflow-x:auto;line-height:normal;font-family:Menlo,'DejaVu Sans Mono',consolas,'Courier New',monospace\"><span style=\"font-weight: bold\"> Non-trainable params: </span><span style=\"color: #00af00; text-decoration-color: #00af00\">0</span> (0.00 B)\n</pre>\n"
          },
          "metadata": {}
        }
      ]
    },
    {
      "cell_type": "code",
      "source": [
        "def recall_metric(y_true, y_pred):\n",
        "    true_positives = K.sum(K.round(K.clip(y_true * y_pred, 0, 1)))\n",
        "    possible_positives = K.sum(K.round(K.clip(y_true, 0, 1)))\n",
        "    recall = true_positives / (possible_positives + K.epsilon())\n",
        "    return recall\n",
        "\n",
        "def precision_metric(y_true, y_pred):\n",
        "    true_positives = K.sum(K.round(K.clip(y_true * y_pred, 0, 1)))\n",
        "    predicted_positives = K.sum(K.round(K.clip(y_pred, 0, 1)))\n",
        "    precision = true_positives / (predicted_positives + K.epsilon())\n",
        "    return precision\n",
        "\n",
        "def f1_score_metric(y_true, y_pred):\n",
        "    precision = precision_metric(y_true, y_pred)\n",
        "    recall = recall_metric(y_true, y_pred)\n",
        "    return 2*((precision*recall)/(precision+recall+K.epsilon()))"
      ],
      "metadata": {
        "id": "WnGpfUfLj0FI",
        "execution": {
          "iopub.status.busy": "2024-04-16T00:58:11.040871Z",
          "iopub.execute_input": "2024-04-16T00:58:11.041162Z",
          "iopub.status.idle": "2024-04-16T00:58:11.048677Z",
          "shell.execute_reply.started": "2024-04-16T00:58:11.041138Z",
          "shell.execute_reply": "2024-04-16T00:58:11.047810Z"
        },
        "trusted": true
      },
      "execution_count": null,
      "outputs": []
    },
    {
      "cell_type": "code",
      "source": [
        "model.compile(optimizer=AdamW(learning_rate=1e-3),\n",
        "              loss=\"categorical_crossentropy\",\n",
        "              metrics=[CategoricalAccuracy(), f1_score_metric, precision_metric, recall_metric])\n",
        "\n",
        "history = model.fit(X_train, np.array(y_train),\n",
        "                    batch_size=256,\n",
        "                    epochs=10,\n",
        "                    validation_split=0.2,\n",
        "                    verbose=1)"
      ],
      "metadata": {
        "id": "oEQXOD1nj0FI",
        "outputId": "11f34c71-441d-4303-8b9a-7c7dc70305fc",
        "execution": {
          "iopub.status.busy": "2024-04-16T00:58:11.049977Z",
          "iopub.execute_input": "2024-04-16T00:58:11.050288Z",
          "iopub.status.idle": "2024-04-16T00:59:39.640959Z",
          "shell.execute_reply.started": "2024-04-16T00:58:11.050262Z",
          "shell.execute_reply": "2024-04-16T00:59:39.640064Z"
        },
        "trusted": true
      },
      "execution_count": null,
      "outputs": [
        {
          "name": "stdout",
          "text": "Epoch 1/10\n\u001b[1m88/88\u001b[0m \u001b[32m━━━━━━━━━━━━━━━━━━━━\u001b[0m\u001b[37m\u001b[0m \u001b[1m21s\u001b[0m 105ms/step - categorical_accuracy: 0.9129 - f1_score_metric: 0.8521 - loss: 0.4743 - precision_metric: 0.8736 - recall_metric: 0.8353 - val_categorical_accuracy: 0.9679 - val_f1_score_metric: 0.9727 - val_loss: 0.1192 - val_precision_metric: 0.9781 - val_recall_metric: 0.9674\nEpoch 2/10\n\u001b[1m88/88\u001b[0m \u001b[32m━━━━━━━━━━━━━━━━━━━━\u001b[0m\u001b[37m\u001b[0m \u001b[1m7s\u001b[0m 84ms/step - categorical_accuracy: 0.9702 - f1_score_metric: 0.9756 - loss: 0.1057 - precision_metric: 0.9845 - recall_metric: 0.9668 - val_categorical_accuracy: 0.9799 - val_f1_score_metric: 0.9813 - val_loss: 0.0720 - val_precision_metric: 0.9940 - val_recall_metric: 0.9689\nEpoch 3/10\n\u001b[1m88/88\u001b[0m \u001b[32m━━━━━━━━━━━━━━━━━━━━\u001b[0m\u001b[37m\u001b[0m \u001b[1m7s\u001b[0m 84ms/step - categorical_accuracy: 0.9827 - f1_score_metric: 0.9836 - loss: 0.0626 - precision_metric: 0.9948 - recall_metric: 0.9728 - val_categorical_accuracy: 0.9884 - val_f1_score_metric: 0.9883 - val_loss: 0.0441 - val_precision_metric: 0.9945 - val_recall_metric: 0.9822\nEpoch 4/10\n\u001b[1m88/88\u001b[0m \u001b[32m━━━━━━━━━━━━━━━━━━━━\u001b[0m\u001b[37m\u001b[0m \u001b[1m7s\u001b[0m 84ms/step - categorical_accuracy: 0.9896 - f1_score_metric: 0.9898 - loss: 0.0379 - precision_metric: 0.9953 - recall_metric: 0.9843 - val_categorical_accuracy: 0.9905 - val_f1_score_metric: 0.9907 - val_loss: 0.0343 - val_precision_metric: 0.9942 - val_recall_metric: 0.9871\nEpoch 5/10\n\u001b[1m88/88\u001b[0m \u001b[32m━━━━━━━━━━━━━━━━━━━━\u001b[0m\u001b[37m\u001b[0m \u001b[1m7s\u001b[0m 84ms/step - categorical_accuracy: 0.9923 - f1_score_metric: 0.9923 - loss: 0.0280 - precision_metric: 0.9956 - recall_metric: 0.9890 - val_categorical_accuracy: 0.9914 - val_f1_score_metric: 0.9916 - val_loss: 0.0302 - val_precision_metric: 0.9942 - val_recall_metric: 0.9890\nEpoch 6/10\n\u001b[1m88/88\u001b[0m \u001b[32m━━━━━━━━━━━━━━━━━━━━\u001b[0m\u001b[37m\u001b[0m \u001b[1m7s\u001b[0m 83ms/step - categorical_accuracy: 0.9936 - f1_score_metric: 0.9936 - loss: 0.0231 - precision_metric: 0.9958 - recall_metric: 0.9913 - val_categorical_accuracy: 0.9919 - val_f1_score_metric: 0.9921 - val_loss: 0.0280 - val_precision_metric: 0.9940 - val_recall_metric: 0.9901\nEpoch 7/10\n\u001b[1m88/88\u001b[0m \u001b[32m━━━━━━━━━━━━━━━━━━━━\u001b[0m\u001b[37m\u001b[0m \u001b[1m7s\u001b[0m 83ms/step - categorical_accuracy: 0.9944 - f1_score_metric: 0.9943 - loss: 0.0201 - precision_metric: 0.9961 - recall_metric: 0.9926 - val_categorical_accuracy: 0.9922 - val_f1_score_metric: 0.9924 - val_loss: 0.0270 - val_precision_metric: 0.9941 - val_recall_metric: 0.9907\nEpoch 8/10\n\u001b[1m88/88\u001b[0m \u001b[32m━━━━━━━━━━━━━━━━━━━━\u001b[0m\u001b[37m\u001b[0m \u001b[1m7s\u001b[0m 84ms/step - categorical_accuracy: 0.9952 - f1_score_metric: 0.9951 - loss: 0.0171 - precision_metric: 0.9964 - recall_metric: 0.9939 - val_categorical_accuracy: 0.9924 - val_f1_score_metric: 0.9926 - val_loss: 0.0260 - val_precision_metric: 0.9940 - val_recall_metric: 0.9911\nEpoch 9/10\n\u001b[1m88/88\u001b[0m \u001b[32m━━━━━━━━━━━━━━━━━━━━\u001b[0m\u001b[37m\u001b[0m \u001b[1m7s\u001b[0m 84ms/step - categorical_accuracy: 0.9958 - f1_score_metric: 0.9958 - loss: 0.0148 - precision_metric: 0.9968 - recall_metric: 0.9948 - val_categorical_accuracy: 0.9923 - val_f1_score_metric: 0.9926 - val_loss: 0.0261 - val_precision_metric: 0.9938 - val_recall_metric: 0.9913\nEpoch 10/10\n\u001b[1m88/88\u001b[0m \u001b[32m━━━━━━━━━━━━━━━━━━━━\u001b[0m\u001b[37m\u001b[0m \u001b[1m7s\u001b[0m 83ms/step - categorical_accuracy: 0.9963 - f1_score_metric: 0.9963 - loss: 0.0129 - precision_metric: 0.9972 - recall_metric: 0.9955 - val_categorical_accuracy: 0.9924 - val_f1_score_metric: 0.9926 - val_loss: 0.0263 - val_precision_metric: 0.9938 - val_recall_metric: 0.9914\n",
          "output_type": "stream"
        }
      ]
    },
    {
      "cell_type": "code",
      "source": [
        "plt.plot(history.history['categorical_accuracy'])\n",
        "plt.plot(history.history['val_categorical_accuracy'])\n",
        "plt.title('model accuracy')\n",
        "plt.ylabel('accuracy')\n",
        "plt.xlabel('epoch')\n",
        "plt.legend(['train', 'val'], loc='upper left')\n",
        "plt.show()"
      ],
      "metadata": {
        "id": "Ed2Eld2lj0FJ",
        "outputId": "64a66fd9-1a5d-4635-b290-a5b550c4deba",
        "execution": {
          "iopub.status.busy": "2024-04-16T00:59:39.642544Z",
          "iopub.execute_input": "2024-04-16T00:59:39.642886Z",
          "iopub.status.idle": "2024-04-16T00:59:39.969111Z",
          "shell.execute_reply.started": "2024-04-16T00:59:39.642859Z",
          "shell.execute_reply": "2024-04-16T00:59:39.968150Z"
        },
        "trusted": true
      },
      "execution_count": null,
      "outputs": [
        {
          "output_type": "display_data",
          "data": {
            "text/plain": "<Figure size 640x480 with 1 Axes>",
            "image/png": "[encoded data removed]"
          },
          "metadata": {}
        }
      ]
    },
    {
      "cell_type": "code",
      "source": [
        "plt.plot(history.history['loss'])\n",
        "plt.plot(history.history['val_loss'])\n",
        "plt.title('loss')\n",
        "plt.ylabel('loss value')\n",
        "plt.xlabel('epoch')\n",
        "plt.legend(['train', 'val'], loc='upper left')\n",
        "plt.show()"
      ],
      "metadata": {
        "id": "xCjRZLrfj0FJ",
        "outputId": "f4c61571-79f6-4dd8-9d35-7d7c5fba1b99",
        "execution": {
          "iopub.status.busy": "2024-04-16T01:00:00.118412Z",
          "iopub.execute_input": "2024-04-16T01:00:00.118838Z",
          "iopub.status.idle": "2024-04-16T01:00:00.311073Z",
          "shell.execute_reply.started": "2024-04-16T01:00:00.118805Z",
          "shell.execute_reply": "2024-04-16T01:00:00.310093Z"
        },
        "trusted": true
      },
      "execution_count": null,
      "outputs": [
        {
          "output_type": "display_data",
          "data": {
            "text/plain": "<Figure size 640x480 with 1 Axes>",
            "image/png": "[encoded data removed]"
          },
          "metadata": {}
        }
      ]
    },
    {
      "cell_type": "code",
      "source": [
        "plt.plot(history.history['f1_score_metric'])\n",
        "plt.plot(history.history['val_f1_score_metric'])\n",
        "\n",
        "plt.title('f1-score')\n",
        "plt.ylabel('f1-score value')\n",
        "plt.xlabel('epoch')\n",
        "plt.legend(['train', 'val'], loc='upper left')\n",
        "plt.show()"
      ],
      "metadata": {
        "id": "vztDbtSDj0FJ",
        "outputId": "6adb1291-eb6b-4d55-de21-ce8a8656d676",
        "execution": {
          "iopub.status.busy": "2024-04-16T01:00:01.148866Z",
          "iopub.execute_input": "2024-04-16T01:00:01.149657Z",
          "iopub.status.idle": "2024-04-16T01:00:01.355017Z",
          "shell.execute_reply.started": "2024-04-16T01:00:01.149621Z",
          "shell.execute_reply": "2024-04-16T01:00:01.354031Z"
        },
        "trusted": true
      },
      "execution_count": null,
      "outputs": [
        {
          "output_type": "display_data",
          "data": {
            "text/plain": "<Figure size 640x480 with 1 Axes>",
            "image/png": "[encoded data removed]"
          },
          "metadata": {}
        }
      ]
    },
    {
      "cell_type": "code",
      "source": [
        "model.evaluate(X_test, np.asarray(y_test))"
      ],
      "metadata": {
        "colab": {
          "base_uri": "https://localhost:8080/"
        },
        "id": "dhCabrftoNez",
        "outputId": "0e4d5686-a8e5-40ec-e909-e11dd995c4e7",
        "execution": {
          "iopub.status.busy": "2024-04-16T01:00:01.621216Z",
          "iopub.execute_input": "2024-04-16T01:00:01.621630Z",
          "iopub.status.idle": "2024-04-16T01:00:04.693263Z",
          "shell.execute_reply.started": "2024-04-16T01:00:01.621600Z",
          "shell.execute_reply": "2024-04-16T01:00:04.692351Z"
        },
        "trusted": true
      },
      "execution_count": null,
      "outputs": [
        {
          "name": "stdout",
          "text": "\u001b[1m220/220\u001b[0m \u001b[32m━━━━━━━━━━━━━━━━━━━━\u001b[0m\u001b[37m\u001b[0m \u001b[1m3s\u001b[0m 13ms/step - categorical_accuracy: 0.9922 - f1_score_metric: 0.9924 - loss: 0.0268 - precision_metric: 0.9936 - recall_metric: 0.9912\n",
          "output_type": "stream"
        },
        {
          "execution_count": 24,
          "output_type": "execute_result",
          "data": {
            "text/plain": "[0.02633984573185444,\n 0.9923288226127625,\n 0.9925157427787781,\n 0.9937335848808289,\n 0.9913007020950317]"
          },
          "metadata": {}
        }
      ]
    },
    {
      "cell_type": "code",
      "source": [
        "preds=model.predict(X_test)"
      ],
      "metadata": {
        "id": "3IY1chUUj0FJ",
        "outputId": "6e2ccaaf-272d-4f48-9e9a-56511b1914e7",
        "execution": {
          "iopub.status.busy": "2024-04-16T01:00:04.694885Z",
          "iopub.execute_input": "2024-04-16T01:00:04.695214Z",
          "iopub.status.idle": "2024-04-16T01:00:09.866740Z",
          "shell.execute_reply.started": "2024-04-16T01:00:04.695189Z",
          "shell.execute_reply": "2024-04-16T01:00:09.865847Z"
        },
        "trusted": true
      },
      "execution_count": null,
      "outputs": [
        {
          "name": "stdout",
          "text": "\u001b[1m220/220\u001b[0m \u001b[32m━━━━━━━━━━━━━━━━━━━━\u001b[0m\u001b[37m\u001b[0m \u001b[1m5s\u001b[0m 16ms/step\n",
          "output_type": "stream"
        }
      ]
    },
    {
      "cell_type": "code",
      "source": [
        "def convert_tags(test_data, preds, actual_preds):\n",
        "    pred_tokens = []\n",
        "    actual_tags = []\n",
        "    pred_tags = []\n",
        "    for i, data in enumerate(test_data):\n",
        "        tokens = [words[x] if x != 0 else '<PAD>' for x in list(data)]\n",
        "        actual_tags.extend([get_encoded_tag[x] for x in list(actual_preds[i])])\n",
        "        pred_tags.extend([get_encoded_tag[x] for x in list(preds[i])])\n",
        "        pred_tokens.extend(tokens)\n",
        "    non_pad_indices = [i for i, token in enumerate(pred_tokens) if token != '<PAD>']\n",
        "    actual_tags = [actual_tags[i] for i in non_pad_indices]\n",
        "    pred_tags = [pred_tags[i] for i in non_pad_indices]\n",
        "    return pred_tags, actual_tags"
      ],
      "metadata": {
        "id": "MijrweMLj0FK",
        "execution": {
          "iopub.status.busy": "2024-04-16T01:00:09.868511Z",
          "iopub.execute_input": "2024-04-16T01:00:09.868898Z",
          "iopub.status.idle": "2024-04-16T01:00:09.876779Z",
          "shell.execute_reply.started": "2024-04-16T01:00:09.868864Z",
          "shell.execute_reply": "2024-04-16T01:00:09.875729Z"
        },
        "trusted": true
      },
      "execution_count": null,
      "outputs": []
    },
    {
      "cell_type": "code",
      "source": [
        "def get_labels(preds, labels):\n",
        "    return np.argmax(preds, axis = 2), np.argmax(labels, axis = 2)"
      ],
      "metadata": {
        "id": "5KvkERNSj0FK",
        "execution": {
          "iopub.status.busy": "2024-04-16T01:00:09.878942Z",
          "iopub.execute_input": "2024-04-16T01:00:09.879214Z",
          "iopub.status.idle": "2024-04-16T01:00:09.890856Z",
          "shell.execute_reply.started": "2024-04-16T01:00:09.879188Z",
          "shell.execute_reply": "2024-04-16T01:00:09.889964Z"
        },
        "trusted": true
      },
      "execution_count": null,
      "outputs": []
    },
    {
      "cell_type": "code",
      "source": [
        "preds_argmax, y_test_argmax = get_labels(preds, y_test)\n",
        "y_pred_converted, y_test_converted = convert_tags(X_test,\n",
        "                                                  preds_argmax,\n",
        "                                                  np.array(y_test_argmax))"
      ],
      "metadata": {
        "id": "vLxlBjgzj0FK",
        "execution": {
          "iopub.status.busy": "2024-04-16T01:00:09.891994Z",
          "iopub.execute_input": "2024-04-16T01:00:09.892285Z",
          "iopub.status.idle": "2024-04-16T01:00:13.702822Z",
          "shell.execute_reply.started": "2024-04-16T01:00:09.892261Z",
          "shell.execute_reply": "2024-04-16T01:00:13.701993Z"
        },
        "trusted": true
      },
      "execution_count": null,
      "outputs": []
    },
    {
      "cell_type": "code",
      "source": [
        "print(classification_report(y_test_converted, y_pred_converted, zero_division = 0))\n",
        "f1Score = f1_score(y_test_converted, y_pred_converted, average='weighted')\n",
        "print(\"f1 score on testing set: \", f1Score)"
      ],
      "metadata": {
        "id": "tN_KH5ForIkV",
        "outputId": "e09972be-0af3-4238-9ac7-dc50c1b2f515",
        "execution": {
          "iopub.status.busy": "2024-04-16T01:01:52.160187Z",
          "iopub.execute_input": "2024-04-16T01:01:52.160987Z",
          "iopub.status.idle": "2024-04-16T01:02:10.682189Z",
          "shell.execute_reply.started": "2024-04-16T01:01:52.160945Z",
          "shell.execute_reply": "2024-04-16T01:02:10.681198Z"
        },
        "trusted": true
      },
      "execution_count": null,
      "outputs": [
        {
          "name": "stdout",
          "text": "              precision    recall  f1-score   support\n\n       B-art       0.00      0.00      0.00       108\n       B-eve       0.92      0.18      0.30        67\n       B-geo       0.83      0.89      0.86      7483\n       B-gpe       0.95      0.92      0.94      3233\n       B-nat       0.00      0.00      0.00        39\n       B-org       0.81      0.63      0.71      4068\n       B-per       0.84      0.76      0.80      3352\n       B-tim       0.91      0.86      0.89      3948\n       I-art       0.00      0.00      0.00        94\n       I-eve       0.00      0.00      0.00        47\n       I-geo       0.77      0.81      0.79      1525\n       I-gpe       0.00      0.00      0.00        41\n       I-nat       0.00      0.00      0.00        19\n       I-org       0.80      0.72      0.76      3455\n       I-per       0.86      0.83      0.85      3381\n       I-tim       0.76      0.69      0.72      1095\n           O       1.00      1.00      1.00    953085\n\n    accuracy                           0.99    985040\n   macro avg       0.56      0.49      0.51    985040\nweighted avg       0.99      0.99      0.99    985040\n\nf1 score on testing set:  0.9919360849360044\n",
          "output_type": "stream"
        }
      ]
    },
    {
      "cell_type": "code",
      "source": [
        "class color:\n",
        "    BLACK = '\\033[40m'\n",
        "    RED = '\\033[41m'\n",
        "    GREEN = '\\033[42m'\n",
        "    YELLOW = '\\033[43m'\n",
        "    BLUE = '\\033[44m'\n",
        "    PURPLE = '\\033[45m'\n",
        "    CYAN = '\\033[46m'\n",
        "    WHITE = '\\033[47m'\n",
        "    TERMINATE = '\\033[0m'"
      ],
      "metadata": {
        "execution": {
          "iopub.status.busy": "2024-04-16T01:02:15.227920Z",
          "iopub.execute_input": "2024-04-16T01:02:15.228685Z",
          "iopub.status.idle": "2024-04-16T01:02:15.233701Z",
          "shell.execute_reply.started": "2024-04-16T01:02:15.228651Z",
          "shell.execute_reply": "2024-04-16T01:02:15.232700Z"
        },
        "trusted": true,
        "id": "Ja_J7Xo7bZNk"
      },
      "execution_count": null,
      "outputs": []
    },
    {
      "cell_type": "code",
      "source": [
        "\n",
        "tag_bg_dict = {\n",
        "    'B-art': color.BLACK,\n",
        "    'I-art': color.BLACK,\n",
        "    'B-eve': color.CYAN,\n",
        "    'I-eve': color.CYAN,\n",
        "    'B-geo': color.GREEN,\n",
        "    'I-geo': color.GREEN,\n",
        "    'B-gpe': color.YELLOW,\n",
        "    'I-gpe': color.YELLOW,\n",
        "    'B-nat': color.WHITE,\n",
        "    'I-nat': color.WHITE,\n",
        "    'B-org': color.BLUE,\n",
        "    'I-org': color.BLUE,\n",
        "    'B-per': color.PURPLE,\n",
        "    'I-per': color.PURPLE,\n",
        "    'B-tim': color.RED,\n",
        "    'I-tim': color.RED,\n",
        "    'O': \"\"\n",
        "}"
      ],
      "metadata": {
        "execution": {
          "iopub.status.busy": "2024-04-16T01:02:15.395375Z",
          "iopub.execute_input": "2024-04-16T01:02:15.395764Z",
          "iopub.status.idle": "2024-04-16T01:02:15.402286Z",
          "shell.execute_reply.started": "2024-04-16T01:02:15.395733Z",
          "shell.execute_reply": "2024-04-16T01:02:15.401189Z"
        },
        "trusted": true,
        "id": "MgLUUoRXbZNk"
      },
      "execution_count": null,
      "outputs": []
    },
    {
      "cell_type": "code",
      "source": [
        "for i in range(0, 5):\n",
        "    text = X_test[i]\n",
        "    p = model.predict(np.array([text]))\n",
        "    p = np.argmax(p, axis=-1)\n",
        "    gt = np.argmax(y_test[i], axis=-1)\n",
        "    print(\"Test sentence:\", i+1)\n",
        "    print(\"{:14} {:5}: \\t{}\".format(\"Word\",\n",
        "                                  \"True NER Labels\",\n",
        "                                  \"Predicted NER labels\"))\n",
        "    for idx, (w, pred) in enumerate(zip(X_test[i], p[0])):\n",
        "        if words[w] != \"ENDPAD\":\n",
        "            word_color = tag_bg_dict[tags[pred]]\n",
        "            word_background = tag_bg_dict[tags[pred]]\n",
        "            print(\"{:14} \\t{:5} \\t\\t\\t{}\".format(word_background + words[w],\n",
        "                                             get_encoded_tag[gt[idx]],\n",
        "                                             tags[pred] + color.TERMINATE))\n",
        "    print(\"\\n\")\n"
      ],
      "metadata": {
        "colab": {
          "base_uri": "https://localhost:8080/"
        },
        "id": "kNMZYxPAaAaB",
        "outputId": "17eb80da-0ec9-4a2d-ee13-1e6cac86b214",
        "execution": {
          "iopub.status.busy": "2024-04-16T01:02:15.582629Z",
          "iopub.execute_input": "2024-04-16T01:02:15.583571Z",
          "iopub.status.idle": "2024-04-16T01:02:15.952314Z",
          "shell.execute_reply.started": "2024-04-16T01:02:15.583533Z",
          "shell.execute_reply": "2024-04-16T01:02:15.951378Z"
        },
        "trusted": true
      },
      "execution_count": null,
      "outputs": [
        {
          "name": "stdout",
          "text": "\u001b[1m1/1\u001b[0m \u001b[32m━━━━━━━━━━━━━━━━━━━━\u001b[0m\u001b[37m\u001b[0m \u001b[1m0s\u001b[0m 27ms/step\nTest sentence: 1\nWord           True NER Labels: \tPredicted NER labels\nFormer         \tO     \t\t\tO\u001b[0m\n\u001b[43mLiberian  \tB-gpe \t\t\tB-gpe\u001b[0m\nFinance        \tO     \t\t\tO\u001b[0m\nMinister       \tO     \t\t\tO\u001b[0m\n\u001b[45mEllen     \tB-per \t\t\tI-per\u001b[0m\n\u001b[45mJohnson-Sirleaf \tI-per \t\t\tI-per\u001b[0m\nwon            \tO     \t\t\tO\u001b[0m\nabout          \tO     \t\t\tO\u001b[0m\n60             \tO     \t\t\tO\u001b[0m\npercent        \tO     \t\t\tO\u001b[0m\nof             \tO     \t\t\tO\u001b[0m\nthe            \tO     \t\t\tO\u001b[0m\nvote           \tO     \t\t\tO\u001b[0m\n,              \tO     \t\t\tO\u001b[0m\nto             \tO     \t\t\tO\u001b[0m\n40             \tO     \t\t\tO\u001b[0m\npercent        \tO     \t\t\tO\u001b[0m\nfor            \tB-org \t\t\tO\u001b[0m\n\u001b[45mMr.       \tB-per \t\t\tB-per\u001b[0m\n\u001b[42mWeah      \tB-org \t\t\tB-geo\u001b[0m\n,              \tO     \t\t\tO\u001b[0m\na              \tO     \t\t\tO\u001b[0m\nformer         \tO     \t\t\tO\u001b[0m\nsoccer         \tO     \t\t\tO\u001b[0m\n(              \tO     \t\t\tO\u001b[0m\nfootball       \tO     \t\t\tO\u001b[0m\n)              \tO     \t\t\tO\u001b[0m\nstar           \tO     \t\t\tO\u001b[0m\n.              \tO     \t\t\tO\u001b[0m\n\n\n\u001b[1m1/1\u001b[0m \u001b[32m━━━━━━━━━━━━━━━━━━━━\u001b[0m\u001b[37m\u001b[0m \u001b[1m0s\u001b[0m 27ms/step\nTest sentence: 2\nWord           True NER Labels: \tPredicted NER labels\nA              \tO     \t\t\tO\u001b[0m\njoint          \tO     \t\t\tO\u001b[0m\nstatement      \tO     \t\t\tO\u001b[0m\nfrom           \tO     \t\t\tO\u001b[0m\nthe            \tO     \t\t\tO\u001b[0m\n\u001b[43mAfghan    \tB-gpe \t\t\tB-gpe\u001b[0m\nand            \tO     \t\t\tO\u001b[0m\n\u001b[42mU.S.      \tB-gpe \t\t\tB-geo\u001b[0m\nmilitaries     \tO     \t\t\tO\u001b[0m\nsaid           \tO     \t\t\tO\u001b[0m\ninsurgent      \tO     \t\t\tO\u001b[0m\n\u001b[45mMullah    \tB-org \t\t\tB-per\u001b[0m\n\u001b[45mDahoud    \tI-org \t\t\tI-per\u001b[0m\nis             \tO     \t\t\tO\u001b[0m\nsuspected      \tO     \t\t\tO\u001b[0m\nof             \tO     \t\t\tO\u001b[0m\ninvolvement    \tO     \t\t\tO\u001b[0m\nin             \tO     \t\t\tO\u001b[0m\na              \tO     \t\t\tO\u001b[0m\ndeadly         \tO     \t\t\tO\u001b[0m\n\u001b[41mOctober   \tB-tim \t\t\tB-tim\u001b[0m\nattack         \tO     \t\t\tO\u001b[0m\nin             \tO     \t\t\tO\u001b[0m\n\u001b[42mBaghlan   \tB-geo \t\t\tB-geo\u001b[0m\nand            \tO     \t\t\tO\u001b[0m\nthe            \tO     \t\t\tO\u001b[0m\n\u001b[41m2007      \tB-tim \t\t\tB-tim\u001b[0m\nbombing        \tO     \t\t\tO\u001b[0m\nof             \tO     \t\t\tO\u001b[0m\na              \tO     \t\t\tO\u001b[0m\nsugar          \tO     \t\t\tO\u001b[0m\nfactory        \tO     \t\t\tO\u001b[0m\n,              \tO     \t\t\tO\u001b[0m\nwhich          \tO     \t\t\tO\u001b[0m\nkilled         \tO     \t\t\tO\u001b[0m\nmore           \tO     \t\t\tO\u001b[0m\nthan           \tO     \t\t\tO\u001b[0m\n50             \tO     \t\t\tO\u001b[0m\npeople         \tO     \t\t\tO\u001b[0m\n.              \tO     \t\t\tO\u001b[0m\n\n\n\u001b[1m1/1\u001b[0m \u001b[32m━━━━━━━━━━━━━━━━━━━━\u001b[0m\u001b[37m\u001b[0m \u001b[1m0s\u001b[0m 26ms/step\nTest sentence: 3\nWord           True NER Labels: \tPredicted NER labels\nHe             \tO     \t\t\tO\u001b[0m\nhas            \tO     \t\t\tO\u001b[0m\ntold           \tO     \t\t\tO\u001b[0m\nreporters      \tO     \t\t\tO\u001b[0m\nhe             \tO     \t\t\tO\u001b[0m\nfeels          \tO     \t\t\tO\u001b[0m\nfine           \tO     \t\t\tO\u001b[0m\ndespite        \tO     \t\t\tO\u001b[0m\nthe            \tO     \t\t\tO\u001b[0m\ncondition      \tO     \t\t\tO\u001b[0m\n,              \tO     \t\t\tO\u001b[0m\nwhich          \tO     \t\t\tO\u001b[0m\ncauses         \tO     \t\t\tO\u001b[0m\nsome           \tO     \t\t\tO\u001b[0m\nshortness      \tO     \t\t\tO\u001b[0m\nof             \tO     \t\t\tO\u001b[0m\nbreath         \tO     \t\t\tO\u001b[0m\n.              \tO     \t\t\tO\u001b[0m\nHe             \tO     \t\t\tO\u001b[0m\nhas            \tO     \t\t\tO\u001b[0m\ntold           \tO     \t\t\tO\u001b[0m\nreporters      \tO     \t\t\tO\u001b[0m\nhe             \tO     \t\t\tO\u001b[0m\nfeels          \tO     \t\t\tO\u001b[0m\nfine           \tO     \t\t\tO\u001b[0m\ndespite        \tO     \t\t\tO\u001b[0m\nthe            \tO     \t\t\tO\u001b[0m\ncondition      \tO     \t\t\tO\u001b[0m\n,              \tO     \t\t\tO\u001b[0m\nwhich          \tO     \t\t\tO\u001b[0m\ncauses         \tO     \t\t\tO\u001b[0m\nsome           \tO     \t\t\tO\u001b[0m\nshortness      \tO     \t\t\tO\u001b[0m\nof             \tO     \t\t\tO\u001b[0m\nbreath         \tO     \t\t\tO\u001b[0m\n.              \tO     \t\t\tO\u001b[0m\n\n\n\u001b[1m1/1\u001b[0m \u001b[32m━━━━━━━━━━━━━━━━━━━━\u001b[0m\u001b[37m\u001b[0m \u001b[1m0s\u001b[0m 29ms/step\nTest sentence: 4\nWord           True NER Labels: \tPredicted NER labels\nHe             \tO     \t\t\tO\u001b[0m\nurged          \tO     \t\t\tO\u001b[0m\nthe            \tO     \t\t\tO\u001b[0m\n\u001b[44mWhite     \tB-org \t\t\tB-org\u001b[0m\n\u001b[44mHouse     \tI-org \t\t\tI-org\u001b[0m\nto             \tO     \t\t\tO\u001b[0m\nstop           \tO     \t\t\tO\u001b[0m\n\"              \tO     \t\t\tO\u001b[0m\nlashing        \tO     \t\t\tO\u001b[0m\nout            \tO     \t\t\tO\u001b[0m\n\"              \tO     \t\t\tO\u001b[0m\nat             \tO     \t\t\tO\u001b[0m\nits            \tO     \t\t\tO\u001b[0m\ncritics        \tO     \t\t\tO\u001b[0m\nand            \tO     \t\t\tO\u001b[0m\ninstead        \tO     \t\t\tO\u001b[0m\ngive           \tO     \t\t\tO\u001b[0m\n\u001b[43mAmerican  \tB-gpe \t\t\tB-gpe\u001b[0m\ntroops         \tO     \t\t\tO\u001b[0m\na              \tO     \t\t\tO\u001b[0m\nstrategy       \tO     \t\t\tO\u001b[0m\nfor            \tO     \t\t\tO\u001b[0m\nsuccess        \tO     \t\t\tO\u001b[0m\nin             \tO     \t\t\tO\u001b[0m\n\u001b[42mIraq      \tB-geo \t\t\tB-geo\u001b[0m\n.              \tO     \t\t\tO\u001b[0m\nHe             \tO     \t\t\tO\u001b[0m\nurged          \tO     \t\t\tO\u001b[0m\nthe            \tO     \t\t\tO\u001b[0m\n\u001b[44mWhite     \tB-org \t\t\tB-org\u001b[0m\n\u001b[44mHouse     \tI-org \t\t\tI-org\u001b[0m\nto             \tO     \t\t\tO\u001b[0m\nstop           \tO     \t\t\tO\u001b[0m\n\"              \tO     \t\t\tO\u001b[0m\nlashing        \tO     \t\t\tO\u001b[0m\nout            \tO     \t\t\tO\u001b[0m\n\"              \tO     \t\t\tO\u001b[0m\nat             \tO     \t\t\tO\u001b[0m\nits            \tO     \t\t\tO\u001b[0m\ncritics        \tO     \t\t\tO\u001b[0m\nand            \tO     \t\t\tO\u001b[0m\ninstead        \tO     \t\t\tO\u001b[0m\ngive           \tO     \t\t\tO\u001b[0m\n\u001b[43mAmerican  \tB-gpe \t\t\tB-gpe\u001b[0m\ntroops         \tO     \t\t\tO\u001b[0m\na              \tO     \t\t\tO\u001b[0m\nstrategy       \tO     \t\t\tO\u001b[0m\nfor            \tO     \t\t\tO\u001b[0m\nsuccess        \tO     \t\t\tO\u001b[0m\nin             \tO     \t\t\tO\u001b[0m\n\u001b[42mIraq      \tB-geo \t\t\tB-geo\u001b[0m\n.              \tO     \t\t\tO\u001b[0m\n\n\n\u001b[1m1/1\u001b[0m \u001b[32m━━━━━━━━━━━━━━━━━━━━\u001b[0m\u001b[37m\u001b[0m \u001b[1m0s\u001b[0m 28ms/step\nTest sentence: 5\nWord           True NER Labels: \tPredicted NER labels\nSeveral        \tO     \t\t\tO\u001b[0m\n\u001b[43mFrench    \tB-gpe \t\t\tB-gpe\u001b[0m\ndiplomats      \tO     \t\t\tO\u001b[0m\nsaid           \tO     \t\t\tO\u001b[0m\n\u001b[41mWednesday \tB-tim \t\t\tB-tim\u001b[0m\nthat           \tO     \t\t\tO\u001b[0m\na              \tO     \t\t\tO\u001b[0m\nmajority       \tO     \t\t\tO\u001b[0m\nof             \tO     \t\t\tO\u001b[0m\n\u001b[44mEU        \tB-org \t\t\tB-org\u001b[0m\nministers      \tO     \t\t\tO\u001b[0m\nnow            \tO     \t\t\tO\u001b[0m\nsupport        \tO     \t\t\tO\u001b[0m\nscaling        \tO     \t\t\tO\u001b[0m\nback           \tO     \t\t\tO\u001b[0m\nthe            \tO     \t\t\tO\u001b[0m\n\u001b[44mEU        \tB-org \t\t\tB-org\u001b[0m\noperation      \tO     \t\t\tO\u001b[0m\nin             \tO     \t\t\tO\u001b[0m\n\u001b[42mBosnia    \tB-geo \t\t\tB-geo\u001b[0m\n.              \tO     \t\t\tO\u001b[0m\n\n\n",
          "output_type": "stream"
        }
      ]
    },
    {
      "cell_type": "code",
      "source": [
        "def construct_sentence(words, predicted_tags, true_tags):\n",
        "    sentence_output = \"\"\n",
        "    for word, pred, true_tag in zip(words, predicted_tags, true_tags):\n",
        "        if word != \"ENDPAD\":\n",
        "            word_color = tag_bg_dict[pred]\n",
        "            if pred.startswith('B'):\n",
        "                sentence_output += f\"{word_color}{word} ({tag_bg_dict[pred]}{pred}/{tag_bg_dict[true_tag]}{true_tag}){color.TERMINATE} \"\n",
        "            elif pred.startswith('I'):\n",
        "                sentence_output += f\"{word_color}{word} ({tag_bg_dict[pred]}{pred}/{tag_bg_dict[true_tag]}{true_tag}){color.TERMINATE} \"\n",
        "            else:\n",
        "                sentence_output += f\"{word_color}{word}{color.TERMINATE} \"\n",
        "    return sentence_output"
      ],
      "metadata": {
        "execution": {
          "iopub.status.busy": "2024-04-16T01:02:15.953867Z",
          "iopub.execute_input": "2024-04-16T01:02:15.954187Z",
          "iopub.status.idle": "2024-04-16T01:02:15.960651Z",
          "shell.execute_reply.started": "2024-04-16T01:02:15.954161Z",
          "shell.execute_reply": "2024-04-16T01:02:15.959625Z"
        },
        "trusted": true,
        "id": "U4tU228-bZNl"
      },
      "execution_count": null,
      "outputs": []
    },
    {
      "cell_type": "code",
      "source": [
        "for i in range(0, 5):\n",
        "    text = X_test[i]\n",
        "    p = model.predict(np.array([text]))\n",
        "    p = np.argmax(p, axis=-1)\n",
        "    gt = np.argmax(y_test[i], axis=-1)\n",
        "    print(\"Test sentence:\", i+1, \". Keep in mind highlighted entities are of format: entity (predicted tag/ground truth tag)\\n\")\n",
        "    sentence_output = construct_sentence([words[w] for w in text], [tags[pred] for pred in p[0]], [get_encoded_tag[gt[idx]] for idx in range(len(text))])  # Pass tokens, predicted tags, and ground truth tags to construct_sentence function\n",
        "    print(sentence_output)\n",
        "    print()"
      ],
      "metadata": {
        "execution": {
          "iopub.status.busy": "2024-04-16T01:02:15.962063Z",
          "iopub.execute_input": "2024-04-16T01:02:15.962338Z",
          "iopub.status.idle": "2024-04-16T01:02:16.335203Z",
          "shell.execute_reply.started": "2024-04-16T01:02:15.962315Z",
          "shell.execute_reply": "2024-04-16T01:02:16.334276Z"
        },
        "trusted": true,
        "id": "wh6n45NibZNl",
        "outputId": "3f646787-baf5-4657-8df0-d19d8b42a580"
      },
      "execution_count": null,
      "outputs": [
        {
          "name": "stdout",
          "text": "\u001b[1m1/1\u001b[0m \u001b[32m━━━━━━━━━━━━━━━━━━━━\u001b[0m\u001b[37m\u001b[0m \u001b[1m0s\u001b[0m 26ms/step\nTest sentence: 1 . Keep in mind highlighted entities are of format: entity (predicted tag/ground truth tag)\n\nFormer\u001b[0m \u001b[43mLiberian (\u001b[43mB-gpe/\u001b[43mB-gpe)\u001b[0m Finance\u001b[0m Minister\u001b[0m \u001b[45mEllen (\u001b[45mI-per/\u001b[45mB-per)\u001b[0m \u001b[45mJohnson-Sirleaf (\u001b[45mI-per/\u001b[45mI-per)\u001b[0m won\u001b[0m about\u001b[0m 60\u001b[0m percent\u001b[0m of\u001b[0m the\u001b[0m vote\u001b[0m ,\u001b[0m to\u001b[0m 40\u001b[0m percent\u001b[0m for\u001b[0m \u001b[45mMr. (\u001b[45mB-per/\u001b[45mB-per)\u001b[0m \u001b[42mWeah (\u001b[42mB-geo/\u001b[44mB-org)\u001b[0m ,\u001b[0m a\u001b[0m former\u001b[0m soccer\u001b[0m (\u001b[0m football\u001b[0m )\u001b[0m star\u001b[0m .\u001b[0m \n\n\u001b[1m1/1\u001b[0m \u001b[32m━━━━━━━━━━━━━━━━━━━━\u001b[0m\u001b[37m\u001b[0m \u001b[1m0s\u001b[0m 26ms/step\nTest sentence: 2 . Keep in mind highlighted entities are of format: entity (predicted tag/ground truth tag)\n\nA\u001b[0m joint\u001b[0m statement\u001b[0m from\u001b[0m the\u001b[0m \u001b[43mAfghan (\u001b[43mB-gpe/\u001b[43mB-gpe)\u001b[0m and\u001b[0m \u001b[42mU.S. (\u001b[42mB-geo/\u001b[43mB-gpe)\u001b[0m militaries\u001b[0m said\u001b[0m insurgent\u001b[0m \u001b[45mMullah (\u001b[45mB-per/\u001b[44mB-org)\u001b[0m \u001b[45mDahoud (\u001b[45mI-per/\u001b[44mI-org)\u001b[0m is\u001b[0m suspected\u001b[0m of\u001b[0m involvement\u001b[0m in\u001b[0m a\u001b[0m deadly\u001b[0m \u001b[41mOctober (\u001b[41mB-tim/\u001b[41mB-tim)\u001b[0m attack\u001b[0m in\u001b[0m \u001b[42mBaghlan (\u001b[42mB-geo/\u001b[42mB-geo)\u001b[0m and\u001b[0m the\u001b[0m \u001b[41m2007 (\u001b[41mB-tim/\u001b[41mB-tim)\u001b[0m bombing\u001b[0m of\u001b[0m a\u001b[0m sugar\u001b[0m factory\u001b[0m ,\u001b[0m which\u001b[0m killed\u001b[0m more\u001b[0m than\u001b[0m 50\u001b[0m people\u001b[0m .\u001b[0m \n\n\u001b[1m1/1\u001b[0m \u001b[32m━━━━━━━━━━━━━━━━━━━━\u001b[0m\u001b[37m\u001b[0m \u001b[1m0s\u001b[0m 26ms/step\nTest sentence: 3 . Keep in mind highlighted entities are of format: entity (predicted tag/ground truth tag)\n\nHe\u001b[0m has\u001b[0m told\u001b[0m reporters\u001b[0m he\u001b[0m feels\u001b[0m fine\u001b[0m despite\u001b[0m the\u001b[0m condition\u001b[0m ,\u001b[0m which\u001b[0m causes\u001b[0m some\u001b[0m shortness\u001b[0m of\u001b[0m breath\u001b[0m .\u001b[0m He\u001b[0m has\u001b[0m told\u001b[0m reporters\u001b[0m he\u001b[0m feels\u001b[0m fine\u001b[0m despite\u001b[0m the\u001b[0m condition\u001b[0m ,\u001b[0m which\u001b[0m causes\u001b[0m some\u001b[0m shortness\u001b[0m of\u001b[0m breath\u001b[0m .\u001b[0m \n\n\u001b[1m1/1\u001b[0m \u001b[32m━━━━━━━━━━━━━━━━━━━━\u001b[0m\u001b[37m\u001b[0m \u001b[1m0s\u001b[0m 28ms/step\nTest sentence: 4 . Keep in mind highlighted entities are of format: entity (predicted tag/ground truth tag)\n\nHe\u001b[0m urged\u001b[0m the\u001b[0m \u001b[44mWhite (\u001b[44mB-org/\u001b[44mB-org)\u001b[0m \u001b[44mHouse (\u001b[44mI-org/\u001b[44mI-org)\u001b[0m to\u001b[0m stop\u001b[0m \"\u001b[0m lashing\u001b[0m out\u001b[0m \"\u001b[0m at\u001b[0m its\u001b[0m critics\u001b[0m and\u001b[0m instead\u001b[0m give\u001b[0m \u001b[43mAmerican (\u001b[43mB-gpe/\u001b[43mB-gpe)\u001b[0m troops\u001b[0m a\u001b[0m strategy\u001b[0m for\u001b[0m success\u001b[0m in\u001b[0m \u001b[42mIraq (\u001b[42mB-geo/\u001b[42mB-geo)\u001b[0m .\u001b[0m He\u001b[0m urged\u001b[0m the\u001b[0m \u001b[44mWhite (\u001b[44mB-org/\u001b[44mB-org)\u001b[0m \u001b[44mHouse (\u001b[44mI-org/\u001b[44mI-org)\u001b[0m to\u001b[0m stop\u001b[0m \"\u001b[0m lashing\u001b[0m out\u001b[0m \"\u001b[0m at\u001b[0m its\u001b[0m critics\u001b[0m and\u001b[0m instead\u001b[0m give\u001b[0m \u001b[43mAmerican (\u001b[43mB-gpe/\u001b[43mB-gpe)\u001b[0m troops\u001b[0m a\u001b[0m strategy\u001b[0m for\u001b[0m success\u001b[0m in\u001b[0m \u001b[42mIraq (\u001b[42mB-geo/\u001b[42mB-geo)\u001b[0m .\u001b[0m \n\n\u001b[1m1/1\u001b[0m \u001b[32m━━━━━━━━━━━━━━━━━━━━\u001b[0m\u001b[37m\u001b[0m \u001b[1m0s\u001b[0m 29ms/step\nTest sentence: 5 . Keep in mind highlighted entities are of format: entity (predicted tag/ground truth tag)\n\nSeveral\u001b[0m \u001b[43mFrench (\u001b[43mB-gpe/\u001b[43mB-gpe)\u001b[0m diplomats\u001b[0m said\u001b[0m \u001b[41mWednesday (\u001b[41mB-tim/\u001b[41mB-tim)\u001b[0m that\u001b[0m a\u001b[0m majority\u001b[0m of\u001b[0m \u001b[44mEU (\u001b[44mB-org/\u001b[44mB-org)\u001b[0m ministers\u001b[0m now\u001b[0m support\u001b[0m scaling\u001b[0m back\u001b[0m the\u001b[0m \u001b[44mEU (\u001b[44mB-org/\u001b[44mB-org)\u001b[0m operation\u001b[0m in\u001b[0m \u001b[42mBosnia (\u001b[42mB-geo/\u001b[42mB-geo)\u001b[0m .\u001b[0m \n\n",
          "output_type": "stream"
        }
      ]
    },
    {
      "cell_type": "code",
      "source": [
        "# Visualize NER tagging on a couple test set examples using spacy NER tagging visualizer\n",
        "nlp = spacy.load(\"en_core_web_sm\")\n",
        "for i in range(0, 5):\n",
        "  text = X_test[i]\n",
        "  spacy_str = []\n",
        "  for w in text:\n",
        "    if words[w] != \"ENDPAD\":\n",
        "      spacy_str.append(words[w])\n",
        "  spacy_str = ' '.join(spacy_str)\n",
        "  doc = nlp(str(spacy_str))\n",
        "  print(\"{}. \".format(i+1))\n",
        "  displacy.render(doc, style=\"ent\")\n",
        "  print(\"\\n\")"
      ],
      "metadata": {
        "id": "6kYAPtbRbjvl",
        "execution": {
          "iopub.status.busy": "2024-04-16T01:02:16.336962Z",
          "iopub.execute_input": "2024-04-16T01:02:16.337270Z",
          "iopub.status.idle": "2024-04-16T01:02:17.457005Z",
          "shell.execute_reply.started": "2024-04-16T01:02:16.337244Z",
          "shell.execute_reply": "2024-04-16T01:02:17.455945Z"
        },
        "trusted": true,
        "outputId": "fb4ddffc-69bb-411f-9695-9ffdc25c569c"
      },
      "execution_count": null,
      "outputs": [
        {
          "name": "stdout",
          "text": "1. \n",
          "output_type": "stream"
        },
        {
          "output_type": "display_data",
          "data": {
            "text/plain": "<IPython.core.display.HTML object>",
            "text/html": "<span class=\"tex2jax_ignore\"><div class=\"entities\" style=\"line-height: 2.5; direction: ltr\">Former \n<mark class=\"entity\" style=\"background: #c887fb; padding: 0.45em 0.6em; margin: 0 0.25em; line-height: 1; border-radius: 0.35em;\">\n    Liberian\n    <span style=\"font-size: 0.8em; font-weight: bold; line-height: 1; border-radius: 0.35em; vertical-align: middle; margin-left: 0.5rem\">NORP</span>\n</mark>\n Finance Minister \n<mark class=\"entity\" style=\"background: #aa9cfc; padding: 0.45em 0.6em; margin: 0 0.25em; line-height: 1; border-radius: 0.35em;\">\n    Ellen Johnson-Sirleaf\n    <span style=\"font-size: 0.8em; font-weight: bold; line-height: 1; border-radius: 0.35em; vertical-align: middle; margin-left: 0.5rem\">PERSON</span>\n</mark>\n won \n<mark class=\"entity\" style=\"background: #e4e7d2; padding: 0.45em 0.6em; margin: 0 0.25em; line-height: 1; border-radius: 0.35em;\">\n    about 60 percent\n    <span style=\"font-size: 0.8em; font-weight: bold; line-height: 1; border-radius: 0.35em; vertical-align: middle; margin-left: 0.5rem\">PERCENT</span>\n</mark>\n of the vote , to \n<mark class=\"entity\" style=\"background: #e4e7d2; padding: 0.45em 0.6em; margin: 0 0.25em; line-height: 1; border-radius: 0.35em;\">\n    40 percent\n    <span style=\"font-size: 0.8em; font-weight: bold; line-height: 1; border-radius: 0.35em; vertical-align: middle; margin-left: 0.5rem\">PERCENT</span>\n</mark>\n for Mr. \n<mark class=\"entity\" style=\"background: #aa9cfc; padding: 0.45em 0.6em; margin: 0 0.25em; line-height: 1; border-radius: 0.35em;\">\n    Weah\n    <span style=\"font-size: 0.8em; font-weight: bold; line-height: 1; border-radius: 0.35em; vertical-align: middle; margin-left: 0.5rem\">PERSON</span>\n</mark>\n , a former soccer ( football ) star .</div></span>"
          },
          "metadata": {}
        },
        {
          "name": "stdout",
          "text": "\n\n2. \n",
          "output_type": "stream"
        },
        {
          "output_type": "display_data",
          "data": {
            "text/plain": "<IPython.core.display.HTML object>",
            "text/html": "<span class=\"tex2jax_ignore\"><div class=\"entities\" style=\"line-height: 2.5; direction: ltr\">A joint statement from the \n<mark class=\"entity\" style=\"background: #c887fb; padding: 0.45em 0.6em; margin: 0 0.25em; line-height: 1; border-radius: 0.35em;\">\n    Afghan\n    <span style=\"font-size: 0.8em; font-weight: bold; line-height: 1; border-radius: 0.35em; vertical-align: middle; margin-left: 0.5rem\">NORP</span>\n</mark>\n and \n<mark class=\"entity\" style=\"background: #feca74; padding: 0.45em 0.6em; margin: 0 0.25em; line-height: 1; border-radius: 0.35em;\">\n    U.S.\n    <span style=\"font-size: 0.8em; font-weight: bold; line-height: 1; border-radius: 0.35em; vertical-align: middle; margin-left: 0.5rem\">GPE</span>\n</mark>\n militaries said insurgent \n<mark class=\"entity\" style=\"background: #aa9cfc; padding: 0.45em 0.6em; margin: 0 0.25em; line-height: 1; border-radius: 0.35em;\">\n    Mullah Dahoud\n    <span style=\"font-size: 0.8em; font-weight: bold; line-height: 1; border-radius: 0.35em; vertical-align: middle; margin-left: 0.5rem\">PERSON</span>\n</mark>\n is suspected of involvement in a deadly \n<mark class=\"entity\" style=\"background: #bfe1d9; padding: 0.45em 0.6em; margin: 0 0.25em; line-height: 1; border-radius: 0.35em;\">\n    October\n    <span style=\"font-size: 0.8em; font-weight: bold; line-height: 1; border-radius: 0.35em; vertical-align: middle; margin-left: 0.5rem\">DATE</span>\n</mark>\n attack in \n<mark class=\"entity\" style=\"background: #7aecec; padding: 0.45em 0.6em; margin: 0 0.25em; line-height: 1; border-radius: 0.35em;\">\n    Baghlan\n    <span style=\"font-size: 0.8em; font-weight: bold; line-height: 1; border-radius: 0.35em; vertical-align: middle; margin-left: 0.5rem\">ORG</span>\n</mark>\n and the \n<mark class=\"entity\" style=\"background: #bfe1d9; padding: 0.45em 0.6em; margin: 0 0.25em; line-height: 1; border-radius: 0.35em;\">\n    2007\n    <span style=\"font-size: 0.8em; font-weight: bold; line-height: 1; border-radius: 0.35em; vertical-align: middle; margin-left: 0.5rem\">DATE</span>\n</mark>\n bombing of a sugar factory , which killed \n<mark class=\"entity\" style=\"background: #e4e7d2; padding: 0.45em 0.6em; margin: 0 0.25em; line-height: 1; border-radius: 0.35em;\">\n    more than 50\n    <span style=\"font-size: 0.8em; font-weight: bold; line-height: 1; border-radius: 0.35em; vertical-align: middle; margin-left: 0.5rem\">CARDINAL</span>\n</mark>\n people .</div></span>"
          },
          "metadata": {}
        },
        {
          "name": "stdout",
          "text": "\n\n3. \n",
          "output_type": "stream"
        },
        {
          "name": "stderr",
          "text": "/opt/conda/lib/python3.10/site-packages/spacy/displacy/__init__.py:213: UserWarning: [W006] No entities to visualize found in Doc object. If this is surprising to you, make sure the Doc was processed using a model that supports named entity recognition, and check the `doc.ents` property manually if necessary.\n  warnings.warn(Warnings.W006)\n",
          "output_type": "stream"
        },
        {
          "output_type": "display_data",
          "data": {
            "text/plain": "<IPython.core.display.HTML object>",
            "text/html": "<span class=\"tex2jax_ignore\"><div class=\"entities\" style=\"line-height: 2.5; direction: ltr\">He has told reporters he feels fine despite the condition , which causes some shortness of breath . He has told reporters he feels fine despite the condition , which causes some shortness of breath .</div></span>"
          },
          "metadata": {}
        },
        {
          "name": "stdout",
          "text": "\n\n4. \n",
          "output_type": "stream"
        },
        {
          "output_type": "display_data",
          "data": {
            "text/plain": "<IPython.core.display.HTML object>",
            "text/html": "<span class=\"tex2jax_ignore\"><div class=\"entities\" style=\"line-height: 2.5; direction: ltr\">He urged \n<mark class=\"entity\" style=\"background: #7aecec; padding: 0.45em 0.6em; margin: 0 0.25em; line-height: 1; border-radius: 0.35em;\">\n    the White House\n    <span style=\"font-size: 0.8em; font-weight: bold; line-height: 1; border-radius: 0.35em; vertical-align: middle; margin-left: 0.5rem\">ORG</span>\n</mark>\n to stop &quot; lashing out &quot; at its critics and instead give \n<mark class=\"entity\" style=\"background: #c887fb; padding: 0.45em 0.6em; margin: 0 0.25em; line-height: 1; border-radius: 0.35em;\">\n    American\n    <span style=\"font-size: 0.8em; font-weight: bold; line-height: 1; border-radius: 0.35em; vertical-align: middle; margin-left: 0.5rem\">NORP</span>\n</mark>\n troops a strategy for success in \n<mark class=\"entity\" style=\"background: #feca74; padding: 0.45em 0.6em; margin: 0 0.25em; line-height: 1; border-radius: 0.35em;\">\n    Iraq\n    <span style=\"font-size: 0.8em; font-weight: bold; line-height: 1; border-radius: 0.35em; vertical-align: middle; margin-left: 0.5rem\">GPE</span>\n</mark>\n . He urged \n<mark class=\"entity\" style=\"background: #7aecec; padding: 0.45em 0.6em; margin: 0 0.25em; line-height: 1; border-radius: 0.35em;\">\n    the White House\n    <span style=\"font-size: 0.8em; font-weight: bold; line-height: 1; border-radius: 0.35em; vertical-align: middle; margin-left: 0.5rem\">ORG</span>\n</mark>\n to stop &quot; lashing out &quot; at its critics and instead give \n<mark class=\"entity\" style=\"background: #c887fb; padding: 0.45em 0.6em; margin: 0 0.25em; line-height: 1; border-radius: 0.35em;\">\n    American\n    <span style=\"font-size: 0.8em; font-weight: bold; line-height: 1; border-radius: 0.35em; vertical-align: middle; margin-left: 0.5rem\">NORP</span>\n</mark>\n troops a strategy for success in \n<mark class=\"entity\" style=\"background: #feca74; padding: 0.45em 0.6em; margin: 0 0.25em; line-height: 1; border-radius: 0.35em;\">\n    Iraq\n    <span style=\"font-size: 0.8em; font-weight: bold; line-height: 1; border-radius: 0.35em; vertical-align: middle; margin-left: 0.5rem\">GPE</span>\n</mark>\n .</div></span>"
          },
          "metadata": {}
        },
        {
          "name": "stdout",
          "text": "\n\n5. \n",
          "output_type": "stream"
        },
        {
          "output_type": "display_data",
          "data": {
            "text/plain": "<IPython.core.display.HTML object>",
            "text/html": "<span class=\"tex2jax_ignore\"><div class=\"entities\" style=\"line-height: 2.5; direction: ltr\">Several \n<mark class=\"entity\" style=\"background: #c887fb; padding: 0.45em 0.6em; margin: 0 0.25em; line-height: 1; border-radius: 0.35em;\">\n    French\n    <span style=\"font-size: 0.8em; font-weight: bold; line-height: 1; border-radius: 0.35em; vertical-align: middle; margin-left: 0.5rem\">NORP</span>\n</mark>\n diplomats said \n<mark class=\"entity\" style=\"background: #bfe1d9; padding: 0.45em 0.6em; margin: 0 0.25em; line-height: 1; border-radius: 0.35em;\">\n    Wednesday\n    <span style=\"font-size: 0.8em; font-weight: bold; line-height: 1; border-radius: 0.35em; vertical-align: middle; margin-left: 0.5rem\">DATE</span>\n</mark>\n that a majority of \n<mark class=\"entity\" style=\"background: #7aecec; padding: 0.45em 0.6em; margin: 0 0.25em; line-height: 1; border-radius: 0.35em;\">\n    EU\n    <span style=\"font-size: 0.8em; font-weight: bold; line-height: 1; border-radius: 0.35em; vertical-align: middle; margin-left: 0.5rem\">ORG</span>\n</mark>\n ministers now support scaling back the \n<mark class=\"entity\" style=\"background: #7aecec; padding: 0.45em 0.6em; margin: 0 0.25em; line-height: 1; border-radius: 0.35em;\">\n    EU\n    <span style=\"font-size: 0.8em; font-weight: bold; line-height: 1; border-radius: 0.35em; vertical-align: middle; margin-left: 0.5rem\">ORG</span>\n</mark>\n operation in \n<mark class=\"entity\" style=\"background: #feca74; padding: 0.45em 0.6em; margin: 0 0.25em; line-height: 1; border-radius: 0.35em;\">\n    Bosnia\n    <span style=\"font-size: 0.8em; font-weight: bold; line-height: 1; border-radius: 0.35em; vertical-align: middle; margin-left: 0.5rem\">GPE</span>\n</mark>\n .</div></span>"
          },
          "metadata": {}
        },
        {
          "name": "stdout",
          "text": "\n\n",
          "output_type": "stream"
        }
      ]
    }
  ]
}