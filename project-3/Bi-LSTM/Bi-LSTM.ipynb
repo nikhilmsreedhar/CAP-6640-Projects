{
  "metadata": {
    "colab": {
      "provenance": []
    },
    "kernelspec": {
      "name": "python3",
      "display_name": "Python 3",
      "language": "python"
    },
    "language_info": {
      "name": "python",
      "version": "3.10.13",
      "mimetype": "text/x-python",
      "codemirror_mode": {
        "name": "ipython",
        "version": 3
      },
      "pygments_lexer": "ipython3",
      "nbconvert_exporter": "python",
      "file_extension": ".py"
    },
    "kaggle": {
      "accelerator": "gpu",
      "dataSources": [
        {
          "sourceId": 8040364,
          "sourceType": "datasetVersion",
          "datasetId": 4740315
        }
      ],
      "dockerImageVersionId": 30683,
      "isInternetEnabled": true,
      "language": "python",
      "sourceType": "notebook",
      "isGpuEnabled": true
    }
  },
  "nbformat_minor": 0,
  "nbformat": 4,
  "cells": [
    {
      "cell_type": "code",
      "source": [
        "try:\n",
        "  from future.utils import iteritems\n",
        "except:\n",
        "  !pip install future\n",
        "  from future.utils import iteritems"
      ],
      "metadata": {
        "execution": {
          "iopub.status.busy": "2024-04-14T16:44:30.130414Z",
          "iopub.execute_input": "2024-04-14T16:44:30.131125Z",
          "iopub.status.idle": "2024-04-14T16:44:30.136109Z",
          "shell.execute_reply.started": "2024-04-14T16:44:30.131097Z",
          "shell.execute_reply": "2024-04-14T16:44:30.135033Z"
        },
        "trusted": true,
        "id": "D344ISNThOaN"
      },
      "execution_count": null,
      "outputs": []
    },
    {
      "cell_type": "code",
      "source": [
        "import numpy as np\n",
        "import pandas as pd\n",
        "import spacy\n",
        "import os\n",
        "import matplotlib.pyplot as plt\n",
        "from spacy import displacy\n",
        "from future.utils import iteritems\n",
        "from sklearn.model_selection import train_test_split\n",
        "from sklearn.metrics import classification_report, f1_score\n",
        "from keras.models import Model\n",
        "from keras.layers import Input\n",
        "from keras.layers import LSTM, Embedding, Dense, TimeDistributed, Dropout, Bidirectional\n",
        "from keras.optimizers import AdamW\n",
        "from keras.metrics import CategoricalAccuracy\n",
        "from keras.preprocessing.sequence import pad_sequences\n",
        "from keras.utils import to_categorical\n",
        "import tensorflow.keras.backend as K"
      ],
      "metadata": {
        "execution": {
          "iopub.status.busy": "2024-04-14T16:44:30.278033Z",
          "iopub.execute_input": "2024-04-14T16:44:30.278893Z",
          "iopub.status.idle": "2024-04-14T16:44:30.285756Z",
          "shell.execute_reply.started": "2024-04-14T16:44:30.278860Z",
          "shell.execute_reply": "2024-04-14T16:44:30.284812Z"
        },
        "trusted": true,
        "id": "K9Burv-KhOaO"
      },
      "execution_count": null,
      "outputs": []
    },
    {
      "cell_type": "code",
      "source": [
        "for dirname, _, filenames in os.walk('/kaggle/input'):\n",
        "    for filename in filenames:\n",
        "        print(os.path.join(dirname, filename))"
      ],
      "metadata": {
        "execution": {
          "iopub.status.busy": "2024-04-14T16:44:30.432040Z",
          "iopub.execute_input": "2024-04-14T16:44:30.432622Z",
          "iopub.status.idle": "2024-04-14T16:44:30.450079Z",
          "shell.execute_reply.started": "2024-04-14T16:44:30.432593Z",
          "shell.execute_reply": "2024-04-14T16:44:30.449165Z"
        },
        "trusted": true,
        "id": "cbOw66p_hOaP",
        "outputId": "59789919-07cc-4fa0-a9b5-5f569005b1df"
      },
      "execution_count": null,
      "outputs": [
        {
          "name": "stdout",
          "text": "/kaggle/input/ner-data/ner.csv\n",
          "output_type": "stream"
        }
      ]
    },
    {
      "cell_type": "code",
      "source": [
        "df = pd.read_csv(\"/kaggle/input/ner-data/ner.csv\",\n",
        "                 encoding = \"ISO-8859-1\",\n",
        "                 on_bad_lines=\"skip\")\n",
        "df = df.ffill()"
      ],
      "metadata": {
        "id": "bijE3GCoH32l",
        "execution": {
          "iopub.status.busy": "2024-04-14T16:44:30.540302Z",
          "iopub.execute_input": "2024-04-14T16:44:30.540873Z",
          "iopub.status.idle": "2024-04-14T16:44:45.685220Z",
          "shell.execute_reply.started": "2024-04-14T16:44:30.540838Z",
          "shell.execute_reply": "2024-04-14T16:44:45.684389Z"
        },
        "trusted": true
      },
      "execution_count": null,
      "outputs": []
    },
    {
      "cell_type": "code",
      "source": [
        "df.columns"
      ],
      "metadata": {
        "colab": {
          "base_uri": "https://localhost:8080/"
        },
        "id": "V_hLOgidLhvz",
        "outputId": "26f78ca6-f7f6-47e2-ba39-581d2d44bc51",
        "execution": {
          "iopub.status.busy": "2024-04-14T16:44:45.686708Z",
          "iopub.execute_input": "2024-04-14T16:44:45.687001Z",
          "iopub.status.idle": "2024-04-14T16:44:45.694471Z",
          "shell.execute_reply.started": "2024-04-14T16:44:45.686974Z",
          "shell.execute_reply": "2024-04-14T16:44:45.693597Z"
        },
        "trusted": true
      },
      "execution_count": null,
      "outputs": [
        {
          "execution_count": 54,
          "output_type": "execute_result",
          "data": {
            "text/plain": "Index(['Unnamed: 0', 'lemma', 'next-lemma', 'next-next-lemma', 'next-next-pos',\n       'next-next-shape', 'next-next-word', 'next-pos', 'next-shape',\n       'next-word', 'pos', 'prev-iob', 'prev-lemma', 'prev-pos',\n       'prev-prev-iob', 'prev-prev-lemma', 'prev-prev-pos', 'prev-prev-shape',\n       'prev-prev-word', 'prev-shape', 'prev-word', 'sentence_idx', 'shape',\n       'word', 'tag'],\n      dtype='object')"
          },
          "metadata": {}
        }
      ]
    },
    {
      "cell_type": "code",
      "source": [
        "df = df.drop(['Unnamed: 0', 'lemma', 'next-lemma', 'next-next-lemma', 'next-next-pos',\n",
        "       'next-next-shape', 'next-next-word', 'next-pos', 'next-shape',\n",
        "       'next-word', 'prev-iob', 'prev-lemma', 'prev-pos',\n",
        "       'prev-prev-iob', 'prev-prev-lemma', 'prev-prev-pos', 'prev-prev-shape',\n",
        "       'prev-prev-word', 'prev-shape', 'prev-word', 'shape'],axis=1)"
      ],
      "metadata": {
        "id": "1RDQpKAuLl5j",
        "execution": {
          "iopub.status.busy": "2024-04-14T16:44:45.695599Z",
          "iopub.execute_input": "2024-04-14T16:44:45.695877Z",
          "iopub.status.idle": "2024-04-14T16:44:45.860266Z",
          "shell.execute_reply.started": "2024-04-14T16:44:45.695853Z",
          "shell.execute_reply": "2024-04-14T16:44:45.859440Z"
        },
        "trusted": true
      },
      "execution_count": null,
      "outputs": []
    },
    {
      "cell_type": "code",
      "source": [
        "df"
      ],
      "metadata": {
        "colab": {
          "base_uri": "https://localhost:8080/",
          "height": 423
        },
        "id": "7pbHXwXmL0v0",
        "outputId": "74c665b0-0148-4c72-84ee-3f475a7a413c",
        "execution": {
          "iopub.status.busy": "2024-04-14T16:44:45.862319Z",
          "iopub.execute_input": "2024-04-14T16:44:45.862634Z",
          "iopub.status.idle": "2024-04-14T16:44:45.877093Z",
          "shell.execute_reply.started": "2024-04-14T16:44:45.862608Z",
          "shell.execute_reply": "2024-04-14T16:44:45.876151Z"
        },
        "trusted": true
      },
      "execution_count": null,
      "outputs": [
        {
          "execution_count": 56,
          "output_type": "execute_result",
          "data": {
            "text/plain": "         pos  sentence_idx           word tag\n0        NNS           1.0      Thousands   O\n1         IN           1.0             of   O\n2        NNS           1.0  demonstrators   O\n3        VBP           1.0           have   O\n4        VBN           1.0        marched   O\n...      ...           ...            ...  ..\n1050790  PRP       47959.0           they   O\n1050791  VBD       47959.0      responded   O\n1050792   TO       47959.0             to   O\n1050793   DT       47959.0            the   O\n1050794   NN       47959.0         attack   O\n\n[1050795 rows x 4 columns]",
            "text/html": "<div>\n<style scoped>\n    .dataframe tbody tr th:only-of-type {\n        vertical-align: middle;\n    }\n\n    .dataframe tbody tr th {\n        vertical-align: top;\n    }\n\n    .dataframe thead th {\n        text-align: right;\n    }\n</style>\n<table border=\"1\" class=\"dataframe\">\n  <thead>\n    <tr style=\"text-align: right;\">\n      <th></th>\n      <th>pos</th>\n      <th>sentence_idx</th>\n      <th>word</th>\n      <th>tag</th>\n    </tr>\n  </thead>\n  <tbody>\n    <tr>\n      <th>0</th>\n      <td>NNS</td>\n      <td>1.0</td>\n      <td>Thousands</td>\n      <td>O</td>\n    </tr>\n    <tr>\n      <th>1</th>\n      <td>IN</td>\n      <td>1.0</td>\n      <td>of</td>\n      <td>O</td>\n    </tr>\n    <tr>\n      <th>2</th>\n      <td>NNS</td>\n      <td>1.0</td>\n      <td>demonstrators</td>\n      <td>O</td>\n    </tr>\n    <tr>\n      <th>3</th>\n      <td>VBP</td>\n      <td>1.0</td>\n      <td>have</td>\n      <td>O</td>\n    </tr>\n    <tr>\n      <th>4</th>\n      <td>VBN</td>\n      <td>1.0</td>\n      <td>marched</td>\n      <td>O</td>\n    </tr>\n    <tr>\n      <th>...</th>\n      <td>...</td>\n      <td>...</td>\n      <td>...</td>\n      <td>...</td>\n    </tr>\n    <tr>\n      <th>1050790</th>\n      <td>PRP</td>\n      <td>47959.0</td>\n      <td>they</td>\n      <td>O</td>\n    </tr>\n    <tr>\n      <th>1050791</th>\n      <td>VBD</td>\n      <td>47959.0</td>\n      <td>responded</td>\n      <td>O</td>\n    </tr>\n    <tr>\n      <th>1050792</th>\n      <td>TO</td>\n      <td>47959.0</td>\n      <td>to</td>\n      <td>O</td>\n    </tr>\n    <tr>\n      <th>1050793</th>\n      <td>DT</td>\n      <td>47959.0</td>\n      <td>the</td>\n      <td>O</td>\n    </tr>\n    <tr>\n      <th>1050794</th>\n      <td>NN</td>\n      <td>47959.0</td>\n      <td>attack</td>\n      <td>O</td>\n    </tr>\n  </tbody>\n</table>\n<p>1050795 rows × 4 columns</p>\n</div>"
          },
          "metadata": {}
        }
      ]
    },
    {
      "cell_type": "code",
      "source": [
        "df.info()"
      ],
      "metadata": {
        "colab": {
          "base_uri": "https://localhost:8080/"
        },
        "id": "apgsfxF-MzRD",
        "outputId": "fd6b3929-e9fd-46de-cab3-51f0c14986f8",
        "execution": {
          "iopub.status.busy": "2024-04-14T16:44:45.878203Z",
          "iopub.execute_input": "2024-04-14T16:44:45.878540Z",
          "iopub.status.idle": "2024-04-14T16:44:46.175856Z",
          "shell.execute_reply.started": "2024-04-14T16:44:45.878516Z",
          "shell.execute_reply": "2024-04-14T16:44:46.174725Z"
        },
        "trusted": true
      },
      "execution_count": null,
      "outputs": [
        {
          "name": "stdout",
          "text": "<class 'pandas.core.frame.DataFrame'>\nRangeIndex: 1050795 entries, 0 to 1050794\nData columns (total 4 columns):\n #   Column        Non-Null Count    Dtype  \n---  ------        --------------    -----  \n 0   pos           1050795 non-null  object \n 1   sentence_idx  1050795 non-null  float64\n 2   word          1050795 non-null  object \n 3   tag           1050795 non-null  object \ndtypes: float64(1), object(3)\nmemory usage: 32.1+ MB\n",
          "output_type": "stream"
        }
      ]
    },
    {
      "cell_type": "code",
      "source": [
        "df.head()"
      ],
      "metadata": {
        "colab": {
          "base_uri": "https://localhost:8080/",
          "height": 206
        },
        "id": "ZaxaOw5_O66E",
        "outputId": "8c046513-803d-41a8-ef3c-c07b73063b22",
        "execution": {
          "iopub.status.busy": "2024-04-14T16:44:46.176945Z",
          "iopub.execute_input": "2024-04-14T16:44:46.177253Z",
          "iopub.status.idle": "2024-04-14T16:44:46.187446Z",
          "shell.execute_reply.started": "2024-04-14T16:44:46.177225Z",
          "shell.execute_reply": "2024-04-14T16:44:46.186383Z"
        },
        "trusted": true
      },
      "execution_count": null,
      "outputs": [
        {
          "execution_count": 58,
          "output_type": "execute_result",
          "data": {
            "text/plain": "   pos  sentence_idx           word tag\n0  NNS           1.0      Thousands   O\n1   IN           1.0             of   O\n2  NNS           1.0  demonstrators   O\n3  VBP           1.0           have   O\n4  VBN           1.0        marched   O",
            "text/html": "<div>\n<style scoped>\n    .dataframe tbody tr th:only-of-type {\n        vertical-align: middle;\n    }\n\n    .dataframe tbody tr th {\n        vertical-align: top;\n    }\n\n    .dataframe thead th {\n        text-align: right;\n    }\n</style>\n<table border=\"1\" class=\"dataframe\">\n  <thead>\n    <tr style=\"text-align: right;\">\n      <th></th>\n      <th>pos</th>\n      <th>sentence_idx</th>\n      <th>word</th>\n      <th>tag</th>\n    </tr>\n  </thead>\n  <tbody>\n    <tr>\n      <th>0</th>\n      <td>NNS</td>\n      <td>1.0</td>\n      <td>Thousands</td>\n      <td>O</td>\n    </tr>\n    <tr>\n      <th>1</th>\n      <td>IN</td>\n      <td>1.0</td>\n      <td>of</td>\n      <td>O</td>\n    </tr>\n    <tr>\n      <th>2</th>\n      <td>NNS</td>\n      <td>1.0</td>\n      <td>demonstrators</td>\n      <td>O</td>\n    </tr>\n    <tr>\n      <th>3</th>\n      <td>VBP</td>\n      <td>1.0</td>\n      <td>have</td>\n      <td>O</td>\n    </tr>\n    <tr>\n      <th>4</th>\n      <td>VBN</td>\n      <td>1.0</td>\n      <td>marched</td>\n      <td>O</td>\n    </tr>\n  </tbody>\n</table>\n</div>"
          },
          "metadata": {}
        }
      ]
    },
    {
      "cell_type": "code",
      "source": [
        "words = list(set(df['word'].values))\n",
        "words.append(\"ENDPAD\")\n",
        "pos_tags = list(set(df['pos'].values))\n",
        "tags = list(set(df['tag'].values))\n",
        "words_encoded = {word: i for i, word in enumerate(words)}\n",
        "pos_encoded = {pos_tag: i for i, pos_tag in enumerate(pos_tags)}\n",
        "ner_tag_encoded = {tag: i for i, tag in enumerate(tags)}\n",
        "get_encoded_tag = {tag: i for i, tag in iteritems(ner_tag_encoded)}"
      ],
      "metadata": {
        "id": "qLuZ2mGOj0FF",
        "execution": {
          "iopub.status.busy": "2024-04-14T16:44:46.188479Z",
          "iopub.execute_input": "2024-04-14T16:44:46.188721Z",
          "iopub.status.idle": "2024-04-14T16:44:46.357295Z",
          "shell.execute_reply.started": "2024-04-14T16:44:46.188700Z",
          "shell.execute_reply": "2024-04-14T16:44:46.356525Z"
        },
        "trusted": true
      },
      "execution_count": null,
      "outputs": []
    },
    {
      "cell_type": "code",
      "source": [
        "def preprocess(df):\n",
        "    def combine(group):\n",
        "       return [(word, pos, tag) for word, pos, tag in zip(group['word'].values.tolist(),\n",
        "                                                          group['pos'].values.tolist(),\n",
        "                                                          group['tag'].values.tolist())]\n",
        "\n",
        "    df=df.groupby(['sentence_idx']).apply(combine, include_groups = True).reset_index().rename(columns={0:'combined'})\n",
        "    df['sentence']=df['combined'].apply(lambda sentence:\" \".join([s[0] for s in sentence]))\n",
        "    df['pos']=df['combined'].apply(lambda sentence:\" \".join([s[1] for s in sentence]))\n",
        "    df['tag']=df['combined'].apply(lambda sentence:\" \".join([s[2] for s in sentence]))\n",
        "    df['tag_list']=df['tag'].apply(lambda tag: tag.split())\n",
        "    df.drop(\"combined\", inplace=True, axis=1)\n",
        "    return df"
      ],
      "metadata": {
        "id": "IfC17lg3j0FG",
        "execution": {
          "iopub.status.busy": "2024-04-14T16:44:46.358572Z",
          "iopub.execute_input": "2024-04-14T16:44:46.358859Z",
          "iopub.status.idle": "2024-04-14T16:44:46.368354Z",
          "shell.execute_reply.started": "2024-04-14T16:44:46.358835Z",
          "shell.execute_reply": "2024-04-14T16:44:46.367373Z"
        },
        "trusted": true
      },
      "execution_count": null,
      "outputs": []
    },
    {
      "cell_type": "code",
      "source": [
        "df_preprocessed = preprocess(df)\n",
        "df_preprocessed.head()"
      ],
      "metadata": {
        "id": "eo0nqdyfj0FG",
        "outputId": "96c050e6-f576-48b2-c8af-4e457f299dbc",
        "execution": {
          "iopub.status.busy": "2024-04-14T16:44:46.369657Z",
          "iopub.execute_input": "2024-04-14T16:44:46.370367Z",
          "iopub.status.idle": "2024-04-14T16:44:51.411136Z",
          "shell.execute_reply.started": "2024-04-14T16:44:46.370295Z",
          "shell.execute_reply": "2024-04-14T16:44:51.410114Z"
        },
        "trusted": true
      },
      "execution_count": null,
      "outputs": [
        {
          "name": "stderr",
          "text": "/tmp/ipykernel_344/2065004039.py:7: DeprecationWarning: DataFrameGroupBy.apply operated on the grouping columns. This behavior is deprecated, and in a future version of pandas the grouping columns will be excluded from the operation. Either pass `include_groups=False` to exclude the groupings or explicitly select the grouping columns after groupby to silence this warning.\n  df=df.groupby(['sentence_idx']).apply(combine, include_groups = True).reset_index().rename(columns={0:'combined'})\n",
          "output_type": "stream"
        },
        {
          "execution_count": 61,
          "output_type": "execute_result",
          "data": {
            "text/plain": "   sentence_idx                                           sentence  \\\n0           1.0  Thousands of demonstrators have marched throug...   \n1           2.0  Families of soldiers killed in the conflict jo...   \n2           3.0  They marched from the Houses of Parliament to ...   \n3           4.0  Police put the number of marchers at 10,000 wh...   \n4           5.0  The protest comes on the eve of the annual con...   \n\n                                                 pos  \\\n0  NNS IN NNS VBP VBN IN NNP TO VB DT NN IN NNP C...   \n1  NNS IN NNS VBN IN DT NN VBD DT NNS WP VBD NNS ...   \n2  PRP VBD IN DT NNS IN NN TO DT NN IN NNP NNP . ...   \n3  NNS VBD DT NN IN NNS IN CD IN NNS VBD PRP VBD ...   \n4  DT NN VBZ IN DT NN IN DT JJ NN IN NNP POS VBG ...   \n\n                                                 tag  \\\n0  O O O O O O B-geo O O O O O B-geo O O O O O B-...   \n1  O O O O O O O O O O O O O O O O O O B-per O O ...   \n2  O O O O O O O O O O O B-geo I-geo O O O O O O ...   \n3  O O O O O O O O O O O O O O O O O O O O O O O ...   \n4  O O O O O O O O O O O B-geo O O B-org I-org O ...   \n\n                                            tag_list  \n0  [O, O, O, O, O, O, B-geo, O, O, O, O, O, B-geo...  \n1  [O, O, O, O, O, O, O, O, O, O, O, O, O, O, O, ...  \n2  [O, O, O, O, O, O, O, O, O, O, O, B-geo, I-geo...  \n3  [O, O, O, O, O, O, O, O, O, O, O, O, O, O, O, ...  \n4  [O, O, O, O, O, O, O, O, O, O, O, B-geo, O, O,...  ",
            "text/html": "<div>\n<style scoped>\n    .dataframe tbody tr th:only-of-type {\n        vertical-align: middle;\n    }\n\n    .dataframe tbody tr th {\n        vertical-align: top;\n    }\n\n    .dataframe thead th {\n        text-align: right;\n    }\n</style>\n<table border=\"1\" class=\"dataframe\">\n  <thead>\n    <tr style=\"text-align: right;\">\n      <th></th>\n      <th>sentence_idx</th>\n      <th>sentence</th>\n      <th>pos</th>\n      <th>tag</th>\n      <th>tag_list</th>\n    </tr>\n  </thead>\n  <tbody>\n    <tr>\n      <th>0</th>\n      <td>1.0</td>\n      <td>Thousands of demonstrators have marched throug...</td>\n      <td>NNS IN NNS VBP VBN IN NNP TO VB DT NN IN NNP C...</td>\n      <td>O O O O O O B-geo O O O O O B-geo O O O O O B-...</td>\n      <td>[O, O, O, O, O, O, B-geo, O, O, O, O, O, B-geo...</td>\n    </tr>\n    <tr>\n      <th>1</th>\n      <td>2.0</td>\n      <td>Families of soldiers killed in the conflict jo...</td>\n      <td>NNS IN NNS VBN IN DT NN VBD DT NNS WP VBD NNS ...</td>\n      <td>O O O O O O O O O O O O O O O O O O B-per O O ...</td>\n      <td>[O, O, O, O, O, O, O, O, O, O, O, O, O, O, O, ...</td>\n    </tr>\n    <tr>\n      <th>2</th>\n      <td>3.0</td>\n      <td>They marched from the Houses of Parliament to ...</td>\n      <td>PRP VBD IN DT NNS IN NN TO DT NN IN NNP NNP . ...</td>\n      <td>O O O O O O O O O O O B-geo I-geo O O O O O O ...</td>\n      <td>[O, O, O, O, O, O, O, O, O, O, O, B-geo, I-geo...</td>\n    </tr>\n    <tr>\n      <th>3</th>\n      <td>4.0</td>\n      <td>Police put the number of marchers at 10,000 wh...</td>\n      <td>NNS VBD DT NN IN NNS IN CD IN NNS VBD PRP VBD ...</td>\n      <td>O O O O O O O O O O O O O O O O O O O O O O O ...</td>\n      <td>[O, O, O, O, O, O, O, O, O, O, O, O, O, O, O, ...</td>\n    </tr>\n    <tr>\n      <th>4</th>\n      <td>5.0</td>\n      <td>The protest comes on the eve of the annual con...</td>\n      <td>DT NN VBZ IN DT NN IN DT JJ NN IN NNP POS VBG ...</td>\n      <td>O O O O O O O O O O O B-geo O O B-org I-org O ...</td>\n      <td>[O, O, O, O, O, O, O, O, O, O, O, B-geo, O, O,...</td>\n    </tr>\n  </tbody>\n</table>\n</div>"
          },
          "metadata": {}
        }
      ]
    },
    {
      "cell_type": "code",
      "source": [
        "sentences_list=df_preprocessed['sentence'].tolist()\n",
        "tags_list=df_preprocessed['tag_list'].tolist()\n",
        "for i, sentence in enumerate(sentences_list):\n",
        "    sentences_list[i] = sentences_list[i].split()\n",
        "print(sentences_list[0])\n",
        "print('\\n',tags_list[0])"
      ],
      "metadata": {
        "id": "LMrSjNevj0FG",
        "outputId": "54a0ded8-d8ab-41da-8191-0239e4080760",
        "execution": {
          "iopub.status.busy": "2024-04-14T16:44:51.414670Z",
          "iopub.execute_input": "2024-04-14T16:44:51.415192Z",
          "iopub.status.idle": "2024-04-14T16:44:51.554828Z",
          "shell.execute_reply.started": "2024-04-14T16:44:51.415163Z",
          "shell.execute_reply": "2024-04-14T16:44:51.553836Z"
        },
        "trusted": true
      },
      "execution_count": null,
      "outputs": [
        {
          "name": "stdout",
          "text": "['Thousands', 'of', 'demonstrators', 'have', 'marched', 'through', 'London', 'to', 'protest', 'the', 'war', 'in', 'Iraq', 'and', 'demand', 'the', 'withdrawal', 'of', 'British', 'troops', 'from', 'that', 'country', '.', 'Thousands', 'of', 'demonstrators', 'have', 'marched', 'through', 'London', 'to', 'protest', 'the', 'war', 'in', 'Iraq', 'and', 'demand', 'the', 'withdrawal', 'of', 'British', 'troops', 'from', 'that', 'country', '.']\n\n ['O', 'O', 'O', 'O', 'O', 'O', 'B-geo', 'O', 'O', 'O', 'O', 'O', 'B-geo', 'O', 'O', 'O', 'O', 'O', 'B-gpe', 'O', 'O', 'O', 'O', 'O', 'O', 'O', 'O', 'O', 'O', 'O', 'B-geo', 'O', 'O', 'O', 'O', 'O', 'B-geo', 'O', 'O', 'O', 'O', 'O', 'B-gpe', 'O', 'O', 'O', 'O', 'O']\n",
          "output_type": "stream"
        }
      ]
    },
    {
      "cell_type": "code",
      "source": [
        "encoded_tags=[[ner_tag_encoded[w] for w in tag] for tag in tags_list]\n",
        "encoded_sentences=[[words_encoded[w] for w in sentence] for sentence in sentences_list]"
      ],
      "metadata": {
        "id": "7A09sqb9j0FH",
        "execution": {
          "iopub.status.busy": "2024-04-14T16:44:51.556198Z",
          "iopub.execute_input": "2024-04-14T16:44:51.556594Z",
          "iopub.status.idle": "2024-04-14T16:44:52.332147Z",
          "shell.execute_reply.started": "2024-04-14T16:44:51.556557Z",
          "shell.execute_reply": "2024-04-14T16:44:52.331295Z"
        },
        "trusted": true
      },
      "execution_count": null,
      "outputs": []
    },
    {
      "cell_type": "code",
      "source": [
        "max_len = max(len(sentence) for sentence in encoded_sentences)\n",
        "print(max_len)\n",
        "padded_encoded_sentences=pad_sequences(maxlen=max_len,\n",
        "                                       sequences=encoded_sentences,\n",
        "                                       padding=\"post\",\n",
        "                                       value=len(words)-1)\n",
        "padded_encoded_tags=pad_sequences(maxlen=max_len,\n",
        "                                  sequences=encoded_tags,\n",
        "                                  padding=\"post\",\n",
        "                                  value=ner_tag_encoded['O'])"
      ],
      "metadata": {
        "id": "8clp18fij0FH",
        "execution": {
          "iopub.status.busy": "2024-04-14T16:44:52.333495Z",
          "iopub.execute_input": "2024-04-14T16:44:52.333790Z",
          "iopub.status.idle": "2024-04-14T16:44:52.755927Z",
          "shell.execute_reply.started": "2024-04-14T16:44:52.333765Z",
          "shell.execute_reply": "2024-04-14T16:44:52.755029Z"
        },
        "trusted": true,
        "outputId": "0f0c05ad-a563-4a99-fd9f-00f2c93b7575"
      },
      "execution_count": null,
      "outputs": [
        {
          "name": "stdout",
          "text": "140\n",
          "output_type": "stream"
        }
      ]
    },
    {
      "cell_type": "code",
      "source": [
        "target = [to_categorical(i,num_classes = len(tags)) for i in padded_encoded_tags]\n",
        "print(\"Shape of categorical labels for first input sequence: \",target[0].shape)\n",
        "print(\"Vocabulary size: \",len(words))"
      ],
      "metadata": {
        "id": "hlww4kYZj0FH",
        "outputId": "5b2c0026-1216-46e5-8f0e-191e2abb4120",
        "execution": {
          "iopub.status.busy": "2024-04-14T16:44:52.757107Z",
          "iopub.execute_input": "2024-04-14T16:44:52.757460Z",
          "iopub.status.idle": "2024-04-14T16:44:54.161544Z",
          "shell.execute_reply.started": "2024-04-14T16:44:52.757432Z",
          "shell.execute_reply": "2024-04-14T16:44:54.160521Z"
        },
        "trusted": true
      },
      "execution_count": null,
      "outputs": [
        {
          "name": "stdout",
          "text": "Shape of categorical labels for first input sequence:  (140, 17)\nVocabulary size:  30172\n",
          "output_type": "stream"
        }
      ]
    },
    {
      "cell_type": "code",
      "source": [
        "X_train, X_test, y_train, y_test = train_test_split(padded_encoded_sentences,\n",
        "                                                    target,\n",
        "                                                    test_size=0.2)"
      ],
      "metadata": {
        "id": "QO5CuWadUKNe",
        "execution": {
          "iopub.status.busy": "2024-04-14T16:44:54.162714Z",
          "iopub.execute_input": "2024-04-14T16:44:54.162995Z",
          "iopub.status.idle": "2024-04-14T16:44:54.224152Z",
          "shell.execute_reply.started": "2024-04-14T16:44:54.162971Z",
          "shell.execute_reply": "2024-04-14T16:44:54.223354Z"
        },
        "trusted": true
      },
      "execution_count": null,
      "outputs": []
    },
    {
      "cell_type": "code",
      "source": [
        "embedding_dim=128\n",
        "\n",
        "input = Input(shape=(max_len,))\n",
        "model = Embedding(input_dim=len(words), output_dim=embedding_dim)(input)\n",
        "model = Bidirectional(LSTM(units=128, return_sequences=True))(model)\n",
        "out = TimeDistributed(Dense(len(tags), activation=\"softmax\"))(model)\n",
        "model = Model(input, out)\n",
        "\n",
        "model_json = model.to_json()\n",
        "with open(\"lstm_model.json\", \"w\") as json_file:\n",
        "    json_file.write(model_json)\n",
        "model.save_weights(\"lstm_model_weights.weights.h5\")\n",
        "\n",
        "model.summary()"
      ],
      "metadata": {
        "colab": {
          "base_uri": "https://localhost:8080/"
        },
        "id": "FBYNqgi1UOg7",
        "outputId": "9a6844d6-629e-4d3c-d32c-2cb92a291d47",
        "execution": {
          "iopub.status.busy": "2024-04-14T16:44:54.225413Z",
          "iopub.execute_input": "2024-04-14T16:44:54.225716Z",
          "iopub.status.idle": "2024-04-14T16:44:54.348131Z",
          "shell.execute_reply.started": "2024-04-14T16:44:54.225690Z",
          "shell.execute_reply": "2024-04-14T16:44:54.347353Z"
        },
        "trusted": true
      },
      "execution_count": null,
      "outputs": [
        {
          "output_type": "display_data",
          "data": {
            "text/plain": "\u001b[1mModel: \"functional_5\"\u001b[0m\n",
            "text/html": "<pre style=\"white-space:pre;overflow-x:auto;line-height:normal;font-family:Menlo,'DejaVu Sans Mono',consolas,'Courier New',monospace\"><span style=\"font-weight: bold\">Model: \"functional_5\"</span>\n</pre>\n"
          },
          "metadata": {}
        },
        {
          "output_type": "display_data",
          "data": {
            "text/plain": "┏━━━━━━━━━━━━━━━━━━━━━━━━━━━━━━━━━┳━━━━━━━━━━━━━━━━━━━━━━━━┳━━━━━━━━━━━━━━━┓\n┃\u001b[1m \u001b[0m\u001b[1mLayer (type)                   \u001b[0m\u001b[1m \u001b[0m┃\u001b[1m \u001b[0m\u001b[1mOutput Shape          \u001b[0m\u001b[1m \u001b[0m┃\u001b[1m \u001b[0m\u001b[1m      Param #\u001b[0m\u001b[1m \u001b[0m┃\n┡━━━━━━━━━━━━━━━━━━━━━━━━━━━━━━━━━╇━━━━━━━━━━━━━━━━━━━━━━━━╇━━━━━━━━━━━━━━━┩\n│ input_layer_2 (\u001b[38;5;33mInputLayer\u001b[0m)      │ (\u001b[38;5;45mNone\u001b[0m, \u001b[38;5;34m140\u001b[0m)            │             \u001b[38;5;34m0\u001b[0m │\n├─────────────────────────────────┼────────────────────────┼───────────────┤\n│ embedding_2 (\u001b[38;5;33mEmbedding\u001b[0m)         │ (\u001b[38;5;45mNone\u001b[0m, \u001b[38;5;34m140\u001b[0m, \u001b[38;5;34m128\u001b[0m)       │     \u001b[38;5;34m3,862,016\u001b[0m │\n├─────────────────────────────────┼────────────────────────┼───────────────┤\n│ bidirectional_2 (\u001b[38;5;33mBidirectional\u001b[0m) │ (\u001b[38;5;45mNone\u001b[0m, \u001b[38;5;34m140\u001b[0m, \u001b[38;5;34m256\u001b[0m)       │       \u001b[38;5;34m263,168\u001b[0m │\n├─────────────────────────────────┼────────────────────────┼───────────────┤\n│ time_distributed_2              │ (\u001b[38;5;45mNone\u001b[0m, \u001b[38;5;34m140\u001b[0m, \u001b[38;5;34m17\u001b[0m)        │         \u001b[38;5;34m4,369\u001b[0m │\n│ (\u001b[38;5;33mTimeDistributed\u001b[0m)               │                        │               │\n└─────────────────────────────────┴────────────────────────┴───────────────┘\n",
            "text/html": "<pre style=\"white-space:pre;overflow-x:auto;line-height:normal;font-family:Menlo,'DejaVu Sans Mono',consolas,'Courier New',monospace\">┏━━━━━━━━━━━━━━━━━━━━━━━━━━━━━━━━━┳━━━━━━━━━━━━━━━━━━━━━━━━┳━━━━━━━━━━━━━━━┓\n┃<span style=\"font-weight: bold\"> Layer (type)                    </span>┃<span style=\"font-weight: bold\"> Output Shape           </span>┃<span style=\"font-weight: bold\">       Param # </span>┃\n┡━━━━━━━━━━━━━━━━━━━━━━━━━━━━━━━━━╇━━━━━━━━━━━━━━━━━━━━━━━━╇━━━━━━━━━━━━━━━┩\n│ input_layer_2 (<span style=\"color: #0087ff; text-decoration-color: #0087ff\">InputLayer</span>)      │ (<span style=\"color: #00d7ff; text-decoration-color: #00d7ff\">None</span>, <span style=\"color: #00af00; text-decoration-color: #00af00\">140</span>)            │             <span style=\"color: #00af00; text-decoration-color: #00af00\">0</span> │\n├─────────────────────────────────┼────────────────────────┼───────────────┤\n│ embedding_2 (<span style=\"color: #0087ff; text-decoration-color: #0087ff\">Embedding</span>)         │ (<span style=\"color: #00d7ff; text-decoration-color: #00d7ff\">None</span>, <span style=\"color: #00af00; text-decoration-color: #00af00\">140</span>, <span style=\"color: #00af00; text-decoration-color: #00af00\">128</span>)       │     <span style=\"color: #00af00; text-decoration-color: #00af00\">3,862,016</span> │\n├─────────────────────────────────┼────────────────────────┼───────────────┤\n│ bidirectional_2 (<span style=\"color: #0087ff; text-decoration-color: #0087ff\">Bidirectional</span>) │ (<span style=\"color: #00d7ff; text-decoration-color: #00d7ff\">None</span>, <span style=\"color: #00af00; text-decoration-color: #00af00\">140</span>, <span style=\"color: #00af00; text-decoration-color: #00af00\">256</span>)       │       <span style=\"color: #00af00; text-decoration-color: #00af00\">263,168</span> │\n├─────────────────────────────────┼────────────────────────┼───────────────┤\n│ time_distributed_2              │ (<span style=\"color: #00d7ff; text-decoration-color: #00d7ff\">None</span>, <span style=\"color: #00af00; text-decoration-color: #00af00\">140</span>, <span style=\"color: #00af00; text-decoration-color: #00af00\">17</span>)        │         <span style=\"color: #00af00; text-decoration-color: #00af00\">4,369</span> │\n│ (<span style=\"color: #0087ff; text-decoration-color: #0087ff\">TimeDistributed</span>)               │                        │               │\n└─────────────────────────────────┴────────────────────────┴───────────────┘\n</pre>\n"
          },
          "metadata": {}
        },
        {
          "output_type": "display_data",
          "data": {
            "text/plain": "\u001b[1m Total params: \u001b[0m\u001b[38;5;34m4,129,553\u001b[0m (15.75 MB)\n",
            "text/html": "<pre style=\"white-space:pre;overflow-x:auto;line-height:normal;font-family:Menlo,'DejaVu Sans Mono',consolas,'Courier New',monospace\"><span style=\"font-weight: bold\"> Total params: </span><span style=\"color: #00af00; text-decoration-color: #00af00\">4,129,553</span> (15.75 MB)\n</pre>\n"
          },
          "metadata": {}
        },
        {
          "output_type": "display_data",
          "data": {
            "text/plain": "\u001b[1m Trainable params: \u001b[0m\u001b[38;5;34m4,129,553\u001b[0m (15.75 MB)\n",
            "text/html": "<pre style=\"white-space:pre;overflow-x:auto;line-height:normal;font-family:Menlo,'DejaVu Sans Mono',consolas,'Courier New',monospace\"><span style=\"font-weight: bold\"> Trainable params: </span><span style=\"color: #00af00; text-decoration-color: #00af00\">4,129,553</span> (15.75 MB)\n</pre>\n"
          },
          "metadata": {}
        },
        {
          "output_type": "display_data",
          "data": {
            "text/plain": "\u001b[1m Non-trainable params: \u001b[0m\u001b[38;5;34m0\u001b[0m (0.00 B)\n",
            "text/html": "<pre style=\"white-space:pre;overflow-x:auto;line-height:normal;font-family:Menlo,'DejaVu Sans Mono',consolas,'Courier New',monospace\"><span style=\"font-weight: bold\"> Non-trainable params: </span><span style=\"color: #00af00; text-decoration-color: #00af00\">0</span> (0.00 B)\n</pre>\n"
          },
          "metadata": {}
        }
      ]
    },
    {
      "cell_type": "code",
      "source": [
        "def recall_metric(y_true, y_pred):\n",
        "    true_positives = K.sum(K.round(K.clip(y_true * y_pred, 0, 1)))\n",
        "    possible_positives = K.sum(K.round(K.clip(y_true, 0, 1)))\n",
        "    recall = true_positives / (possible_positives + K.epsilon())\n",
        "    return recall\n",
        "\n",
        "def precision_metric(y_true, y_pred):\n",
        "    true_positives = K.sum(K.round(K.clip(y_true * y_pred, 0, 1)))\n",
        "    predicted_positives = K.sum(K.round(K.clip(y_pred, 0, 1)))\n",
        "    precision = true_positives / (predicted_positives + K.epsilon())\n",
        "    return precision\n",
        "\n",
        "def f1_score_metric(y_true, y_pred):\n",
        "    precision = precision_metric(y_true, y_pred)\n",
        "    recall = recall_metric(y_true, y_pred)\n",
        "    return 2*((precision*recall)/(precision+recall+K.epsilon()))"
      ],
      "metadata": {
        "id": "WnGpfUfLj0FI",
        "execution": {
          "iopub.status.busy": "2024-04-14T16:44:54.349299Z",
          "iopub.execute_input": "2024-04-14T16:44:54.349619Z",
          "iopub.status.idle": "2024-04-14T16:44:54.358735Z",
          "shell.execute_reply.started": "2024-04-14T16:44:54.349593Z",
          "shell.execute_reply": "2024-04-14T16:44:54.357715Z"
        },
        "trusted": true
      },
      "execution_count": null,
      "outputs": []
    },
    {
      "cell_type": "code",
      "source": [
        "model.compile(optimizer=AdamW(learning_rate=1e-3),\n",
        "              loss=\"categorical_crossentropy\",\n",
        "              metrics=[CategoricalAccuracy(), f1_score_metric, precision_metric, recall_metric])\n",
        "\n",
        "history = model.fit(X_train, np.array(y_train),\n",
        "                    batch_size=256,\n",
        "                    epochs=10,\n",
        "                    validation_split=0.2,\n",
        "                    verbose=1)"
      ],
      "metadata": {
        "id": "oEQXOD1nj0FI",
        "outputId": "11f34c71-441d-4303-8b9a-7c7dc70305fc",
        "execution": {
          "iopub.status.busy": "2024-04-14T16:44:54.360087Z",
          "iopub.execute_input": "2024-04-14T16:44:54.361010Z",
          "iopub.status.idle": "2024-04-14T16:46:17.497973Z",
          "shell.execute_reply.started": "2024-04-14T16:44:54.360983Z",
          "shell.execute_reply": "2024-04-14T16:46:17.497122Z"
        },
        "trusted": true
      },
      "execution_count": null,
      "outputs": [
        {
          "name": "stdout",
          "text": "Epoch 1/10\n\u001b[1m88/88\u001b[0m \u001b[32m━━━━━━━━━━━━━━━━━━━━\u001b[0m\u001b[37m\u001b[0m \u001b[1m17s\u001b[0m 100ms/step - categorical_accuracy: 0.9126 - f1_score_metric: 0.8537 - loss: 0.4635 - precision_metric: 0.8734 - recall_metric: 0.8380 - val_categorical_accuracy: 0.9667 - val_f1_score_metric: 0.9707 - val_loss: 0.1252 - val_precision_metric: 0.9751 - val_recall_metric: 0.9664\nEpoch 2/10\n\u001b[1m88/88\u001b[0m \u001b[32m━━━━━━━━━━━━━━━━━━━━\u001b[0m\u001b[37m\u001b[0m \u001b[1m7s\u001b[0m 83ms/step - categorical_accuracy: 0.9702 - f1_score_metric: 0.9752 - loss: 0.1062 - precision_metric: 0.9834 - recall_metric: 0.9670 - val_categorical_accuracy: 0.9801 - val_f1_score_metric: 0.9817 - val_loss: 0.0722 - val_precision_metric: 0.9934 - val_recall_metric: 0.9702\nEpoch 3/10\n\u001b[1m88/88\u001b[0m \u001b[32m━━━━━━━━━━━━━━━━━━━━\u001b[0m\u001b[37m\u001b[0m \u001b[1m7s\u001b[0m 83ms/step - categorical_accuracy: 0.9839 - f1_score_metric: 0.9847 - loss: 0.0592 - precision_metric: 0.9949 - recall_metric: 0.9746 - val_categorical_accuracy: 0.9878 - val_f1_score_metric: 0.9879 - val_loss: 0.0450 - val_precision_metric: 0.9938 - val_recall_metric: 0.9821\nEpoch 4/10\n\u001b[1m88/88\u001b[0m \u001b[32m━━━━━━━━━━━━━━━━━━━━\u001b[0m\u001b[37m\u001b[0m \u001b[1m7s\u001b[0m 83ms/step - categorical_accuracy: 0.9901 - f1_score_metric: 0.9900 - loss: 0.0374 - precision_metric: 0.9952 - recall_metric: 0.9849 - val_categorical_accuracy: 0.9898 - val_f1_score_metric: 0.9901 - val_loss: 0.0353 - val_precision_metric: 0.9935 - val_recall_metric: 0.9867\nEpoch 5/10\n\u001b[1m88/88\u001b[0m \u001b[32m━━━━━━━━━━━━━━━━━━━━\u001b[0m\u001b[37m\u001b[0m \u001b[1m7s\u001b[0m 82ms/step - categorical_accuracy: 0.9924 - f1_score_metric: 0.9924 - loss: 0.0278 - precision_metric: 0.9955 - recall_metric: 0.9893 - val_categorical_accuracy: 0.9907 - val_f1_score_metric: 0.9909 - val_loss: 0.0314 - val_precision_metric: 0.9933 - val_recall_metric: 0.9886\nEpoch 6/10\n\u001b[1m88/88\u001b[0m \u001b[32m━━━━━━━━━━━━━━━━━━━━\u001b[0m\u001b[37m\u001b[0m \u001b[1m7s\u001b[0m 83ms/step - categorical_accuracy: 0.9938 - f1_score_metric: 0.9938 - loss: 0.0225 - precision_metric: 0.9959 - recall_metric: 0.9917 - val_categorical_accuracy: 0.9914 - val_f1_score_metric: 0.9916 - val_loss: 0.0286 - val_precision_metric: 0.9937 - val_recall_metric: 0.9894\nEpoch 7/10\n\u001b[1m88/88\u001b[0m \u001b[32m━━━━━━━━━━━━━━━━━━━━\u001b[0m\u001b[37m\u001b[0m \u001b[1m7s\u001b[0m 83ms/step - categorical_accuracy: 0.9946 - f1_score_metric: 0.9946 - loss: 0.0192 - precision_metric: 0.9962 - recall_metric: 0.9930 - val_categorical_accuracy: 0.9917 - val_f1_score_metric: 0.9919 - val_loss: 0.0277 - val_precision_metric: 0.9936 - val_recall_metric: 0.9902\nEpoch 8/10\n\u001b[1m88/88\u001b[0m \u001b[32m━━━━━━━━━━━━━━━━━━━━\u001b[0m\u001b[37m\u001b[0m \u001b[1m7s\u001b[0m 83ms/step - categorical_accuracy: 0.9954 - f1_score_metric: 0.9954 - loss: 0.0164 - precision_metric: 0.9966 - recall_metric: 0.9942 - val_categorical_accuracy: 0.9918 - val_f1_score_metric: 0.9921 - val_loss: 0.0274 - val_precision_metric: 0.9935 - val_recall_metric: 0.9907\nEpoch 9/10\n\u001b[1m88/88\u001b[0m \u001b[32m━━━━━━━━━━━━━━━━━━━━\u001b[0m\u001b[37m\u001b[0m \u001b[1m7s\u001b[0m 83ms/step - categorical_accuracy: 0.9959 - f1_score_metric: 0.9960 - loss: 0.0143 - precision_metric: 0.9969 - recall_metric: 0.9950 - val_categorical_accuracy: 0.9918 - val_f1_score_metric: 0.9920 - val_loss: 0.0284 - val_precision_metric: 0.9932 - val_recall_metric: 0.9908\nEpoch 10/10\n\u001b[1m88/88\u001b[0m \u001b[32m━━━━━━━━━━━━━━━━━━━━\u001b[0m\u001b[37m\u001b[0m \u001b[1m7s\u001b[0m 83ms/step - categorical_accuracy: 0.9964 - f1_score_metric: 0.9965 - loss: 0.0127 - precision_metric: 0.9973 - recall_metric: 0.9957 - val_categorical_accuracy: 0.9919 - val_f1_score_metric: 0.9921 - val_loss: 0.0281 - val_precision_metric: 0.9932 - val_recall_metric: 0.9910\n",
          "output_type": "stream"
        }
      ]
    },
    {
      "cell_type": "code",
      "source": [
        "\n",
        "plt.plot(history.history['categorical_accuracy'])\n",
        "plt.plot(history.history['val_categorical_accuracy'])\n",
        "plt.title('model accuracy')\n",
        "plt.ylabel('accuracy')\n",
        "plt.xlabel('epoch')\n",
        "plt.legend(['train', 'val'], loc='upper left')\n",
        "plt.show()"
      ],
      "metadata": {
        "id": "Ed2Eld2lj0FJ",
        "outputId": "64a66fd9-1a5d-4635-b290-a5b550c4deba",
        "execution": {
          "iopub.status.busy": "2024-04-14T16:46:17.499803Z",
          "iopub.execute_input": "2024-04-14T16:46:17.500468Z",
          "iopub.status.idle": "2024-04-14T16:46:17.796314Z",
          "shell.execute_reply.started": "2024-04-14T16:46:17.500431Z",
          "shell.execute_reply": "2024-04-14T16:46:17.795401Z"
        },
        "trusted": true
      },
      "execution_count": null,
      "outputs": [
        {
          "output_type": "display_data",
          "data": {
            "text/plain": "<Figure size 640x480 with 1 Axes>",
            "image/png": "[encoded data removed]"
          },
          "metadata": {}
        }
      ]
    },
    {
      "cell_type": "code",
      "source": [
        "plt.plot(history.history['loss'])\n",
        "plt.plot(history.history['val_loss'])\n",
        "plt.title('loss')\n",
        "plt.ylabel('loss value')\n",
        "plt.xlabel('epoch')\n",
        "plt.legend(['train', 'val'], loc='upper left')\n",
        "plt.show()"
      ],
      "metadata": {
        "id": "xCjRZLrfj0FJ",
        "outputId": "f4c61571-79f6-4dd8-9d35-7d7c5fba1b99",
        "execution": {
          "iopub.status.busy": "2024-04-14T16:46:17.797730Z",
          "iopub.execute_input": "2024-04-14T16:46:17.798370Z",
          "iopub.status.idle": "2024-04-14T16:46:17.992388Z",
          "shell.execute_reply.started": "2024-04-14T16:46:17.798312Z",
          "shell.execute_reply": "2024-04-14T16:46:17.991468Z"
        },
        "trusted": true
      },
      "execution_count": null,
      "outputs": [
        {
          "output_type": "display_data",
          "data": {
            "text/plain": "<Figure size 640x480 with 1 Axes>",
            "image/png": "[encoded data removed]"
          },
          "metadata": {}
        }
      ]
    },
    {
      "cell_type": "code",
      "source": [
        "plt.plot(history.history['f1_score_metric'])\n",
        "plt.plot(history.history['val_f1_score_metric'])\n",
        "\n",
        "plt.title('f1-score')\n",
        "plt.ylabel('f1-score value')\n",
        "plt.xlabel('epoch')\n",
        "plt.legend(['train', 'val'], loc='upper left')\n",
        "plt.show()"
      ],
      "metadata": {
        "id": "vztDbtSDj0FJ",
        "outputId": "6adb1291-eb6b-4d55-de21-ce8a8656d676",
        "execution": {
          "iopub.status.busy": "2024-04-14T16:46:17.993779Z",
          "iopub.execute_input": "2024-04-14T16:46:17.994448Z",
          "iopub.status.idle": "2024-04-14T16:46:18.278992Z",
          "shell.execute_reply.started": "2024-04-14T16:46:17.994411Z",
          "shell.execute_reply": "2024-04-14T16:46:18.278058Z"
        },
        "trusted": true
      },
      "execution_count": null,
      "outputs": [
        {
          "output_type": "display_data",
          "data": {
            "text/plain": "<Figure size 640x480 with 1 Axes>",
            "image/png": "[encoded data removed]"
          },
          "metadata": {}
        }
      ]
    },
    {
      "cell_type": "code",
      "source": [
        "model.evaluate(X_test, np.asarray(y_test))"
      ],
      "metadata": {
        "colab": {
          "base_uri": "https://localhost:8080/"
        },
        "id": "dhCabrftoNez",
        "outputId": "0e4d5686-a8e5-40ec-e909-e11dd995c4e7",
        "execution": {
          "iopub.status.busy": "2024-04-14T16:46:18.280408Z",
          "iopub.execute_input": "2024-04-14T16:46:18.280838Z",
          "iopub.status.idle": "2024-04-14T16:46:21.216890Z",
          "shell.execute_reply.started": "2024-04-14T16:46:18.280811Z",
          "shell.execute_reply": "2024-04-14T16:46:21.215864Z"
        },
        "trusted": true
      },
      "execution_count": null,
      "outputs": [
        {
          "name": "stdout",
          "text": "\u001b[1m220/220\u001b[0m \u001b[32m━━━━━━━━━━━━━━━━━━━━\u001b[0m\u001b[37m\u001b[0m \u001b[1m3s\u001b[0m 13ms/step - categorical_accuracy: 0.9924 - f1_score_metric: 0.9926 - loss: 0.0264 - precision_metric: 0.9937 - recall_metric: 0.9915\n",
          "output_type": "stream"
        },
        {
          "execution_count": 73,
          "output_type": "execute_result",
          "data": {
            "text/plain": "[0.026350269094109535,\n 0.9924156069755554,\n 0.9926111102104187,\n 0.9937124252319336,\n 0.9915114045143127]"
          },
          "metadata": {}
        }
      ]
    },
    {
      "cell_type": "code",
      "source": [
        "preds=model.predict(X_test)"
      ],
      "metadata": {
        "id": "3IY1chUUj0FJ",
        "outputId": "6e2ccaaf-272d-4f48-9e9a-56511b1914e7",
        "execution": {
          "iopub.status.busy": "2024-04-14T16:46:21.218280Z",
          "iopub.execute_input": "2024-04-14T16:46:21.218665Z",
          "iopub.status.idle": "2024-04-14T16:46:26.041400Z",
          "shell.execute_reply.started": "2024-04-14T16:46:21.218635Z",
          "shell.execute_reply": "2024-04-14T16:46:26.040563Z"
        },
        "trusted": true
      },
      "execution_count": null,
      "outputs": [
        {
          "name": "stdout",
          "text": "\u001b[1m220/220\u001b[0m \u001b[32m━━━━━━━━━━━━━━━━━━━━\u001b[0m\u001b[37m\u001b[0m \u001b[1m5s\u001b[0m 16ms/step\n",
          "output_type": "stream"
        }
      ]
    },
    {
      "cell_type": "code",
      "source": [
        "def convert_tags(test_data, preds, actual_preds):\n",
        "    pred_tokens = []\n",
        "    actual_tags = []\n",
        "    pred_tags = []\n",
        "    for i, data in enumerate(test_data):\n",
        "        tokens = [words[x] if x != 0 else '<PAD>' for x in list(data)]\n",
        "        actual_tags.extend([get_encoded_tag[x] for x in list(actual_preds[i])])\n",
        "        pred_tags.extend([get_encoded_tag[x] for x in list(preds[i])])\n",
        "        pred_tokens.extend(tokens)\n",
        "    non_pad_indices = [i for i, token in enumerate(pred_tokens) if token != '<PAD>']\n",
        "    actual_tags = [actual_tags[i] for i in non_pad_indices]\n",
        "    pred_tags = [pred_tags[i] for i in non_pad_indices]\n",
        "    return pred_tags, actual_tags"
      ],
      "metadata": {
        "id": "MijrweMLj0FK",
        "execution": {
          "iopub.status.busy": "2024-04-14T16:46:26.043156Z",
          "iopub.execute_input": "2024-04-14T16:46:26.043550Z",
          "iopub.status.idle": "2024-04-14T16:46:26.051277Z",
          "shell.execute_reply.started": "2024-04-14T16:46:26.043515Z",
          "shell.execute_reply": "2024-04-14T16:46:26.050381Z"
        },
        "trusted": true
      },
      "execution_count": null,
      "outputs": []
    },
    {
      "cell_type": "code",
      "source": [
        "def get_labels(preds, labels):\n",
        "    return np.argmax(preds, axis = 2), np.argmax(labels, axis = 2)"
      ],
      "metadata": {
        "id": "5KvkERNSj0FK",
        "execution": {
          "iopub.status.busy": "2024-04-14T16:46:26.052401Z",
          "iopub.execute_input": "2024-04-14T16:46:26.052636Z",
          "iopub.status.idle": "2024-04-14T16:46:26.060004Z",
          "shell.execute_reply.started": "2024-04-14T16:46:26.052615Z",
          "shell.execute_reply": "2024-04-14T16:46:26.059090Z"
        },
        "trusted": true
      },
      "execution_count": null,
      "outputs": []
    },
    {
      "cell_type": "code",
      "source": [
        "preds_argmax, y_test_argmax = get_labels(preds, y_test)\n",
        "y_pred_converted, y_test_converted = convert_tags(X_test,\n",
        "                                                  preds_argmax,\n",
        "                                                  np.array(y_test_argmax))"
      ],
      "metadata": {
        "id": "vLxlBjgzj0FK",
        "execution": {
          "iopub.status.busy": "2024-04-14T16:46:26.061239Z",
          "iopub.execute_input": "2024-04-14T16:46:26.061908Z",
          "iopub.status.idle": "2024-04-14T16:46:29.745834Z",
          "shell.execute_reply.started": "2024-04-14T16:46:26.061876Z",
          "shell.execute_reply": "2024-04-14T16:46:29.744987Z"
        },
        "trusted": true
      },
      "execution_count": null,
      "outputs": []
    },
    {
      "cell_type": "code",
      "source": [
        "print(classification_report(y_test_converted, y_pred_converted))\n",
        "f1Score = f1_score(y_test_converted, y_pred_converted, average='weighted')\n",
        "print(\"f1 score on testing set: \", f1Score)"
      ],
      "metadata": {
        "id": "tN_KH5ForIkV",
        "outputId": "e09972be-0af3-4238-9ac7-dc50c1b2f515",
        "execution": {
          "iopub.status.busy": "2024-04-14T16:46:29.747002Z",
          "iopub.execute_input": "2024-04-14T16:46:29.747298Z",
          "iopub.status.idle": "2024-04-14T16:46:47.981482Z",
          "shell.execute_reply.started": "2024-04-14T16:46:29.747273Z",
          "shell.execute_reply": "2024-04-14T16:46:47.980506Z"
        },
        "trusted": true
      },
      "execution_count": null,
      "outputs": [
        {
          "name": "stderr",
          "text": "/opt/conda/lib/python3.10/site-packages/sklearn/metrics/_classification.py:1344: UndefinedMetricWarning: Precision and F-score are ill-defined and being set to 0.0 in labels with no predicted samples. Use `zero_division` parameter to control this behavior.\n  _warn_prf(average, modifier, msg_start, len(result))\n/opt/conda/lib/python3.10/site-packages/sklearn/metrics/_classification.py:1344: UndefinedMetricWarning: Precision and F-score are ill-defined and being set to 0.0 in labels with no predicted samples. Use `zero_division` parameter to control this behavior.\n  _warn_prf(average, modifier, msg_start, len(result))\n/opt/conda/lib/python3.10/site-packages/sklearn/metrics/_classification.py:1344: UndefinedMetricWarning: Precision and F-score are ill-defined and being set to 0.0 in labels with no predicted samples. Use `zero_division` parameter to control this behavior.\n  _warn_prf(average, modifier, msg_start, len(result))\n",
          "output_type": "stream"
        },
        {
          "name": "stdout",
          "text": "              precision    recall  f1-score   support\n\n       B-art       0.00      0.00      0.00        82\n       B-eve       0.46      0.09      0.15        65\n       B-geo       0.84      0.88      0.86      7632\n       B-gpe       0.95      0.91      0.93      3271\n       B-nat       0.00      0.00      0.00        32\n       B-org       0.81      0.67      0.73      4141\n       B-per       0.84      0.75      0.79      3197\n       B-tim       0.91      0.86      0.89      3977\n       I-art       0.00      0.00      0.00        50\n       I-eve       0.00      0.00      0.00        71\n       I-geo       0.78      0.78      0.78      1457\n       I-gpe       0.00      0.00      0.00        54\n       I-nat       0.00      0.00      0.00         7\n       I-org       0.80      0.71      0.75      3229\n       I-per       0.83      0.86      0.84      3267\n       I-tim       0.79      0.69      0.74      1270\n           O       1.00      1.00      1.00    953238\n\n    accuracy                           0.99    985040\n   macro avg       0.53      0.48      0.50    985040\nweighted avg       0.99      0.99      0.99    985040\n\nf1 score on testing set:  0.992067681118285\n",
          "output_type": "stream"
        }
      ]
    },
    {
      "cell_type": "code",
      "source": [
        "for i in range(0, 5):\n",
        "  text = X_test[i]\n",
        "  p = model.predict(np.array([text]))\n",
        "  p = np.argmax(p, axis=-1)\n",
        "  gt = np.argmax(y_test[i], axis=-1)\n",
        "  print(\"Test sentence:\", i+1)\n",
        "  print(\"{:14} {:5}: \\t{}\".format(\"Word\",\n",
        "                                  \"True NER Labels\",\n",
        "                                  \"Predicted NER labels\"))\n",
        "  for idx, (w,pred) in enumerate(zip(X_test[i],p[0])):\n",
        "      if words[w] != \"ENDPAD\":\n",
        "          print(\"{:14} {:5} \\t\\t\\t{}\".format(words[w],\n",
        "                                             get_encoded_tag[gt[idx]],\n",
        "                                             tags[pred]))\n",
        "  print(\"\\n\")"
      ],
      "metadata": {
        "colab": {
          "base_uri": "https://localhost:8080/"
        },
        "id": "kNMZYxPAaAaB",
        "outputId": "17eb80da-0ec9-4a2d-ee13-1e6cac86b214",
        "execution": {
          "iopub.status.busy": "2024-04-14T16:46:47.982915Z",
          "iopub.execute_input": "2024-04-14T16:46:47.983591Z",
          "iopub.status.idle": "2024-04-14T16:46:48.337482Z",
          "shell.execute_reply.started": "2024-04-14T16:46:47.983553Z",
          "shell.execute_reply": "2024-04-14T16:46:48.336566Z"
        },
        "trusted": true
      },
      "execution_count": null,
      "outputs": [
        {
          "name": "stdout",
          "text": "\u001b[1m1/1\u001b[0m \u001b[32m━━━━━━━━━━━━━━━━━━━━\u001b[0m\u001b[37m\u001b[0m \u001b[1m0s\u001b[0m 38ms/step\nTest sentence: 1\nWord           True NER Labels: \tPredicted NER labels\nIt             O     \t\t\tO\nis             O     \t\t\tO\nnot            O     \t\t\tO\nclear          O     \t\t\tO\nwhat           O     \t\t\tO\nthe            O     \t\t\tO\nfamilies       O     \t\t\tO\n'              O     \t\t\tO\nintentions     O     \t\t\tO\nare            O     \t\t\tO\n.              O     \t\t\tO\n\n\n\u001b[1m1/1\u001b[0m \u001b[32m━━━━━━━━━━━━━━━━━━━━\u001b[0m\u001b[37m\u001b[0m \u001b[1m0s\u001b[0m 23ms/step\nTest sentence: 2\nWord           True NER Labels: \tPredicted NER labels\nOn             O     \t\t\tO\nFriday         B-tim \t\t\tB-tim\n,              O     \t\t\tO\nthe            O     \t\t\tO\nUnited         B-org \t\t\tB-org\nNations        I-org \t\t\tI-org\nSecurity       I-org \t\t\tI-org\nCouncil        I-org \t\t\tI-org\nbacked         O     \t\t\tO\na              O     \t\t\tO\nstatement      O     \t\t\tO\nfrom           O     \t\t\tO\nSecretary-General B-org \t\t\tO\nKofi           B-per \t\t\tB-per\nAnnan          I-per \t\t\tI-per\nwarning        O     \t\t\tO\nIran           B-geo \t\t\tB-geo\nthat           O     \t\t\tO\nthreats        O     \t\t\tO\nagainst        O     \t\t\tO\nanother        O     \t\t\tO\ncountry        O     \t\t\tO\nviolate        O     \t\t\tO\nthe            O     \t\t\tO\nU.N.           B-geo \t\t\tB-org\ncharter        O     \t\t\tO\n.              O     \t\t\tO\n\n\n\u001b[1m1/1\u001b[0m \u001b[32m━━━━━━━━━━━━━━━━━━━━\u001b[0m\u001b[37m\u001b[0m \u001b[1m0s\u001b[0m 22ms/step\nTest sentence: 3\nWord           True NER Labels: \tPredicted NER labels\nShi'ite        O     \t\t\tO\nMuslim         O     \t\t\tO\nleaders        O     \t\t\tO\nhave           O     \t\t\tO\nappealed       O     \t\t\tO\nfor            O     \t\t\tO\ncalm           O     \t\t\tO\n,              O     \t\t\tO\nsaying         O     \t\t\tO\nsuch           O     \t\t\tO\nattacks        O     \t\t\tO\nare            O     \t\t\tO\nclearly        O     \t\t\tO\nattempts       O     \t\t\tO\nto             O     \t\t\tO\nignite         O     \t\t\tO\nsectarian      O     \t\t\tO\nviolence       O     \t\t\tO\nand            O     \t\t\tO\nprevent        O     \t\t\tO\nIraq           B-geo \t\t\tB-geo\n's             O     \t\t\tO\nfirst          O     \t\t\tO\npost-Saddam    O     \t\t\tO\nelections      O     \t\t\tO\n,              O     \t\t\tO\nscheduled      O     \t\t\tO\nto             O     \t\t\tO\ntake           O     \t\t\tO\nplace          O     \t\t\tO\nin             O     \t\t\tO\nsix            B-tim \t\t\tB-tim\nweeks          O     \t\t\tO\n,              O     \t\t\tO\non             O     \t\t\tO\nJanuary        B-tim \t\t\tB-tim\n30             I-tim \t\t\tI-tim\n.              O     \t\t\tO\nShi'ite        O     \t\t\tO\nMuslim         O     \t\t\tO\nleaders        O     \t\t\tO\nhave           O     \t\t\tO\nappealed       O     \t\t\tO\nfor            O     \t\t\tO\ncalm           O     \t\t\tO\n,              O     \t\t\tO\nsaying         O     \t\t\tO\nsuch           O     \t\t\tO\nattacks        O     \t\t\tO\nare            O     \t\t\tO\nclearly        O     \t\t\tO\nattempts       O     \t\t\tO\nto             O     \t\t\tO\nignite         O     \t\t\tO\nsectarian      O     \t\t\tO\nviolence       O     \t\t\tO\nand            O     \t\t\tO\nprevent        O     \t\t\tO\nIraq           B-geo \t\t\tB-geo\n's             O     \t\t\tO\nfirst          O     \t\t\tO\npost-Saddam    O     \t\t\tO\nelections      O     \t\t\tO\n,              O     \t\t\tO\nscheduled      O     \t\t\tO\nto             O     \t\t\tO\ntake           O     \t\t\tO\nplace          O     \t\t\tO\nin             O     \t\t\tO\nsix            B-tim \t\t\tB-tim\nweeks          O     \t\t\tO\n,              O     \t\t\tO\non             O     \t\t\tO\nJanuary        B-tim \t\t\tB-tim\n30             I-tim \t\t\tI-tim\n.              O     \t\t\tO\n\n\n\u001b[1m1/1\u001b[0m \u001b[32m━━━━━━━━━━━━━━━━━━━━\u001b[0m\u001b[37m\u001b[0m \u001b[1m0s\u001b[0m 22ms/step\nTest sentence: 4\nWord           True NER Labels: \tPredicted NER labels\nPolice         O     \t\t\tO\nsay            O     \t\t\tO\nat             O     \t\t\tO\nleast          O     \t\t\tO\ntwo            O     \t\t\tO\nof             O     \t\t\tO\nthe            O     \t\t\tO\nsuspected      O     \t\t\tO\nmilitants      O     \t\t\tO\nwere           O     \t\t\tO\nstudents       O     \t\t\tO\nat             O     \t\t\tO\na              O     \t\t\tO\nlocal          O     \t\t\tO\nseminary       O     \t\t\tO\n,              O     \t\t\tO\nand            O     \t\t\tO\nhad            O     \t\t\tO\nlinks          O     \t\t\tO\nto             O     \t\t\tO\nSipah-e-Sahaba B-geo \t\t\tO\n,              O     \t\t\tO\nan             O     \t\t\tO\noutlawed       O     \t\t\tO\nSunni          B-per \t\t\tB-per\nMuslim         I-per \t\t\tI-org\ngroup          O     \t\t\tO\n.              O     \t\t\tO\nPolice         O     \t\t\tO\nsay            O     \t\t\tO\nat             O     \t\t\tO\nleast          O     \t\t\tO\ntwo            O     \t\t\tO\nof             O     \t\t\tO\nthe            O     \t\t\tO\nsuspected      O     \t\t\tO\nmilitants      O     \t\t\tO\nwere           O     \t\t\tO\nstudents       O     \t\t\tO\nat             O     \t\t\tO\na              O     \t\t\tO\nlocal          O     \t\t\tO\nseminary       O     \t\t\tO\n,              O     \t\t\tO\nand            O     \t\t\tO\nhad            O     \t\t\tO\nlinks          O     \t\t\tO\nto             O     \t\t\tO\nSipah-e-Sahaba B-geo \t\t\tO\n,              O     \t\t\tO\nan             O     \t\t\tO\noutlawed       O     \t\t\tO\nSunni          B-per \t\t\tB-per\nMuslim         I-per \t\t\tI-org\ngroup          O     \t\t\tO\n.              O     \t\t\tO\n\n\n\u001b[1m1/1\u001b[0m \u001b[32m━━━━━━━━━━━━━━━━━━━━\u001b[0m\u001b[37m\u001b[0m \u001b[1m0s\u001b[0m 23ms/step\nTest sentence: 5\nWord           True NER Labels: \tPredicted NER labels\nTaiwan         B-org \t\t\tB-geo\nsays           O     \t\t\tO\nit             O     \t\t\tO\nis             O     \t\t\tO\na              O     \t\t\tO\nsovereign      O     \t\t\tO\n,              O     \t\t\tO\nindependent    O     \t\t\tO\nstate          O     \t\t\tO\nofficially     O     \t\t\tO\ncalled         O     \t\t\tO\nthe            O     \t\t\tO\nRepublic       B-geo \t\t\tB-geo\nof             O     \t\t\tI-geo\nChina          B-geo \t\t\tB-geo\n.              O     \t\t\tO\n\n\n",
          "output_type": "stream"
        }
      ]
    },
    {
      "cell_type": "code",
      "source": [
        "# Try to get this working\n",
        "\n",
        "# # nlp = spacy.load(\"en_core_web_sm\")\n",
        "# from keras.models import model_from_json\n",
        "# # Load the saved model architecture from JSON\n",
        "# with open(\"lstm_model.json\", \"r\") as json_file:\n",
        "#     loaded_model_json = json_file.read()\n",
        "\n",
        "# loaded_model = model_from_json(loaded_model_json)\n",
        "# # loaded_model.load_weights(\"lstm_model_weights.weights.h5\")\n",
        "\n",
        "# Visualize NER tagging on test set examples with spacy\n",
        "# nlp = spacy.load(\"en_core_web_sm\")\n",
        "# nlp_entity = spacy.load(\"lstm_model.json\")\n",
        "# nlp.add_pipe(\"ner\", source=loaded_model)\n",
        "# for i in range(0, 5):\n",
        "#   text = X_test[i]\n",
        "#   spacy_str = []\n",
        "#   for w in text:\n",
        "#     if words[w] != \"ENDPAD\":\n",
        "#       spacy_str.append(words[w])\n",
        "#   spacy_str = ' '.join(spacy_str)\n",
        "#   doc = nlp(str(spacy_str))\n",
        "#   print(\"{}. \".format(i+1))\n",
        "#   displacy.render(doc, style=\"ent\")\n",
        "#   print(\"\\n\")"
      ],
      "metadata": {
        "id": "6kYAPtbRbjvl",
        "execution": {
          "iopub.status.busy": "2024-04-14T16:49:26.203565Z",
          "iopub.execute_input": "2024-04-14T16:49:26.203994Z",
          "iopub.status.idle": "2024-04-14T16:49:26.209572Z",
          "shell.execute_reply.started": "2024-04-14T16:49:26.203962Z",
          "shell.execute_reply": "2024-04-14T16:49:26.208398Z"
        },
        "trusted": true
      },
      "execution_count": null,
      "outputs": []
    }
  ]
}