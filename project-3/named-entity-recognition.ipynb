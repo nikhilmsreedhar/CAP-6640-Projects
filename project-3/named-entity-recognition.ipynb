{
 "metadata": {
  "kernelspec": {
   "language": "python",
   "display_name": "Python 3",
   "name": "python3"
  },
  "language_info": {
   "name": "python",
   "version": "3.7.10",
   "mimetype": "text/x-python",
   "codemirror_mode": {
    "name": "ipython",
    "version": 3
   },
   "pygments_lexer": "ipython3",
   "nbconvert_exporter": "python",
   "file_extension": ".py"
  },
  "kaggle": {
   "accelerator": "gpu",
   "dataSources": [
    {
     "sourceId": 17777,
     "databundleVersionId": 869809,
     "sourceType": "competition"
    },
    {
     "sourceId": 19018,
     "databundleVersionId": 2703900,
     "sourceType": "competition"
    },
    {
     "sourceId": 4361,
     "sourceType": "datasetVersion",
     "datasetId": 1014
    },
    {
     "sourceId": 2435399,
     "sourceType": "datasetVersion",
     "datasetId": 1473411
    },
    {
     "sourceId": 2563880,
     "sourceType": "datasetVersion",
     "datasetId": 1556141
    },
    {
     "sourceId": 2730445,
     "sourceType": "datasetVersion",
     "datasetId": 1167113
    },
    {
     "sourceId": 7966136,
     "sourceType": "datasetVersion",
     "datasetId": 4686884
    }
   ],
   "dockerImageVersionId": 30121,
   "isInternetEnabled": true,
   "language": "python",
   "sourceType": "notebook",
   "isGpuEnabled": true
  }
 },
 "nbformat_minor": 4,
 "nbformat": 4,
 "cells": [
  {
   "cell_type": "markdown",
   "source": [
    "<div class=\"heading\">\n",
    "   <h1>Content</span></h1>\n",
    "</div>\n",
    "\n",
    "* [Named-Entity Recognition (NER) - Intro and Concept](#topic1)\n",
    "* [Applications](#topic2)\n",
    "* [POS Tagging](#topic3)\n",
    "* [Chunking](#topic4)\n",
    "* [IOB Tags](#topic5)\n",
    "* [Extracting Named Entities (NLTK)](#topic6)\n",
    "* [spaCy Named Entity Recognition](#topic7)\n",
    "* [Visualizing Named Entities (spaCy)](#topic8)\n",
    "* [NER BERT Hugging Face](#topic9)\n",
    "* [NER BERT Finetuning Existing Model](#topic10)\n",
    "* [Other Usefull Resources and References](#topic11)"
   ],
   "metadata": {}
  },
  {
   "cell_type": "markdown",
   "source": [
    "<a id =topic1> </a>\n",
    "<div class=\"heading\">\n",
    "   <h1><span style=\"color: white\">Named-Entity Recognition (NER)</span></h1>\n",
    "</div>\n",
    "<div class=\"content\">\n",
    "\n",
    "<b>Named-entity recognition (NER) is a problem that has a goal to locate and classify named entities mentioned in unstructured text into pre-defined categories such as person names, organizations, locations, medical codes, time expressions, etc.</b>\n",
    "<br><br>\n",
    "NER is used in many fields in NPL and it can help to answer some questions such as:\n",
    "<ul>\n",
    "<li>Which companies and persons are mentioned in the documents?\n",
    "<li>In which articles or posts is specified product mentioned?\n",
    "<li>Does the article contain medical terms and which ones?\n",
    "</ul>\n",
    "\n",
    "State-of-the-art NER systems for English produce near-human performance where the best system scored 93.39% of F-measure while human annotators have a score around 97%.\n",
    "<br><br>\n",
    "Named-entity recognition is often broken down into two distinct problems:\n",
    "<ul>\n",
    "<li>Detection of names\n",
    "<li>Classification of the names by the type of entity they refer to (person, organization or location)\n",
    "</ul>\n",
    "<u>Detection of names</u> is typical simplified to a segmentation problem where a single name might be constructed of several substrings. For example \"Bank of America\" is a single name despite that the substring \"America\" is itself a name. \n",
    "<u>Classification of names</u> requires choosing an ontology by which to organize categories of things.\n",
    "<br><br>\n",
    "While doing NER, besides the correct and incorrect predicted terms, we'll probably face some \"partially correct\" predictions. For example:\n",
    "<br>\n",
    "<ul>\n",
    "<li>Uncomplete names (missing the last token of \"John Smith, M.D.\")\n",
    "<li>Names with more tokens (including the \"mr.\" token in \"mr. John Smith\")\n",
    "<li>Partitioning adjacent entities differently (treating two names as one \"Hans, Jones Blick\")\n",
    "<li>Assigning related but inexact type (for example, \"substance\" vs. \"drug\", or \"school\" vs. \"organization\")\n",
    "<li>Correctly identifying an entity, when what the user wanted was a smaller- or larger-scope entity (for example, identifying \"James Madison\" as a personal name, when it's part of \"James Madison University\")\n",
    "</ul>\n",
    "<br><br>\n",
    "</div>"
   ],
   "metadata": {}
  },
  {
   "cell_type": "markdown",
   "source": [
    "<a id =topic2> </a>\n",
    "<div class=\"heading\">\n",
    "   <h1><span style=\"color: white\">Applications</span></h1>\n",
    "</div>\n",
    "<div class=\"content\">\n",
    "\n",
    "NER can be appllied in many real-world situations when analyzing a large quantity of text is helpful. Some examples of NER includes:\n",
    "\n",
    "<ul>\n",
    "<li> Improve customer support by categorizing and filtering user requests, complaints, and questions. It can help businesses obtain insights about their customers.\n",
    "<li> Help categorize applicants’ CVs and speed up the process.\n",
    "<li> Improve search and recommendation engines using recognized entities.\n",
    "<li> Search and extract useful information from documents and blog posts.\n",
    "</ul>\n",
    "    \n",
    "</div>"
   ],
   "metadata": {}
  },
  {
   "cell_type": "markdown",
   "source": [
    "<a id =topic7> </a>\n",
    "<div class=\"heading\">\n",
    "   <h1><span style=\"color: white\">spaCy Named Entity Recognition</span></h1>\n",
    "</div>\n",
    "<div class=\"content\">\n",
    "<b>spaCy features an extremely fast statistical entity recognition system, that assigns labels to contiguous spans of tokens</b>. The default trained pipelines can identify a variety of named and numeric entities, including companies, locations, organizations and products.\n",
    "</div>"
   ],
   "metadata": {}
  },
  {
   "cell_type": "code",
   "source": [
    "import sqlite3\n",
    "import pandas as pd\n",
    "\n",
    "cnx = sqlite3.connect('../input/wikibooks-dataset/wikibooks.sqlite')\n",
    "df_wikibooks = pd.read_sql_query(\"SELECT * FROM en\", cnx)\n",
    "df_wikibooks.head()"
   ],
   "metadata": {
    "execution": {
     "iopub.status.busy": "2024-04-06T21:11:24.026582Z",
     "iopub.execute_input": "2024-04-06T21:11:24.026998Z",
     "iopub.status.idle": "2024-04-06T21:12:27.655576Z",
     "shell.execute_reply.started": "2024-04-06T21:11:24.026911Z",
     "shell.execute_reply": "2024-04-06T21:12:27.654711Z"
    },
    "trusted": true
   },
   "execution_count": 1,
   "outputs": [
    {
     "execution_count": 1,
     "output_type": "execute_result",
     "data": {
      "text/plain": "                                               title  \\\n0          Wikibooks: Radiation Oncology/NHL/CLL-SLL   \n1                       Wikibooks: Romanian/Lesson 9   \n2                               Wikibooks: Karrigell   \n3  Wikibooks: The Pyrogenesis Engine/0 A.D./GuiSe...   \n4  Wikibooks: LMIs in Control/pages/Exterior Coni...   \n\n                                                 url  \\\n0  https://en.wikibooks.org/wiki/Radiation_Oncolo...   \n1    https://en.wikibooks.org/wiki/Romanian/Lesson_9   \n2            https://en.wikibooks.org/wiki/Karrigell   \n3  https://en.wikibooks.org/wiki/The_Pyrogenesis_...   \n4  https://en.wikibooks.org/wiki/LMIs_in_Control/...   \n\n                                            abstract  \\\n0  Chronic Lymphocytic Leukemia and Small Lymphoc...   \n1                              ==Băuturi/Beverages==   \n2  Karrigell is an open Source Python web framewo...   \n3                             ====setupUnitPanel====   \n4                                  == The Concept ==   \n\n                                           body_text  \\\n0  Front Page: Radiation Oncology | RTOG Trials |...   \n1  Băuturi/Beverages[edit | edit source]\\nTea : C...   \n2  Karrigell is an open Source Python web framewo...   \n3  setupUnitPanel[edit | edit source]\\nHelper fun...   \n4  Contents\\n\\n1 The Concept\\n2 The System\\n3 The...   \n\n                                           body_html  \n0  <div class=\"mw-parser-output\"><table width=\"10...  \n1  <div class=\"mw-parser-output\"><h2><span id=\"B....  \n2  <div class=\"mw-parser-output\"><p>Karrigell is ...  \n3  <div class=\"mw-parser-output\"><h4><span class=...  \n4  <div class=\"mw-parser-output\"><div id=\"toc\" cl...  ",
      "text/html": "<div>\n<style scoped>\n    .dataframe tbody tr th:only-of-type {\n        vertical-align: middle;\n    }\n\n    .dataframe tbody tr th {\n        vertical-align: top;\n    }\n\n    .dataframe thead th {\n        text-align: right;\n    }\n</style>\n<table border=\"1\" class=\"dataframe\">\n  <thead>\n    <tr style=\"text-align: right;\">\n      <th></th>\n      <th>title</th>\n      <th>url</th>\n      <th>abstract</th>\n      <th>body_text</th>\n      <th>body_html</th>\n    </tr>\n  </thead>\n  <tbody>\n    <tr>\n      <th>0</th>\n      <td>Wikibooks: Radiation Oncology/NHL/CLL-SLL</td>\n      <td>https://en.wikibooks.org/wiki/Radiation_Oncolo...</td>\n      <td>Chronic Lymphocytic Leukemia and Small Lymphoc...</td>\n      <td>Front Page: Radiation Oncology | RTOG Trials |...</td>\n      <td>&lt;div class=\"mw-parser-output\"&gt;&lt;table width=\"10...</td>\n    </tr>\n    <tr>\n      <th>1</th>\n      <td>Wikibooks: Romanian/Lesson 9</td>\n      <td>https://en.wikibooks.org/wiki/Romanian/Lesson_9</td>\n      <td>==Băuturi/Beverages==</td>\n      <td>Băuturi/Beverages[edit | edit source]\\nTea : C...</td>\n      <td>&lt;div class=\"mw-parser-output\"&gt;&lt;h2&gt;&lt;span id=\"B....</td>\n    </tr>\n    <tr>\n      <th>2</th>\n      <td>Wikibooks: Karrigell</td>\n      <td>https://en.wikibooks.org/wiki/Karrigell</td>\n      <td>Karrigell is an open Source Python web framewo...</td>\n      <td>Karrigell is an open Source Python web framewo...</td>\n      <td>&lt;div class=\"mw-parser-output\"&gt;&lt;p&gt;Karrigell is ...</td>\n    </tr>\n    <tr>\n      <th>3</th>\n      <td>Wikibooks: The Pyrogenesis Engine/0 A.D./GuiSe...</td>\n      <td>https://en.wikibooks.org/wiki/The_Pyrogenesis_...</td>\n      <td>====setupUnitPanel====</td>\n      <td>setupUnitPanel[edit | edit source]\\nHelper fun...</td>\n      <td>&lt;div class=\"mw-parser-output\"&gt;&lt;h4&gt;&lt;span class=...</td>\n    </tr>\n    <tr>\n      <th>4</th>\n      <td>Wikibooks: LMIs in Control/pages/Exterior Coni...</td>\n      <td>https://en.wikibooks.org/wiki/LMIs_in_Control/...</td>\n      <td>== The Concept ==</td>\n      <td>Contents\\n\\n1 The Concept\\n2 The System\\n3 The...</td>\n      <td>&lt;div class=\"mw-parser-output\"&gt;&lt;div id=\"toc\" cl...</td>\n    </tr>\n  </tbody>\n</table>\n</div>"
     },
     "metadata": {}
    }
   ]
  },
  {
   "cell_type": "code",
   "source": [
    "import spacy\n",
    "\n",
    "nlp = spacy.load(\"en_core_web_sm\")\n",
    "wiki_ex = df_wikibooks.iloc[17]['body_text']\n",
    "doc = nlp(wiki_ex)\n",
    "doc"
   ],
   "metadata": {
    "execution": {
     "iopub.status.busy": "2024-04-06T21:45:06.543858Z",
     "iopub.execute_input": "2024-04-06T21:45:06.544239Z",
     "iopub.status.idle": "2024-04-06T21:45:07.507495Z",
     "shell.execute_reply.started": "2024-04-06T21:45:06.544203Z",
     "shell.execute_reply": "2024-04-06T21:45:07.506549Z"
    },
    "trusted": true
   },
   "execution_count": 43,
   "outputs": [
    {
     "execution_count": 43,
     "output_type": "execute_result",
     "data": {
      "text/plain": "As obvious from the term, this architecture works through a cycle of Sense, Plan and Act processes.\n\nBy sensing, it means getting the required information from the available sensors and converting it to some usable form.\nPlanning refers to the use of available information from sensing phase to determine the control parameters and sequences required for various components in order to make the robot proceed towards final goal.\nFinally, act phase is simply the implementation of the processes and sequences underlined by the planning phase.\nThis kind of approach is useful if the sensing process is slow and the environment is quite static. For example, on a low speed processor, image processing may require lots of time to process each frame. Hence, it might not be feasible to process every frame and react to the gathered information in real-time. If we use this technique, the information will be processed at a very low frequency, providing more time for other real-time processes to run while still doing the work of planning and acting towards the goal."
     },
     "metadata": {}
    }
   ]
  },
  {
   "cell_type": "code",
   "source": [
    "print('All entity types that spacy recognised from the document above')\n",
    "set([ent.label_ for ent in doc.ents])"
   ],
   "metadata": {
    "execution": {
     "iopub.status.busy": "2024-04-06T21:45:10.401115Z",
     "iopub.execute_input": "2024-04-06T21:45:10.401461Z",
     "iopub.status.idle": "2024-04-06T21:45:10.408588Z",
     "shell.execute_reply.started": "2024-04-06T21:45:10.401429Z",
     "shell.execute_reply": "2024-04-06T21:45:10.407585Z"
    },
    "trusted": true
   },
   "execution_count": 44,
   "outputs": [
    {
     "name": "stdout",
     "text": "All entity types that spacy recognised from the document above\n",
     "output_type": "stream"
    },
    {
     "execution_count": 44,
     "output_type": "execute_result",
     "data": {
      "text/plain": "{'LAW'}"
     },
     "metadata": {}
    }
   ]
  },
  {
   "cell_type": "code",
   "source": [
    "print('Persons from the document above')\n",
    "print(set([ent for ent in doc.ents if ent.label_ == 'PERSON']))\n",
    "print('Organizations from the document above')\n",
    "print(set([ent for ent in doc.ents if ent.label_ == 'ORG']))"
   ],
   "metadata": {
    "execution": {
     "iopub.status.busy": "2024-04-06T21:45:11.296219Z",
     "iopub.execute_input": "2024-04-06T21:45:11.296602Z",
     "iopub.status.idle": "2024-04-06T21:45:11.302779Z",
     "shell.execute_reply.started": "2024-04-06T21:45:11.296565Z",
     "shell.execute_reply": "2024-04-06T21:45:11.301794Z"
    },
    "trusted": true
   },
   "execution_count": 45,
   "outputs": [
    {
     "name": "stdout",
     "text": "Persons from the document above\nset()\nOrganizations from the document above\nset()\n",
     "output_type": "stream"
    }
   ]
  },
  {
   "cell_type": "markdown",
   "source": [
    "<a id =topic8> </a>\n",
    "<div class=\"heading\">\n",
    "   <h1><span style=\"color: white\">Visualizing Named Entities</span></h1>\n",
    "</div>"
   ],
   "metadata": {}
  },
  {
   "cell_type": "code",
   "source": [
    "from spacy import displacy\n",
    "displacy.render(doc, style=\"ent\", jupyter=True)"
   ],
   "metadata": {
    "execution": {
     "iopub.status.busy": "2024-04-06T21:45:12.759784Z",
     "iopub.execute_input": "2024-04-06T21:45:12.760141Z",
     "iopub.status.idle": "2024-04-06T21:45:12.766936Z",
     "shell.execute_reply.started": "2024-04-06T21:45:12.760103Z",
     "shell.execute_reply": "2024-04-06T21:45:12.766044Z"
    },
    "trusted": true
   },
   "execution_count": 46,
   "outputs": [
    {
     "output_type": "display_data",
     "data": {
      "text/plain": "<IPython.core.display.HTML object>",
      "text/html": "<span class=\"tex2jax_ignore\"><div class=\"entities\" style=\"line-height: 2.5; direction: ltr\">As obvious from the term, this architecture works through a cycle of Sense\n<mark class=\"entity\" style=\"background: #ff8197; padding: 0.45em 0.6em; margin: 0 0.25em; line-height: 1; border-radius: 0.35em;\">\n    , Plan and Act\n    <span style=\"font-size: 0.8em; font-weight: bold; line-height: 1; border-radius: 0.35em; text-transform: uppercase; vertical-align: middle; margin-left: 0.5rem\">LAW</span>\n</mark>\n processes.</br></br>By sensing, it means getting the required information from the available sensors and converting it to some usable form.</br>Planning refers to the use of available information from sensing phase to determine the control parameters and sequences required for various components in order to make the robot proceed towards final goal.</br>Finally, act phase is simply the implementation of the processes and sequences underlined by the planning phase.</br>This kind of approach is useful if the sensing process is slow and the environment is quite static. For example, on a low speed processor, image processing may require lots of time to process each frame. Hence, it might not be feasible to process every frame and react to the gathered information in real-time. If we use this technique, the information will be processed at a very low frequency, providing more time for other real-time processes to run while still doing the work of planning and acting towards the goal.</div></span>"
     },
     "metadata": {}
    }
   ]
  },
  {
   "cell_type": "markdown",
   "source": [
    "<a id =topic9> </a>\n",
    "<div class=\"heading\">\n",
    "   <h1><span style=\"color: white\">NER BERT Hugging Face</span></h1>\n",
    "</div>\n",
    "<div class=\"content\">\n",
    "<b>BERT (Bidirectional Encoder Representations from Transformers)</b> is a neural network that is capable of parsing language in the same way a human does. It uses word embeddings to translate words into numbers and then back again, allowing it to understand word context and meaning.\n",
    "<br><br>\n",
    "BERT focuses on understanding language comprehension, identifying linguistic cues in the text, and determining the context in which words are used.\n",
    "<br><br>\n",
    "Besides text classification, summarization, question answering and several other tasks, BERT can be used to solve NER.\n",
    "<br><br>\n",
    "<b>Hugging face</b> is one of the most used NLP libraries. With this library, we can leverage popular NLP models, such as BERT, DistilBERT roBERTa and use those models to manipulate text in one way or another. Hugging Face provides simple access to a variety of models and datasets used for all possible NLP tasks.\n",
    "<br><br>\n",
    "Models for NER tasks can be found under the \"Token Classification\" section here https://huggingface.co/models?pipeline_tag=token-classification&sort=downloads. We can use the default model or select one from the mentioned link.\n",
    "<br><br>\n",
    "Great Hugging Face course about transformers and the usage of the library can be found here https://huggingface.co/course/chapter0?fw=pt\n",
    "</div>"
   ],
   "metadata": {}
  },
  {
   "cell_type": "markdown",
   "source": [
    "<a id =topic10> </a>\n",
    "<div class=\"heading\">\n",
    "   <h1><span style=\"color: white\">NER BERT Finetuning Existing Model</span></h1>\n",
    "</div>\n",
    "<div class=\"content\">\n",
    "\n",
    "The process of training a neural network is a difficult and time-consuming process and for most of the users not even feasible. Because of that, instead of training the model from scratch, we can use models from Hugging Face which has been trained using a large amount of text. \n",
    "<br><br>\n",
    "These types of models through training developed a statistical understanding of the language they have been trained on, but they might not be useful for our specific task. In order to utilize the knowledge of the model, we can apply fine-tuning. It means that we can take pretrained model and train it a little bit more with our annotated data.\n",
    "<br><br>\n",
    "This process is called transfer learning when the knowledge is transfered from one model to another one and that strategy is often used in deep learning.\n",
    "<br><br>\n",
    "First of all, we can show the annotated data for the NER task from Groningen Meaning Bank (GMB).\n",
    "</div>"
   ],
   "metadata": {}
  },
  {
   "cell_type": "code",
   "source": [
    "import numpy as np\n",
    "import pandas as pd\n",
    "import matplotlib.pyplot as plt\n",
    "from tqdm.notebook import tqdm\n",
    "import nltk\n",
    "\n",
    "from sklearn.model_selection import train_test_split\n",
    "from sklearn.metrics import f1_score, accuracy_score\n",
    "\n",
    "from transformers import AdamW, AutoTokenizer, AutoModelForTokenClassification, get_scheduler\n",
    "import torch\n",
    "\n",
    "\n",
    "nltk.download('punkt')\n",
    "\n",
    "data_dir = '../input/entity-annotated-corpus'\n",
    "df = pd.read_csv(f'{data_dir}/ner_dataset.csv')\n",
    "df['Sentence #'] = df['Sentence #'].ffill()\n",
    "df_gr = df.groupby('Sentence #').agg(lambda x: list(x))\n",
    "print(df_gr.shape)\n",
    "df_gr.head()"
   ],
   "metadata": {
    "execution": {
     "iopub.status.busy": "2024-04-06T21:12:31.986132Z",
     "iopub.execute_input": "2024-04-06T21:12:31.986498Z",
     "iopub.status.idle": "2024-04-06T21:12:45.934406Z",
     "shell.execute_reply.started": "2024-04-06T21:12:31.986466Z",
     "shell.execute_reply": "2024-04-06T21:12:45.933540Z"
    },
    "trusted": true
   },
   "execution_count": 6,
   "outputs": [
    {
     "name": "stdout",
     "text": "[nltk_data] Downloading package punkt to /usr/share/nltk_data...\n[nltk_data]   Unzipping tokenizers/punkt.zip.\n(47959, 3)\n",
     "output_type": "stream"
    },
    {
     "execution_count": 6,
     "output_type": "execute_result",
     "data": {
      "text/plain": "                                                              Word  \\\nSentence #                                                           \nSentence: 1      [Thousands, of, demonstrators, have, marched, ...   \nSentence: 10     [Iranian, officials, say, they, expect, to, ge...   \nSentence: 100    [Helicopter, gunships, Saturday, pounded, mili...   \nSentence: 1000   [They, left, after, a, tense, hour-long, stand...   \nSentence: 10000  [U.N., relief, coordinator, Jan, Egeland, said...   \n\n                                                               POS  \\\nSentence #                                                           \nSentence: 1      [NNS, IN, NNS, VBP, VBN, IN, NNP, TO, VB, DT, ...   \nSentence: 10     [JJ, NNS, VBP, PRP, VBP, TO, VB, NN, TO, JJ, J...   \nSentence: 100    [NN, NNS, NNP, VBD, JJ, NNS, IN, DT, NNP, JJ, ...   \nSentence: 1000      [PRP, VBD, IN, DT, NN, JJ, NN, IN, NN, NNS, .]   \nSentence: 10000  [NNP, NN, NN, NNP, NNP, VBD, NNP, ,, NNP, ,, J...   \n\n                                                               Tag  \nSentence #                                                          \nSentence: 1      [O, O, O, O, O, O, B-geo, O, O, O, O, O, B-geo...  \nSentence: 10     [B-gpe, O, O, O, O, O, O, O, O, O, O, O, O, O,...  \nSentence: 100    [O, O, B-tim, O, O, O, O, O, B-geo, O, O, O, O...  \nSentence: 1000                   [O, O, O, O, O, O, O, O, O, O, O]  \nSentence: 10000  [B-geo, O, O, B-per, I-per, O, B-tim, O, B-geo...  ",
      "text/html": "<div>\n<style scoped>\n    .dataframe tbody tr th:only-of-type {\n        vertical-align: middle;\n    }\n\n    .dataframe tbody tr th {\n        vertical-align: top;\n    }\n\n    .dataframe thead th {\n        text-align: right;\n    }\n</style>\n<table border=\"1\" class=\"dataframe\">\n  <thead>\n    <tr style=\"text-align: right;\">\n      <th></th>\n      <th>Word</th>\n      <th>POS</th>\n      <th>Tag</th>\n    </tr>\n    <tr>\n      <th>Sentence #</th>\n      <th></th>\n      <th></th>\n      <th></th>\n    </tr>\n  </thead>\n  <tbody>\n    <tr>\n      <th>Sentence: 1</th>\n      <td>[Thousands, of, demonstrators, have, marched, ...</td>\n      <td>[NNS, IN, NNS, VBP, VBN, IN, NNP, TO, VB, DT, ...</td>\n      <td>[O, O, O, O, O, O, B-geo, O, O, O, O, O, B-geo...</td>\n    </tr>\n    <tr>\n      <th>Sentence: 10</th>\n      <td>[Iranian, officials, say, they, expect, to, ge...</td>\n      <td>[JJ, NNS, VBP, PRP, VBP, TO, VB, NN, TO, JJ, J...</td>\n      <td>[B-gpe, O, O, O, O, O, O, O, O, O, O, O, O, O,...</td>\n    </tr>\n    <tr>\n      <th>Sentence: 100</th>\n      <td>[Helicopter, gunships, Saturday, pounded, mili...</td>\n      <td>[NN, NNS, NNP, VBD, JJ, NNS, IN, DT, NNP, JJ, ...</td>\n      <td>[O, O, B-tim, O, O, O, O, O, B-geo, O, O, O, O...</td>\n    </tr>\n    <tr>\n      <th>Sentence: 1000</th>\n      <td>[They, left, after, a, tense, hour-long, stand...</td>\n      <td>[PRP, VBD, IN, DT, NN, JJ, NN, IN, NN, NNS, .]</td>\n      <td>[O, O, O, O, O, O, O, O, O, O, O]</td>\n    </tr>\n    <tr>\n      <th>Sentence: 10000</th>\n      <td>[U.N., relief, coordinator, Jan, Egeland, said...</td>\n      <td>[NNP, NN, NN, NNP, NNP, VBD, NNP, ,, NNP, ,, J...</td>\n      <td>[B-geo, O, O, B-per, I-per, O, B-tim, O, B-geo...</td>\n    </tr>\n  </tbody>\n</table>\n</div>"
     },
     "metadata": {}
    }
   ]
  },
  {
   "cell_type": "code",
   "source": [
    "df_legal = pd.read_json(\"/kaggle/input/legal-ner/NER_TRAIN_JUDGEMENT.json\")\n",
    "df_legal.head()"
   ],
   "metadata": {
    "execution": {
     "iopub.status.busy": "2024-04-06T21:12:45.935537Z",
     "iopub.execute_input": "2024-04-06T21:12:45.935790Z",
     "iopub.status.idle": "2024-04-06T21:12:46.573855Z",
     "shell.execute_reply.started": "2024-04-06T21:12:45.935765Z",
     "shell.execute_reply": "2024-04-06T21:12:46.572967Z"
    },
    "trusted": true
   },
   "execution_count": 7,
   "outputs": [
    {
     "execution_count": 7,
     "output_type": "execute_result",
     "data": {
      "text/plain": "                                 id  \\\n0  90d9a97c7b7749ec8a4f460fda6f937e   \n1  a325c57ba5b84c6fa46bee65e6616633   \n2  33cface31108441080976035ee04d07e   \n3  08debe900b51464e9f26b5d1eecae170   \n4  428070222cd940eba78b233829eb28b8   \n\n                                         annotations  \\\n0  [{'result': [{'value': {'start': 90, 'end': 10...   \n1  [{'result': [{'value': {'start': 26, 'end': 30...   \n2  [{'result': [{'value': {'start': 13, 'end': 25...   \n3                                   [{'result': []}]   \n4  [{'result': [{'value': {'start': 18, 'end': 43...   \n\n                                                data  \\\n0  {'text': '\n\n(7) On specific query by the Bench...   \n1  {'text': 'He was also asked whether Agya <span...   \n2  {'text': ' \n5.2 CW3 Mr Vijay Mishra , Deputy M...   \n3  {'text': 'You are hereby asked not to carry ou...   \n4  {'text': 'The pillion rider T.V. Satyanarayana...   \n\n                                                meta  \n0  {'source': 'tax_districtcourts judgement https...  \n1  {'source': 'criminal_punjab-haryana_high_court...  \n2  {'source': 'financial_districtcourts judgement...  \n3  {'source': 'civil_bombay_high_court judgement ...  \n4  {'source': 'motorvehicles_andhra_high_court ju...  ",
      "text/html": "<div>\n<style scoped>\n    .dataframe tbody tr th:only-of-type {\n        vertical-align: middle;\n    }\n\n    .dataframe tbody tr th {\n        vertical-align: top;\n    }\n\n    .dataframe thead th {\n        text-align: right;\n    }\n</style>\n<table border=\"1\" class=\"dataframe\">\n  <thead>\n    <tr style=\"text-align: right;\">\n      <th></th>\n      <th>id</th>\n      <th>annotations</th>\n      <th>data</th>\n      <th>meta</th>\n    </tr>\n  </thead>\n  <tbody>\n    <tr>\n      <th>0</th>\n      <td>90d9a97c7b7749ec8a4f460fda6f937e</td>\n      <td>[{'result': [{'value': {'start': 90, 'end': 10...</td>\n      <td>{'text': '\n\n(7) On specific query by the Bench...</td>\n      <td>{'source': 'tax_districtcourts judgement https...</td>\n    </tr>\n    <tr>\n      <th>1</th>\n      <td>a325c57ba5b84c6fa46bee65e6616633</td>\n      <td>[{'result': [{'value': {'start': 26, 'end': 30...</td>\n      <td>{'text': 'He was also asked whether Agya &lt;span...</td>\n      <td>{'source': 'criminal_punjab-haryana_high_court...</td>\n    </tr>\n    <tr>\n      <th>2</th>\n      <td>33cface31108441080976035ee04d07e</td>\n      <td>[{'result': [{'value': {'start': 13, 'end': 25...</td>\n      <td>{'text': ' \n5.2 CW3 Mr Vijay Mishra , Deputy M...</td>\n      <td>{'source': 'financial_districtcourts judgement...</td>\n    </tr>\n    <tr>\n      <th>3</th>\n      <td>08debe900b51464e9f26b5d1eecae170</td>\n      <td>[{'result': []}]</td>\n      <td>{'text': 'You are hereby asked not to carry ou...</td>\n      <td>{'source': 'civil_bombay_high_court judgement ...</td>\n    </tr>\n    <tr>\n      <th>4</th>\n      <td>428070222cd940eba78b233829eb28b8</td>\n      <td>[{'result': [{'value': {'start': 18, 'end': 43...</td>\n      <td>{'text': 'The pillion rider T.V. Satyanarayana...</td>\n      <td>{'source': 'motorvehicles_andhra_high_court ju...</td>\n    </tr>\n  </tbody>\n</table>\n</div>"
     },
     "metadata": {}
    }
   ]
  },
  {
   "cell_type": "code",
   "source": [
    "def preprocess_legal_ner(df):\n",
    "    words = []\n",
    "    tags = []\n",
    "    annotations = df['annotations'].tolist()\n",
    "    texts = df['data'].tolist()\n",
    "    for i, text in enumerate(texts):\n",
    "        annotation = annotations[i][0]['result']\n",
    "        tmp_idx = 0\n",
    "        word = []\n",
    "        tag = []\n",
    "        for ann in annotation:\n",
    "            start = ann['value']['start']\n",
    "            end = ann['value']['end']\n",
    "            label = ann['value']['labels'][0]\n",
    "            txt = ann['value']['text']\n",
    "            prev = nltk.word_tokenize(text['text'][tmp_idx:start-1])\n",
    "            word.extend(prev)\n",
    "            tag.extend(['O'] * len(prev))\n",
    "            word.append(txt)\n",
    "            tag.append(label)\n",
    "            tmp_idx = end + 1\n",
    "        words.append(word)\n",
    "        tags.append(tag)\n",
    "    \n",
    "    return words, tags"
   ],
   "metadata": {
    "execution": {
     "iopub.status.busy": "2024-04-06T21:12:46.575028Z",
     "iopub.execute_input": "2024-04-06T21:12:46.575351Z",
     "iopub.status.idle": "2024-04-06T21:12:46.583484Z",
     "shell.execute_reply.started": "2024-04-06T21:12:46.575320Z",
     "shell.execute_reply": "2024-04-06T21:12:46.582645Z"
    },
    "trusted": true
   },
   "execution_count": 8,
   "outputs": []
  },
  {
   "cell_type": "code",
   "source": [
    "words, tags = preprocess_legal_ner(df_legal)"
   ],
   "metadata": {
    "execution": {
     "iopub.status.busy": "2024-04-06T21:12:46.586663Z",
     "iopub.execute_input": "2024-04-06T21:12:46.587027Z",
     "iopub.status.idle": "2024-04-06T21:12:49.411633Z",
     "shell.execute_reply.started": "2024-04-06T21:12:46.586990Z",
     "shell.execute_reply": "2024-04-06T21:12:49.410828Z"
    },
    "trusted": true
   },
   "execution_count": 9,
   "outputs": []
  },
  {
   "cell_type": "code",
   "source": [
    "dict_legal = {'Word': words, 'Tag': tags} \n",
    "df_legal_preprocessed = pd.DataFrame(dict_legal)"
   ],
   "metadata": {
    "execution": {
     "iopub.status.busy": "2024-04-06T21:12:49.413710Z",
     "iopub.execute_input": "2024-04-06T21:12:49.413986Z",
     "iopub.status.idle": "2024-04-06T21:12:49.452643Z",
     "shell.execute_reply.started": "2024-04-06T21:12:49.413960Z",
     "shell.execute_reply": "2024-04-06T21:12:49.451750Z"
    },
    "trusted": true
   },
   "execution_count": 10,
   "outputs": []
  },
  {
   "cell_type": "code",
   "source": [
    "df_legal_preprocessed.head()"
   ],
   "metadata": {
    "execution": {
     "iopub.status.busy": "2024-04-06T21:12:49.453828Z",
     "iopub.execute_input": "2024-04-06T21:12:49.454183Z",
     "iopub.status.idle": "2024-04-06T21:12:49.474271Z",
     "shell.execute_reply.started": "2024-04-06T21:12:49.454146Z",
     "shell.execute_reply": "2024-04-06T21:12:49.473348Z"
    },
    "trusted": true
   },
   "execution_count": 11,
   "outputs": [
    {
     "execution_count": 11,
     "output_type": "execute_result",
     "data": {
      "text/plain": "                                                Word  \\\n0  [(, 7, ), On, specific, query, by, the, Bench,...   \n1  [He, was, also, asked, whether, Agya, <, span,...   \n2  [5.2, CW3, Mr, Vijay Mishra, ,, Deputy, Manage...   \n3                                                 []   \n4   [The, pillion, rider, T.V. Satyanarayana Murthy]   \n\n                                                 Tag  \n0  [O, O, O, O, O, O, O, O, O, O, O, O, O, O, O, ...  \n1  [O, O, O, O, O, OTHER_PERSON, O, O, O, O, O, O...  \n2  [O, O, O, WITNESS, O, O, O, O, ORG, GPE, O, O,...  \n3                                                 []  \n4                            [O, O, O, OTHER_PERSON]  ",
      "text/html": "<div>\n<style scoped>\n    .dataframe tbody tr th:only-of-type {\n        vertical-align: middle;\n    }\n\n    .dataframe tbody tr th {\n        vertical-align: top;\n    }\n\n    .dataframe thead th {\n        text-align: right;\n    }\n</style>\n<table border=\"1\" class=\"dataframe\">\n  <thead>\n    <tr style=\"text-align: right;\">\n      <th></th>\n      <th>Word</th>\n      <th>Tag</th>\n    </tr>\n  </thead>\n  <tbody>\n    <tr>\n      <th>0</th>\n      <td>[(, 7, ), On, specific, query, by, the, Bench,...</td>\n      <td>[O, O, O, O, O, O, O, O, O, O, O, O, O, O, O, ...</td>\n    </tr>\n    <tr>\n      <th>1</th>\n      <td>[He, was, also, asked, whether, Agya, &lt;, span,...</td>\n      <td>[O, O, O, O, O, OTHER_PERSON, O, O, O, O, O, O...</td>\n    </tr>\n    <tr>\n      <th>2</th>\n      <td>[5.2, CW3, Mr, Vijay Mishra, ,, Deputy, Manage...</td>\n      <td>[O, O, O, WITNESS, O, O, O, O, ORG, GPE, O, O,...</td>\n    </tr>\n    <tr>\n      <th>3</th>\n      <td>[]</td>\n      <td>[]</td>\n    </tr>\n    <tr>\n      <th>4</th>\n      <td>[The, pillion, rider, T.V. Satyanarayana Murthy]</td>\n      <td>[O, O, O, OTHER_PERSON]</td>\n    </tr>\n  </tbody>\n</table>\n</div>"
     },
     "metadata": {}
    }
   ]
  },
  {
   "cell_type": "markdown",
   "source": [
    "<div class=\"content\">\n",
    "In our case, we'll need columns `Word` (tokenized sentence) and `Tag` (entities in the sentence). Also, in order to fine-tune the model, we'll need to have the same entities as the model is trained on. Let's print entities from our data set and from the pretrained model.\n",
    "</div>"
   ],
   "metadata": {}
  },
  {
   "cell_type": "code",
   "source": [
    "tags = []\n",
    "for tag in df_gr['Tag'].to_list():\n",
    "    tags.extend(tag)\n",
    "print('Entities in GMB dataset')\n",
    "set(tags)"
   ],
   "metadata": {
    "execution": {
     "iopub.status.busy": "2024-04-06T21:12:49.475360Z",
     "iopub.execute_input": "2024-04-06T21:12:49.475653Z",
     "iopub.status.idle": "2024-04-06T21:12:49.522166Z",
     "shell.execute_reply.started": "2024-04-06T21:12:49.475621Z",
     "shell.execute_reply": "2024-04-06T21:12:49.521358Z"
    },
    "trusted": true
   },
   "execution_count": 12,
   "outputs": [
    {
     "name": "stdout",
     "text": "Entities in GMB dataset\n",
     "output_type": "stream"
    },
    {
     "execution_count": 12,
     "output_type": "execute_result",
     "data": {
      "text/plain": "{'B-art',\n 'B-eve',\n 'B-geo',\n 'B-gpe',\n 'B-nat',\n 'B-org',\n 'B-per',\n 'B-tim',\n 'I-art',\n 'I-eve',\n 'I-geo',\n 'I-gpe',\n 'I-nat',\n 'I-org',\n 'I-per',\n 'I-tim',\n 'O'}"
     },
     "metadata": {}
    }
   ]
  },
  {
   "cell_type": "code",
   "source": [
    "len(tags)"
   ],
   "metadata": {
    "execution": {
     "iopub.status.busy": "2024-04-06T21:12:49.523488Z",
     "iopub.execute_input": "2024-04-06T21:12:49.523846Z",
     "iopub.status.idle": "2024-04-06T21:12:49.529119Z",
     "shell.execute_reply.started": "2024-04-06T21:12:49.523808Z",
     "shell.execute_reply": "2024-04-06T21:12:49.528355Z"
    },
    "trusted": true
   },
   "execution_count": 13,
   "outputs": [
    {
     "execution_count": 13,
     "output_type": "execute_result",
     "data": {
      "text/plain": "1048575"
     },
     "metadata": {}
    }
   ]
  },
  {
   "cell_type": "code",
   "source": [
    "plt.figure(figsize=(18,6))\n",
    "plt.title('Tag distribution in GMB dataset')\n",
    "plt.hist(tags, bins=20)\n",
    "plt.xlabel('Tags')\n",
    "plt.ylabel('Occurences')\n",
    "plt.savefig('gmb_dist.png')\n",
    "plt.show()"
   ],
   "metadata": {
    "execution": {
     "iopub.status.busy": "2024-04-06T21:12:49.530306Z",
     "iopub.execute_input": "2024-04-06T21:12:49.530565Z",
     "iopub.status.idle": "2024-04-06T21:12:57.646310Z",
     "shell.execute_reply.started": "2024-04-06T21:12:49.530540Z",
     "shell.execute_reply": "2024-04-06T21:12:57.645510Z"
    },
    "trusted": true
   },
   "execution_count": 14,
   "outputs": [
    {
     "output_type": "display_data",
     "data": {
      "text/plain": "<Figure size 1296x432 with 1 Axes>",
      "image/png": "[encoded data removed]"
     },
     "metadata": {
      "needs_background": "light"
     }
    }
   ]
  },
  {
   "cell_type": "code",
   "source": [
    "tags = []\n",
    "for tag in df_legal_preprocessed['Tag'].to_list():\n",
    "    tags.extend(tag)\n",
    "print('Entities in Legal-NER data set')\n",
    "set(tags)"
   ],
   "metadata": {
    "execution": {
     "iopub.status.busy": "2024-04-06T21:12:57.647616Z",
     "iopub.execute_input": "2024-04-06T21:12:57.647977Z",
     "iopub.status.idle": "2024-04-06T21:12:57.667667Z",
     "shell.execute_reply.started": "2024-04-06T21:12:57.647936Z",
     "shell.execute_reply": "2024-04-06T21:12:57.666863Z"
    },
    "trusted": true
   },
   "execution_count": 15,
   "outputs": [
    {
     "name": "stdout",
     "text": "Entities in Legal-NER data set\n",
     "output_type": "stream"
    },
    {
     "execution_count": 15,
     "output_type": "execute_result",
     "data": {
      "text/plain": "{'CASE_NUMBER',\n 'COURT',\n 'DATE',\n 'GPE',\n 'JUDGE',\n 'O',\n 'ORG',\n 'OTHER_PERSON',\n 'PETITIONER',\n 'PRECEDENT',\n 'PROVISION',\n 'RESPONDENT',\n 'STATUTE',\n 'WITNESS'}"
     },
     "metadata": {}
    }
   ]
  },
  {
   "cell_type": "code",
   "source": [
    "len(tags)"
   ],
   "metadata": {
    "execution": {
     "iopub.status.busy": "2024-04-06T21:12:57.668973Z",
     "iopub.execute_input": "2024-04-06T21:12:57.669360Z",
     "iopub.status.idle": "2024-04-06T21:12:57.678548Z",
     "shell.execute_reply.started": "2024-04-06T21:12:57.669321Z",
     "shell.execute_reply": "2024-04-06T21:12:57.677693Z"
    },
    "trusted": true
   },
   "execution_count": 16,
   "outputs": [
    {
     "execution_count": 16,
     "output_type": "execute_result",
     "data": {
      "text/plain": "176606"
     },
     "metadata": {}
    }
   ]
  },
  {
   "cell_type": "code",
   "source": [
    "plt.figure(figsize=(18,6))\n",
    "plt.title('Tag distribution in Legal-NER dataset')\n",
    "plt.hist(tags, bins=20)\n",
    "plt.xlabel('Tags')\n",
    "plt.ylabel('Occurences')\n",
    "plt.savefig('legal_ner_dist.png')\n",
    "plt.show()"
   ],
   "metadata": {
    "execution": {
     "iopub.status.busy": "2024-04-06T21:12:57.679636Z",
     "iopub.execute_input": "2024-04-06T21:12:57.679894Z",
     "iopub.status.idle": "2024-04-06T21:12:59.307590Z",
     "shell.execute_reply.started": "2024-04-06T21:12:57.679869Z",
     "shell.execute_reply": "2024-04-06T21:12:59.306715Z"
    },
    "trusted": true
   },
   "execution_count": 17,
   "outputs": [
    {
     "output_type": "display_data",
     "data": {
      "text/plain": "<Figure size 1296x432 with 1 Axes>",
      "image/png": "[encoded data removed]"
     },
     "metadata": {
      "needs_background": "light"
     }
    }
   ]
  },
  {
   "cell_type": "code",
   "source": [
    "entity_mapping = {\n",
    "'O':0,'B-per':3, 'I-per':4, 'B-org':5, 'I-org':6,'B-geo':7, 'I-geo':8,\n",
    "'B-art':1, 'B-eve':1 , 'B-gpe':1, 'B-nat':1, 'B-tim':1,\n",
    "'I-art':1, 'I-eve':1 , 'I-gpe':1, 'I-nat':1, 'I-tim':1,\n",
    "}"
   ],
   "metadata": {
    "execution": {
     "iopub.status.busy": "2024-04-06T21:12:59.308976Z",
     "iopub.execute_input": "2024-04-06T21:12:59.309367Z",
     "iopub.status.idle": "2024-04-06T21:12:59.314714Z",
     "shell.execute_reply.started": "2024-04-06T21:12:59.309325Z",
     "shell.execute_reply": "2024-04-06T21:12:59.313801Z"
    },
    "trusted": true
   },
   "execution_count": 18,
   "outputs": []
  },
  {
   "cell_type": "code",
   "source": [
    "MODEL_NAME = \"dslim/bert-base-NER\"\n",
    "MAX_LEN = 128\n",
    "#MODEL_NAME = \"microsoft/deberta-base\"\n",
    "tokenizer = AutoTokenizer.from_pretrained(MODEL_NAME)\n",
    "model = AutoModelForTokenClassification.from_pretrained(MODEL_NAME)\n",
    "\n",
    "print('Entities from the pretrained model')\n",
    "model.config.id2label"
   ],
   "metadata": {
    "execution": {
     "iopub.status.busy": "2024-04-06T21:12:59.316158Z",
     "iopub.execute_input": "2024-04-06T21:12:59.316580Z",
     "iopub.status.idle": "2024-04-06T21:13:37.879611Z",
     "shell.execute_reply.started": "2024-04-06T21:12:59.316543Z",
     "shell.execute_reply": "2024-04-06T21:13:37.878779Z"
    },
    "trusted": true
   },
   "execution_count": 19,
   "outputs": [
    {
     "output_type": "display_data",
     "data": {
      "text/plain": "Downloading:   0%|          | 0.00/829 [00:00<?, ?B/s]",
      "application/vnd.jupyter.widget-view+json": {
       "version_major": 2,
       "version_minor": 0,
       "model_id": "34555a6e51b14e4fac4fdb621935e3aa"
      }
     },
     "metadata": {}
    },
    {
     "output_type": "display_data",
     "data": {
      "text/plain": "Downloading:   0%|          | 0.00/433M [00:00<?, ?B/s]",
      "application/vnd.jupyter.widget-view+json": {
       "version_major": 2,
       "version_minor": 0,
       "model_id": "9ed5e72babae42419e0e8daa18c90ff5"
      }
     },
     "metadata": {}
    },
    {
     "name": "stdout",
     "text": "Entities from the pretrained model\n",
     "output_type": "stream"
    },
    {
     "execution_count": 19,
     "output_type": "execute_result",
     "data": {
      "text/plain": "{0: 'O',\n 1: 'B-MISC',\n 2: 'I-MISC',\n 3: 'B-PER',\n 4: 'I-PER',\n 5: 'B-ORG',\n 6: 'I-ORG',\n 7: 'B-LOC',\n 8: 'I-LOC'}"
     },
     "metadata": {}
    }
   ]
  },
  {
   "cell_type": "code",
   "source": [
    "legal_entity_mapping = {\n",
    "    'O':0, 'CASE_NUMBER':1, 'COURT':5,\n",
    "    'DATE':1, 'GPE':4, 'JUDGE':5,\n",
    "    'ORG':5, 'OTHER_PERSON':3, 'PETITIONER':3,\n",
    "    'PRECEDENT':1, 'PROVISION':1, 'RESPONDENT': 3,\n",
    "    'STATUTE': 1, 'WITNESS':3\n",
    "}"
   ],
   "metadata": {
    "execution": {
     "iopub.status.busy": "2024-04-06T21:13:37.880784Z",
     "iopub.execute_input": "2024-04-06T21:13:37.881063Z",
     "iopub.status.idle": "2024-04-06T21:13:37.885848Z",
     "shell.execute_reply.started": "2024-04-06T21:13:37.881035Z",
     "shell.execute_reply": "2024-04-06T21:13:37.884951Z"
    },
    "trusted": true
   },
   "execution_count": 20,
   "outputs": []
  },
  {
   "cell_type": "markdown",
   "source": [
    "\n",
    "Create the mapping for converting entities from our data set into the entity id (key) from the 0"
   ],
   "metadata": {}
  },
  {
   "cell_type": "code",
   "source": [
    "class NERDataset:\n",
    "    def __init__(self, df):\n",
    "        # input is annotated data frame\n",
    "        self.texts = df['Word'].to_list()\n",
    "        self.tags = df['Tag'].to_list()\n",
    "    \n",
    "    def __len__(self):\n",
    "        return len(self.texts)\n",
    "    \n",
    "    def __getitem__(self, item):\n",
    "        text = self.texts[item]\n",
    "        tags = self.tags[item]\n",
    "        \n",
    "        ids = []\n",
    "        target_tag =[]\n",
    "        \n",
    "        # tokenize words and define tags accordingly\n",
    "        # running -> [run, ##ning]\n",
    "        # tags - ['O', 'O']\n",
    "        for i, s in enumerate(text):\n",
    "            inputs = tokenizer.encode(s, add_special_tokens=False)\n",
    "            input_len = len(inputs)\n",
    "            ids.extend(inputs)\n",
    "            target_tag.extend([entity_mapping[tags[i]]] * input_len)\n",
    "        \n",
    "        # truncate\n",
    "        ids = ids[:MAX_LEN - 2]\n",
    "        target_tag = target_tag[:MAX_LEN - 2]\n",
    "        \n",
    "        # add special tokens\n",
    "        ids = [101] + ids + [102]\n",
    "        target_tag = [0] + target_tag + [0]\n",
    "        mask = [1] * len(ids)\n",
    "        token_type_ids = [0] * len(ids)\n",
    "        \n",
    "        # construct padding\n",
    "        padding_len = MAX_LEN - len(ids)\n",
    "        ids = ids + ([0] * padding_len)\n",
    "        mask = mask + ([0] * padding_len)\n",
    "        token_type_ids = token_type_ids + ([0] * padding_len)\n",
    "        target_tag = target_tag + ([0] * padding_len)\n",
    "        \n",
    "        return {'input_ids': torch.tensor(ids, dtype=torch.long),\n",
    "                'attention_mask': torch.tensor(mask, dtype=torch.long),\n",
    "                'token_type_ids': torch.tensor(token_type_ids, dtype=torch.long),\n",
    "                'labels': torch.tensor(target_tag, dtype=torch.long)\n",
    "               }"
   ],
   "metadata": {
    "execution": {
     "iopub.status.busy": "2024-04-06T21:13:37.887166Z",
     "iopub.execute_input": "2024-04-06T21:13:37.887697Z",
     "iopub.status.idle": "2024-04-06T21:13:39.499260Z",
     "shell.execute_reply.started": "2024-04-06T21:13:37.887657Z",
     "shell.execute_reply": "2024-04-06T21:13:39.498190Z"
    },
    "trusted": true
   },
   "execution_count": 21,
   "outputs": []
  },
  {
   "cell_type": "code",
   "source": [
    "class NERLegalDataset:\n",
    "    def __init__(self, df):\n",
    "        # input is annotated data frame\n",
    "        self.texts = df['Word'].to_list()\n",
    "        self.tags = df['Tag'].to_list()\n",
    "    \n",
    "    def __len__(self):\n",
    "        return len(self.texts)\n",
    "    \n",
    "    def __getitem__(self, item):\n",
    "        text = self.texts[item]\n",
    "        tags = self.tags[item]\n",
    "        \n",
    "        ids = []\n",
    "        target_tag =[]\n",
    "        \n",
    "        # tokenize words and define tags accordingly\n",
    "        # running -> [run, ##ning]\n",
    "        # tags - ['O', 'O']\n",
    "        for i, s in enumerate(text):\n",
    "            inputs = tokenizer.encode(s, add_special_tokens=False)\n",
    "            input_len = len(inputs)\n",
    "            ids.extend(inputs)\n",
    "            target_tag.extend([legal_entity_mapping[tags[i]]] * input_len)\n",
    "        \n",
    "        # truncate\n",
    "        ids = ids[:MAX_LEN - 2]\n",
    "        target_tag = target_tag[:MAX_LEN - 2]\n",
    "        \n",
    "        # add special tokens\n",
    "        ids = [101] + ids + [102]\n",
    "        target_tag = [0] + target_tag + [0]\n",
    "        mask = [1] * len(ids)\n",
    "        token_type_ids = [0] * len(ids)\n",
    "        \n",
    "        # construct padding\n",
    "        padding_len = MAX_LEN - len(ids)\n",
    "        ids = ids + ([0] * padding_len)\n",
    "        mask = mask + ([0] * padding_len)\n",
    "        token_type_ids = token_type_ids + ([0] * padding_len)\n",
    "        target_tag = target_tag + ([0] * padding_len)\n",
    "        \n",
    "        return {'input_ids': torch.tensor(ids, dtype=torch.long),\n",
    "                'attention_mask': torch.tensor(mask, dtype=torch.long),\n",
    "                'token_type_ids': torch.tensor(token_type_ids, dtype=torch.long),\n",
    "                'labels': torch.tensor(target_tag, dtype=torch.long)\n",
    "               }"
   ],
   "metadata": {
    "execution": {
     "iopub.status.busy": "2024-04-06T21:13:39.500663Z",
     "iopub.execute_input": "2024-04-06T21:13:39.501025Z",
     "iopub.status.idle": "2024-04-06T21:13:39.512855Z",
     "shell.execute_reply.started": "2024-04-06T21:13:39.500982Z",
     "shell.execute_reply": "2024-04-06T21:13:39.512109Z"
    },
    "trusted": true
   },
   "execution_count": 22,
   "outputs": []
  },
  {
   "cell_type": "code",
   "source": [
    "def preprocess_gmb(df):\n",
    "    df_train, df_val = train_test_split(df, test_size=0.2, random_state=42)\n",
    "    df_val, df_test = train_test_split(df_val, test_size=0.5, random_state=42)\n",
    "\n",
    "    df_legal_train, df_legal_val = train_test_split(df_legal_preprocessed, test_size=0.2, random_state=42)\n",
    "    df_legal_val, df_legal_test = train_test_split(df_legal_val, test_size=0.5, random_state=42)\n",
    "\n",
    "    data_train = NERDataset(df_train)\n",
    "    data_val = NERDataset(df_val)\n",
    "    data_test = NERDataset(df_test)\n",
    "\n",
    "    # initialize DataLoader used to return batches for training/validation\n",
    "    loader_train = torch.utils.data.DataLoader(\n",
    "        data_train, batch_size=32, num_workers=4\n",
    "    )\n",
    "\n",
    "    loader_val = torch.utils.data.DataLoader(\n",
    "        data_val, batch_size=32, num_workers=4\n",
    "    )\n",
    "    return loader_train, loader_val"
   ],
   "metadata": {},
   "execution_count": null,
   "outputs": []
  },
  {
   "cell_type": "code",
   "source": [
    "def preprocess_legal(df):\n",
    "    df_train, df_val = train_test_split(df, test_size=0.2, random_state=42)\n",
    "    df_val, df_test = train_test_split(df_val, test_size=0.5, random_state=42)\n",
    "\n",
    "    df_legal_train, df_legal_val = train_test_split(df_legal_preprocessed, test_size=0.2, random_state=42)\n",
    "    df_legal_val, df_legal_test = train_test_split(df_legal_val, test_size=0.5, random_state=42)\n",
    "\n",
    "    data_train = NERLegalDataset(df_train)\n",
    "    data_val = NERLegalDataset(df_val)\n",
    "    data_test = NERLegalDataset(df_test)\n",
    "\n",
    "    # initialize DataLoader used to return batches for training/validation\n",
    "    loader_train = torch.utils.data.DataLoader(\n",
    "        data_train, batch_size=32, num_workers=4\n",
    "    )\n",
    "\n",
    "    loader_val = torch.utils.data.DataLoader(\n",
    "        data_val, batch_size=32, num_workers=4\n",
    "    )\n",
    "    return loader_train, loader_val"
   ],
   "metadata": {},
   "execution_count": null,
   "outputs": []
  },
  {
   "cell_type": "code",
   "source": [
    "loader_train, loader_val = preprocess_gmb(df_gr)\n",
    "loader_legal_train, loader_legal_val = preprocess_legal(df_legal_preprocessed)"
   ],
   "metadata": {},
   "execution_count": null,
   "outputs": []
  },
  {
   "cell_type": "code",
   "source": [
    "def train(model, loader_train, loader_val):\n",
    "    train_hist = {'train_losses': [],\n",
    "        'train_accs': [],\n",
    "        'train_f1s': [],\n",
    "        'val_losses': [],\n",
    "        'val_accs': [],\n",
    "        'val_f1s': []}\n",
    "    progress_bar = tqdm(range(num_training_steps))\n",
    "    for epoch in range(num_epochs):\n",
    "        model.train()\n",
    "        final_loss = 0\n",
    "        predictions , true_labels = [], []\n",
    "        for batch in loader_train:\n",
    "            batch = {k: v.to(device) for k, v in batch.items()}\n",
    "            outputs = model(**batch)\n",
    "            loss = outputs.loss\n",
    "            loss.backward()\n",
    "            true_labels.extend(batch['labels'].detach().cpu().numpy().ravel())\n",
    "            predictions.extend(np.argmax(outputs[1].detach().cpu().numpy(), axis=2).ravel())\n",
    "\n",
    "            optimizer.step()\n",
    "            lr_scheduler.step()\n",
    "            optimizer.zero_grad()\n",
    "            progress_bar.update(1)\n",
    "            final_loss+=loss.item()\n",
    "\n",
    "        train_hist['train_losses'].append(final_loss/len(loader_train))\n",
    "        print(f'Training loss: {final_loss/len(loader_train)}')\n",
    "        train_hist['train_f1s'].append(f1_score(predictions, true_labels, average='macro'))\n",
    "        print('Training F1: {}'.format(f1_score(predictions, true_labels, average='macro')))\n",
    "        train_hist['train_accs'].append(accuracy_score(predictions, true_labels))\n",
    "        print(f'Training acc: {accuracy_score(predictions, true_labels)}')\n",
    "        print('*'*20)\n",
    "\n",
    "        model.eval()\n",
    "        final_loss = 0\n",
    "        predictions , true_labels = [], []\n",
    "        for batch in loader_val:\n",
    "            batch = {k: v.to(device) for k, v in batch.items()}\n",
    "            outputs = model(**batch)\n",
    "            final_loss+=outputs.loss.item()\n",
    "            true_labels.extend(batch['labels'].detach().cpu().numpy().ravel())\n",
    "            predictions.extend(np.argmax(outputs[1].detach().cpu().numpy(), axis=2).ravel())\n",
    "        train_hist['val_losses'].append(final_loss/len(loader_val))\n",
    "        print(f'Validation loss: {final_loss/len(loader_val)}')\n",
    "        train_hist['val_f1s'].append(f1_score(predictions, true_labels, average='macro'))\n",
    "        print('Vallidation F1: {}'.format(f1_score(predictions, true_labels, average='macro')))\n",
    "        train_hist['val_accs'].append(accuracy_score(predictions, true_labels))\n",
    "        print(f'Validaton acc: {accuracy_score(predictions, true_labels)}')\n",
    "        print('*'*20)\n",
    "    return train_hist"
   ],
   "metadata": {
    "execution": {
     "iopub.status.busy": "2024-04-06T21:13:42.130179Z",
     "iopub.execute_input": "2024-04-06T21:13:42.130564Z",
     "iopub.status.idle": "2024-04-06T21:13:42.151105Z",
     "shell.execute_reply.started": "2024-04-06T21:13:42.130521Z",
     "shell.execute_reply": "2024-04-06T21:13:42.150026Z"
    },
    "trusted": true
   },
   "execution_count": 24,
   "outputs": []
  },
  {
   "cell_type": "code",
   "source": [
    "def plot_hist(train_hist):\n",
    "    # Plotting train and validation loss graph\n",
    "    plt.title('Loss')\n",
    "    plt.plot(train_hist['train_losses'], label='train')\n",
    "    plt.plot(train_hist['val_losses'], label='test')\n",
    "    plt.legend()\n",
    "    plt.savefig('loss_graph.png')\n",
    "    plt.show()\n",
    "\n",
    "    # Plotting train and validation accuracy graph\n",
    "    plt.title('Accuracy')\n",
    "    plt.plot(train_hist['train_accs'], label='train')\n",
    "    plt.plot(train_hist['val_accs'], label='test')\n",
    "    plt.legend()\n",
    "    plt.savefig('acc_graph.png')\n",
    "    plt.show()\n",
    "\n",
    "    # Plotting train and validation F1 score graph\n",
    "    plt.title('F1 score')\n",
    "    plt.plot(train_hist['train_f1s'], label='train')\n",
    "    plt.plot(train_hist['val_f1s'], label='test')\n",
    "    plt.legend()\n",
    "    plt.savefig('f1_graph.png')\n",
    "    plt.show()"
   ],
   "metadata": {
    "execution": {
     "iopub.status.busy": "2024-04-06T21:13:42.152712Z",
     "iopub.execute_input": "2024-04-06T21:13:42.153061Z",
     "iopub.status.idle": "2024-04-06T21:13:42.162908Z",
     "shell.execute_reply.started": "2024-04-06T21:13:42.153025Z",
     "shell.execute_reply": "2024-04-06T21:13:42.162149Z"
    },
    "trusted": true
   },
   "execution_count": 25,
   "outputs": []
  },
  {
   "cell_type": "code",
   "source": [
    "model = AutoModelForTokenClassification.from_pretrained(MODEL_NAME)\n",
    "\n",
    "param_optimizer = list(model.classifier.named_parameters())\n",
    "optimizer_grouped_parameters = [{\"params\": [p for n, p in param_optimizer]}]\n",
    "optimizer = AdamW(\n",
    "    optimizer_grouped_parameters,\n",
    "    lr=5e-5,\n",
    "    eps=1e-12\n",
    ")\n",
    "\n",
    "device = torch.device(\"cuda\") if torch.cuda.is_available() else torch.device(\"cpu\")\n",
    "model.to(device)\n",
    "\n",
    "num_epochs = 10\n",
    "num_training_steps = num_epochs * len(loader_train)\n",
    "lr_scheduler = get_scheduler(\n",
    "    \"linear\",\n",
    "    optimizer=optimizer,\n",
    "    num_warmup_steps=0,\n",
    "    num_training_steps=num_training_steps\n",
    ")"
   ],
   "metadata": {
    "execution": {
     "iopub.status.busy": "2024-04-06T21:13:42.163921Z",
     "iopub.execute_input": "2024-04-06T21:13:42.164170Z",
     "iopub.status.idle": "2024-04-06T21:13:42.175120Z",
     "shell.execute_reply.started": "2024-04-06T21:13:42.164146Z",
     "shell.execute_reply": "2024-04-06T21:13:42.174366Z"
    },
    "trusted": true
   },
   "execution_count": 26,
   "outputs": []
  },
  {
   "cell_type": "code",
   "source": [
    "hist = train(model, loader_train, loader_val)\n",
    "plot_hist(hist)"
   ],
   "metadata": {
    "execution": {
     "iopub.status.busy": "2024-04-06T21:13:42.178592Z",
     "iopub.execute_input": "2024-04-06T21:13:42.178864Z",
     "iopub.status.idle": "2024-04-06T21:13:42.183936Z",
     "shell.execute_reply.started": "2024-04-06T21:13:42.178838Z",
     "shell.execute_reply": "2024-04-06T21:13:42.183250Z"
    },
    "trusted": true
   },
   "execution_count": 27,
   "outputs": []
  },
  {
   "cell_type": "code",
   "source": [
    "test_sentence = \"\"\"\n",
    "Mr. Trump’s tweets began just moments after a Fox News report by Mike Tobin, a \n",
    "reporter for the network, about protests in Minnesota and elsewhere. \n",
    "\"\"\"\n",
    "tokenized_sentence = tokenizer.encode(test_sentence)\n",
    "input_ids = torch.tensor([tokenized_sentence]).cuda()\n",
    "with torch.no_grad():\n",
    "    output = model(input_ids)\n",
    "label_indices = np.argmax(output[0].to('cpu').numpy(), axis=2)\n",
    "\n",
    "tokens = tokenizer.convert_ids_to_tokens(input_ids.to('cpu').numpy()[0])\n",
    "new_tokens, new_labels = [], []\n",
    "\n",
    "for token, label_idx in zip(tokens, label_indices[0]):\n",
    "    if token.startswith(\"##\"):\n",
    "        new_tokens[-1] = new_tokens[-1] + token[2:]\n",
    "    else:\n",
    "        new_labels.append(label_idx)\n",
    "        new_tokens.append(token)\n",
    "        \n",
    "for token, label in zip(new_tokens, new_labels):\n",
    "    print(\"{}\\t{}\".format(model.config.id2label[label], token))"
   ],
   "metadata": {
    "execution": {
     "iopub.status.busy": "2024-04-06T21:13:42.185232Z",
     "iopub.execute_input": "2024-04-06T21:13:42.185558Z",
     "iopub.status.idle": "2024-04-06T21:13:42.194024Z",
     "shell.execute_reply.started": "2024-04-06T21:13:42.185530Z",
     "shell.execute_reply": "2024-04-06T21:13:42.193222Z"
    },
    "trusted": true
   },
   "execution_count": 28,
   "outputs": []
  },
  {
   "cell_type": "code",
   "source": [
    "num_training_steps = num_epochs * len(loader_legal_train)\n",
    "hist = train(model, loader_legal_train, loader_legal_val)\n",
    "plot_hist(hist)"
   ],
   "metadata": {
    "execution": {
     "iopub.status.busy": "2024-04-06T21:13:42.195049Z",
     "iopub.execute_input": "2024-04-06T21:13:42.195337Z",
     "iopub.status.idle": "2024-04-06T21:13:42.205568Z",
     "shell.execute_reply.started": "2024-04-06T21:13:42.195305Z",
     "shell.execute_reply": "2024-04-06T21:13:42.204811Z"
    },
    "trusted": true
   },
   "execution_count": 29,
   "outputs": []
  },
  {
   "cell_type": "code",
   "source": [
    "test_sentence = \"\"\"\n",
    "Mr. Trump’s tweets began just moments after a Fox News report by Mike Tobin, a \n",
    "reporter for the network, about protests in Minnesota and elsewhere. \n",
    "\"\"\"\n",
    "tokenized_sentence = tokenizer.encode(test_sentence)\n",
    "input_ids = torch.tensor([tokenized_sentence]).cuda()\n",
    "with torch.no_grad():\n",
    "    output = model(input_ids)\n",
    "label_indices = np.argmax(output[0].to('cpu').numpy(), axis=2)\n",
    "\n",
    "tokens = tokenizer.convert_ids_to_tokens(input_ids.to('cpu').numpy()[0])\n",
    "new_tokens, new_labels = [], []\n",
    "\n",
    "for token, label_idx in zip(tokens, label_indices[0]):\n",
    "    if token.startswith(\"##\"):\n",
    "        new_tokens[-1] = new_tokens[-1] + token[2:]\n",
    "    else:\n",
    "        new_labels.append(label_idx)\n",
    "        new_tokens.append(token)\n",
    "        \n",
    "for token, label in zip(new_tokens, new_labels):\n",
    "    print(\"{}\\t{}\".format(model.config.id2label[label], token))"
   ],
   "metadata": {
    "execution": {
     "iopub.status.busy": "2024-04-06T21:13:42.206623Z",
     "iopub.execute_input": "2024-04-06T21:13:42.206896Z",
     "iopub.status.idle": "2024-04-06T21:13:42.214493Z",
     "shell.execute_reply.started": "2024-04-06T21:13:42.206860Z",
     "shell.execute_reply": "2024-04-06T21:13:42.213700Z"
    },
    "trusted": true
   },
   "execution_count": 30,
   "outputs": []
  },
  {
   "cell_type": "code",
   "source": [
    "MODEL_NAME = \"microsoft/deberta-base\"\n",
    "tokenizer = AutoTokenizer.from_pretrained(MODEL_NAME)"
   ],
   "metadata": {
    "execution": {
     "iopub.status.busy": "2024-04-06T21:13:42.215616Z",
     "iopub.execute_input": "2024-04-06T21:13:42.215889Z",
     "iopub.status.idle": "2024-04-06T21:13:42.224096Z",
     "shell.execute_reply.started": "2024-04-06T21:13:42.215851Z",
     "shell.execute_reply": "2024-04-06T21:13:42.223295Z"
    },
    "trusted": true
   },
   "execution_count": 31,
   "outputs": []
  },
  {
   "cell_type": "code",
   "source": [
    "data_train = NERDataset(df_train)\n",
    "data_val = NERDataset(df_val)\n",
    "data_test = NERDataset(df_test)\n",
    "\n",
    "data_legal_train = NERLegalDataset(df_legal_train)\n",
    "data_legal_val = NERLegalDataset(df_legal_val)\n",
    "data_legal_test = NERLegalDataset(df_legal_test)\n",
    "\n",
    "# initialize DataLoader used to return batches for training/validation\n",
    "loader_train = torch.utils.data.DataLoader(\n",
    "    data_train, batch_size=32, num_workers=4\n",
    ")\n",
    "\n",
    "loader_val = torch.utils.data.DataLoader(\n",
    "    data_val, batch_size=32, num_workers=4\n",
    ")\n",
    "\n",
    "loader_legal_train = torch.utils.data.DataLoader(\n",
    "    data_legal_train, batch_size=32, num_workers=4\n",
    ")\n",
    "\n",
    "loader_legal_val = torch.utils.data.DataLoader(\n",
    "    data_legal_val, batch_size=32, num_workers=4\n",
    ")"
   ],
   "metadata": {
    "execution": {
     "iopub.status.busy": "2024-04-06T21:13:42.225125Z",
     "iopub.execute_input": "2024-04-06T21:13:42.225423Z",
     "iopub.status.idle": "2024-04-06T21:13:45.189903Z",
     "shell.execute_reply.started": "2024-04-06T21:13:42.225396Z",
     "shell.execute_reply": "2024-04-06T21:13:45.189144Z"
    },
    "trusted": true
   },
   "execution_count": 32,
   "outputs": [
    {
     "output_type": "display_data",
     "data": {
      "text/plain": "Downloading:   0%|          | 0.00/474 [00:00<?, ?B/s]",
      "application/vnd.jupyter.widget-view+json": {
       "version_major": 2,
       "version_minor": 0,
       "model_id": "aad85c39ca8342e1810c14090a93f850"
      }
     },
     "metadata": {}
    },
    {
     "output_type": "display_data",
     "data": {
      "text/plain": "Downloading:   0%|          | 0.00/899k [00:00<?, ?B/s]",
      "application/vnd.jupyter.widget-view+json": {
       "version_major": 2,
       "version_minor": 0,
       "model_id": "ccdcf78a1aa6484081acb7a12b22d0c1"
      }
     },
     "metadata": {}
    },
    {
     "output_type": "display_data",
     "data": {
      "text/plain": "Downloading:   0%|          | 0.00/456k [00:00<?, ?B/s]",
      "application/vnd.jupyter.widget-view+json": {
       "version_major": 2,
       "version_minor": 0,
       "model_id": "2ca78465a44c4373978801240b525483"
      }
     },
     "metadata": {}
    },
    {
     "output_type": "display_data",
     "data": {
      "text/plain": "Downloading:   0%|          | 0.00/52.0 [00:00<?, ?B/s]",
      "application/vnd.jupyter.widget-view+json": {
       "version_major": 2,
       "version_minor": 0,
       "model_id": "85142d42bda64fc9a00e4ffdd90e3221"
      }
     },
     "metadata": {}
    }
   ]
  },
  {
   "cell_type": "code",
   "source": [
    "model_deberta = AutoModelForTokenClassification.from_pretrained(MODEL_NAME, num_labels=)\n",
    "\n",
    "param_optimizer = list(model_deberta.classifier.named_parameters())\n",
    "optimizer_grouped_parameters = [{\"params\": [p for n, p in param_optimizer]}]\n",
    "optimizer = AdamW(\n",
    "    optimizer_grouped_parameters,\n",
    "    lr=5e-5,\n",
    "    eps=1e-12\n",
    ")\n",
    "\n",
    "device = torch.device(\"cuda\") if torch.cuda.is_available() else torch.device(\"cpu\")\n",
    "model_deberta.to(device)\n",
    "\n",
    "# add scheduler to linearly reduce the learning rate throughout the epochs.\n",
    "num_epochs = 10\n",
    "num_training_steps = num_epochs * len(loader_train)\n",
    "lr_scheduler = get_scheduler(\n",
    "    \"linear\",\n",
    "    optimizer=optimizer,\n",
    "    num_warmup_steps=0,\n",
    "    num_training_steps=num_training_steps\n",
    ")"
   ],
   "metadata": {
    "execution": {
     "iopub.status.busy": "2024-04-06T21:13:45.190954Z",
     "iopub.execute_input": "2024-04-06T21:13:45.191221Z",
     "iopub.status.idle": "2024-04-06T21:13:45.194878Z",
     "shell.execute_reply.started": "2024-04-06T21:13:45.191196Z",
     "shell.execute_reply": "2024-04-06T21:13:45.194030Z"
    },
    "trusted": true
   },
   "execution_count": 33,
   "outputs": []
  },
  {
   "cell_type": "code",
   "source": [
    "hist = train(model_deberta, loader_train, loader_val)\n",
    "plot_hist(hist)"
   ],
   "metadata": {
    "execution": {
     "iopub.status.busy": "2024-04-06T21:13:45.196021Z",
     "iopub.execute_input": "2024-04-06T21:13:45.196436Z",
     "iopub.status.idle": "2024-04-06T21:13:45.205978Z",
     "shell.execute_reply.started": "2024-04-06T21:13:45.196383Z",
     "shell.execute_reply": "2024-04-06T21:13:45.205124Z"
    },
    "trusted": true
   },
   "execution_count": 34,
   "outputs": []
  },
  {
   "cell_type": "code",
   "source": [
    "test_sentence = \"\"\"\n",
    "Mr. Trump’s tweets began just moments after a Fox News report by Mike Tobin, a \n",
    "reporter for the network, about protests in Minnesota and elsewhere. \n",
    "\"\"\"\n",
    "tokenized_sentence = tokenizer.encode(test_sentence)\n",
    "input_ids = torch.tensor([tokenized_sentence]).cuda()\n",
    "with torch.no_grad():\n",
    "    output = model_deberta(input_ids)\n",
    "label_indices = np.argmax(output[0].to('cpu').numpy(), axis=2)\n",
    "\n",
    "tokens = tokenizer.convert_ids_to_tokens(input_ids.to('cpu').numpy()[0])\n",
    "new_tokens, new_labels = [], []\n",
    "\n",
    "for token, label_idx in zip(tokens, label_indices[0]):\n",
    "    if token.startswith(\"##\"):\n",
    "        new_tokens[-1] = new_tokens[-1] + token[2:]\n",
    "    else:\n",
    "        new_labels.append(label_idx)\n",
    "        new_tokens.append(token)\n",
    "        \n",
    "for token, label in zip(new_tokens, new_labels):\n",
    "    print(\"{}\\t{}\".format(model_deberta.config.id2label[label], token))"
   ],
   "metadata": {},
   "execution_count": null,
   "outputs": []
  },
  {
   "cell_type": "code",
   "source": [
    "num_training_steps = num_epochs * len(loader_legal_train)\n",
    "hist = train(model_deberta, loader_legal_train, loader_legal_val)\n",
    "plot_hist(hist)"
   ],
   "metadata": {
    "execution": {
     "iopub.status.busy": "2024-04-06T21:13:45.207083Z",
     "iopub.execute_input": "2024-04-06T21:13:45.207369Z",
     "iopub.status.idle": "2024-04-06T21:13:45.214526Z",
     "shell.execute_reply.started": "2024-04-06T21:13:45.207343Z",
     "shell.execute_reply": "2024-04-06T21:13:45.213847Z"
    },
    "trusted": true
   },
   "execution_count": 35,
   "outputs": []
  },
  {
   "cell_type": "code",
   "source": [
    "test_sentence = \"\"\"\n",
    "Mr. Trump’s tweets began just moments after a Fox News report by Mike Tobin, a \n",
    "reporter for the network, about protests in Minnesota and elsewhere. \n",
    "\"\"\"\n",
    "tokenized_sentence = tokenizer.encode(test_sentence)\n",
    "input_ids = torch.tensor([tokenized_sentence]).cuda()\n",
    "with torch.no_grad():\n",
    "    output = model_deberta(input_ids)\n",
    "label_indices = np.argmax(output[0].to('cpu').numpy(), axis=2)\n",
    "\n",
    "tokens = tokenizer.convert_ids_to_tokens(input_ids.to('cpu').numpy()[0])\n",
    "new_tokens, new_labels = [], []\n",
    "\n",
    "for token, label_idx in zip(tokens, label_indices[0]):\n",
    "    if token.startswith(\"##\"):\n",
    "        new_tokens[-1] = new_tokens[-1] + token[2:]\n",
    "    else:\n",
    "        new_labels.append(label_idx)\n",
    "        new_tokens.append(token)\n",
    "        \n",
    "for token, label in zip(new_tokens, new_labels):\n",
    "    print(\"{}\\t{}\".format(model_deberta.config.id2label[label], token))"
   ],
   "metadata": {},
   "execution_count": null,
   "outputs": []
  },
  {
   "cell_type": "code",
   "source": [
    "legal_entity_mapping = {\n",
    "    'O':0, 'CASE_NUMBER':1, 'COURT':2,\n",
    "    'DATE':3, 'GPE':4, 'JUDGE':5,\n",
    "    'ORG':6, 'OTHER_PERSON':7, 'PETITIONER':8,\n",
    "    'PRECEDENT':9, 'PROVISION':10, 'RESPONDENT': 11,\n",
    "    'STATUTE': 12, 'WITNESS':13\n",
    "}\n",
    "\n",
    "data_legal_train = NERLegalDataset(df_legal_train)\n",
    "data_legal_val = NERLegalDataset(df_legal_val)\n",
    "data_legal_test = NERLegalDataset(df_legal_test)\n",
    "\n",
    "loader_legal_train = torch.utils.data.DataLoader(\n",
    "    data_legal_train, batch_size=32, num_workers=4\n",
    ")\n",
    "\n",
    "loader_legal_val = torch.utils.data.DataLoader(\n",
    "    data_legal_val, batch_size=32, num_workers=4\n",
    ")\n",
    "\n",
    "model_deberta = AutoModelForTokenClassification.from_pretrained(MODEL_NAME, num_labels=len(legal_entity_mapping))\n",
    "\n",
    "param_optimizer = list(model_deberta.classifier.named_parameters())\n",
    "optimizer_grouped_parameters = [{\"params\": [p for n, p in param_optimizer]}]\n",
    "optimizer = AdamW(\n",
    "    optimizer_grouped_parameters,\n",
    "    lr=5e-5,\n",
    "    eps=1e-12\n",
    ")\n",
    "\n",
    "device = torch.device(\"cuda\") if torch.cuda.is_available() else torch.device(\"cpu\")\n",
    "model_deberta.to(device)\n",
    "\n",
    "# add scheduler to linearly reduce the learning rate throughout the epochs.\n",
    "num_epochs = 10\n",
    "num_training_steps = num_epochs * len(loader_train)\n",
    "lr_scheduler = get_scheduler(\n",
    "    \"linear\",\n",
    "    optimizer=optimizer,\n",
    "    num_warmup_steps=0,\n",
    "    num_training_steps=num_training_steps\n",
    ")"
   ],
   "metadata": {
    "execution": {
     "iopub.status.busy": "2024-04-06T21:13:45.215658Z",
     "iopub.execute_input": "2024-04-06T21:13:45.215970Z",
     "iopub.status.idle": "2024-04-06T21:14:08.233619Z",
     "shell.execute_reply.started": "2024-04-06T21:13:45.215943Z",
     "shell.execute_reply": "2024-04-06T21:14:08.232843Z"
    },
    "trusted": true
   },
   "execution_count": 36,
   "outputs": [
    {
     "output_type": "display_data",
     "data": {
      "text/plain": "Downloading:   0%|          | 0.00/559M [00:00<?, ?B/s]",
      "application/vnd.jupyter.widget-view+json": {
       "version_major": 2,
       "version_minor": 0,
       "model_id": "0d6a3c9292e847e08d18b102bf14502e"
      }
     },
     "metadata": {}
    },
    {
     "name": "stderr",
     "text": "Some weights of the model checkpoint at microsoft/deberta-base were not used when initializing DebertaForTokenClassification: ['lm_predictions.lm_head.LayerNorm.weight', 'lm_predictions.lm_head.dense.weight', 'lm_predictions.lm_head.bias', 'lm_predictions.lm_head.dense.bias', 'deberta.embeddings.position_embeddings.weight', 'lm_predictions.lm_head.LayerNorm.bias']\n- This IS expected if you are initializing DebertaForTokenClassification from the checkpoint of a model trained on another task or with another architecture (e.g. initializing a BertForSequenceClassification model from a BertForPreTraining model).\n- This IS NOT expected if you are initializing DebertaForTokenClassification from the checkpoint of a model that you expect to be exactly identical (initializing a BertForSequenceClassification model from a BertForSequenceClassification model).\nSome weights of DebertaForTokenClassification were not initialized from the model checkpoint at microsoft/deberta-base and are newly initialized: ['classifier.weight', 'classifier.bias']\nYou should probably TRAIN this model on a down-stream task to be able to use it for predictions and inference.\n",
     "output_type": "stream"
    }
   ]
  },
  {
   "cell_type": "code",
   "source": [
    "num_training_steps = num_epochs * len(loader_legal_train)\n",
    "hist = train(model_deberta, loader_legal_train, loader_legal_val)\n",
    "plot_hist(hist)"
   ],
   "metadata": {
    "execution": {
     "iopub.status.busy": "2024-04-06T21:14:08.234856Z",
     "iopub.execute_input": "2024-04-06T21:14:08.235230Z",
     "iopub.status.idle": "2024-04-06T21:35:17.429035Z",
     "shell.execute_reply.started": "2024-04-06T21:14:08.235187Z",
     "shell.execute_reply": "2024-04-06T21:35:17.428026Z"
    },
    "trusted": true
   },
   "execution_count": 37,
   "outputs": [
    {
     "output_type": "display_data",
     "data": {
      "text/plain": "  0%|          | 0/2360 [00:00<?, ?it/s]",
      "application/vnd.jupyter.widget-view+json": {
       "version_major": 2,
       "version_minor": 0,
       "model_id": "b394709e7dca443f9af698aacf86d57d"
      }
     },
     "metadata": {}
    },
    {
     "name": "stdout",
     "text": "Training loss: 1.5786168110572685\nTraining F1: 0.02726377995796342\nTraining acc: 0.17116392587440382\n********************\nValidation loss: 1.2136746644973755\nVallidation F1: 0.027103141284548295\nValidaton acc: 0.1862158669141039\n********************\nTraining loss: 1.1989089328858813\nTraining F1: 0.03655076634618357\nTraining acc: 0.20721652258876525\n********************\nValidation loss: 1.0803569118181864\nVallidation F1: 0.05054499615847051\nValidaton acc: 0.19155123276776245\n********************\nTraining loss: 1.1091413386797502\nTraining F1: 0.052067877818189244\nTraining acc: 0.22801362943826178\n********************\nValidation loss: 0.987675541639328\nVallidation F1: 0.06531022568047536\nValidaton acc: 0.19731740455991517\n********************\nTraining loss: 1.0432962709564273\nTraining F1: 0.06314844039449545\nTraining acc: 0.26656171336777956\n********************\nValidation loss: 0.9192221879959106\nVallidation F1: 0.07912375339301261\nValidaton acc: 0.20098753976670203\n********************\nTraining loss: 0.9928644925861035\nTraining F1: 0.07291101854062768\nTraining acc: 0.32739011989931105\n********************\nValidation loss: 0.8658363143603007\nVallidation F1: 0.10179278719075256\nValidaton acc: 0.20406117444326619\n********************\nTraining loss: 0.9529591498233504\nTraining F1: 0.08771418256819871\nTraining acc: 0.4142167213169051\n********************\nValidation loss: 0.8245798071225484\nVallidation F1: 0.12320249600824693\nValidaton acc: 0.20610750265111347\n********************\nTraining loss: 0.9175341283365831\nTraining F1: 0.10343296541738578\nTraining acc: 0.5080567700052994\n********************\nValidation loss: 0.7903094569842021\nVallidation F1: 0.14803046016216673\nValidaton acc: 0.2084769353128314\n********************\nTraining loss: 0.8917534876677949\nTraining F1: 0.1190044830721138\nTraining acc: 0.5957838583068362\n********************\nValidation loss: 0.7622861266136169\nVallidation F1: 0.2490990817184886\nValidaton acc: 0.939869432661718\n********************\nTraining loss: 0.866052382325722\nTraining F1: 0.1344471872634501\nTraining acc: 0.6724008015368309\n********************\nValidation loss: 0.7382723132769267\nVallidation F1: 0.26700462385267526\nValidaton acc: 0.9414766702014846\n********************\nTraining loss: 0.8459368128392656\nTraining F1: 0.14976824000746225\nTraining acc: 0.7239945598171701\n********************\nValidation loss: 0.7180727938810985\nVallidation F1: 0.28120835756670254\nValidaton acc: 0.9426448170731707\n********************\n",
     "output_type": "stream"
    },
    {
     "output_type": "display_data",
     "data": {
      "text/plain": "<Figure size 432x288 with 1 Axes>",
      "image/png": "[encoded data removed]"
     },
     "metadata": {
      "needs_background": "light"
     }
    },
    {
     "output_type": "display_data",
     "data": {
      "text/plain": "<Figure size 432x288 with 1 Axes>",
      "image/png": "[encoded data removed]"
     },
     "metadata": {
      "needs_background": "light"
     }
    },
    {
     "output_type": "display_data",
     "data": {
      "text/plain": "<Figure size 432x288 with 1 Axes>",
      "image/png": "[encoded data removed]"
     },
     "metadata": {
      "needs_background": "light"
     }
    }
   ]
  },
  {
   "cell_type": "code",
   "source": [
    "test_sentence = \"\"\"\n",
    "Mr. Trump’s tweets began just moments after a Fox News report by Mike Tobin, a \n",
    "reporter for the network, about protests in Minnesota and elsewhere. \n",
    "\"\"\"\n",
    "tokenized_sentence = tokenizer.encode(test_sentence)\n",
    "input_ids = torch.tensor([tokenized_sentence]).cuda()\n",
    "with torch.no_grad():\n",
    "    output = model_deberta(input_ids)\n",
    "label_indices = np.argmax(output[0].to('cpu').numpy(), axis=2)\n",
    "\n",
    "tokens = tokenizer.convert_ids_to_tokens(input_ids.to('cpu').numpy()[0])\n",
    "new_tokens, new_labels = [], []\n",
    "\n",
    "for token, label_idx in zip(tokens, label_indices[0]):\n",
    "    if token.startswith(\"##\"):\n",
    "        new_tokens[-1] = new_tokens[-1] + token[2:]\n",
    "    else:\n",
    "        new_labels.append(label_idx)\n",
    "        new_tokens.append(token)\n",
    "        \n",
    "for token, label in zip(new_tokens, new_labels):\n",
    "    print(\"{}\\t{}\".format(model_deberta.config.id2label[label], token))"
   ],
   "metadata": {
    "execution": {
     "iopub.status.busy": "2024-04-06T21:42:10.635786Z",
     "iopub.execute_input": "2024-04-06T21:42:10.636154Z",
     "iopub.status.idle": "2024-04-06T21:42:10.673871Z",
     "shell.execute_reply.started": "2024-04-06T21:42:10.636122Z",
     "shell.execute_reply": "2024-04-06T21:42:10.673105Z"
    },
    "trusted": true
   },
   "execution_count": 41,
   "outputs": [
    {
     "name": "stdout",
     "text": "LABEL_10\t[CLS]\nLABEL_0\tĊ\nLABEL_9\tMr\nLABEL_9\t.\nLABEL_13\tĠTrump\nLABEL_9\tâĢ\nLABEL_0\tĻ\nLABEL_10\ts\nLABEL_2\tĠtweets\nLABEL_10\tĠbegan\nLABEL_10\tĠjust\nLABEL_3\tĠmoments\nLABEL_3\tĠafter\nLABEL_9\tĠa\nLABEL_3\tĠFox\nLABEL_0\tĠNews\nLABEL_9\tĠreport\nLABEL_9\tĠby\nLABEL_7\tĠMike\nLABEL_7\tĠTob\nLABEL_0\tin\nLABEL_3\t,\nLABEL_10\tĠa\nLABEL_10\tĠ\nLABEL_9\tĊ\nLABEL_0\tre\nLABEL_0\tporter\nLABEL_0\tĠfor\nLABEL_0\tĠthe\nLABEL_0\tĠnetwork\nLABEL_3\t,\nLABEL_0\tĠabout\nLABEL_0\tĠprotests\nLABEL_0\tĠin\nLABEL_9\tĠMinnesota\nLABEL_9\tĠand\nLABEL_0\tĠelsewhere\nLABEL_9\t.\nLABEL_0\tĠ\nLABEL_9\tĊ\nLABEL_13\t[SEP]\n",
     "output_type": "stream"
    }
   ]
  },
  {
   "cell_type": "markdown",
   "source": [
    "<a id =topic11> </a>\n",
    "<div class=\"heading\">\n",
    "   <h1><span style=\"color: white\">Other Usefull Resources and References</span></h1>\n",
    "</div>"
   ],
   "metadata": {}
  },
  {
   "cell_type": "markdown",
   "source": [
    "* https://en.wikipedia.org/wiki/Named-entity_recognition\n",
    "* https://towardsdatascience.com/named-entity-recognition-with-nltk-and-spacy-8c4a7d88e7da\n",
    "* https://www.guru99.com/pos-tagging-chunking-nltk.html\n",
    "* https://www.geeksforgeeks.org/nlp-extracting-named-entities/\n",
    "* https://spacy.io/usage/linguistic-features#named-entities\n",
    "* https://www.kaggle.com/abhishek/entity-extraction-model-using-bert-pytorch\n",
    "* https://huggingface.co/course/chapter3/4?fw=pt\n",
    "* https://www.depends-on-the-definition.com/named-entity-recognition-with-bert/\n",
    "* https://www.lighttag.io/blog/sequence-labeling-with-transformers/example\n",
    "* https://colab.research.google.com/github/huggingface/notebooks/blob/master/examples/token_classification.ipynb#scrollTo=545PP3o8IrJV\n",
    "* https://discuss.huggingface.co/search?q=token%20classification"
   ],
   "metadata": {}
  },
  {
   "cell_type": "code",
   "source": [],
   "metadata": {},
   "execution_count": null,
   "outputs": []
  }
 ]
}
