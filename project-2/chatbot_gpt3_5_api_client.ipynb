{
  "cells": [
    {
      "cell_type": "code",
      "execution_count": 581,
      "metadata": {
        "id": "jYXAwwv_o-sd"
      },
      "outputs": [],
      "source": [
        "try:\n",
        "    from openai import OpenAI\n",
        "except:\n",
        "  %pip install openai\n",
        "  from openai import OpenAI\n",
        "\n",
        "import os\n",
        "import pandas as pd"
      ]
    },
    {
      "cell_type": "code",
      "execution_count": 582,
      "metadata": {},
      "outputs": [],
      "source": [
        "OPENAI_API_KEY = os.getenv(\"SECRET_KEY\")"
      ]
    },
    {
      "cell_type": "code",
      "execution_count": 583,
      "metadata": {},
      "outputs": [],
      "source": [
        "chat_client = OpenAI(api_key=OPENAI_API_KEY)"
      ]
    },
    {
      "cell_type": "code",
      "execution_count": 584,
      "metadata": {},
      "outputs": [],
      "source": [
        "dataset_csv = pd.read_csv(\"datasets/faqsUcfDataset.csv\", encoding=\"windows-1252\", on_bad_lines='skip')\n",
        "data = dataset_csv.to_json(\"FAQ.json\")"
      ]
    },
    {
      "cell_type": "code",
      "execution_count": 585,
      "metadata": {},
      "outputs": [
        {
          "data": {
            "text/html": [
              "<div>\n",
              "<style scoped>\n",
              "    .dataframe tbody tr th:only-of-type {\n",
              "        vertical-align: middle;\n",
              "    }\n",
              "\n",
              "    .dataframe tbody tr th {\n",
              "        vertical-align: top;\n",
              "    }\n",
              "\n",
              "    .dataframe thead th {\n",
              "        text-align: right;\n",
              "    }\n",
              "</style>\n",
              "<table border=\"1\" class=\"dataframe\">\n",
              "  <thead>\n",
              "    <tr style=\"text-align: right;\">\n",
              "      <th></th>\n",
              "      <th>FAQ</th>\n",
              "      <th>Answer</th>\n",
              "    </tr>\n",
              "  </thead>\n",
              "  <tbody>\n",
              "    <tr>\n",
              "      <th>0</th>\n",
              "      <td>Are dual enrollment college transcripts requir...</td>\n",
              "      <td>If you completed dual enrollment coursework wh...</td>\n",
              "    </tr>\n",
              "    <tr>\n",
              "      <th>1</th>\n",
              "      <td>Do I need to have my international academic cr...</td>\n",
              "      <td>International high school credentials are eval...</td>\n",
              "    </tr>\n",
              "    <tr>\n",
              "      <th>2</th>\n",
              "      <td>Does UCF Admissions require recommendations, e...</td>\n",
              "      <td>Letters of recommendation are not required and...</td>\n",
              "    </tr>\n",
              "    <tr>\n",
              "      <th>3</th>\n",
              "      <td>Does UCF guarantee admission based upon class ...</td>\n",
              "      <td>UCF no longer guarantees admission for Florida...</td>\n",
              "    </tr>\n",
              "    <tr>\n",
              "      <th>4</th>\n",
              "      <td>Does UCF have specific essay or personal state...</td>\n",
              "      <td>Although optional, an essay can assist the Adm...</td>\n",
              "    </tr>\n",
              "  </tbody>\n",
              "</table>\n",
              "</div>"
            ],
            "text/plain": [
              "                                                 FAQ  \\\n",
              "0  Are dual enrollment college transcripts requir...   \n",
              "1  Do I need to have my international academic cr...   \n",
              "2  Does UCF Admissions require recommendations, e...   \n",
              "3  Does UCF guarantee admission based upon class ...   \n",
              "4  Does UCF have specific essay or personal state...   \n",
              "\n",
              "                                              Answer  \n",
              "0  If you completed dual enrollment coursework wh...  \n",
              "1  International high school credentials are eval...  \n",
              "2  Letters of recommendation are not required and...  \n",
              "3  UCF no longer guarantees admission for Florida...  \n",
              "4  Although optional, an essay can assist the Adm...  "
            ]
          },
          "execution_count": 585,
          "metadata": {},
          "output_type": "execute_result"
        }
      ],
      "source": [
        "df = pd.read_json(\"FAQ.json\")\n",
        "df.head()"
      ]
    },
    {
      "cell_type": "code",
      "execution_count": 586,
      "metadata": {},
      "outputs": [
        {
          "data": {
            "text/plain": [
              "[{'role': 'user',\n",
              "  'content': 'Are dual enrollment college transcripts required for freshman admission?'},\n",
              " {'role': 'user',\n",
              "  'content': 'Do I need to have my international academic credentials evaluated?'},\n",
              " {'role': 'user',\n",
              "  'content': 'Does UCF Admissions require recommendations, essays or interviews?'},\n",
              " {'role': 'user',\n",
              "  'content': 'Does UCF guarantee admission based upon class rank?'},\n",
              " {'role': 'user',\n",
              "  'content': 'Does UCF have specific essay or personal statement topics?'},\n",
              " {'role': 'user',\n",
              "  'content': 'Does UCF offer any English language learning programs?'},\n",
              " {'role': 'user', 'content': 'Does UCF offer Study Abroad Programs?'},\n",
              " {'role': 'user', 'content': 'Does UCF superscore the SAT or ACT?'},\n",
              " {'role': 'user',\n",
              "  'content': 'How can I increase my competitiveness in the applicant pool?'},\n",
              " {'role': 'user',\n",
              "  'content': 'How can I qualify for a waiver of the application fee?'},\n",
              " {'role': 'user',\n",
              "  'content': 'How can I send my Cambridge AICE scores to UCF?'},\n",
              " {'role': 'user', 'content': 'How do I appeal an admission decision?'},\n",
              " {'role': 'user',\n",
              "  'content': 'How do I let UCF know I am accepting a spot on the waitlist?'},\n",
              " {'role': 'user',\n",
              "  'content': 'How do I obtain/verify Florida residency for tuition purposes?'},\n",
              " {'role': 'user', 'content': 'How do I send a transcript to UCF?'},\n",
              " {'role': 'user',\n",
              "  'content': 'How does UCF view Pass/Fail and Satisfactory (S)/Unsatisfactory (U) grades on transcripts?'},\n",
              " {'role': 'user',\n",
              "  'content': 'How is my high school GPA calculated for admission?'},\n",
              " {'role': 'user',\n",
              "  'content': 'How long does it take for an electronic transcript to arrive at UCF?'},\n",
              " {'role': 'user',\n",
              "  'content': 'How long does it take for Undergraduate Admissions to process any document I submit?'},\n",
              " {'role': 'user',\n",
              "  'content': 'I am graduating from an international high school. What academic credentials do I have to submit?'},\n",
              " {'role': 'user', 'content': 'I am on the waitlist. What does that mean?'},\n",
              " {'role': 'user',\n",
              "  'content': 'I have been deferred for updated test scores. When will my file be reviewed again after submitting new scores?'},\n",
              " {'role': 'user',\n",
              "  'content': 'I have been deferred. Can I send a resume, letters of recommendation, or additional essays?'},\n",
              " {'role': 'user', 'content': 'I have been deferred. What does that mean?'},\n",
              " {'role': 'user',\n",
              "  'content': 'I have DACA status or am undocumented. Can I apply to UCF?'},\n",
              " {'role': 'user',\n",
              "  'content': 'I requested my transcript electronically yesterday. Shouldn’t I see you received it on my Future Knight Portal today?'},\n",
              " {'role': 'user',\n",
              "  'content': 'I was home-schooled or received a GED. What should I submit?'},\n",
              " {'role': 'user',\n",
              "  'content': \"I've been admitted for summer. Which term can I begin?\"},\n",
              " {'role': 'user',\n",
              "  'content': 'If I apply for fall, will I be considered for summer as well?'},\n",
              " {'role': 'user', 'content': 'Is a defer the same as waitlist?'},\n",
              " {'role': 'user', 'content': 'Is the Top 10 Knights initiative discontinued?'},\n",
              " {'role': 'user',\n",
              "  'content': 'What are the application completion deadlines for first-year students?'},\n",
              " {'role': 'user',\n",
              "  'content': 'What are the chances that I will be moved off of the waitlist?'},\n",
              " {'role': 'user',\n",
              "  'content': 'What are the foreign language admission requirements?'},\n",
              " {'role': 'user',\n",
              "  'content': 'What documents do I need to submit with my application?'},\n",
              " {'role': 'user',\n",
              "  'content': 'What if I am admitted off of the waitlist after the May 1 enrollment deposit deadline?'},\n",
              " {'role': 'user', 'content': 'What is a First-Time In College student?'},\n",
              " {'role': 'user', 'content': 'What is an Application Completion Deadline?'},\n",
              " {'role': 'user', 'content': 'What is an official transcript?'},\n",
              " {'role': 'user',\n",
              "  'content': 'What is the difference between a student taking online courses and a student enrolled in a fully online program?'},\n",
              " {'role': 'user',\n",
              "  'content': 'What is the physical address of UCF Undergraduate Admissions?'},\n",
              " {'role': 'user',\n",
              "  'content': 'What methods of payment do you accept for my admission application fee and my enrollment deposit?'},\n",
              " {'role': 'user', 'content': 'What number am I on the waitlist?'},\n",
              " {'role': 'user', 'content': 'When can I take the SAT, ACT and/or CLT exam?'},\n",
              " {'role': 'user',\n",
              "  'content': 'When do I find out if I’ve been offered a UCF merit scholarship?'},\n",
              " {'role': 'user',\n",
              "  'content': 'When do I have to send final transcripts to UCF?'},\n",
              " {'role': 'user', 'content': 'When will I receive an admission decision?'},\n",
              " {'role': 'user',\n",
              "  'content': 'Will I receive college credit for my AICE/AP/CLEP/IB scores?'},\n",
              " {'role': 'user',\n",
              "  'content': 'How competitive is it to get admitted into UCF?'},\n",
              " {'role': 'user', 'content': 'When is the application completion deadline?'},\n",
              " {'role': 'user',\n",
              "  'content': 'Does UCF have an “accelerated” or “guaranteed admission” medical program?'},\n",
              " {'role': 'user', 'content': 'When is the best time to apply for admission?'},\n",
              " {'role': 'user', 'content': 'Does UCF require standardized tests?'},\n",
              " {'role': 'user',\n",
              "  'content': 'Who can apply to UCF using The Common Application?'},\n",
              " {'role': 'user',\n",
              "  'content': \"I'm having technical difficulties submitting The Common App. Who should I contact?\"},\n",
              " {'role': 'user',\n",
              "  'content': 'How do I check my application status using my Future Knight Portal?'},\n",
              " {'role': 'user', 'content': 'Which high school courses are required?'},\n",
              " {'role': 'user',\n",
              "  'content': 'How will I be notified about an admission decision?'},\n",
              " {'role': 'user', 'content': 'Who can attend a UCF Connect campus?'},\n",
              " {'role': 'user',\n",
              "  'content': 'Does UCF require the ACT Writing or the SAT Essay?'}]"
            ]
          },
          "execution_count": 586,
          "metadata": {},
          "output_type": "execute_result"
        }
      ],
      "source": [
        "messages = []\n",
        "for question, answer in df.itertuples(index=False):\n",
        "    messages.append({\"role\": \"user\", \"content\": question})\n",
        "    # messages.append( {\"role\": \"assistant\", \"content\": answer})\n",
        "messages\n",
        "\n",
        "# messages = []\n",
        "# for question, answer in df.itertuples(index=False):\n",
        "#     messages.append({\"messages\": [\n",
        "#             {\"role\": \"system\", \"content\": \"UCFBOT is a bot that answers frequently asked questions\"},\n",
        "#             {\"role\": \"user\", \"content\": question},\n",
        "#             {\"role\": \"assistant\", \"content\": answer}\n",
        "#         ]\n",
        "#     })\n",
        "#     # messages.append( {\"role\": \"assistant\", \"content\": answer})\n",
        "# messages\n"
      ]
    },
    {
      "cell_type": "code",
      "execution_count": 587,
      "metadata": {},
      "outputs": [
        {
          "name": "stdout",
          "output_type": "stream",
          "text": [
            "\n",
            "Question asked: I have DACA status or am undocumented. Can I apply to UCF?\n",
            "Predicted Answer: Yes, DACA recipients and undocumented students are eligible to apply for admission to UCF. UCF considers all applicants, regardless of their immigration status, for admission based on their academic qualifications and potential for success at the university. It is important to note that DACA recipients may be eligible for in-state tuition at UCF, while undocumented students may be considered for out-of-state tuition rates. Additionally, there may be scholarships and resources available for DACA recipients and undocumented students to help support their education at UCF.\n",
            "\n",
            "Question asked: How is my high school GPA calculated for admission?\n",
            "Predicted Answer: Your high school GPA is usually calculated using your grades from all courses you have taken throughout high school. Each course is assigned a grade on a 4.0 scale, with an A being worth 4.0, a B worth 3.0, a C worth 2.0, and so on. \n",
            "\n",
            "To calculate your GPA, you add up the grade points for all of your courses and divide by the total number of courses taken. This will give you your cumulative GPA. \n",
            "\n",
            "Many colleges and universities have minimum GPA requirements for admission, so it is important to maintain a strong GPA throughout high school in order to be competitive in the admissions process. Additionally, some schools may weigh certain courses, such as honors or Advanced Placement (AP) courses, more heavily in their GPA calculations.\n",
            "\n",
            "Question asked: Will I receive college credit for my AICE/AP/CLEP/IB scores?\n",
            "Predicted Answer: The acceptance of AICE, AP, CLEP, or IB scores for college credit varies by institution. Some colleges and universities may grant credit for high scores on these exams, while others may not accept them at all. It is important to check with the specific college or university you are interested in attending to determine their policy on accepting these scores for credit.\n"
          ]
        }
      ],
      "source": [
        "import random\n",
        "for _ in range(0, 3):\n",
        "    question = messages[random.randint(0, len(messages) - 1)] #question = [item['content'] for item in messages if item['role'] == 'user'][i]\n",
        "    answer = chat_client.chat.completions.create(model=\"gpt-3.5-turbo\", messages=[question])\n",
        "    print(\"\\nQuestion asked: \" + question['content'])\n",
        "    print(\"Predicted Answer:\", answer.choices[0].message.content)"
      ]
    }
  ],
  "metadata": {
    "colab": {
      "provenance": []
    },
    "kernelspec": {
      "display_name": "Python 3",
      "name": "python3"
    },
    "language_info": {
      "codemirror_mode": {
        "name": "ipython",
        "version": 3
      },
      "file_extension": ".py",
      "mimetype": "text/x-python",
      "name": "python",
      "nbconvert_exporter": "python",
      "pygments_lexer": "ipython3",
      "version": "3.10.2"
    }
  },
  "nbformat": 4,
  "nbformat_minor": 0
}
