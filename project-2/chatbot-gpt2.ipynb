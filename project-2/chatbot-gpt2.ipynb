{
 "metadata": {
  "kernelspec": {
   "display_name": "Python 3",
   "language": "python",
   "name": "python3"
  },
  "language_info": {
   "name": "python",
   "version": "3.10.13",
   "mimetype": "text/x-python",
   "codemirror_mode": {
    "name": "ipython",
    "version": 3
   },
   "pygments_lexer": "ipython3",
   "nbconvert_exporter": "python",
   "file_extension": ".py"
  },
  "kaggle": {
   "accelerator": "gpu",
   "dataSources": [],
   "dockerImageVersionId": 30665,
   "isInternetEnabled": true,
   "language": "python",
   "sourceType": "notebook",
   "isGpuEnabled": true
  }
 },
 "nbformat_minor": 5,
 "nbformat": 4,
 "cells": [
  {
   "cell_type": "code",
   "source": [
    "!pip install --upgrade accelerate"
   ],
   "metadata": {
    "ExecuteTime": {
     "end_time": "2024-03-08T03:15:48.811583Z",
     "start_time": "2024-03-08T03:15:45.880304Z"
    },
    "execution": {
     "iopub.status.busy": "2024-03-08T03:43:55.648463Z",
     "iopub.execute_input": "2024-03-08T03:43:55.648814Z",
     "iopub.status.idle": "2024-03-08T03:44:08.786640Z",
     "shell.execute_reply.started": "2024-03-08T03:43:55.648784Z",
     "shell.execute_reply": "2024-03-08T03:44:08.785503Z"
    },
    "trusted": true
   },
   "execution_count": 1,
   "outputs": [
    {
     "name": "stdout",
     "text": "Requirement already satisfied: accelerate in /opt/conda/lib/python3.10/site-packages (0.27.2)\nRequirement already satisfied: numpy>=1.17 in /opt/conda/lib/python3.10/site-packages (from accelerate) (1.26.4)\nRequirement already satisfied: packaging>=20.0 in /opt/conda/lib/python3.10/site-packages (from accelerate) (21.3)\nRequirement already satisfied: psutil in /opt/conda/lib/python3.10/site-packages (from accelerate) (5.9.3)\nRequirement already satisfied: pyyaml in /opt/conda/lib/python3.10/site-packages (from accelerate) (6.0.1)\nRequirement already satisfied: torch>=1.10.0 in /opt/conda/lib/python3.10/site-packages (from accelerate) (2.1.2)\nRequirement already satisfied: huggingface-hub in /opt/conda/lib/python3.10/site-packages (from accelerate) (0.20.3)\nRequirement already satisfied: safetensors>=0.3.1 in /opt/conda/lib/python3.10/site-packages (from accelerate) (0.4.2)\nRequirement already satisfied: pyparsing!=3.0.5,>=2.0.2 in /opt/conda/lib/python3.10/site-packages (from packaging>=20.0->accelerate) (3.1.1)\nRequirement already satisfied: filelock in /opt/conda/lib/python3.10/site-packages (from torch>=1.10.0->accelerate) (3.13.1)\nRequirement already satisfied: typing-extensions in /opt/conda/lib/python3.10/site-packages (from torch>=1.10.0->accelerate) (4.9.0)\nRequirement already satisfied: sympy in /opt/conda/lib/python3.10/site-packages (from torch>=1.10.0->accelerate) (1.12)\nRequirement already satisfied: networkx in /opt/conda/lib/python3.10/site-packages (from torch>=1.10.0->accelerate) (3.2.1)\nRequirement already satisfied: jinja2 in /opt/conda/lib/python3.10/site-packages (from torch>=1.10.0->accelerate) (3.1.2)\nRequirement already satisfied: fsspec in /opt/conda/lib/python3.10/site-packages (from torch>=1.10.0->accelerate) (2024.2.0)\nRequirement already satisfied: requests in /opt/conda/lib/python3.10/site-packages (from huggingface-hub->accelerate) (2.31.0)\nRequirement already satisfied: tqdm>=4.42.1 in /opt/conda/lib/python3.10/site-packages (from huggingface-hub->accelerate) (4.66.1)\nRequirement already satisfied: MarkupSafe>=2.0 in /opt/conda/lib/python3.10/site-packages (from jinja2->torch>=1.10.0->accelerate) (2.1.3)\nRequirement already satisfied: charset-normalizer<4,>=2 in /opt/conda/lib/python3.10/site-packages (from requests->huggingface-hub->accelerate) (3.3.2)\nRequirement already satisfied: idna<4,>=2.5 in /opt/conda/lib/python3.10/site-packages (from requests->huggingface-hub->accelerate) (3.6)\nRequirement already satisfied: urllib3<3,>=1.21.1 in /opt/conda/lib/python3.10/site-packages (from requests->huggingface-hub->accelerate) (1.26.18)\nRequirement already satisfied: certifi>=2017.4.17 in /opt/conda/lib/python3.10/site-packages (from requests->huggingface-hub->accelerate) (2024.2.2)\nRequirement already satisfied: mpmath>=0.19 in /opt/conda/lib/python3.10/site-packages (from sympy->torch>=1.10.0->accelerate) (1.3.0)\n",
     "output_type": "stream"
    }
   ],
   "id": "fb11b8f7165545bd"
  },
  {
   "cell_type": "code",
   "source": [
    "# we upgraded `accelerate` just because to import Trainer API\n",
    "from transformers import Trainer, TrainingArguments, AutoTokenizer, AutoModelForCausalLM\n",
    "from glob import glob\n",
    "from datasets import load_dataset"
   ],
   "metadata": {
    "collapsed": false,
    "ExecuteTime": {
     "start_time": "2024-03-08T03:21:47.659368Z"
    },
    "execution": {
     "iopub.status.busy": "2024-03-08T03:44:08.788785Z",
     "iopub.execute_input": "2024-03-08T03:44:08.789195Z",
     "iopub.status.idle": "2024-03-08T03:44:26.420148Z",
     "shell.execute_reply.started": "2024-03-08T03:44:08.789150Z",
     "shell.execute_reply": "2024-03-08T03:44:26.419326Z"
    },
    "trusted": true
   },
   "execution_count": 2,
   "outputs": [
    {
     "name": "stderr",
     "text": "2024-03-08 03:44:17.669836: E external/local_xla/xla/stream_executor/cuda/cuda_dnn.cc:9261] Unable to register cuDNN factory: Attempting to register factory for plugin cuDNN when one has already been registered\n2024-03-08 03:44:17.669963: E external/local_xla/xla/stream_executor/cuda/cuda_fft.cc:607] Unable to register cuFFT factory: Attempting to register factory for plugin cuFFT when one has already been registered\n2024-03-08 03:44:17.801127: E external/local_xla/xla/stream_executor/cuda/cuda_blas.cc:1515] Unable to register cuBLAS factory: Attempting to register factory for plugin cuBLAS when one has already been registered\n",
     "output_type": "stream"
    }
   ],
   "id": "45cdac50b5de67c4"
  },
  {
   "cell_type": "code",
   "source": [
    "train_ds, validation_ds = load_dataset('squad', split=['train[:30%]', 'validation[:20%]'])"
   ],
   "metadata": {
    "collapsed": false,
    "execution": {
     "iopub.status.busy": "2024-03-08T03:52:30.258786Z",
     "iopub.execute_input": "2024-03-08T03:52:30.259455Z",
     "iopub.status.idle": "2024-03-08T03:52:31.152906Z",
     "shell.execute_reply.started": "2024-03-08T03:52:30.259422Z",
     "shell.execute_reply": "2024-03-08T03:52:31.152027Z"
    },
    "trusted": true
   },
   "execution_count": 19,
   "outputs": [
    {
     "output_type": "display_data",
     "data": {
      "text/plain": "  0%|          | 0/2 [00:00<?, ?it/s]",
      "application/vnd.jupyter.widget-view+json": {
       "version_major": 2,
       "version_minor": 0,
       "model_id": "eba705dc141b49e0a4385aeaca929b97"
      }
     },
     "metadata": {}
    }
   ],
   "id": "168145d0dff141bc"
  },
  {
   "cell_type": "code",
   "source": [
    "datasets"
   ],
   "metadata": {
    "execution": {
     "iopub.status.busy": "2024-03-08T03:51:49.777319Z",
     "iopub.execute_input": "2024-03-08T03:51:49.778279Z",
     "iopub.status.idle": "2024-03-08T03:51:49.784022Z",
     "shell.execute_reply.started": "2024-03-08T03:51:49.778246Z",
     "shell.execute_reply": "2024-03-08T03:51:49.783084Z"
    },
    "trusted": true
   },
   "execution_count": 17,
   "outputs": [
    {
     "execution_count": 17,
     "output_type": "execute_result",
     "data": {
      "text/plain": "[Dataset({\n     features: ['id', 'title', 'context', 'question', 'answers'],\n     num_rows: 26280\n }),\n Dataset({\n     features: ['id', 'title', 'context', 'question', 'answers'],\n     num_rows: 2114\n })]"
     },
     "metadata": {}
    }
   ],
   "id": "96308d81a3cc7834"
  },
  {
   "cell_type": "code",
   "source": [
    "def preprocess(example):\n",
    "    example[\"text\"] = (example[\"question\"] + \" \" + example[\"answers\"][\"text\"][0])\n",
    "    return example\n",
    "\n",
    "train_ds = train_ds.map(preprocess, remove_columns=[\"id\", \"title\", \"context\", \"question\", \"answers\"])\n",
    "validation_ds = validation_ds.map(preprocess, remove_columns=[\"id\", \"title\", \"context\", \"question\", \"answers\"])"
   ],
   "metadata": {
    "collapsed": false,
    "execution": {
     "iopub.status.busy": "2024-03-08T03:52:33.488741Z",
     "iopub.execute_input": "2024-03-08T03:52:33.489547Z",
     "iopub.status.idle": "2024-03-08T03:52:36.754159Z",
     "shell.execute_reply.started": "2024-03-08T03:52:33.489517Z",
     "shell.execute_reply": "2024-03-08T03:52:36.753242Z"
    },
    "trusted": true
   },
   "execution_count": 20,
   "outputs": [
    {
     "output_type": "display_data",
     "data": {
      "text/plain": "  0%|          | 0/26280 [00:00<?, ?ex/s]",
      "application/vnd.jupyter.widget-view+json": {
       "version_major": 2,
       "version_minor": 0,
       "model_id": "6da3404023024cc5815d18a6998ad7ce"
      }
     },
     "metadata": {}
    },
    {
     "output_type": "display_data",
     "data": {
      "text/plain": "  0%|          | 0/2114 [00:00<?, ?ex/s]",
      "application/vnd.jupyter.widget-view+json": {
       "version_major": 2,
       "version_minor": 0,
       "model_id": "919df0baa7de42a394ab17475df8233a"
      }
     },
     "metadata": {}
    }
   ],
   "id": "d8ad041ca89313e1"
  },
  {
   "cell_type": "code",
   "source": [
    "# TODO : choose model name\n",
    "MODEL_NAME = \"gpt2\"\n",
    "tokenizer = AutoTokenizer.from_pretrained(MODEL_NAME)\n",
    "tokenizer.pad_token = \"<pad>\""
   ],
   "metadata": {
    "collapsed": false,
    "execution": {
     "iopub.status.busy": "2024-03-08T03:52:48.263882Z",
     "iopub.execute_input": "2024-03-08T03:52:48.264241Z",
     "iopub.status.idle": "2024-03-08T03:52:53.017964Z",
     "shell.execute_reply.started": "2024-03-08T03:52:48.264212Z",
     "shell.execute_reply": "2024-03-08T03:52:53.016958Z"
    },
    "trusted": true
   },
   "execution_count": 21,
   "outputs": [
    {
     "output_type": "display_data",
     "data": {
      "text/plain": "tokenizer_config.json:   0%|          | 0.00/26.0 [00:00<?, ?B/s]",
      "application/vnd.jupyter.widget-view+json": {
       "version_major": 2,
       "version_minor": 0,
       "model_id": "db5993813f6a4d769004adac0e527ff4"
      }
     },
     "metadata": {}
    },
    {
     "output_type": "display_data",
     "data": {
      "text/plain": "config.json:   0%|          | 0.00/665 [00:00<?, ?B/s]",
      "application/vnd.jupyter.widget-view+json": {
       "version_major": 2,
       "version_minor": 0,
       "model_id": "b5bf197359bc4c16b30f1581cfe8cc2d"
      }
     },
     "metadata": {}
    },
    {
     "output_type": "display_data",
     "data": {
      "text/plain": "vocab.json:   0%|          | 0.00/1.04M [00:00<?, ?B/s]",
      "application/vnd.jupyter.widget-view+json": {
       "version_major": 2,
       "version_minor": 0,
       "model_id": "0ffc80f7d35840c4b75149ebd3db4ccd"
      }
     },
     "metadata": {}
    },
    {
     "output_type": "display_data",
     "data": {
      "text/plain": "merges.txt:   0%|          | 0.00/456k [00:00<?, ?B/s]",
      "application/vnd.jupyter.widget-view+json": {
       "version_major": 2,
       "version_minor": 0,
       "model_id": "3d8552b59bdc483a811f4834ecf65158"
      }
     },
     "metadata": {}
    },
    {
     "output_type": "display_data",
     "data": {
      "text/plain": "tokenizer.json:   0%|          | 0.00/1.36M [00:00<?, ?B/s]",
      "application/vnd.jupyter.widget-view+json": {
       "version_major": 2,
       "version_minor": 0,
       "model_id": "4c13e4e715cc4c9ba18117cf5ce68b55"
      }
     },
     "metadata": {}
    }
   ],
   "id": "ee3be701130ff6a3"
  },
  {
   "cell_type": "code",
   "source": [
    "def tokenize_function(examples):\n",
    "    return tokenizer(examples[\"text\"], max_length=64, truncation=True, padding=\"max_length\")"
   ],
   "metadata": {
    "collapsed": false,
    "execution": {
     "iopub.status.busy": "2024-03-08T03:52:53.019737Z",
     "iopub.execute_input": "2024-03-08T03:52:53.020352Z",
     "iopub.status.idle": "2024-03-08T03:52:53.025007Z",
     "shell.execute_reply.started": "2024-03-08T03:52:53.020318Z",
     "shell.execute_reply": "2024-03-08T03:52:53.024144Z"
    },
    "trusted": true
   },
   "execution_count": 22,
   "outputs": [],
   "id": "80b3fc932be57885"
  },
  {
   "cell_type": "code",
   "source": [
    "tokenized_train_ds = train_ds.map(tokenize_function, batched=True, num_proc=2, remove_columns=[\"text\"])\n",
    "tokenized_validation_ds = validation_ds.map(tokenize_function, batched=True, num_proc=2, remove_columns=[\"text\"])"
   ],
   "metadata": {
    "collapsed": false,
    "execution": {
     "iopub.status.busy": "2024-03-08T03:53:20.095174Z",
     "iopub.execute_input": "2024-03-08T03:53:20.095842Z",
     "iopub.status.idle": "2024-03-08T03:53:22.037424Z",
     "shell.execute_reply.started": "2024-03-08T03:53:20.095804Z",
     "shell.execute_reply": "2024-03-08T03:53:22.035941Z"
    },
    "trusted": true
   },
   "execution_count": 23,
   "outputs": [
    {
     "name": "stdout",
     "text": "    ",
     "output_type": "stream"
    },
    {
     "output_type": "display_data",
     "data": {
      "text/plain": "#0:   0%|          | 0/14 [00:00<?, ?ba/s]",
      "application/vnd.jupyter.widget-view+json": {
       "version_major": 2,
       "version_minor": 0,
       "model_id": "350117936a9a4131ad4d9a898d1ae7b7"
      }
     },
     "metadata": {}
    },
    {
     "output_type": "display_data",
     "data": {
      "text/plain": "#1:   0%|          | 0/14 [00:00<?, ?ba/s]",
      "application/vnd.jupyter.widget-view+json": {
       "version_major": 2,
       "version_minor": 0,
       "model_id": "f4e9418702394638833407c2ed80efe0"
      }
     },
     "metadata": {}
    },
    {
     "name": "stdout",
     "text": "    ",
     "output_type": "stream"
    },
    {
     "output_type": "display_data",
     "data": {
      "text/plain": "#0:   0%|          | 0/2 [00:00<?, ?ba/s]",
      "application/vnd.jupyter.widget-view+json": {
       "version_major": 2,
       "version_minor": 0,
       "model_id": "0a3fd7b96c7b481d810d5a158bb1e98f"
      }
     },
     "metadata": {}
    },
    {
     "output_type": "display_data",
     "data": {
      "text/plain": "#1:   0%|          | 0/2 [00:00<?, ?ba/s]",
      "application/vnd.jupyter.widget-view+json": {
       "version_major": 2,
       "version_minor": 0,
       "model_id": "8e23bd72d0004f7bb63aa6d11b3ad8d5"
      }
     },
     "metadata": {}
    }
   ],
   "id": "971aada9bc1eeb0e"
  },
  {
   "cell_type": "code",
   "source": [
    "def copy_input_ids(example):\n",
    "    example[\"labels\"] = example[\"input_ids\"].copy()\n",
    "    return example"
   ],
   "metadata": {
    "collapsed": false,
    "execution": {
     "iopub.status.busy": "2024-03-08T03:53:23.960974Z",
     "iopub.execute_input": "2024-03-08T03:53:23.961370Z",
     "iopub.status.idle": "2024-03-08T03:53:23.966324Z",
     "shell.execute_reply.started": "2024-03-08T03:53:23.961343Z",
     "shell.execute_reply": "2024-03-08T03:53:23.965341Z"
    },
    "trusted": true
   },
   "execution_count": 24,
   "outputs": [],
   "id": "a1de633155b86aa6"
  },
  {
   "cell_type": "code",
   "source": [
    "tokenized_train_ds = tokenized_train_ds.map(copy_input_ids)\n",
    "tokenized_validation_ds = tokenized_validation_ds.map(copy_input_ids)"
   ],
   "metadata": {
    "collapsed": false,
    "execution": {
     "iopub.status.busy": "2024-03-08T03:53:46.848375Z",
     "iopub.execute_input": "2024-03-08T03:53:46.848727Z",
     "iopub.status.idle": "2024-03-08T03:53:52.859750Z",
     "shell.execute_reply.started": "2024-03-08T03:53:46.848698Z",
     "shell.execute_reply": "2024-03-08T03:53:52.858841Z"
    },
    "trusted": true
   },
   "execution_count": 25,
   "outputs": [
    {
     "output_type": "display_data",
     "data": {
      "text/plain": "  0%|          | 0/26280 [00:00<?, ?ex/s]",
      "application/vnd.jupyter.widget-view+json": {
       "version_major": 2,
       "version_minor": 0,
       "model_id": "f5c288af5f894dbe9ad977e718b787c9"
      }
     },
     "metadata": {}
    },
    {
     "output_type": "display_data",
     "data": {
      "text/plain": "  0%|          | 0/2114 [00:00<?, ?ex/s]",
      "application/vnd.jupyter.widget-view+json": {
       "version_major": 2,
       "version_minor": 0,
       "model_id": "5dbd77aede234af9bd86fcc468528c9c"
      }
     },
     "metadata": {}
    }
   ],
   "id": "102007e57d73752c"
  },
  {
   "cell_type": "code",
   "source": [
    "model = AutoModelForCausalLM.from_pretrained(MODEL_NAME)"
   ],
   "metadata": {
    "collapsed": false,
    "execution": {
     "iopub.status.busy": "2024-03-08T03:53:53.815859Z",
     "iopub.execute_input": "2024-03-08T03:53:53.816661Z",
     "iopub.status.idle": "2024-03-08T03:54:08.907764Z",
     "shell.execute_reply.started": "2024-03-08T03:53:53.816627Z",
     "shell.execute_reply": "2024-03-08T03:54:08.906885Z"
    },
    "trusted": true
   },
   "execution_count": 26,
   "outputs": [
    {
     "output_type": "display_data",
     "data": {
      "text/plain": "model.safetensors:   0%|          | 0.00/548M [00:00<?, ?B/s]",
      "application/vnd.jupyter.widget-view+json": {
       "version_major": 2,
       "version_minor": 0,
       "model_id": "369c84f9324042d996d9f87ad84d34f3"
      }
     },
     "metadata": {}
    },
    {
     "output_type": "display_data",
     "data": {
      "text/plain": "generation_config.json:   0%|          | 0.00/124 [00:00<?, ?B/s]",
      "application/vnd.jupyter.widget-view+json": {
       "version_major": 2,
       "version_minor": 0,
       "model_id": "2c5415e74c014f31b98e0b92fafcfa44"
      }
     },
     "metadata": {}
    }
   ],
   "id": "3e980989de02e8c9"
  },
  {
   "cell_type": "code",
   "source": [
    "training_args = TrainingArguments(\n",
    "    \"gpt2-finetuned-on-squad\",\n",
    "    \n",
    "    num_train_epochs=5,\n",
    "    per_device_train_batch_size=64,\n",
    "    per_device_eval_batch_size=64,\n",
    "    dataloader_num_workers=2,\n",
    "\n",
    "    evaluation_strategy = \"steps\",\n",
    "    logging_strategy=\"steps\",\n",
    "    save_strategy=\"steps\",\n",
    "    eval_steps=0.1,\n",
    "    logging_steps=0.1,\n",
    "    save_steps=0.1,\n",
    "\n",
    "    learning_rate=5e-5,\n",
    "    weight_decay=0.01,\n",
    "    save_total_limit=10,\n",
    "    report_to='none',\n",
    ")"
   ],
   "metadata": {
    "collapsed": false,
    "execution": {
     "iopub.status.busy": "2024-03-08T03:54:08.909636Z",
     "iopub.execute_input": "2024-03-08T03:54:08.910348Z",
     "iopub.status.idle": "2024-03-08T03:54:08.947204Z",
     "shell.execute_reply.started": "2024-03-08T03:54:08.910315Z",
     "shell.execute_reply": "2024-03-08T03:54:08.946183Z"
    },
    "trusted": true
   },
   "execution_count": 27,
   "outputs": [],
   "id": "f54ece285a05fb8d"
  },
  {
   "cell_type": "code",
   "source": [
    "trainer = Trainer(\n",
    "    model=model,\n",
    "    args=training_args,\n",
    "    train_dataset=tokenized_train_ds,\n",
    "    eval_dataset=tokenized_validation_ds,\n",
    ")"
   ],
   "metadata": {
    "collapsed": false,
    "execution": {
     "iopub.status.busy": "2024-03-08T03:54:12.247109Z",
     "iopub.execute_input": "2024-03-08T03:54:12.247462Z",
     "iopub.status.idle": "2024-03-08T03:54:12.517079Z",
     "shell.execute_reply.started": "2024-03-08T03:54:12.247433Z",
     "shell.execute_reply": "2024-03-08T03:54:12.516230Z"
    },
    "trusted": true
   },
   "execution_count": 28,
   "outputs": [],
   "id": "156fe7492cb1b8b7"
  },
  {
   "cell_type": "code",
   "source": [
    "train_output = trainer.train()\n",
    "print(train_output)"
   ],
   "metadata": {
    "collapsed": false,
    "execution": {
     "iopub.status.busy": "2024-03-08T03:54:15.234684Z",
     "iopub.execute_input": "2024-03-08T03:54:15.235290Z",
     "iopub.status.idle": "2024-03-08T04:14:12.045028Z",
     "shell.execute_reply.started": "2024-03-08T03:54:15.235256Z",
     "shell.execute_reply": "2024-03-08T04:14:12.043681Z"
    },
    "trusted": true
   },
   "execution_count": 29,
   "outputs": [
    {
     "output_type": "display_data",
     "data": {
      "text/plain": "<IPython.core.display.HTML object>",
      "text/html": "\n    <div>\n      \n      <progress value='2055' max='2055' style='width:300px; height:20px; vertical-align: middle;'></progress>\n      [2055/2055 19:54, Epoch 5/5]\n    </div>\n    <table border=\"1\" class=\"dataframe\">\n  <thead>\n <tr style=\"text-align: left;\">\n      <th>Step</th>\n      <th>Training Loss</th>\n      <th>Validation Loss</th>\n    </tr>\n  </thead>\n  <tbody>\n    <tr>\n      <td>206</td>\n      <td>1.128500</td>\n      <td>0.954368</td>\n    </tr>\n    <tr>\n      <td>412</td>\n      <td>0.982000</td>\n      <td>0.949992</td>\n    </tr>\n    <tr>\n      <td>618</td>\n      <td>0.914200</td>\n      <td>0.962992</td>\n    </tr>\n    <tr>\n      <td>824</td>\n      <td>0.904300</td>\n      <td>0.967635</td>\n    </tr>\n    <tr>\n      <td>1030</td>\n      <td>0.858900</td>\n      <td>0.973458</td>\n    </tr>\n    <tr>\n      <td>1236</td>\n      <td>0.861800</td>\n      <td>0.977741</td>\n    </tr>\n    <tr>\n      <td>1442</td>\n      <td>0.831900</td>\n      <td>0.983880</td>\n    </tr>\n    <tr>\n      <td>1648</td>\n      <td>0.828100</td>\n      <td>0.983455</td>\n    </tr>\n    <tr>\n      <td>1854</td>\n      <td>0.812900</td>\n      <td>0.988707</td>\n    </tr>\n  </tbody>\n</table><p>"
     },
     "metadata": {}
    },
    {
     "name": "stdout",
     "text": "TrainOutput(global_step=2055, training_loss=0.8935120965442518, metrics={'train_runtime': 1196.4095, 'train_samples_per_second': 109.829, 'train_steps_per_second': 1.718, 'total_flos': 4291721625600000.0, 'train_loss': 0.8935120965442518, 'epoch': 5.0})\n",
     "output_type": "stream"
    }
   ],
   "id": "e9ccc70c7e131cfe"
  },
  {
   "cell_type": "code",
   "source": [
    "# TODO input prompt\n",
    "prompt = \"What is Beyonce's full name?\"\n",
    "encoded_prompt = tokenizer(prompt, add_special_tokens=False, return_tensors=\"pt\").input_ids\n",
    "encoded_prompt = encoded_prompt.to(trainer.model.device)\n",
    "\n",
    "# prediction\n",
    "output_sequences = trainer.model.generate(\n",
    "    input_ids=encoded_prompt,\n",
    "    max_length=64,\n",
    "    min_length=1,\n",
    "    temperature=1.,\n",
    "    top_p=0.95,\n",
    "    do_sample=True,\n",
    "    num_return_sequences=10,\n",
    "    pad_token_id=tokenizer.pad_token_id,\n",
    ")\n",
    "\n",
    "generated_sequences = []\n",
    "\n",
    "# decode prediction\n",
    "for generated_sequence_idx, generated_sequence in enumerate(output_sequences):\n",
    "    generated_sequence = generated_sequence.tolist()\n",
    "    text = tokenizer.decode(generated_sequence, clean_up_tokenization_spaces=True, skip_special_tokens=False)\n",
    "    generated_sequences.append(text.strip())\n"
   ],
   "metadata": {
    "collapsed": false,
    "execution": {
     "iopub.status.busy": "2024-03-08T04:14:21.623440Z",
     "iopub.execute_input": "2024-03-08T04:14:21.624225Z",
     "iopub.status.idle": "2024-03-08T04:14:23.241312Z",
     "shell.execute_reply.started": "2024-03-08T04:14:21.624189Z",
     "shell.execute_reply": "2024-03-08T04:14:23.240266Z"
    },
    "trusted": true
   },
   "execution_count": 30,
   "outputs": [],
   "id": "b816ffdcf0332463"
  },
  {
   "cell_type": "code",
   "source": [
    "generated_sequences[3]"
   ],
   "metadata": {
    "collapsed": false,
    "execution": {
     "iopub.status.busy": "2024-03-08T04:14:30.107573Z",
     "iopub.execute_input": "2024-03-08T04:14:30.108405Z",
     "iopub.status.idle": "2024-03-08T04:14:30.117626Z",
     "shell.execute_reply.started": "2024-03-08T04:14:30.108361Z",
     "shell.execute_reply": "2024-03-08T04:14:30.116626Z"
    },
    "trusted": true
   },
   "execution_count": 31,
   "outputs": [
    {
     "execution_count": 31,
     "output_type": "execute_result",
     "data": {
      "text/plain": "\"What is Beyonce's full name? Beyoncé<|endoftext|><|endoftext|><|endoftext|>\""
     },
     "metadata": {}
    }
   ],
   "id": "6ce8037a4b503603"
  },
  {
   "cell_type": "code",
   "source": [
    "directories = glob(\"/kaggle/working/gpt2-finetuned-on-squad/checkpoint-*\")\n",
    "directories.sort(key=lambda x: int(x.split(\"checkpoint-\")[1]))"
   ],
   "metadata": {
    "collapsed": false,
    "execution": {
     "iopub.status.busy": "2024-03-08T04:14:56.681979Z",
     "iopub.execute_input": "2024-03-08T04:14:56.682388Z",
     "iopub.status.idle": "2024-03-08T04:14:56.687893Z",
     "shell.execute_reply.started": "2024-03-08T04:14:56.682359Z",
     "shell.execute_reply": "2024-03-08T04:14:56.687030Z"
    },
    "trusted": true
   },
   "execution_count": 32,
   "outputs": [],
   "id": "a130674fad86d7a5"
  },
  {
   "cell_type": "code",
   "source": [
    "prompt_in_train = \"What is Beyonce's full name?\"  # in train data\n",
    "prompt_not_in_train = \"Who was Mongolia's first president?\"  # NOT in train data - but similar\n",
    "encoded_prompt_in_train = tokenizer(prompt_in_train, add_special_tokens=False, return_tensors=\"pt\").input_ids\n",
    "encoded_prompt_not_in_train = tokenizer(prompt_not_in_train, add_special_tokens=False, return_tensors=\"pt\").input_ids\n",
    "\n",
    "for path in directories:\n",
    "    print(\"--------------\")\n",
    "    print(path)\n",
    "    print(\"--------------\")\n",
    "    _model = AutoModelForCausalLM.from_pretrained(path)\n",
    "\n",
    "    for _encoded_prompt in [encoded_prompt_in_train, encoded_prompt_not_in_train]:\n",
    "        output_sequences = _model.generate(\n",
    "            input_ids=_encoded_prompt,\n",
    "            max_length=64,\n",
    "            min_length=10,\n",
    "            temperature=1.,\n",
    "            top_p=0.95,\n",
    "            do_sample=True,\n",
    "            num_return_sequences=1,\n",
    "            pad_token_id=tokenizer.pad_token_id,\n",
    "        )\n",
    "\n",
    "        text = tokenizer.decode(output_sequences[0], clean_up_tokenization_spaces=True, skip_special_tokens=False)\n",
    "        \n",
    "        # Simplifying for demo\n",
    "        question, answer = text.split(\"?\")[:2]\n",
    "        answer = answer.split(\".\")[0]\n",
    "        print(question + \"?\", answer + \"...\")"
   ],
   "metadata": {
    "collapsed": false,
    "execution": {
     "iopub.status.busy": "2024-03-08T04:14:59.914172Z",
     "iopub.execute_input": "2024-03-08T04:14:59.914852Z",
     "iopub.status.idle": "2024-03-08T04:15:09.293813Z",
     "shell.execute_reply.started": "2024-03-08T04:14:59.914819Z",
     "shell.execute_reply": "2024-03-08T04:15:09.293071Z"
    },
    "trusted": true
   },
   "execution_count": 33,
   "outputs": [
    {
     "name": "stdout",
     "text": "--------------\n/kaggle/working/gpt2-finetuned-on-squad/checkpoint-206\n--------------\nWhat is Beyonce's full name?  Beyonce<|endoftext|>...\nWho was Mongolia's first president?  Mongol prince\n<|endoftext|>...\n--------------\n/kaggle/working/gpt2-finetuned-on-squad/checkpoint-412\n--------------\nWhat is Beyonce's full name?  Beyonce Mariah Carey<|endoftext|>...\nWho was Mongolia's first president?  Emperor Wu Jin<|endoftext|>...\n--------------\n/kaggle/working/gpt2-finetuned-on-squad/checkpoint-618\n--------------\nWhat is Beyonce's full name?  Jennifer Lopez<|endoftext|>...\nWho was Mongolia's first president?  Yuanxuan<|endoftext|>...\n--------------\n/kaggle/working/gpt2-finetuned-on-squad/checkpoint-824\n--------------\nWhat is Beyonce's full name?  Elizabeth Bower<|endoftext|>...\nWho was Mongolia's first president?   Zhongguo Zhizhu<|endoftext|>...\n--------------\n/kaggle/working/gpt2-finetuned-on-squad/checkpoint-1030\n--------------\nWhat is Beyonce's full name?  Jennifer Hudson<|endoftext|>...\nWho was Mongolia's first president?  Tito\n<|endoftext|>...\n--------------\n/kaggle/working/gpt2-finetuned-on-squad/checkpoint-1236\n--------------\nWhat is Beyonce's full name?  Sasha Pieterse<|endoftext|>...\nWho was Mongolia's first president?  Tito III<|endoftext|>...\n--------------\n/kaggle/working/gpt2-finetuned-on-squad/checkpoint-1442\n--------------\nWhat is Beyonce's full name?  Taylor Swift<|endoftext|>...\nWho was Mongolia's first president?  Rúben Lévi-Cabral<|endoftext|>...\n--------------\n/kaggle/working/gpt2-finetuned-on-squad/checkpoint-1648\n--------------\nWhat is Beyonce's full name?  Beyoncé<|endoftext|>...\nWho was Mongolia's first president?  Chiang Kai-shek<|endoftext|>...\n--------------\n/kaggle/working/gpt2-finetuned-on-squad/checkpoint-1854\n--------------\nWhat is Beyonce's full name?  Jay Z<|endoftext|>...\nWho was Mongolia's first president?  Jens Weyl<|endoftext|>...\n",
     "output_type": "stream"
    }
   ],
   "id": "e79240c1ff9151f0"
  }
 ]
}
