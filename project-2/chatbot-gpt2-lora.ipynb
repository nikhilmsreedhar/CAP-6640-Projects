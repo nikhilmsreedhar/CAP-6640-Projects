{
 "metadata": {
  "kernelspec": {
   "display_name": "Python 3",
   "language": "python",
   "name": "python3"
  },
  "language_info": {
   "name": "python",
   "version": "3.10.13",
   "mimetype": "text/x-python",
   "codemirror_mode": {
    "name": "ipython",
    "version": 3
   },
   "pygments_lexer": "ipython3",
   "nbconvert_exporter": "python",
   "file_extension": ".py"
  },
  "kaggle": {
   "accelerator": "gpu",
   "dataSources": [
    {
     "sourceId": 7879848,
     "sourceType": "datasetVersion",
     "datasetId": 4582055
    }
   ],
   "dockerImageVersionId": 30665,
   "isInternetEnabled": true,
   "language": "python",
   "sourceType": "notebook",
   "isGpuEnabled": true
  }
 },
 "nbformat_minor": 5,
 "nbformat": 4,
 "cells": [
  {
   "cell_type": "markdown",
   "source": [
    "# Building a chatbot on UCF FAQ data by fine-tuning GPT2 model\n",
    "### Installing accelerate and Parameter efficient fine-tuning library"
   ],
   "metadata": {},
   "id": "51de56de2f688466"
  },
  {
   "cell_type": "code",
   "source": [
    "!pip install --upgrade accelerate\n",
    "!pip install peft\n",
    "!pip install evaluate"
   ],
   "metadata": {
    "ExecuteTime": {
     "end_time": "2024-03-12T03:41:36.866819Z",
     "start_time": "2024-03-12T03:41:33.970030Z"
    },
    "execution": {
     "iopub.status.busy": "2024-03-25T19:01:44.151503Z",
     "iopub.execute_input": "2024-03-25T19:01:44.152097Z",
     "iopub.status.idle": "2024-03-25T19:02:22.887998Z",
     "shell.execute_reply.started": "2024-03-25T19:01:44.152057Z",
     "shell.execute_reply": "2024-03-25T19:02:22.886772Z"
    },
    "trusted": true
   },
   "execution_count": 1,
   "outputs": [
    {
     "name": "stdout",
     "text": "Requirement already satisfied: accelerate in /opt/conda/lib/python3.10/site-packages (0.27.2)\nCollecting accelerate\n  Downloading accelerate-0.28.0-py3-none-any.whl.metadata (18 kB)\nRequirement already satisfied: numpy>=1.17 in /opt/conda/lib/python3.10/site-packages (from accelerate) (1.26.4)\nRequirement already satisfied: packaging>=20.0 in /opt/conda/lib/python3.10/site-packages (from accelerate) (21.3)\nRequirement already satisfied: psutil in /opt/conda/lib/python3.10/site-packages (from accelerate) (5.9.3)\nRequirement already satisfied: pyyaml in /opt/conda/lib/python3.10/site-packages (from accelerate) (6.0.1)\nRequirement already satisfied: torch>=1.10.0 in /opt/conda/lib/python3.10/site-packages (from accelerate) (2.1.2)\nRequirement already satisfied: huggingface-hub in /opt/conda/lib/python3.10/site-packages (from accelerate) (0.20.3)\nRequirement already satisfied: safetensors>=0.3.1 in /opt/conda/lib/python3.10/site-packages (from accelerate) (0.4.2)\nRequirement already satisfied: pyparsing!=3.0.5,>=2.0.2 in /opt/conda/lib/python3.10/site-packages (from packaging>=20.0->accelerate) (3.1.1)\nRequirement already satisfied: filelock in /opt/conda/lib/python3.10/site-packages (from torch>=1.10.0->accelerate) (3.13.1)\nRequirement already satisfied: typing-extensions in /opt/conda/lib/python3.10/site-packages (from torch>=1.10.0->accelerate) (4.9.0)\nRequirement already satisfied: sympy in /opt/conda/lib/python3.10/site-packages (from torch>=1.10.0->accelerate) (1.12)\nRequirement already satisfied: networkx in /opt/conda/lib/python3.10/site-packages (from torch>=1.10.0->accelerate) (3.2.1)\nRequirement already satisfied: jinja2 in /opt/conda/lib/python3.10/site-packages (from torch>=1.10.0->accelerate) (3.1.2)\nRequirement already satisfied: fsspec in /opt/conda/lib/python3.10/site-packages (from torch>=1.10.0->accelerate) (2024.2.0)\nRequirement already satisfied: requests in /opt/conda/lib/python3.10/site-packages (from huggingface-hub->accelerate) (2.31.0)\nRequirement already satisfied: tqdm>=4.42.1 in /opt/conda/lib/python3.10/site-packages (from huggingface-hub->accelerate) (4.66.1)\nRequirement already satisfied: MarkupSafe>=2.0 in /opt/conda/lib/python3.10/site-packages (from jinja2->torch>=1.10.0->accelerate) (2.1.3)\nRequirement already satisfied: charset-normalizer<4,>=2 in /opt/conda/lib/python3.10/site-packages (from requests->huggingface-hub->accelerate) (3.3.2)\nRequirement already satisfied: idna<4,>=2.5 in /opt/conda/lib/python3.10/site-packages (from requests->huggingface-hub->accelerate) (3.6)\nRequirement already satisfied: urllib3<3,>=1.21.1 in /opt/conda/lib/python3.10/site-packages (from requests->huggingface-hub->accelerate) (1.26.18)\nRequirement already satisfied: certifi>=2017.4.17 in /opt/conda/lib/python3.10/site-packages (from requests->huggingface-hub->accelerate) (2024.2.2)\nRequirement already satisfied: mpmath>=0.19 in /opt/conda/lib/python3.10/site-packages (from sympy->torch>=1.10.0->accelerate) (1.3.0)\nDownloading accelerate-0.28.0-py3-none-any.whl (290 kB)\n\u001B[2K   \u001B[90m━━━━━━━━━━━━━━━━━━━━━━━━━━━━━━━━━━━━━━━━\u001B[0m \u001B[32m290.1/290.1 kB\u001B[0m \u001B[31m9.9 MB/s\u001B[0m eta \u001B[36m0:00:00\u001B[0m\n\u001B[?25hInstalling collected packages: accelerate\n  Attempting uninstall: accelerate\n    Found existing installation: accelerate 0.27.2\n    Uninstalling accelerate-0.27.2:\n      Successfully uninstalled accelerate-0.27.2\nSuccessfully installed accelerate-0.28.0\nCollecting peft\n  Downloading peft-0.10.0-py3-none-any.whl.metadata (13 kB)\nRequirement already satisfied: numpy>=1.17 in /opt/conda/lib/python3.10/site-packages (from peft) (1.26.4)\nRequirement already satisfied: packaging>=20.0 in /opt/conda/lib/python3.10/site-packages (from peft) (21.3)\nRequirement already satisfied: psutil in /opt/conda/lib/python3.10/site-packages (from peft) (5.9.3)\nRequirement already satisfied: pyyaml in /opt/conda/lib/python3.10/site-packages (from peft) (6.0.1)\nRequirement already satisfied: torch>=1.13.0 in /opt/conda/lib/python3.10/site-packages (from peft) (2.1.2)\nRequirement already satisfied: transformers in /opt/conda/lib/python3.10/site-packages (from peft) (4.38.1)\nRequirement already satisfied: tqdm in /opt/conda/lib/python3.10/site-packages (from peft) (4.66.1)\nRequirement already satisfied: accelerate>=0.21.0 in /opt/conda/lib/python3.10/site-packages (from peft) (0.28.0)\nRequirement already satisfied: safetensors in /opt/conda/lib/python3.10/site-packages (from peft) (0.4.2)\nRequirement already satisfied: huggingface-hub>=0.17.0 in /opt/conda/lib/python3.10/site-packages (from peft) (0.20.3)\nRequirement already satisfied: filelock in /opt/conda/lib/python3.10/site-packages (from huggingface-hub>=0.17.0->peft) (3.13.1)\nRequirement already satisfied: fsspec>=2023.5.0 in /opt/conda/lib/python3.10/site-packages (from huggingface-hub>=0.17.0->peft) (2024.2.0)\nRequirement already satisfied: requests in /opt/conda/lib/python3.10/site-packages (from huggingface-hub>=0.17.0->peft) (2.31.0)\nRequirement already satisfied: typing-extensions>=3.7.4.3 in /opt/conda/lib/python3.10/site-packages (from huggingface-hub>=0.17.0->peft) (4.9.0)\nRequirement already satisfied: pyparsing!=3.0.5,>=2.0.2 in /opt/conda/lib/python3.10/site-packages (from packaging>=20.0->peft) (3.1.1)\nRequirement already satisfied: sympy in /opt/conda/lib/python3.10/site-packages (from torch>=1.13.0->peft) (1.12)\nRequirement already satisfied: networkx in /opt/conda/lib/python3.10/site-packages (from torch>=1.13.0->peft) (3.2.1)\nRequirement already satisfied: jinja2 in /opt/conda/lib/python3.10/site-packages (from torch>=1.13.0->peft) (3.1.2)\nRequirement already satisfied: regex!=2019.12.17 in /opt/conda/lib/python3.10/site-packages (from transformers->peft) (2023.12.25)\nRequirement already satisfied: tokenizers<0.19,>=0.14 in /opt/conda/lib/python3.10/site-packages (from transformers->peft) (0.15.2)\nRequirement already satisfied: MarkupSafe>=2.0 in /opt/conda/lib/python3.10/site-packages (from jinja2->torch>=1.13.0->peft) (2.1.3)\nRequirement already satisfied: charset-normalizer<4,>=2 in /opt/conda/lib/python3.10/site-packages (from requests->huggingface-hub>=0.17.0->peft) (3.3.2)\nRequirement already satisfied: idna<4,>=2.5 in /opt/conda/lib/python3.10/site-packages (from requests->huggingface-hub>=0.17.0->peft) (3.6)\nRequirement already satisfied: urllib3<3,>=1.21.1 in /opt/conda/lib/python3.10/site-packages (from requests->huggingface-hub>=0.17.0->peft) (1.26.18)\nRequirement already satisfied: certifi>=2017.4.17 in /opt/conda/lib/python3.10/site-packages (from requests->huggingface-hub>=0.17.0->peft) (2024.2.2)\nRequirement already satisfied: mpmath>=0.19 in /opt/conda/lib/python3.10/site-packages (from sympy->torch>=1.13.0->peft) (1.3.0)\nDownloading peft-0.10.0-py3-none-any.whl (199 kB)\n\u001B[2K   \u001B[90m━━━━━━━━━━━━━━━━━━━━━━━━━━━━━━━━━━━━━━━━\u001B[0m \u001B[32m199.1/199.1 kB\u001B[0m \u001B[31m7.6 MB/s\u001B[0m eta \u001B[36m0:00:00\u001B[0m\n\u001B[?25hInstalling collected packages: peft\nSuccessfully installed peft-0.10.0\nCollecting evaluate\n  Downloading evaluate-0.4.1-py3-none-any.whl.metadata (9.4 kB)\nRequirement already satisfied: datasets>=2.0.0 in /opt/conda/lib/python3.10/site-packages (from evaluate) (2.1.0)\nRequirement already satisfied: numpy>=1.17 in /opt/conda/lib/python3.10/site-packages (from evaluate) (1.26.4)\nRequirement already satisfied: dill in /opt/conda/lib/python3.10/site-packages (from evaluate) (0.3.8)\nRequirement already satisfied: pandas in /opt/conda/lib/python3.10/site-packages (from evaluate) (2.1.4)\nRequirement already satisfied: requests>=2.19.0 in /opt/conda/lib/python3.10/site-packages (from evaluate) (2.31.0)\nRequirement already satisfied: tqdm>=4.62.1 in /opt/conda/lib/python3.10/site-packages (from evaluate) (4.66.1)\nRequirement already satisfied: xxhash in /opt/conda/lib/python3.10/site-packages (from evaluate) (3.4.1)\nRequirement already satisfied: multiprocess in /opt/conda/lib/python3.10/site-packages (from evaluate) (0.70.16)\nRequirement already satisfied: fsspec>=2021.05.0 in /opt/conda/lib/python3.10/site-packages (from fsspec[http]>=2021.05.0->evaluate) (2024.2.0)\nRequirement already satisfied: huggingface-hub>=0.7.0 in /opt/conda/lib/python3.10/site-packages (from evaluate) (0.20.3)\nRequirement already satisfied: packaging in /opt/conda/lib/python3.10/site-packages (from evaluate) (21.3)\nRequirement already satisfied: responses<0.19 in /opt/conda/lib/python3.10/site-packages (from evaluate) (0.18.0)\nRequirement already satisfied: pyarrow>=5.0.0 in /opt/conda/lib/python3.10/site-packages (from datasets>=2.0.0->evaluate) (11.0.0)\nRequirement already satisfied: aiohttp in /opt/conda/lib/python3.10/site-packages (from datasets>=2.0.0->evaluate) (3.9.1)\nRequirement already satisfied: filelock in /opt/conda/lib/python3.10/site-packages (from huggingface-hub>=0.7.0->evaluate) (3.13.1)\nRequirement already satisfied: pyyaml>=5.1 in /opt/conda/lib/python3.10/site-packages (from huggingface-hub>=0.7.0->evaluate) (6.0.1)\nRequirement already satisfied: typing-extensions>=3.7.4.3 in /opt/conda/lib/python3.10/site-packages (from huggingface-hub>=0.7.0->evaluate) (4.9.0)\nRequirement already satisfied: pyparsing!=3.0.5,>=2.0.2 in /opt/conda/lib/python3.10/site-packages (from packaging->evaluate) (3.1.1)\nRequirement already satisfied: charset-normalizer<4,>=2 in /opt/conda/lib/python3.10/site-packages (from requests>=2.19.0->evaluate) (3.3.2)\nRequirement already satisfied: idna<4,>=2.5 in /opt/conda/lib/python3.10/site-packages (from requests>=2.19.0->evaluate) (3.6)\nRequirement already satisfied: urllib3<3,>=1.21.1 in /opt/conda/lib/python3.10/site-packages (from requests>=2.19.0->evaluate) (1.26.18)\nRequirement already satisfied: certifi>=2017.4.17 in /opt/conda/lib/python3.10/site-packages (from requests>=2.19.0->evaluate) (2024.2.2)\nRequirement already satisfied: python-dateutil>=2.8.2 in /opt/conda/lib/python3.10/site-packages (from pandas->evaluate) (2.8.2)\nRequirement already satisfied: pytz>=2020.1 in /opt/conda/lib/python3.10/site-packages (from pandas->evaluate) (2023.3.post1)\nRequirement already satisfied: tzdata>=2022.1 in /opt/conda/lib/python3.10/site-packages (from pandas->evaluate) (2023.4)\nRequirement already satisfied: attrs>=17.3.0 in /opt/conda/lib/python3.10/site-packages (from aiohttp->datasets>=2.0.0->evaluate) (23.2.0)\nRequirement already satisfied: multidict<7.0,>=4.5 in /opt/conda/lib/python3.10/site-packages (from aiohttp->datasets>=2.0.0->evaluate) (6.0.4)\nRequirement already satisfied: yarl<2.0,>=1.0 in /opt/conda/lib/python3.10/site-packages (from aiohttp->datasets>=2.0.0->evaluate) (1.9.3)\nRequirement already satisfied: frozenlist>=1.1.1 in /opt/conda/lib/python3.10/site-packages (from aiohttp->datasets>=2.0.0->evaluate) (1.4.1)\nRequirement already satisfied: aiosignal>=1.1.2 in /opt/conda/lib/python3.10/site-packages (from aiohttp->datasets>=2.0.0->evaluate) (1.3.1)\nRequirement already satisfied: async-timeout<5.0,>=4.0 in /opt/conda/lib/python3.10/site-packages (from aiohttp->datasets>=2.0.0->evaluate) (4.0.3)\nRequirement already satisfied: six>=1.5 in /opt/conda/lib/python3.10/site-packages (from python-dateutil>=2.8.2->pandas->evaluate) (1.16.0)\nDownloading evaluate-0.4.1-py3-none-any.whl (84 kB)\n\u001B[2K   \u001B[90m━━━━━━━━━━━━━━━━━━━━━━━━━━━━━━━━━━━━━━━━\u001B[0m \u001B[32m84.1/84.1 kB\u001B[0m \u001B[31m3.8 MB/s\u001B[0m eta \u001B[36m0:00:00\u001B[0m\n\u001B[?25hInstalling collected packages: evaluate\nSuccessfully installed evaluate-0.4.1\n",
     "output_type": "stream"
    }
   ],
   "id": "3882fce1b86e03fc"
  },
  {
   "cell_type": "markdown",
   "source": [
    "### Importing necessary packages"
   ],
   "metadata": {},
   "id": "b87bab784056bb74"
  },
  {
   "cell_type": "code",
   "source": [
    "# we upgraded `accelerate` just because to import Trainer API\n",
    "from transformers import Trainer, TrainingArguments, AutoTokenizer, AutoModelForCausalLM\n",
    "from peft import get_peft_config, get_peft_model, PeftModel, PeftConfig, LoraConfig, TaskType\n",
    "from glob import glob\n",
    "import pandas as pd\n",
    "import numpy as np\n",
    "import os\n",
    "from sklearn.utils import shuffle\n",
    "from sklearn.model_selection import train_test_split\n",
    "from sklearn.metrics import accuracy_score, f1_score\n",
    "import torch\n",
    "from torch.nn import functional as F\n",
    "import matplotlib.pyplot as plt"
   ],
   "metadata": {
    "collapsed": false,
    "ExecuteTime": {
     "end_time": "2024-03-12T03:42:36.832898Z",
     "start_time": "2024-03-12T03:42:35.812675Z"
    },
    "execution": {
     "iopub.status.busy": "2024-03-25T19:48:24.108720Z",
     "iopub.execute_input": "2024-03-25T19:48:24.109589Z",
     "iopub.status.idle": "2024-03-25T19:48:24.115394Z",
     "shell.execute_reply.started": "2024-03-25T19:48:24.109555Z",
     "shell.execute_reply": "2024-03-25T19:48:24.114367Z"
    },
    "trusted": true
   },
   "execution_count": 29,
   "outputs": [],
   "id": "aea5e2647a6e4ee1"
  },
  {
   "cell_type": "markdown",
   "source": [
    "### Initializing global constant variables"
   ],
   "metadata": {},
   "id": "69aeec9c96fd986"
  },
  {
   "cell_type": "code",
   "source": [
    "MODEL_NAME = \"gpt2\"\n",
    "DATASET_NAME = \"/kaggle/input/faq-ucf/faqsUcfDataset.csv\"\n",
    "SPLIT = 0.2\n",
    "MAX_LENGTH = 128\n",
    "EPOCHS = 150"
   ],
   "metadata": {
    "execution": {
     "iopub.status.busy": "2024-03-25T19:02:41.118927Z",
     "iopub.execute_input": "2024-03-25T19:02:41.119467Z",
     "iopub.status.idle": "2024-03-25T19:02:41.123995Z",
     "shell.execute_reply.started": "2024-03-25T19:02:41.119442Z",
     "shell.execute_reply": "2024-03-25T19:02:41.122968Z"
    },
    "trusted": true
   },
   "execution_count": 3,
   "outputs": [],
   "id": "368a799a54686e7"
  },
  {
   "cell_type": "markdown",
   "source": [
    "### Defining a DataPreprocessor class that will:\n",
    "#### 1. Load dataset\n",
    "#### 2. Preprocess the dataset\n",
    "#### 3. Initialize an AutoTokenizer and use it to tokenize the dataset\n",
    "#### 4. Include labels to the dataset"
   ],
   "metadata": {},
   "id": "31bace2f27928f7"
  },
  {
   "cell_type": "code",
   "source": [
    "class DataPreprocessor:\n",
    "    def __init__(self, model_name, max_length):\n",
    "        # Initialize the DataPreprocessor with the specified model name and max_length\n",
    "        self.model_name = model_name\n",
    "        self.max_length = max_length\n",
    "        self.tokenizer = AutoTokenizer.from_pretrained(self.model_name)\n",
    "        self.tokenizer.pad_token = \"<pad>\"\n",
    "    \n",
    "    def load_dataset(self, dataset_name, split):\n",
    "        # Load the dataset using the specified split\n",
    "        try:\n",
    "            print(f\"Loading {dataset_name} dataset...\")\n",
    "            df = pd.read_csv(dataset_name)\n",
    "            train_ds, validation_ds = train_test_split(df, test_size=SPLIT)\n",
    "            train_ds = train_ds.reset_index()\n",
    "            validation_ds = validation_ds.reset_index()\n",
    "            print(f\"Loaded {dataset_name} dataset.\")\n",
    "            return train_ds, validation_ds\n",
    "        except Exception as e:\n",
    "            print(f\"Error loading dataset: {e}\")\n",
    "            return None, None\n",
    "    \n",
    "    def preprocess(self, dataset):\n",
    "        print(\"Preprocessing dataset...\")\n",
    "        try:\n",
    "            # Preprocess the dataset by combining question and answer text\n",
    "            dataset[\"text\"] = dataset[\"Q\"] + \" \" + dataset[\"A\"]\n",
    "            # Drop original columns\n",
    "            preprocessed_dataset = dataset.drop(['Q', 'A'], axis=1)\n",
    "            print(\"Dataset preprocessing completed.\")\n",
    "            return preprocessed_dataset\n",
    "        except Exception as e:\n",
    "            print(f\"Error preprocessing dataset: {e}\")\n",
    "            return None\n",
    "    \n",
    "    def tokenize(self, dataset):\n",
    "        # Tokenize the dataset\n",
    "        print(\"Tokenizing dataset...\")\n",
    "        def tokenize_function(examples):\n",
    "            return self.tokenizer(examples[\"text\"], max_length=self.max_length, truncation=True, padding=\"max_length\")\n",
    "        \n",
    "        try:\n",
    "            tokenized_dataset = dataset.apply(tokenize_function, axis=1)\n",
    "            print(\"Dataset tokenization completed.\")\n",
    "            return tokenized_dataset\n",
    "        except Exception as e:\n",
    "            print(f\"Error tokenizing dataset: {e}\")\n",
    "            return None\n",
    "    \n",
    "    def add_labels(self, dataset):\n",
    "        # Add labels to the dataset\n",
    "        print(\"Adding labels to dataset...\")\n",
    "        def copy_input_ids(example):\n",
    "            example[\"labels\"] = example[\"input_ids\"].copy()\n",
    "            return example\n",
    "        \n",
    "        try:\n",
    "            labeled_dataset = dataset.apply(copy_input_ids)\n",
    "            print(\"Labels added to dataset.\")\n",
    "            return labeled_dataset\n",
    "        except Exception as e:\n",
    "            print(f\"Error adding labels to dataset: {e}\")\n",
    "            return None\n",
    "    \n",
    "    def preprocess_pipeline(self, dataset_name, split):\n",
    "        # Execute the preprocessing pipeline\n",
    "        train_ds, validation_ds = self.load_dataset(dataset_name, split)\n",
    "        if train_ds is None or validation_ds is None:\n",
    "            # Dataset loading failed, return None\n",
    "            print(\"Preprocessing pipeline aborted due to dataset loading error.\")\n",
    "            return None, None\n",
    "        \n",
    "        train_ds = self.preprocess(train_ds)\n",
    "        validation_ds = self.preprocess(validation_ds)\n",
    "        if train_ds is None or validation_ds is None:\n",
    "            # Dataset preprocessing failed, return None\n",
    "            print(\"Preprocessing pipeline aborted due to dataset preprocessing error.\")\n",
    "            return None, None\n",
    "        \n",
    "        train_ds = self.tokenize(train_ds)\n",
    "        validation_ds = self.tokenize(validation_ds)\n",
    "        if train_ds is None or validation_ds is None:\n",
    "            # Dataset tokenization failed, return None\n",
    "            print(\"Preprocessing pipeline aborted due to dataset tokenization error.\")\n",
    "            return None, None\n",
    "        \n",
    "        train_ds = self.add_labels(train_ds)\n",
    "        validation_ds = self.add_labels(validation_ds)\n",
    "        if train_ds is None or validation_ds is None:\n",
    "            # Adding labels failed, return None\n",
    "            print(\"Preprocessing pipeline aborted due to label addition error.\")\n",
    "            return None, None\n",
    "        \n",
    "        return train_ds, validation_ds"
   ],
   "metadata": {
    "execution": {
     "iopub.status.busy": "2024-03-25T19:02:41.125516Z",
     "iopub.execute_input": "2024-03-25T19:02:41.125884Z",
     "iopub.status.idle": "2024-03-25T19:02:41.157335Z",
     "shell.execute_reply.started": "2024-03-25T19:02:41.125850Z",
     "shell.execute_reply": "2024-03-25T19:02:41.156532Z"
    },
    "trusted": true
   },
   "execution_count": 4,
   "outputs": [],
   "id": "2f183da8b42817ae"
  },
  {
   "cell_type": "markdown",
   "source": [
    "### Initializing a DataPreprocessor object and using it to load and preprocess UCF_FAQ dataset"
   ],
   "metadata": {},
   "id": "589997f8c6a2a67e"
  },
  {
   "cell_type": "code",
   "source": [
    "# DataPreprocessor instance\n",
    "preprocessor = DataPreprocessor(MODEL_NAME, MAX_LENGTH)\n",
    "# Obtaining train, val datasets and tokenizing them\n",
    "tokenized_train_ds, tokenized_validation_ds = preprocessor.preprocess_pipeline(DATASET_NAME, SPLIT)"
   ],
   "metadata": {
    "execution": {
     "iopub.status.busy": "2024-03-25T19:02:41.160777Z",
     "iopub.execute_input": "2024-03-25T19:02:41.161088Z",
     "iopub.status.idle": "2024-03-25T19:02:43.631720Z",
     "shell.execute_reply.started": "2024-03-25T19:02:41.161065Z",
     "shell.execute_reply": "2024-03-25T19:02:43.630743Z"
    },
    "trusted": true
   },
   "execution_count": 5,
   "outputs": [
    {
     "output_type": "display_data",
     "data": {
      "text/plain": "tokenizer_config.json:   0%|          | 0.00/26.0 [00:00<?, ?B/s]",
      "application/vnd.jupyter.widget-view+json": {
       "version_major": 2,
       "version_minor": 0,
       "model_id": "cb269f2f986444f5a5d77259f5b33339"
      }
     },
     "metadata": {}
    },
    {
     "output_type": "display_data",
     "data": {
      "text/plain": "config.json:   0%|          | 0.00/665 [00:00<?, ?B/s]",
      "application/vnd.jupyter.widget-view+json": {
       "version_major": 2,
       "version_minor": 0,
       "model_id": "a73059ed81c64e1690dc1a6ac2329058"
      }
     },
     "metadata": {}
    },
    {
     "output_type": "display_data",
     "data": {
      "text/plain": "vocab.json:   0%|          | 0.00/1.04M [00:00<?, ?B/s]",
      "application/vnd.jupyter.widget-view+json": {
       "version_major": 2,
       "version_minor": 0,
       "model_id": "77068b32786f4a6fa7fadf761f8b4790"
      }
     },
     "metadata": {}
    },
    {
     "output_type": "display_data",
     "data": {
      "text/plain": "merges.txt:   0%|          | 0.00/456k [00:00<?, ?B/s]",
      "application/vnd.jupyter.widget-view+json": {
       "version_major": 2,
       "version_minor": 0,
       "model_id": "1e795c44019c4689b1cc1273ac24feb3"
      }
     },
     "metadata": {}
    },
    {
     "output_type": "display_data",
     "data": {
      "text/plain": "tokenizer.json:   0%|          | 0.00/1.36M [00:00<?, ?B/s]",
      "application/vnd.jupyter.widget-view+json": {
       "version_major": 2,
       "version_minor": 0,
       "model_id": "48d8687d9d2a45ecb82c3a98c8e35a12"
      }
     },
     "metadata": {}
    },
    {
     "name": "stdout",
     "text": "Loading /kaggle/input/faq-ucf/faqsUcfDataset.csv dataset...\nLoaded /kaggle/input/faq-ucf/faqsUcfDataset.csv dataset.\nPreprocessing dataset...\nDataset preprocessing completed.\nPreprocessing dataset...\nDataset preprocessing completed.\nTokenizing dataset...\nDataset tokenization completed.\nTokenizing dataset...\nDataset tokenization completed.\nAdding labels to dataset...\nLabels added to dataset.\nAdding labels to dataset...\nLabels added to dataset.\n",
     "output_type": "stream"
    }
   ],
   "id": "e771c66caf280109"
  },
  {
   "cell_type": "markdown",
   "source": [
    "### Initializing pretrained GPT2 model"
   ],
   "metadata": {},
   "id": "333588b66b8c2489"
  },
  {
   "cell_type": "code",
   "source": [
    "model = AutoModelForCausalLM.from_pretrained(MODEL_NAME)"
   ],
   "metadata": {
    "collapsed": false,
    "execution": {
     "iopub.status.busy": "2024-03-25T19:02:43.633124Z",
     "iopub.execute_input": "2024-03-25T19:02:43.633458Z",
     "iopub.status.idle": "2024-03-25T19:02:46.419041Z",
     "shell.execute_reply.started": "2024-03-25T19:02:43.633430Z",
     "shell.execute_reply": "2024-03-25T19:02:46.418110Z"
    },
    "trusted": true
   },
   "execution_count": 6,
   "outputs": [
    {
     "output_type": "display_data",
     "data": {
      "text/plain": "model.safetensors:   0%|          | 0.00/548M [00:00<?, ?B/s]",
      "application/vnd.jupyter.widget-view+json": {
       "version_major": 2,
       "version_minor": 0,
       "model_id": "dac43b3ebb0845dc85772dbdfc577c14"
      }
     },
     "metadata": {}
    },
    {
     "output_type": "display_data",
     "data": {
      "text/plain": "generation_config.json:   0%|          | 0.00/124 [00:00<?, ?B/s]",
      "application/vnd.jupyter.widget-view+json": {
       "version_major": 2,
       "version_minor": 0,
       "model_id": "dd85bd1a89a24f21b06892e6b552382b"
      }
     },
     "metadata": {}
    }
   ],
   "id": "236e654209c85208"
  },
  {
   "cell_type": "markdown",
   "source": [
    "## Initializing Low Rank Adaptation configurations\n",
    "### Advantages of using LoRA :\n",
    "### - Trainable parameter reduction -> Less data is required for fine-tuning\n",
    "### - Faster training\n",
    "### - Uses less memory\n",
    "### - PEFT library makes it look so easy!"
   ],
   "metadata": {},
   "id": "3c431e90e10a7983"
  },
  {
   "cell_type": "code",
   "source": [
    "peft_config = LoraConfig(\n",
    "    task_type=TaskType.CAUSAL_LM,  # task_type, token classification (TaskType.CAUSAL_LM)\n",
    "    inference_mode=False,\n",
    "    r=8,                           # r, the dimension of the low-rank matrices\n",
    "    lora_alpha=16,                 # lora_alpha, scaling factor for the weight matrices\n",
    "    lora_dropout=0.3,              # lora_dropout, dropout probability of the LoRA layers\n",
    "    fan_in_fan_out=True,\n",
    "    bias=\"lora_only\"               # bias, set to only lora layers to train\n",
    "    \n",
    ")"
   ],
   "metadata": {
    "execution": {
     "iopub.status.busy": "2024-03-25T19:02:46.420310Z",
     "iopub.execute_input": "2024-03-25T19:02:46.420623Z",
     "iopub.status.idle": "2024-03-25T19:02:46.425929Z",
     "shell.execute_reply.started": "2024-03-25T19:02:46.420595Z",
     "shell.execute_reply": "2024-03-25T19:02:46.424780Z"
    },
    "trusted": true
   },
   "execution_count": 7,
   "outputs": [],
   "id": "1a1636a9319b1217"
  },
  {
   "cell_type": "markdown",
   "source": [
    "### Converting our pretrained GPT2 model to lora_model"
   ],
   "metadata": {},
   "id": "33555f758f2dcb68"
  },
  {
   "cell_type": "code",
   "source": [
    "# Converting our model to lora\n",
    "lora_model = get_peft_model(model, peft_config)\n",
    "lora_model.print_trainable_parameters()"
   ],
   "metadata": {
    "execution": {
     "iopub.status.busy": "2024-03-25T19:02:46.427124Z",
     "iopub.execute_input": "2024-03-25T19:02:46.427445Z",
     "iopub.status.idle": "2024-03-25T19:02:46.473065Z",
     "shell.execute_reply.started": "2024-03-25T19:02:46.427421Z",
     "shell.execute_reply": "2024-03-25T19:02:46.472232Z"
    },
    "trusted": true
   },
   "execution_count": 8,
   "outputs": [
    {
     "name": "stdout",
     "text": "trainable params: 322,560 || all params: 124,734,720 || trainable%: 0.2585968044823446\n",
     "output_type": "stream"
    }
   ],
   "id": "8cbecd8edf00d09a"
  },
  {
   "cell_type": "markdown",
   "source": [
    "### Initializing training arguments for fine-tuning job"
   ],
   "metadata": {},
   "id": "3cf258b7d5db52d9"
  },
  {
   "cell_type": "code",
   "source": [
    "training_args = TrainingArguments(\n",
    "    \"gpt2-on-ucf-faq\",\n",
    "    # Number of epochs to train\n",
    "    num_train_epochs=EPOCHS,\n",
    "    # Training batch size\n",
    "    per_device_train_batch_size=32,\n",
    "    # Validation batch size\n",
    "    per_device_eval_batch_size=32,\n",
    "    # Number of parallel workers\n",
    "    dataloader_num_workers=2,\n",
    "\n",
    "    #Evaluating our model after each epoch\n",
    "    evaluation_strategy = \"epoch\",\n",
    "    logging_strategy=\"epoch\",\n",
    "    save_strategy=\"epoch\",\n",
    "\n",
    "    learning_rate=1e-3,\n",
    "    weight_decay=0.01,\n",
    "    save_total_limit=10,\n",
    "    report_to='none',\n",
    "\n",
    "    # Enabling the model to rollback to best checkpoint\n",
    "    load_best_model_at_end=True,\n",
    ")"
   ],
   "metadata": {
    "collapsed": false,
    "execution": {
     "iopub.status.busy": "2024-03-25T19:02:46.474143Z",
     "iopub.execute_input": "2024-03-25T19:02:46.474405Z",
     "iopub.status.idle": "2024-03-25T19:02:46.532054Z",
     "shell.execute_reply.started": "2024-03-25T19:02:46.474383Z",
     "shell.execute_reply": "2024-03-25T19:02:46.530993Z"
    },
    "trusted": true
   },
   "execution_count": 9,
   "outputs": [],
   "id": "9f1804bd7f7520b5"
  },
  {
   "cell_type": "markdown",
   "source": [
    "### Defining compute_metric function to calculate perplexity of our model after every epoch"
   ],
   "metadata": {},
   "id": "a9f47a631da72052"
  },
  {
   "cell_type": "code",
   "source": [
    "def compute_metrics(pred):\n",
    "    logits = torch.from_numpy(pred.predictions)\n",
    "    labels = torch.from_numpy(pred.label_ids)\n",
    "    loss = F.cross_entropy(logits.view(-1, preprocessor.tokenizer.vocab_size), labels.view(-1))\n",
    "    return {'perplexity': torch.exp(loss), 'calculated_loss': loss}"
   ],
   "metadata": {
    "execution": {
     "iopub.status.busy": "2024-03-25T19:02:46.533509Z",
     "iopub.execute_input": "2024-03-25T19:02:46.534269Z",
     "iopub.status.idle": "2024-03-25T19:02:46.540563Z",
     "shell.execute_reply.started": "2024-03-25T19:02:46.534234Z",
     "shell.execute_reply": "2024-03-25T19:02:46.539530Z"
    },
    "trusted": true
   },
   "execution_count": 10,
   "outputs": [],
   "id": "1579733a8b2cff39"
  },
  {
   "cell_type": "markdown",
   "source": [
    "### Building a trainer object on our model and training_arguments"
   ],
   "metadata": {},
   "id": "11d8c2820286f124"
  },
  {
   "cell_type": "code",
   "source": [
    "trainer = Trainer(\n",
    "    model=model,\n",
    "    args=training_args,\n",
    "    train_dataset=tokenized_train_ds,\n",
    "    eval_dataset=tokenized_validation_ds,\n",
    "    compute_metrics=compute_metrics\n",
    ")"
   ],
   "metadata": {
    "collapsed": false,
    "execution": {
     "iopub.status.busy": "2024-03-25T19:02:46.542008Z",
     "iopub.execute_input": "2024-03-25T19:02:46.542365Z",
     "iopub.status.idle": "2024-03-25T19:02:46.818117Z",
     "shell.execute_reply.started": "2024-03-25T19:02:46.542333Z",
     "shell.execute_reply": "2024-03-25T19:02:46.817240Z"
    },
    "trusted": true
   },
   "execution_count": 11,
   "outputs": [
    {
     "name": "stderr",
     "text": "/opt/conda/lib/python3.10/site-packages/accelerate/accelerator.py:432: FutureWarning: Passing the following arguments to `Accelerator` is deprecated and will be removed in version 1.0 of Accelerate: dict_keys(['dispatch_batches', 'split_batches', 'even_batches', 'use_seedable_sampler']). Please pass an `accelerate.DataLoaderConfiguration` instead: \ndataloader_config = DataLoaderConfiguration(dispatch_batches=None, split_batches=False, even_batches=True, use_seedable_sampler=True)\n  warnings.warn(\n",
     "output_type": "stream"
    }
   ],
   "id": "84dd0e21258bb103"
  },
  {
   "cell_type": "markdown",
   "source": [
    "### Training/Fine-tuning our lora-gpt2 model on UCF_FAQ dataset"
   ],
   "metadata": {},
   "id": "11b6fdcc0685663e"
  },
  {
   "cell_type": "code",
   "source": [
    "os.environ[\"TOKENIZERS_PARALLELISM\"] = \"false\"\n",
    "train_output = trainer.train()\n",
    "print(train_output)"
   ],
   "metadata": {
    "collapsed": false,
    "execution": {
     "iopub.status.busy": "2024-03-25T19:02:46.819318Z",
     "iopub.execute_input": "2024-03-25T19:02:46.819655Z",
     "iopub.status.idle": "2024-03-25T19:25:28.526868Z",
     "shell.execute_reply.started": "2024-03-25T19:02:46.819627Z",
     "shell.execute_reply": "2024-03-25T19:25:28.525867Z"
    },
    "trusted": true
   },
   "execution_count": 12,
   "outputs": [
    {
     "output_type": "display_data",
     "data": {
      "text/plain": "<IPython.core.display.HTML object>",
      "text/html": "\n    <div>\n      \n      <progress value='1500' max='1500' style='width:300px; height:20px; vertical-align: middle;'></progress>\n      [1500/1500 22:39, Epoch 150/150]\n    </div>\n    <table border=\"1\" class=\"dataframe\">\n  <thead>\n <tr style=\"text-align: left;\">\n      <th>Epoch</th>\n      <th>Training Loss</th>\n      <th>Validation Loss</th>\n      <th>Perplexity</th>\n      <th>Calculated Loss</th>\n      <th>Runtime</th>\n      <th>Samples Per Second</th>\n      <th>Steps Per Second</th>\n    </tr>\n  </thead>\n  <tbody>\n    <tr>\n      <td>1</td>\n      <td>3.746300</td>\n      <td>2.213741</td>\n      <td>391.747040</td>\n      <td>5.970616</td>\n      <td>3.227000</td>\n      <td>23.242000</td>\n      <td>0.930000</td>\n    </tr>\n    <tr>\n      <td>2</td>\n      <td>2.243300</td>\n      <td>2.088424</td>\n      <td>574.722107</td>\n      <td>6.353887</td>\n      <td>3.242000</td>\n      <td>23.134000</td>\n      <td>0.925000</td>\n    </tr>\n    <tr>\n      <td>3</td>\n      <td>2.082400</td>\n      <td>2.027468</td>\n      <td>593.936340</td>\n      <td>6.386772</td>\n      <td>3.198400</td>\n      <td>23.449000</td>\n      <td>0.938000</td>\n    </tr>\n    <tr>\n      <td>4</td>\n      <td>2.028700</td>\n      <td>1.994655</td>\n      <td>585.423157</td>\n      <td>6.372335</td>\n      <td>3.167300</td>\n      <td>23.680000</td>\n      <td>0.947000</td>\n    </tr>\n    <tr>\n      <td>5</td>\n      <td>2.024800</td>\n      <td>1.974176</td>\n      <td>567.981934</td>\n      <td>6.342090</td>\n      <td>3.193500</td>\n      <td>23.485000</td>\n      <td>0.939000</td>\n    </tr>\n    <tr>\n      <td>6</td>\n      <td>1.955600</td>\n      <td>1.956559</td>\n      <td>577.791138</td>\n      <td>6.359212</td>\n      <td>3.206500</td>\n      <td>23.390000</td>\n      <td>0.936000</td>\n    </tr>\n    <tr>\n      <td>7</td>\n      <td>1.913500</td>\n      <td>1.941197</td>\n      <td>604.543030</td>\n      <td>6.404473</td>\n      <td>3.257900</td>\n      <td>23.021000</td>\n      <td>0.921000</td>\n    </tr>\n    <tr>\n      <td>8</td>\n      <td>1.907800</td>\n      <td>1.927069</td>\n      <td>619.277832</td>\n      <td>6.428554</td>\n      <td>3.184100</td>\n      <td>23.554000</td>\n      <td>0.942000</td>\n    </tr>\n    <tr>\n      <td>9</td>\n      <td>1.881200</td>\n      <td>1.913615</td>\n      <td>654.767151</td>\n      <td>6.484280</td>\n      <td>3.285300</td>\n      <td>22.829000</td>\n      <td>0.913000</td>\n    </tr>\n    <tr>\n      <td>10</td>\n      <td>1.841100</td>\n      <td>1.904424</td>\n      <td>670.694763</td>\n      <td>6.508314</td>\n      <td>3.165100</td>\n      <td>23.696000</td>\n      <td>0.948000</td>\n    </tr>\n    <tr>\n      <td>11</td>\n      <td>1.817900</td>\n      <td>1.895865</td>\n      <td>716.205383</td>\n      <td>6.573967</td>\n      <td>3.154800</td>\n      <td>23.773000</td>\n      <td>0.951000</td>\n    </tr>\n    <tr>\n      <td>12</td>\n      <td>1.804300</td>\n      <td>1.883415</td>\n      <td>700.726624</td>\n      <td>6.552118</td>\n      <td>3.550800</td>\n      <td>21.122000</td>\n      <td>0.845000</td>\n    </tr>\n    <tr>\n      <td>13</td>\n      <td>1.789700</td>\n      <td>1.876427</td>\n      <td>788.391541</td>\n      <td>6.669995</td>\n      <td>3.142300</td>\n      <td>23.868000</td>\n      <td>0.955000</td>\n    </tr>\n    <tr>\n      <td>14</td>\n      <td>1.723800</td>\n      <td>1.867625</td>\n      <td>763.587097</td>\n      <td>6.638027</td>\n      <td>3.428700</td>\n      <td>21.874000</td>\n      <td>0.875000</td>\n    </tr>\n    <tr>\n      <td>15</td>\n      <td>1.710000</td>\n      <td>1.864858</td>\n      <td>885.142761</td>\n      <td>6.785749</td>\n      <td>3.346500</td>\n      <td>22.412000</td>\n      <td>0.896000</td>\n    </tr>\n    <tr>\n      <td>16</td>\n      <td>1.733000</td>\n      <td>1.857490</td>\n      <td>844.777527</td>\n      <td>6.739073</td>\n      <td>3.213900</td>\n      <td>23.336000</td>\n      <td>0.933000</td>\n    </tr>\n    <tr>\n      <td>17</td>\n      <td>1.693800</td>\n      <td>1.855356</td>\n      <td>905.351624</td>\n      <td>6.808323</td>\n      <td>3.187000</td>\n      <td>23.533000</td>\n      <td>0.941000</td>\n    </tr>\n    <tr>\n      <td>18</td>\n      <td>1.669300</td>\n      <td>1.840598</td>\n      <td>867.631531</td>\n      <td>6.765767</td>\n      <td>3.174700</td>\n      <td>23.624000</td>\n      <td>0.945000</td>\n    </tr>\n    <tr>\n      <td>19</td>\n      <td>1.634300</td>\n      <td>1.839472</td>\n      <td>897.770813</td>\n      <td>6.799915</td>\n      <td>3.327700</td>\n      <td>22.538000</td>\n      <td>0.902000</td>\n    </tr>\n    <tr>\n      <td>20</td>\n      <td>1.636700</td>\n      <td>1.828653</td>\n      <td>949.862793</td>\n      <td>6.856318</td>\n      <td>3.273400</td>\n      <td>22.912000</td>\n      <td>0.916000</td>\n    </tr>\n    <tr>\n      <td>21</td>\n      <td>1.608800</td>\n      <td>1.824217</td>\n      <td>1013.552246</td>\n      <td>6.921216</td>\n      <td>3.187100</td>\n      <td>23.532000</td>\n      <td>0.941000</td>\n    </tr>\n    <tr>\n      <td>22</td>\n      <td>1.600100</td>\n      <td>1.829261</td>\n      <td>1035.683838</td>\n      <td>6.942817</td>\n      <td>3.214100</td>\n      <td>23.334000</td>\n      <td>0.933000</td>\n    </tr>\n    <tr>\n      <td>23</td>\n      <td>1.568500</td>\n      <td>1.814728</td>\n      <td>1082.697876</td>\n      <td>6.987211</td>\n      <td>3.246400</td>\n      <td>23.102000</td>\n      <td>0.924000</td>\n    </tr>\n    <tr>\n      <td>24</td>\n      <td>1.575700</td>\n      <td>1.814077</td>\n      <td>1130.536377</td>\n      <td>7.030447</td>\n      <td>3.158500</td>\n      <td>23.746000</td>\n      <td>0.950000</td>\n    </tr>\n    <tr>\n      <td>25</td>\n      <td>1.563100</td>\n      <td>1.809136</td>\n      <td>1121.190308</td>\n      <td>7.022146</td>\n      <td>3.230200</td>\n      <td>23.219000</td>\n      <td>0.929000</td>\n    </tr>\n    <tr>\n      <td>26</td>\n      <td>1.553900</td>\n      <td>1.801311</td>\n      <td>1119.760132</td>\n      <td>7.020870</td>\n      <td>3.154800</td>\n      <td>23.774000</td>\n      <td>0.951000</td>\n    </tr>\n    <tr>\n      <td>27</td>\n      <td>1.535400</td>\n      <td>1.803708</td>\n      <td>1210.255249</td>\n      <td>7.098587</td>\n      <td>3.153400</td>\n      <td>23.784000</td>\n      <td>0.951000</td>\n    </tr>\n    <tr>\n      <td>28</td>\n      <td>1.530700</td>\n      <td>1.794664</td>\n      <td>1208.510254</td>\n      <td>7.097144</td>\n      <td>3.203400</td>\n      <td>23.413000</td>\n      <td>0.937000</td>\n    </tr>\n    <tr>\n      <td>29</td>\n      <td>1.511900</td>\n      <td>1.788144</td>\n      <td>1178.290283</td>\n      <td>7.071820</td>\n      <td>3.190200</td>\n      <td>23.510000</td>\n      <td>0.940000</td>\n    </tr>\n    <tr>\n      <td>30</td>\n      <td>1.479500</td>\n      <td>1.777233</td>\n      <td>1195.029419</td>\n      <td>7.085926</td>\n      <td>3.184500</td>\n      <td>23.551000</td>\n      <td>0.942000</td>\n    </tr>\n    <tr>\n      <td>31</td>\n      <td>1.461700</td>\n      <td>1.783086</td>\n      <td>1280.541504</td>\n      <td>7.155038</td>\n      <td>3.198200</td>\n      <td>23.450000</td>\n      <td>0.938000</td>\n    </tr>\n    <tr>\n      <td>32</td>\n      <td>1.469100</td>\n      <td>1.778077</td>\n      <td>1330.217896</td>\n      <td>7.193098</td>\n      <td>3.512500</td>\n      <td>21.352000</td>\n      <td>0.854000</td>\n    </tr>\n    <tr>\n      <td>33</td>\n      <td>1.472200</td>\n      <td>1.771830</td>\n      <td>1366.757935</td>\n      <td>7.220197</td>\n      <td>3.184400</td>\n      <td>23.552000</td>\n      <td>0.942000</td>\n    </tr>\n    <tr>\n      <td>34</td>\n      <td>1.409100</td>\n      <td>1.773113</td>\n      <td>1433.993530</td>\n      <td>7.268219</td>\n      <td>3.230300</td>\n      <td>23.217000</td>\n      <td>0.929000</td>\n    </tr>\n    <tr>\n      <td>35</td>\n      <td>1.398500</td>\n      <td>1.778026</td>\n      <td>1530.250366</td>\n      <td>7.333187</td>\n      <td>3.209700</td>\n      <td>23.367000</td>\n      <td>0.935000</td>\n    </tr>\n    <tr>\n      <td>36</td>\n      <td>1.444400</td>\n      <td>1.773513</td>\n      <td>1562.340820</td>\n      <td>7.353940</td>\n      <td>3.232600</td>\n      <td>23.201000</td>\n      <td>0.928000</td>\n    </tr>\n    <tr>\n      <td>37</td>\n      <td>1.400600</td>\n      <td>1.764534</td>\n      <td>1497.717407</td>\n      <td>7.311697</td>\n      <td>3.188400</td>\n      <td>23.522000</td>\n      <td>0.941000</td>\n    </tr>\n    <tr>\n      <td>38</td>\n      <td>1.414400</td>\n      <td>1.759211</td>\n      <td>1608.692871</td>\n      <td>7.383177</td>\n      <td>3.219100</td>\n      <td>23.298000</td>\n      <td>0.932000</td>\n    </tr>\n    <tr>\n      <td>39</td>\n      <td>1.381400</td>\n      <td>1.765231</td>\n      <td>1702.538452</td>\n      <td>7.439876</td>\n      <td>3.208200</td>\n      <td>23.378000</td>\n      <td>0.935000</td>\n    </tr>\n    <tr>\n      <td>40</td>\n      <td>1.407400</td>\n      <td>1.755003</td>\n      <td>1538.986816</td>\n      <td>7.338880</td>\n      <td>3.198200</td>\n      <td>23.450000</td>\n      <td>0.938000</td>\n    </tr>\n    <tr>\n      <td>41</td>\n      <td>1.406300</td>\n      <td>1.757145</td>\n      <td>1664.440674</td>\n      <td>7.417244</td>\n      <td>3.220600</td>\n      <td>23.288000</td>\n      <td>0.932000</td>\n    </tr>\n    <tr>\n      <td>42</td>\n      <td>1.364700</td>\n      <td>1.763183</td>\n      <td>1793.118652</td>\n      <td>7.491712</td>\n      <td>3.224400</td>\n      <td>23.260000</td>\n      <td>0.930000</td>\n    </tr>\n    <tr>\n      <td>43</td>\n      <td>1.380900</td>\n      <td>1.751962</td>\n      <td>1760.347656</td>\n      <td>7.473267</td>\n      <td>3.452900</td>\n      <td>21.721000</td>\n      <td>0.869000</td>\n    </tr>\n    <tr>\n      <td>44</td>\n      <td>1.360600</td>\n      <td>1.757796</td>\n      <td>1785.017578</td>\n      <td>7.487184</td>\n      <td>3.203800</td>\n      <td>23.409000</td>\n      <td>0.936000</td>\n    </tr>\n    <tr>\n      <td>45</td>\n      <td>1.337100</td>\n      <td>1.750519</td>\n      <td>1726.366943</td>\n      <td>7.453774</td>\n      <td>3.186600</td>\n      <td>23.536000</td>\n      <td>0.941000</td>\n    </tr>\n    <tr>\n      <td>46</td>\n      <td>1.309400</td>\n      <td>1.750630</td>\n      <td>1953.135620</td>\n      <td>7.577191</td>\n      <td>3.190500</td>\n      <td>23.507000</td>\n      <td>0.940000</td>\n    </tr>\n    <tr>\n      <td>47</td>\n      <td>1.316600</td>\n      <td>1.742486</td>\n      <td>1767.062988</td>\n      <td>7.477074</td>\n      <td>3.201700</td>\n      <td>23.425000</td>\n      <td>0.937000</td>\n    </tr>\n    <tr>\n      <td>48</td>\n      <td>1.313600</td>\n      <td>1.750485</td>\n      <td>2026.992310</td>\n      <td>7.614308</td>\n      <td>3.170300</td>\n      <td>23.657000</td>\n      <td>0.946000</td>\n    </tr>\n    <tr>\n      <td>49</td>\n      <td>1.294900</td>\n      <td>1.737499</td>\n      <td>1792.728760</td>\n      <td>7.491494</td>\n      <td>3.158700</td>\n      <td>23.744000</td>\n      <td>0.950000</td>\n    </tr>\n    <tr>\n      <td>50</td>\n      <td>1.300400</td>\n      <td>1.748929</td>\n      <td>2232.847412</td>\n      <td>7.711033</td>\n      <td>3.223900</td>\n      <td>23.264000</td>\n      <td>0.931000</td>\n    </tr>\n    <tr>\n      <td>51</td>\n      <td>1.275200</td>\n      <td>1.742866</td>\n      <td>2181.472900</td>\n      <td>7.687756</td>\n      <td>3.183500</td>\n      <td>23.559000</td>\n      <td>0.942000</td>\n    </tr>\n    <tr>\n      <td>52</td>\n      <td>1.305000</td>\n      <td>1.737909</td>\n      <td>2222.989746</td>\n      <td>7.706608</td>\n      <td>3.231000</td>\n      <td>23.213000</td>\n      <td>0.929000</td>\n    </tr>\n    <tr>\n      <td>53</td>\n      <td>1.258900</td>\n      <td>1.750167</td>\n      <td>2546.608643</td>\n      <td>7.842518</td>\n      <td>3.349400</td>\n      <td>22.392000</td>\n      <td>0.896000</td>\n    </tr>\n    <tr>\n      <td>54</td>\n      <td>1.269500</td>\n      <td>1.730337</td>\n      <td>2228.765869</td>\n      <td>7.709203</td>\n      <td>3.262900</td>\n      <td>22.986000</td>\n      <td>0.919000</td>\n    </tr>\n    <tr>\n      <td>55</td>\n      <td>1.286000</td>\n      <td>1.733471</td>\n      <td>2255.247559</td>\n      <td>7.721015</td>\n      <td>3.159000</td>\n      <td>23.742000</td>\n      <td>0.950000</td>\n    </tr>\n    <tr>\n      <td>56</td>\n      <td>1.235800</td>\n      <td>1.729224</td>\n      <td>2320.364990</td>\n      <td>7.749480</td>\n      <td>3.221200</td>\n      <td>23.283000</td>\n      <td>0.931000</td>\n    </tr>\n    <tr>\n      <td>57</td>\n      <td>1.232800</td>\n      <td>1.734576</td>\n      <td>2437.530762</td>\n      <td>7.798741</td>\n      <td>3.241300</td>\n      <td>23.139000</td>\n      <td>0.926000</td>\n    </tr>\n    <tr>\n      <td>58</td>\n      <td>1.250300</td>\n      <td>1.731236</td>\n      <td>2372.894531</td>\n      <td>7.771866</td>\n      <td>3.227300</td>\n      <td>23.239000</td>\n      <td>0.930000</td>\n    </tr>\n    <tr>\n      <td>59</td>\n      <td>1.234000</td>\n      <td>1.744459</td>\n      <td>2587.120361</td>\n      <td>7.858301</td>\n      <td>3.223700</td>\n      <td>23.266000</td>\n      <td>0.931000</td>\n    </tr>\n    <tr>\n      <td>60</td>\n      <td>1.258200</td>\n      <td>1.739219</td>\n      <td>2720.141357</td>\n      <td>7.908439</td>\n      <td>3.286900</td>\n      <td>22.818000</td>\n      <td>0.913000</td>\n    </tr>\n    <tr>\n      <td>61</td>\n      <td>1.225900</td>\n      <td>1.734735</td>\n      <td>2399.407471</td>\n      <td>7.782977</td>\n      <td>3.234700</td>\n      <td>23.186000</td>\n      <td>0.927000</td>\n    </tr>\n    <tr>\n      <td>62</td>\n      <td>1.228900</td>\n      <td>1.727918</td>\n      <td>2576.424561</td>\n      <td>7.854158</td>\n      <td>3.235500</td>\n      <td>23.180000</td>\n      <td>0.927000</td>\n    </tr>\n    <tr>\n      <td>63</td>\n      <td>1.201800</td>\n      <td>1.730318</td>\n      <td>2628.033203</td>\n      <td>7.873991</td>\n      <td>3.181300</td>\n      <td>23.575000</td>\n      <td>0.943000</td>\n    </tr>\n    <tr>\n      <td>64</td>\n      <td>1.199500</td>\n      <td>1.755087</td>\n      <td>3368.799072</td>\n      <td>8.122312</td>\n      <td>3.377500</td>\n      <td>22.206000</td>\n      <td>0.888000</td>\n    </tr>\n    <tr>\n      <td>65</td>\n      <td>1.189900</td>\n      <td>1.731153</td>\n      <td>2692.298096</td>\n      <td>7.898150</td>\n      <td>3.188200</td>\n      <td>23.524000</td>\n      <td>0.941000</td>\n    </tr>\n    <tr>\n      <td>66</td>\n      <td>1.195600</td>\n      <td>1.722071</td>\n      <td>2605.330811</td>\n      <td>7.865315</td>\n      <td>3.219400</td>\n      <td>23.296000</td>\n      <td>0.932000</td>\n    </tr>\n    <tr>\n      <td>67</td>\n      <td>1.173000</td>\n      <td>1.733540</td>\n      <td>3022.076660</td>\n      <td>8.013700</td>\n      <td>3.340600</td>\n      <td>22.451000</td>\n      <td>0.898000</td>\n    </tr>\n    <tr>\n      <td>68</td>\n      <td>1.160600</td>\n      <td>1.737124</td>\n      <td>3015.846436</td>\n      <td>8.011636</td>\n      <td>3.231800</td>\n      <td>23.207000</td>\n      <td>0.928000</td>\n    </tr>\n    <tr>\n      <td>69</td>\n      <td>1.157700</td>\n      <td>1.734641</td>\n      <td>2982.888916</td>\n      <td>8.000648</td>\n      <td>3.224300</td>\n      <td>23.261000</td>\n      <td>0.930000</td>\n    </tr>\n    <tr>\n      <td>70</td>\n      <td>1.178500</td>\n      <td>1.731097</td>\n      <td>2842.170898</td>\n      <td>7.952323</td>\n      <td>3.285800</td>\n      <td>22.825000</td>\n      <td>0.913000</td>\n    </tr>\n    <tr>\n      <td>71</td>\n      <td>1.164100</td>\n      <td>1.732837</td>\n      <td>3293.495605</td>\n      <td>8.099705</td>\n      <td>3.241300</td>\n      <td>23.139000</td>\n      <td>0.926000</td>\n    </tr>\n    <tr>\n      <td>72</td>\n      <td>1.147700</td>\n      <td>1.724713</td>\n      <td>2959.531982</td>\n      <td>7.992786</td>\n      <td>3.263700</td>\n      <td>22.980000</td>\n      <td>0.919000</td>\n    </tr>\n    <tr>\n      <td>73</td>\n      <td>1.157200</td>\n      <td>1.734965</td>\n      <td>3201.946289</td>\n      <td>8.071514</td>\n      <td>3.224300</td>\n      <td>23.261000</td>\n      <td>0.930000</td>\n    </tr>\n    <tr>\n      <td>74</td>\n      <td>1.152600</td>\n      <td>1.738483</td>\n      <td>3342.841064</td>\n      <td>8.114576</td>\n      <td>3.209000</td>\n      <td>23.371000</td>\n      <td>0.935000</td>\n    </tr>\n    <tr>\n      <td>75</td>\n      <td>1.145700</td>\n      <td>1.738885</td>\n      <td>3204.124268</td>\n      <td>8.072194</td>\n      <td>3.397200</td>\n      <td>22.077000</td>\n      <td>0.883000</td>\n    </tr>\n    <tr>\n      <td>76</td>\n      <td>1.123500</td>\n      <td>1.737465</td>\n      <td>3482.435059</td>\n      <td>8.155487</td>\n      <td>3.195200</td>\n      <td>23.473000</td>\n      <td>0.939000</td>\n    </tr>\n    <tr>\n      <td>77</td>\n      <td>1.138100</td>\n      <td>1.737439</td>\n      <td>3516.589600</td>\n      <td>8.165247</td>\n      <td>3.271300</td>\n      <td>22.927000</td>\n      <td>0.917000</td>\n    </tr>\n    <tr>\n      <td>78</td>\n      <td>1.135700</td>\n      <td>1.728283</td>\n      <td>3195.838867</td>\n      <td>8.069605</td>\n      <td>3.280600</td>\n      <td>22.862000</td>\n      <td>0.914000</td>\n    </tr>\n    <tr>\n      <td>79</td>\n      <td>1.105700</td>\n      <td>1.739398</td>\n      <td>3665.315918</td>\n      <td>8.206670</td>\n      <td>3.196500</td>\n      <td>23.463000</td>\n      <td>0.939000</td>\n    </tr>\n    <tr>\n      <td>80</td>\n      <td>1.137400</td>\n      <td>1.725879</td>\n      <td>3510.685547</td>\n      <td>8.163567</td>\n      <td>3.181300</td>\n      <td>23.575000</td>\n      <td>0.943000</td>\n    </tr>\n    <tr>\n      <td>81</td>\n      <td>1.123300</td>\n      <td>1.748267</td>\n      <td>3765.241455</td>\n      <td>8.233567</td>\n      <td>3.301900</td>\n      <td>22.714000</td>\n      <td>0.909000</td>\n    </tr>\n    <tr>\n      <td>82</td>\n      <td>1.108000</td>\n      <td>1.733824</td>\n      <td>3454.329590</td>\n      <td>8.147384</td>\n      <td>3.236800</td>\n      <td>23.171000</td>\n      <td>0.927000</td>\n    </tr>\n    <tr>\n      <td>83</td>\n      <td>1.102600</td>\n      <td>1.734085</td>\n      <td>3701.115967</td>\n      <td>8.216390</td>\n      <td>3.209700</td>\n      <td>23.367000</td>\n      <td>0.935000</td>\n    </tr>\n    <tr>\n      <td>84</td>\n      <td>1.102200</td>\n      <td>1.732234</td>\n      <td>3428.595215</td>\n      <td>8.139906</td>\n      <td>3.178200</td>\n      <td>23.598000</td>\n      <td>0.944000</td>\n    </tr>\n    <tr>\n      <td>85</td>\n      <td>1.089100</td>\n      <td>1.738241</td>\n      <td>3753.521240</td>\n      <td>8.230450</td>\n      <td>3.215500</td>\n      <td>23.324000</td>\n      <td>0.933000</td>\n    </tr>\n    <tr>\n      <td>86</td>\n      <td>1.095400</td>\n      <td>1.731197</td>\n      <td>3690.306396</td>\n      <td>8.213465</td>\n      <td>3.211300</td>\n      <td>23.355000</td>\n      <td>0.934000</td>\n    </tr>\n    <tr>\n      <td>87</td>\n      <td>1.084700</td>\n      <td>1.752481</td>\n      <td>4102.888672</td>\n      <td>8.319447</td>\n      <td>3.179000</td>\n      <td>23.592000</td>\n      <td>0.944000</td>\n    </tr>\n    <tr>\n      <td>88</td>\n      <td>1.087700</td>\n      <td>1.731486</td>\n      <td>3592.386719</td>\n      <td>8.186572</td>\n      <td>3.224500</td>\n      <td>23.260000</td>\n      <td>0.930000</td>\n    </tr>\n    <tr>\n      <td>89</td>\n      <td>1.073800</td>\n      <td>1.735087</td>\n      <td>3862.085693</td>\n      <td>8.258963</td>\n      <td>3.198500</td>\n      <td>23.448000</td>\n      <td>0.938000</td>\n    </tr>\n    <tr>\n      <td>90</td>\n      <td>1.090200</td>\n      <td>1.726206</td>\n      <td>3494.408203</td>\n      <td>8.158919</td>\n      <td>3.203800</td>\n      <td>23.410000</td>\n      <td>0.936000</td>\n    </tr>\n    <tr>\n      <td>91</td>\n      <td>1.094300</td>\n      <td>1.741927</td>\n      <td>3986.091553</td>\n      <td>8.290566</td>\n      <td>3.238700</td>\n      <td>23.158000</td>\n      <td>0.926000</td>\n    </tr>\n    <tr>\n      <td>92</td>\n      <td>1.065100</td>\n      <td>1.741272</td>\n      <td>3962.917236</td>\n      <td>8.284736</td>\n      <td>3.486800</td>\n      <td>21.509000</td>\n      <td>0.860000</td>\n    </tr>\n    <tr>\n      <td>93</td>\n      <td>1.070300</td>\n      <td>1.736184</td>\n      <td>3901.213623</td>\n      <td>8.269043</td>\n      <td>3.188200</td>\n      <td>23.525000</td>\n      <td>0.941000</td>\n    </tr>\n    <tr>\n      <td>94</td>\n      <td>1.051400</td>\n      <td>1.735252</td>\n      <td>4162.245117</td>\n      <td>8.333810</td>\n      <td>3.231000</td>\n      <td>23.213000</td>\n      <td>0.929000</td>\n    </tr>\n    <tr>\n      <td>95</td>\n      <td>1.069100</td>\n      <td>1.734318</td>\n      <td>3892.554443</td>\n      <td>8.266821</td>\n      <td>3.209600</td>\n      <td>23.367000</td>\n      <td>0.935000</td>\n    </tr>\n    <tr>\n      <td>96</td>\n      <td>1.059900</td>\n      <td>1.730944</td>\n      <td>3877.386230</td>\n      <td>8.262917</td>\n      <td>3.240000</td>\n      <td>23.148000</td>\n      <td>0.926000</td>\n    </tr>\n    <tr>\n      <td>97</td>\n      <td>1.058900</td>\n      <td>1.739409</td>\n      <td>4270.872070</td>\n      <td>8.359573</td>\n      <td>3.187700</td>\n      <td>23.528000</td>\n      <td>0.941000</td>\n    </tr>\n    <tr>\n      <td>98</td>\n      <td>1.042800</td>\n      <td>1.733235</td>\n      <td>3998.118408</td>\n      <td>8.293579</td>\n      <td>3.301900</td>\n      <td>22.714000</td>\n      <td>0.909000</td>\n    </tr>\n    <tr>\n      <td>99</td>\n      <td>1.068100</td>\n      <td>1.739952</td>\n      <td>4178.244629</td>\n      <td>8.337646</td>\n      <td>3.224700</td>\n      <td>23.258000</td>\n      <td>0.930000</td>\n    </tr>\n    <tr>\n      <td>100</td>\n      <td>1.035200</td>\n      <td>1.750964</td>\n      <td>4645.747070</td>\n      <td>8.443707</td>\n      <td>3.247400</td>\n      <td>23.095000</td>\n      <td>0.924000</td>\n    </tr>\n    <tr>\n      <td>101</td>\n      <td>1.028600</td>\n      <td>1.734879</td>\n      <td>4230.190430</td>\n      <td>8.350002</td>\n      <td>3.218600</td>\n      <td>23.302000</td>\n      <td>0.932000</td>\n    </tr>\n    <tr>\n      <td>102</td>\n      <td>1.031000</td>\n      <td>1.748368</td>\n      <td>4464.330078</td>\n      <td>8.403874</td>\n      <td>3.281400</td>\n      <td>22.856000</td>\n      <td>0.914000</td>\n    </tr>\n    <tr>\n      <td>103</td>\n      <td>1.034700</td>\n      <td>1.731257</td>\n      <td>4256.458008</td>\n      <td>8.356193</td>\n      <td>3.235700</td>\n      <td>23.179000</td>\n      <td>0.927000</td>\n    </tr>\n    <tr>\n      <td>104</td>\n      <td>1.047100</td>\n      <td>1.739142</td>\n      <td>4421.746094</td>\n      <td>8.394290</td>\n      <td>3.208900</td>\n      <td>23.373000</td>\n      <td>0.935000</td>\n    </tr>\n    <tr>\n      <td>105</td>\n      <td>1.019200</td>\n      <td>1.747573</td>\n      <td>4557.159180</td>\n      <td>8.424455</td>\n      <td>3.202200</td>\n      <td>23.422000</td>\n      <td>0.937000</td>\n    </tr>\n    <tr>\n      <td>106</td>\n      <td>1.035000</td>\n      <td>1.742657</td>\n      <td>4413.703613</td>\n      <td>8.392469</td>\n      <td>3.226400</td>\n      <td>23.246000</td>\n      <td>0.930000</td>\n    </tr>\n    <tr>\n      <td>107</td>\n      <td>1.026700</td>\n      <td>1.742111</td>\n      <td>4342.098145</td>\n      <td>8.376113</td>\n      <td>3.179400</td>\n      <td>23.589000</td>\n      <td>0.944000</td>\n    </tr>\n    <tr>\n      <td>108</td>\n      <td>1.020700</td>\n      <td>1.745758</td>\n      <td>4650.631836</td>\n      <td>8.444758</td>\n      <td>3.248100</td>\n      <td>23.091000</td>\n      <td>0.924000</td>\n    </tr>\n    <tr>\n      <td>109</td>\n      <td>1.036400</td>\n      <td>1.748784</td>\n      <td>4527.079590</td>\n      <td>8.417832</td>\n      <td>3.233700</td>\n      <td>23.193000</td>\n      <td>0.928000</td>\n    </tr>\n    <tr>\n      <td>110</td>\n      <td>0.994000</td>\n      <td>1.747955</td>\n      <td>4609.259277</td>\n      <td>8.435822</td>\n      <td>3.239800</td>\n      <td>23.150000</td>\n      <td>0.926000</td>\n    </tr>\n    <tr>\n      <td>111</td>\n      <td>1.007900</td>\n      <td>1.743803</td>\n      <td>4383.902344</td>\n      <td>8.385695</td>\n      <td>3.205000</td>\n      <td>23.401000</td>\n      <td>0.936000</td>\n    </tr>\n    <tr>\n      <td>112</td>\n      <td>1.030800</td>\n      <td>1.744995</td>\n      <td>4772.660645</td>\n      <td>8.470659</td>\n      <td>3.237400</td>\n      <td>23.167000</td>\n      <td>0.927000</td>\n    </tr>\n    <tr>\n      <td>113</td>\n      <td>1.032500</td>\n      <td>1.746072</td>\n      <td>4758.594727</td>\n      <td>8.467708</td>\n      <td>3.234900</td>\n      <td>23.185000</td>\n      <td>0.927000</td>\n    </tr>\n    <tr>\n      <td>114</td>\n      <td>1.015100</td>\n      <td>1.744338</td>\n      <td>4584.394043</td>\n      <td>8.430413</td>\n      <td>3.208600</td>\n      <td>23.375000</td>\n      <td>0.935000</td>\n    </tr>\n    <tr>\n      <td>115</td>\n      <td>1.026100</td>\n      <td>1.740712</td>\n      <td>4665.909668</td>\n      <td>8.448038</td>\n      <td>3.206800</td>\n      <td>23.388000</td>\n      <td>0.936000</td>\n    </tr>\n    <tr>\n      <td>116</td>\n      <td>1.034600</td>\n      <td>1.739883</td>\n      <td>4716.490723</td>\n      <td>8.458820</td>\n      <td>3.263100</td>\n      <td>22.985000</td>\n      <td>0.919000</td>\n    </tr>\n    <tr>\n      <td>117</td>\n      <td>0.992600</td>\n      <td>1.744166</td>\n      <td>4782.397461</td>\n      <td>8.472697</td>\n      <td>3.271400</td>\n      <td>22.926000</td>\n      <td>0.917000</td>\n    </tr>\n    <tr>\n      <td>118</td>\n      <td>1.012000</td>\n      <td>1.742043</td>\n      <td>4749.925293</td>\n      <td>8.465884</td>\n      <td>3.198600</td>\n      <td>23.448000</td>\n      <td>0.938000</td>\n    </tr>\n    <tr>\n      <td>119</td>\n      <td>1.009600</td>\n      <td>1.744677</td>\n      <td>4705.582520</td>\n      <td>8.456505</td>\n      <td>3.344700</td>\n      <td>22.424000</td>\n      <td>0.897000</td>\n    </tr>\n    <tr>\n      <td>120</td>\n      <td>1.033300</td>\n      <td>1.749843</td>\n      <td>4944.438477</td>\n      <td>8.506019</td>\n      <td>3.236400</td>\n      <td>23.174000</td>\n      <td>0.927000</td>\n    </tr>\n    <tr>\n      <td>121</td>\n      <td>0.987500</td>\n      <td>1.747044</td>\n      <td>4997.504883</td>\n      <td>8.516694</td>\n      <td>3.245200</td>\n      <td>23.111000</td>\n      <td>0.924000</td>\n    </tr>\n    <tr>\n      <td>122</td>\n      <td>1.005200</td>\n      <td>1.752833</td>\n      <td>5086.797852</td>\n      <td>8.534404</td>\n      <td>3.258100</td>\n      <td>23.020000</td>\n      <td>0.921000</td>\n    </tr>\n    <tr>\n      <td>123</td>\n      <td>0.999300</td>\n      <td>1.741983</td>\n      <td>4738.040527</td>\n      <td>8.463379</td>\n      <td>3.218900</td>\n      <td>23.300000</td>\n      <td>0.932000</td>\n    </tr>\n    <tr>\n      <td>124</td>\n      <td>0.995700</td>\n      <td>1.753240</td>\n      <td>5249.336426</td>\n      <td>8.565857</td>\n      <td>3.299900</td>\n      <td>22.728000</td>\n      <td>0.909000</td>\n    </tr>\n    <tr>\n      <td>125</td>\n      <td>0.990400</td>\n      <td>1.745428</td>\n      <td>4947.862793</td>\n      <td>8.506711</td>\n      <td>3.258700</td>\n      <td>23.015000</td>\n      <td>0.921000</td>\n    </tr>\n    <tr>\n      <td>126</td>\n      <td>1.002700</td>\n      <td>1.751401</td>\n      <td>5271.992676</td>\n      <td>8.570164</td>\n      <td>3.343900</td>\n      <td>22.429000</td>\n      <td>0.897000</td>\n    </tr>\n    <tr>\n      <td>127</td>\n      <td>0.996400</td>\n      <td>1.747270</td>\n      <td>5095.838867</td>\n      <td>8.536180</td>\n      <td>3.283000</td>\n      <td>22.845000</td>\n      <td>0.914000</td>\n    </tr>\n    <tr>\n      <td>128</td>\n      <td>0.986800</td>\n      <td>1.750817</td>\n      <td>5274.607910</td>\n      <td>8.570660</td>\n      <td>3.212000</td>\n      <td>23.350000</td>\n      <td>0.934000</td>\n    </tr>\n    <tr>\n      <td>129</td>\n      <td>0.971400</td>\n      <td>1.752208</td>\n      <td>5286.719727</td>\n      <td>8.572953</td>\n      <td>3.256800</td>\n      <td>23.029000</td>\n      <td>0.921000</td>\n    </tr>\n    <tr>\n      <td>130</td>\n      <td>0.986700</td>\n      <td>1.742640</td>\n      <td>4908.904297</td>\n      <td>8.498806</td>\n      <td>3.228600</td>\n      <td>23.230000</td>\n      <td>0.929000</td>\n    </tr>\n    <tr>\n      <td>131</td>\n      <td>1.004100</td>\n      <td>1.748542</td>\n      <td>5165.469727</td>\n      <td>8.549751</td>\n      <td>3.311800</td>\n      <td>22.646000</td>\n      <td>0.906000</td>\n    </tr>\n    <tr>\n      <td>132</td>\n      <td>0.998200</td>\n      <td>1.750427</td>\n      <td>5338.793945</td>\n      <td>8.582755</td>\n      <td>3.313600</td>\n      <td>22.634000</td>\n      <td>0.905000</td>\n    </tr>\n    <tr>\n      <td>133</td>\n      <td>0.994900</td>\n      <td>1.749735</td>\n      <td>5145.238281</td>\n      <td>8.545827</td>\n      <td>3.218600</td>\n      <td>23.302000</td>\n      <td>0.932000</td>\n    </tr>\n    <tr>\n      <td>134</td>\n      <td>0.990900</td>\n      <td>1.745783</td>\n      <td>5059.988770</td>\n      <td>8.529119</td>\n      <td>3.227600</td>\n      <td>23.237000</td>\n      <td>0.929000</td>\n    </tr>\n    <tr>\n      <td>135</td>\n      <td>0.970800</td>\n      <td>1.742055</td>\n      <td>4905.450195</td>\n      <td>8.498102</td>\n      <td>3.249500</td>\n      <td>23.080000</td>\n      <td>0.923000</td>\n    </tr>\n    <tr>\n      <td>136</td>\n      <td>0.968100</td>\n      <td>1.745163</td>\n      <td>5045.989746</td>\n      <td>8.526349</td>\n      <td>3.284100</td>\n      <td>22.837000</td>\n      <td>0.913000</td>\n    </tr>\n    <tr>\n      <td>137</td>\n      <td>0.990000</td>\n      <td>1.744390</td>\n      <td>5127.696289</td>\n      <td>8.542412</td>\n      <td>3.216400</td>\n      <td>23.318000</td>\n      <td>0.933000</td>\n    </tr>\n    <tr>\n      <td>138</td>\n      <td>0.972500</td>\n      <td>1.746542</td>\n      <td>5182.285156</td>\n      <td>8.553001</td>\n      <td>3.198900</td>\n      <td>23.445000</td>\n      <td>0.938000</td>\n    </tr>\n    <tr>\n      <td>139</td>\n      <td>0.987300</td>\n      <td>1.748629</td>\n      <td>5267.967285</td>\n      <td>8.569400</td>\n      <td>3.282900</td>\n      <td>22.846000</td>\n      <td>0.914000</td>\n    </tr>\n    <tr>\n      <td>140</td>\n      <td>0.979000</td>\n      <td>1.751782</td>\n      <td>5386.822754</td>\n      <td>8.591711</td>\n      <td>3.240500</td>\n      <td>23.145000</td>\n      <td>0.926000</td>\n    </tr>\n    <tr>\n      <td>141</td>\n      <td>0.974900</td>\n      <td>1.754368</td>\n      <td>5458.794922</td>\n      <td>8.604983</td>\n      <td>3.262000</td>\n      <td>22.992000</td>\n      <td>0.920000</td>\n    </tr>\n    <tr>\n      <td>142</td>\n      <td>0.987200</td>\n      <td>1.750032</td>\n      <td>5298.010254</td>\n      <td>8.575087</td>\n      <td>3.254700</td>\n      <td>23.044000</td>\n      <td>0.922000</td>\n    </tr>\n    <tr>\n      <td>143</td>\n      <td>0.972100</td>\n      <td>1.745310</td>\n      <td>5117.515625</td>\n      <td>8.540424</td>\n      <td>3.192300</td>\n      <td>23.494000</td>\n      <td>0.940000</td>\n    </tr>\n    <tr>\n      <td>144</td>\n      <td>0.959200</td>\n      <td>1.744697</td>\n      <td>5182.902832</td>\n      <td>8.553121</td>\n      <td>3.193800</td>\n      <td>23.483000</td>\n      <td>0.939000</td>\n    </tr>\n    <tr>\n      <td>145</td>\n      <td>0.961900</td>\n      <td>1.746328</td>\n      <td>5281.841309</td>\n      <td>8.572030</td>\n      <td>3.196900</td>\n      <td>23.460000</td>\n      <td>0.938000</td>\n    </tr>\n    <tr>\n      <td>146</td>\n      <td>0.973600</td>\n      <td>1.749517</td>\n      <td>5386.745605</td>\n      <td>8.591697</td>\n      <td>3.305200</td>\n      <td>22.692000</td>\n      <td>0.908000</td>\n    </tr>\n    <tr>\n      <td>147</td>\n      <td>0.956700</td>\n      <td>1.749715</td>\n      <td>5396.088379</td>\n      <td>8.593430</td>\n      <td>3.234800</td>\n      <td>23.185000</td>\n      <td>0.927000</td>\n    </tr>\n    <tr>\n      <td>148</td>\n      <td>0.963800</td>\n      <td>1.749538</td>\n      <td>5401.638672</td>\n      <td>8.594458</td>\n      <td>3.253400</td>\n      <td>23.053000</td>\n      <td>0.922000</td>\n    </tr>\n    <tr>\n      <td>149</td>\n      <td>0.981800</td>\n      <td>1.750151</td>\n      <td>5413.938477</td>\n      <td>8.596732</td>\n      <td>3.204000</td>\n      <td>23.408000</td>\n      <td>0.936000</td>\n    </tr>\n    <tr>\n      <td>150</td>\n      <td>0.964000</td>\n      <td>1.750141</td>\n      <td>5406.750977</td>\n      <td>8.595404</td>\n      <td>3.416600</td>\n      <td>21.952000</td>\n      <td>0.878000</td>\n    </tr>\n  </tbody>\n</table><p>"
     },
     "metadata": {}
    },
    {
     "name": "stderr",
     "text": "There were missing keys in the checkpoint model loaded: ['lm_head.weight'].\n",
     "output_type": "stream"
    },
    {
     "name": "stdout",
     "text": "TrainOutput(global_step=1500, training_loss=1.2629718634287517, metrics={'train_runtime': 1361.3955, 'train_samples_per_second': 32.834, 'train_steps_per_second': 1.102, 'total_flos': 2930062668595200.0, 'train_loss': 1.2629718634287517, 'epoch': 150.0})\n",
     "output_type": "stream"
    }
   ],
   "id": "529778c9a197e4b1"
  },
  {
   "cell_type": "code",
   "source": [
    "train_history = pd.DataFrame(trainer.state.log_history)"
   ],
   "metadata": {
    "execution": {
     "iopub.status.busy": "2024-03-25T20:00:33.088302Z",
     "iopub.execute_input": "2024-03-25T20:00:33.088676Z",
     "iopub.status.idle": "2024-03-25T20:00:33.096369Z",
     "shell.execute_reply.started": "2024-03-25T20:00:33.088650Z",
     "shell.execute_reply": "2024-03-25T20:00:33.095227Z"
    },
    "trusted": true
   },
   "execution_count": 54,
   "outputs": [],
   "id": "769b27acafc65adb"
  },
  {
   "cell_type": "code",
   "source": [
    "train_history = train_history.groupby(train_history.index // 2).agg('sum')\n",
    "train_history.drop(train_history.tail(1).index,inplace=True)"
   ],
   "metadata": {
    "execution": {
     "iopub.status.busy": "2024-03-25T20:00:33.331566Z",
     "iopub.execute_input": "2024-03-25T20:00:33.332446Z",
     "iopub.status.idle": "2024-03-25T20:00:33.340308Z",
     "shell.execute_reply.started": "2024-03-25T20:00:33.332411Z",
     "shell.execute_reply": "2024-03-25T20:00:33.339344Z"
    },
    "trusted": true
   },
   "execution_count": 55,
   "outputs": [],
   "id": "73bf993e2e542c5b"
  },
  {
   "cell_type": "code",
   "source": [
    "train_history"
   ],
   "metadata": {
    "execution": {
     "iopub.status.busy": "2024-03-25T20:00:33.580563Z",
     "iopub.execute_input": "2024-03-25T20:00:33.581206Z",
     "iopub.status.idle": "2024-03-25T20:00:33.611388Z",
     "shell.execute_reply.started": "2024-03-25T20:00:33.581172Z",
     "shell.execute_reply": "2024-03-25T20:00:33.610284Z"
    },
    "trusted": true
   },
   "execution_count": 56,
   "outputs": [
    {
     "execution_count": 56,
     "output_type": "execute_result",
     "data": {
      "text/plain": "       loss  grad_norm  learning_rate  epoch  step  eval_loss  \\\n0    3.7463   1.040718       0.000993    2.0    20   2.213741   \n1    2.2433   0.389207       0.000987    4.0    40   2.088424   \n2    2.0824   0.286292       0.000980    6.0    60   2.027468   \n3    2.0287   0.296808       0.000973    8.0    80   1.994655   \n4    2.0248   0.395737       0.000967   10.0   100   1.974176   \n..      ...        ...            ...    ...   ...        ...   \n145  0.9736   1.099381       0.000027  292.0  2920   1.749517   \n146  0.9567   0.965424       0.000020  294.0  2940   1.749715   \n147  0.9638   1.036886       0.000013  296.0  2960   1.749538   \n148  0.9818   1.141880       0.000007  298.0  2980   1.750151   \n149  0.9640   0.910761       0.000000  300.0  3000   1.750141   \n\n     eval_perplexity  eval_calculated_loss  eval_runtime  \\\n0         391.747040              5.970616        3.2270   \n1         574.722107              6.353887        3.2420   \n2         593.936340              6.386772        3.1984   \n3         585.423157              6.372335        3.1673   \n4         567.981934              6.342090        3.1935   \n..               ...                   ...           ...   \n145      5386.745605              8.591697        3.3052   \n146      5396.088379              8.593430        3.2348   \n147      5401.638672              8.594458        3.2534   \n148      5413.938477              8.596732        3.2040   \n149      5406.750977              8.595404        3.4166   \n\n     eval_samples_per_second  eval_steps_per_second  train_runtime  \\\n0                     23.242                  0.930            0.0   \n1                     23.134                  0.925            0.0   \n2                     23.449                  0.938            0.0   \n3                     23.680                  0.947            0.0   \n4                     23.485                  0.939            0.0   \n..                       ...                    ...            ...   \n145                   22.692                  0.908            0.0   \n146                   23.185                  0.927            0.0   \n147                   23.053                  0.922            0.0   \n148                   23.408                  0.936            0.0   \n149                   21.952                  0.878            0.0   \n\n     train_samples_per_second  train_steps_per_second  total_flos  train_loss  \n0                         0.0                     0.0         0.0         0.0  \n1                         0.0                     0.0         0.0         0.0  \n2                         0.0                     0.0         0.0         0.0  \n3                         0.0                     0.0         0.0         0.0  \n4                         0.0                     0.0         0.0         0.0  \n..                        ...                     ...         ...         ...  \n145                       0.0                     0.0         0.0         0.0  \n146                       0.0                     0.0         0.0         0.0  \n147                       0.0                     0.0         0.0         0.0  \n148                       0.0                     0.0         0.0         0.0  \n149                       0.0                     0.0         0.0         0.0  \n\n[150 rows x 16 columns]",
      "text/html": "<div>\n<style scoped>\n    .dataframe tbody tr th:only-of-type {\n        vertical-align: middle;\n    }\n\n    .dataframe tbody tr th {\n        vertical-align: top;\n    }\n\n    .dataframe thead th {\n        text-align: right;\n    }\n</style>\n<table border=\"1\" class=\"dataframe\">\n  <thead>\n    <tr style=\"text-align: right;\">\n      <th></th>\n      <th>loss</th>\n      <th>grad_norm</th>\n      <th>learning_rate</th>\n      <th>epoch</th>\n      <th>step</th>\n      <th>eval_loss</th>\n      <th>eval_perplexity</th>\n      <th>eval_calculated_loss</th>\n      <th>eval_runtime</th>\n      <th>eval_samples_per_second</th>\n      <th>eval_steps_per_second</th>\n      <th>train_runtime</th>\n      <th>train_samples_per_second</th>\n      <th>train_steps_per_second</th>\n      <th>total_flos</th>\n      <th>train_loss</th>\n    </tr>\n  </thead>\n  <tbody>\n    <tr>\n      <th>0</th>\n      <td>3.7463</td>\n      <td>1.040718</td>\n      <td>0.000993</td>\n      <td>2.0</td>\n      <td>20</td>\n      <td>2.213741</td>\n      <td>391.747040</td>\n      <td>5.970616</td>\n      <td>3.2270</td>\n      <td>23.242</td>\n      <td>0.930</td>\n      <td>0.0</td>\n      <td>0.0</td>\n      <td>0.0</td>\n      <td>0.0</td>\n      <td>0.0</td>\n    </tr>\n    <tr>\n      <th>1</th>\n      <td>2.2433</td>\n      <td>0.389207</td>\n      <td>0.000987</td>\n      <td>4.0</td>\n      <td>40</td>\n      <td>2.088424</td>\n      <td>574.722107</td>\n      <td>6.353887</td>\n      <td>3.2420</td>\n      <td>23.134</td>\n      <td>0.925</td>\n      <td>0.0</td>\n      <td>0.0</td>\n      <td>0.0</td>\n      <td>0.0</td>\n      <td>0.0</td>\n    </tr>\n    <tr>\n      <th>2</th>\n      <td>2.0824</td>\n      <td>0.286292</td>\n      <td>0.000980</td>\n      <td>6.0</td>\n      <td>60</td>\n      <td>2.027468</td>\n      <td>593.936340</td>\n      <td>6.386772</td>\n      <td>3.1984</td>\n      <td>23.449</td>\n      <td>0.938</td>\n      <td>0.0</td>\n      <td>0.0</td>\n      <td>0.0</td>\n      <td>0.0</td>\n      <td>0.0</td>\n    </tr>\n    <tr>\n      <th>3</th>\n      <td>2.0287</td>\n      <td>0.296808</td>\n      <td>0.000973</td>\n      <td>8.0</td>\n      <td>80</td>\n      <td>1.994655</td>\n      <td>585.423157</td>\n      <td>6.372335</td>\n      <td>3.1673</td>\n      <td>23.680</td>\n      <td>0.947</td>\n      <td>0.0</td>\n      <td>0.0</td>\n      <td>0.0</td>\n      <td>0.0</td>\n      <td>0.0</td>\n    </tr>\n    <tr>\n      <th>4</th>\n      <td>2.0248</td>\n      <td>0.395737</td>\n      <td>0.000967</td>\n      <td>10.0</td>\n      <td>100</td>\n      <td>1.974176</td>\n      <td>567.981934</td>\n      <td>6.342090</td>\n      <td>3.1935</td>\n      <td>23.485</td>\n      <td>0.939</td>\n      <td>0.0</td>\n      <td>0.0</td>\n      <td>0.0</td>\n      <td>0.0</td>\n      <td>0.0</td>\n    </tr>\n    <tr>\n      <th>...</th>\n      <td>...</td>\n      <td>...</td>\n      <td>...</td>\n      <td>...</td>\n      <td>...</td>\n      <td>...</td>\n      <td>...</td>\n      <td>...</td>\n      <td>...</td>\n      <td>...</td>\n      <td>...</td>\n      <td>...</td>\n      <td>...</td>\n      <td>...</td>\n      <td>...</td>\n      <td>...</td>\n    </tr>\n    <tr>\n      <th>145</th>\n      <td>0.9736</td>\n      <td>1.099381</td>\n      <td>0.000027</td>\n      <td>292.0</td>\n      <td>2920</td>\n      <td>1.749517</td>\n      <td>5386.745605</td>\n      <td>8.591697</td>\n      <td>3.3052</td>\n      <td>22.692</td>\n      <td>0.908</td>\n      <td>0.0</td>\n      <td>0.0</td>\n      <td>0.0</td>\n      <td>0.0</td>\n      <td>0.0</td>\n    </tr>\n    <tr>\n      <th>146</th>\n      <td>0.9567</td>\n      <td>0.965424</td>\n      <td>0.000020</td>\n      <td>294.0</td>\n      <td>2940</td>\n      <td>1.749715</td>\n      <td>5396.088379</td>\n      <td>8.593430</td>\n      <td>3.2348</td>\n      <td>23.185</td>\n      <td>0.927</td>\n      <td>0.0</td>\n      <td>0.0</td>\n      <td>0.0</td>\n      <td>0.0</td>\n      <td>0.0</td>\n    </tr>\n    <tr>\n      <th>147</th>\n      <td>0.9638</td>\n      <td>1.036886</td>\n      <td>0.000013</td>\n      <td>296.0</td>\n      <td>2960</td>\n      <td>1.749538</td>\n      <td>5401.638672</td>\n      <td>8.594458</td>\n      <td>3.2534</td>\n      <td>23.053</td>\n      <td>0.922</td>\n      <td>0.0</td>\n      <td>0.0</td>\n      <td>0.0</td>\n      <td>0.0</td>\n      <td>0.0</td>\n    </tr>\n    <tr>\n      <th>148</th>\n      <td>0.9818</td>\n      <td>1.141880</td>\n      <td>0.000007</td>\n      <td>298.0</td>\n      <td>2980</td>\n      <td>1.750151</td>\n      <td>5413.938477</td>\n      <td>8.596732</td>\n      <td>3.2040</td>\n      <td>23.408</td>\n      <td>0.936</td>\n      <td>0.0</td>\n      <td>0.0</td>\n      <td>0.0</td>\n      <td>0.0</td>\n      <td>0.0</td>\n    </tr>\n    <tr>\n      <th>149</th>\n      <td>0.9640</td>\n      <td>0.910761</td>\n      <td>0.000000</td>\n      <td>300.0</td>\n      <td>3000</td>\n      <td>1.750141</td>\n      <td>5406.750977</td>\n      <td>8.595404</td>\n      <td>3.4166</td>\n      <td>21.952</td>\n      <td>0.878</td>\n      <td>0.0</td>\n      <td>0.0</td>\n      <td>0.0</td>\n      <td>0.0</td>\n      <td>0.0</td>\n    </tr>\n  </tbody>\n</table>\n<p>150 rows × 16 columns</p>\n</div>"
     },
     "metadata": {}
    }
   ],
   "id": "e29fb59890ac7937"
  },
  {
   "cell_type": "code",
   "source": [
    "def plot_model_hist(history):\n",
    "    # Plotting train and validation loss graph\n",
    "    plt.title('Loss')\n",
    "    #plt.yticks(np.arange(history['loss'].min(), history['loss'].max(), step=(history['loss'].max() - history['loss'].min() // 10)))\n",
    "    plt.plot(history['loss'], label='train')\n",
    "    plt.plot(history['eval_loss'],\n",
    "    label='test')\n",
    "    plt.legend()\n",
    "    plt.savefig('loss_graph.png')\n",
    "    plt.show()\n",
    "\n",
    "    # Plotting train and validation F1 score graph\n",
    "    plt.title('Perplexity score')\n",
    "    plt.plot(history['eval_perplexity'],\n",
    "    label='test')\n",
    "    plt.legend()\n",
    "    plt.savefig('perplexity.png')\n",
    "    plt.show()"
   ],
   "metadata": {
    "execution": {
     "iopub.status.busy": "2024-03-25T20:00:35.937701Z",
     "iopub.execute_input": "2024-03-25T20:00:35.938561Z",
     "iopub.status.idle": "2024-03-25T20:00:35.944576Z",
     "shell.execute_reply.started": "2024-03-25T20:00:35.938517Z",
     "shell.execute_reply": "2024-03-25T20:00:35.943652Z"
    },
    "trusted": true
   },
   "execution_count": 57,
   "outputs": [],
   "id": "2c2819dbc9a905ba"
  },
  {
   "cell_type": "code",
   "source": [
    "plot_model_hist(train_history)"
   ],
   "metadata": {
    "execution": {
     "iopub.status.busy": "2024-03-25T20:00:36.193664Z",
     "iopub.execute_input": "2024-03-25T20:00:36.194394Z",
     "iopub.status.idle": "2024-03-25T20:00:36.937064Z",
     "shell.execute_reply.started": "2024-03-25T20:00:36.194360Z",
     "shell.execute_reply": "2024-03-25T20:00:36.936175Z"
    },
    "trusted": true
   },
   "execution_count": 58,
   "outputs": [
    {
     "output_type": "display_data",
     "data": {
      "text/plain": "<Figure size 640x480 with 1 Axes>",
      "image/png": "[encoded data removed]"
     },
     "metadata": {}
    },
    {
     "output_type": "display_data",
     "data": {
      "text/plain": "<Figure size 640x480 with 1 Axes>",
      "image/png": "[encoded data removed]"
     },
     "metadata": {}
    }
   ],
   "id": "6cf2f4732d30b191"
  },
  {
   "cell_type": "markdown",
   "source": [
    "## Inference"
   ],
   "metadata": {},
   "id": "37a3fe81d1387ee"
  },
  {
   "cell_type": "code",
   "source": [
    "# Create a test prompt\n",
    "prompt = \"How long does it take for an electronic transcript to arrive at UCF?\"\n",
    "# Encode the prompt\n",
    "encoded_prompt = preprocessor.tokenizer(prompt, add_special_tokens=False, return_tensors=\"pt\").input_ids\n",
    "# Transform the encoded representation to the device the model was trained on\n",
    "encoded_prompt = encoded_prompt.to(trainer.model.device)\n",
    "\n",
    "# Generating a prediction\n",
    "output_sequences = trainer.model.generate(\n",
    "    input_ids=encoded_prompt,\n",
    "    # Maximum length of predicted sequence\n",
    "    max_length=MAX_LENGTH,\n",
    "    min_length=1,\n",
    "    # Temperature determines how creative/random or strict the model should be\n",
    "    temperature=.9,\n",
    "    # Determines the probability sum of tokens that should be kept\n",
    "    top_p=.95,\n",
    "    do_sample=True,\n",
    "    # Predict 3 sequences\n",
    "    num_return_sequences=3,\n",
    "    pad_token_id=preprocessor.tokenizer.pad_token_id,\n",
    ")\n",
    "\n",
    "generated_sequences = []\n",
    "\n",
    "# Decoding the predicted sequences\n",
    "for generated_sequence_idx, generated_sequence in enumerate(output_sequences):\n",
    "    generated_sequence = generated_sequence.tolist()\n",
    "    text = preprocessor.tokenizer.decode(generated_sequence, clean_up_tokenization_spaces=True, skip_special_tokens=True)\n",
    "    generated_sequences.append(text.strip().split('?')[1])\n"
   ],
   "metadata": {
    "collapsed": false,
    "execution": {
     "iopub.status.busy": "2024-03-25T19:25:28.528402Z",
     "iopub.execute_input": "2024-03-25T19:25:28.528696Z",
     "iopub.status.idle": "2024-03-25T19:25:31.564536Z",
     "shell.execute_reply.started": "2024-03-25T19:25:28.528668Z",
     "shell.execute_reply": "2024-03-25T19:25:31.563463Z"
    },
    "trusted": true
   },
   "execution_count": 13,
   "outputs": [],
   "id": "d5f1a83e4514ec58"
  },
  {
   "cell_type": "code",
   "source": [
    "generated_sequences"
   ],
   "metadata": {
    "collapsed": false,
    "execution": {
     "iopub.status.busy": "2024-03-25T19:25:31.568624Z",
     "iopub.execute_input": "2024-03-25T19:25:31.568992Z",
     "iopub.status.idle": "2024-03-25T19:25:31.578515Z",
     "shell.execute_reply.started": "2024-03-25T19:25:31.568960Z",
     "shell.execute_reply": "2024-03-25T19:25:31.577204Z"
    },
    "trusted": true
   },
   "execution_count": 14,
   "outputs": [
    {
     "execution_count": 14,
     "output_type": "execute_result",
     "data": {
      "text/plain": "[' The transcript arrival time varies by time of year: The most common times are: Saturdays starting 6:00 p.m. on Saturdays starting 5:00 p.m. on Saturdays beginning in the middle of the month and beginning at 6:30 p.m. on Sundays starting 6:30 p.m. on Sundays starting in the middle of the month and beginning at 6:30 p.m. on Mondays beginning in the middle of the month and beginning at 7:00 p.m. on Mondays beginning in the middle of the month and beginning',\n ' Electronic transcripts typically take six to seven business days for transit to the United States. Electronic transcripts usually take approximately 15 to 30 business days for transit to the United States, depending on the type of delivery and the carrier that delivers the transcript.',\n ' Generally speaking, your transcript will arrive at the university within 3-5 business days after your application has been submitted. In addition, the transcript will arrive within 24-28 business days after your first semester on campus.']"
     },
     "metadata": {}
    }
   ],
   "id": "818ae610e0093e34"
  },
  {
   "cell_type": "markdown",
   "source": [
    "## Running our chatbot"
   ],
   "metadata": {},
   "id": "9d03f2b3349b008a"
  },
  {
   "cell_type": "code",
   "source": [
    "while True:\n",
    "    prompt = input(\"User > \")\n",
    "    if prompt:\n",
    "        if prompt == \"bye\":\n",
    "            break\n",
    "        encoded_prompt = preprocessor.tokenizer(prompt, add_special_tokens=False, return_tensors=\"pt\").input_ids\n",
    "        encoded_prompt = encoded_prompt.to(trainer.model.device)\n",
    "\n",
    "        # prediction\n",
    "        output_sequences = trainer.model.generate(\n",
    "            input_ids=encoded_prompt,\n",
    "            max_length=MAX_LENGTH,\n",
    "            min_length=1,\n",
    "            temperature=.9,\n",
    "            top_p=.95,\n",
    "            do_sample=True,\n",
    "            num_return_sequences=1,\n",
    "            pad_token_id=preprocessor.tokenizer.pad_token_id,\n",
    "        )\n",
    "\n",
    "        generated_sequences = []\n",
    "\n",
    "        # decode prediction\n",
    "        for generated_sequence_idx, generated_sequence in enumerate(output_sequences):\n",
    "            generated_sequence = generated_sequence.tolist()\n",
    "            text = preprocessor.tokenizer.decode(generated_sequence, clean_up_tokenization_spaces=True, skip_special_tokens=True)\n",
    "            generated_sequences.append(text.strip().split(\"?\")[1])\n",
    "        print(\"Assistant > \", generated_sequences[0])"
   ],
   "metadata": {
    "execution": {
     "iopub.status.busy": "2024-03-25T19:38:57.217678Z",
     "iopub.execute_input": "2024-03-25T19:38:57.218523Z",
     "iopub.status.idle": "2024-03-25T19:40:26.537694Z",
     "shell.execute_reply.started": "2024-03-25T19:38:57.218489Z",
     "shell.execute_reply": "2024-03-25T19:40:26.536796Z"
    },
    "trusted": true
   },
   "execution_count": 16,
   "outputs": [
    {
     "output_type": "stream",
     "name": "stdin",
     "text": "User >  When should I apply to UCF?\n"
    },
    {
     "name": "stdout",
     "text": "Assistant >   You must apply after your high school graduation from high school. A minimum GPA of 1.00 or more is required for admission into UCF. A minimum of 4.00 from a high school is required. For final acceptance, a minimum of 6 credits from a UCF School of Design are required. NOTE: AUCF does not recognize your final college or university attendance.\n",
     "output_type": "stream"
    },
    {
     "output_type": "stream",
     "name": "stdin",
     "text": "User >  Does UCF have on-campus housing?\n"
    },
    {
     "name": "stdout",
     "text": "Assistant >   Students can rent units on campus as housing at UCF housing facilities. Housing is located primarily on campus in Downtown Eastside Eastside and includes the UCF Student Center (1501 E. Roosevelt St.). Once inside, a person can rent one or two units per room, depending on availability. Units are typically reserved for first-year students. A 2-bedroom, three-bathroom, four-orcatery is ideal for large rooms. Units in central dorms are typically reserved for first-year students.\n",
     "output_type": "stream"
    },
    {
     "output_type": "stream",
     "name": "stdin",
     "text": "User >  What is the requirements for graduate degree application?\n"
    },
    {
     "name": "stdout",
     "text": "Assistant >   The UCF application requirements are as follows: A high school diploma, transcripts from high school exams, an SAT or CLT from high school exam scores, and an unofficial transcript from an accredited high school. Fills of application fees should be submitted electronically and electronically within 48-hour of application submission. Disciplinary actions should be made by the Academic Council. A university statement of requirements (such as academic integrity, academic fitness, etc.) or a waiver from application application impoundment should be posted online when required. UCF requires both official transcripts and unofficial transcripts available to view. This requirement is\n",
     "output_type": "stream"
    },
    {
     "output_type": "stream",
     "name": "stdin",
     "text": "User >  bye\n"
    }
   ],
   "id": "682969b4c62d2121"
  },
  {
   "cell_type": "code",
   "source": [],
   "metadata": {},
   "execution_count": null,
   "outputs": [],
   "id": "e50409f17d48299"
  }
 ]
}
