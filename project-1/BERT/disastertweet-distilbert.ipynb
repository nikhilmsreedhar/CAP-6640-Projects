{
 "metadata": {
  "kernelspec": {
   "language": "python",
   "display_name": "Python 3",
   "name": "python3"
  },
  "language_info": {
   "name": "python",
   "version": "3.10.13",
   "mimetype": "text/x-python",
   "codemirror_mode": {
    "name": "ipython",
    "version": 3
   },
   "pygments_lexer": "ipython3",
   "nbconvert_exporter": "python",
   "file_extension": ".py"
  },
  "kaggle": {
   "accelerator": "nvidiaTeslaT4",
   "dataSources": [
    {
     "sourceId": 17777,
     "databundleVersionId": 869809,
     "sourceType": "competition"
    }
   ],
   "dockerImageVersionId": 30648,
   "isInternetEnabled": true,
   "language": "python",
   "sourceType": "notebook",
   "isGpuEnabled": true
  }
 },
 "nbformat_minor": 4,
 "nbformat": 4,
 "cells": [
  {
   "cell_type": "code",
   "source": [
    "# Downloaded all the necessary libararies\n",
    "from transformers import DistilBertTokenizerFast, DistilBertForSequenceClassification, Trainer, TrainingArguments\n",
    "import pandas as pd\n",
    "from sklearn.model_selection import train_test_split\n",
    "from sklearn.metrics import f1_score, accuracy_score\n",
    "import torch\n",
    "\n",
    "# Loading the training and testing data from CSV files\n",
    "train_df = pd.read_csv('/kaggle/input/nlp-getting-started/train.csv')\n",
    "test_df = pd.read_csv('/kaggle/input/nlp-getting-started/test.csv')\n",
    "\n",
    "# Filling missing values in 'keyword' and 'location' columns with empty strings\n",
    "train_df['keyword'].fillna('', inplace=True)\n",
    "train_df['location'].fillna('', inplace=True)\n",
    "test_df['keyword'].fillna('', inplace=True)\n",
    "test_df['location'].fillna('', inplace=True)\n",
    "\n",
    "# Combining 'keyword', 'location', and 'text' columns into a single text column for processing\n",
    "train_df['combined_text'] = train_df['keyword'] + \" \" + train_df['location'] + \" \" + train_df['text']\n",
    "test_df['combined_text'] = test_df['keyword'] + \" \" + test_df['location'] + \" \" + test_df['text']\n",
    "\n",
    "# Preprocessing the combined text by converting to lowercase and removing special characters\n",
    "train_df['combined_text'] = train_df['combined_text'].str.lower().str.replace('[^a-z0-9\\s]', '', regex=True)\n",
    "test_df['combined_text'] = test_df['combined_text'].str.lower().str.replace('[^a-z0-9\\s]', '', regex=True)\n",
    "\n",
    "# Splitting the training data into a training set and a validation set for model evaluation\n",
    "train_text, val_text, train_labels, val_labels = train_test_split(\n",
    "    train_df['combined_text'], train_df['target'], test_size=0.1\n",
    ")\n",
    "\n",
    "# Initializing the tokenizer from the DistilBERT model, which is a lighter version of BERT\n",
    "tokenizer = DistilBertTokenizerFast.from_pretrained('distilbert-base-uncased')\n",
    "\n",
    "# Tokenizing the training and validation text\n",
    "# This will convert text to a format that the model can understand\n",
    "train_encodings = tokenizer(train_text.tolist(), truncation=True, padding=True, max_length=128)\n",
    "val_encodings = tokenizer(val_text.tolist(), truncation=True, padding=True, max_length=128)\n",
    "\n",
    "# Defining a custom dataset class to handle the PyTorch data loading\n",
    "class DisasterDataset(torch.utils.data.Dataset):\n",
    "    def __init__(self, encodings, labels=None):\n",
    "        self.encodings = encodings\n",
    "        self.labels = labels\n",
    "\n",
    "    def __getitem__(self, idx):\n",
    "        item = {key: torch.tensor(val[idx]) for key, val in self.encodings.items()}\n",
    "        if self.labels is not None:\n",
    "            item['labels'] = torch.tensor(self.labels[idx])\n",
    "        return item\n",
    "\n",
    "    def __len__(self):\n",
    "        return len(self.encodings['input_ids'])\n",
    "\n",
    "# Creating dataset objects for training and validation\n",
    "train_dataset = DisasterDataset(train_encodings, train_labels.tolist())\n",
    "val_dataset = DisasterDataset(val_encodings, val_labels.tolist())\n",
    "\n",
    "# Initializing the DistilBERT model for sequence classification with two labels\n",
    "model = DistilBertForSequenceClassification.from_pretrained('distilbert-base-uncased', num_labels=2)\n",
    "\n"
   ],
   "metadata": {
    "_uuid": "8f2839f25d086af736a60e9eeb907d3b93b6e0e5",
    "_cell_guid": "b1076dfc-b9ad-4769-8c92-a6c4dae69d19",
    "execution": {
     "iopub.status.busy": "2024-02-06T06:59:13.143142Z",
     "iopub.execute_input": "2024-02-06T06:59:13.143446Z",
     "iopub.status.idle": "2024-02-06T06:59:37.601374Z",
     "shell.execute_reply.started": "2024-02-06T06:59:13.143418Z",
     "shell.execute_reply": "2024-02-06T06:59:37.600545Z"
    },
    "trusted": true
   },
   "execution_count": 1,
   "outputs": [
    {
     "name": "stderr",
     "text": "2024-02-06 06:59:22.867351: E external/local_xla/xla/stream_executor/cuda/cuda_dnn.cc:9261] Unable to register cuDNN factory: Attempting to register factory for plugin cuDNN when one has already been registered\n2024-02-06 06:59:22.867447: E external/local_xla/xla/stream_executor/cuda/cuda_fft.cc:607] Unable to register cuFFT factory: Attempting to register factory for plugin cuFFT when one has already been registered\n2024-02-06 06:59:22.992271: E external/local_xla/xla/stream_executor/cuda/cuda_blas.cc:1515] Unable to register cuBLAS factory: Attempting to register factory for plugin cuBLAS when one has already been registered\n/tmp/ipykernel_34/2009976021.py:13: FutureWarning: A value is trying to be set on a copy of a DataFrame or Series through chained assignment using an inplace method.\nThe behavior will change in pandas 3.0. This inplace method will never work because the intermediate object on which we are setting values always behaves as a copy.\n\nFor example, when doing 'df[col].method(value, inplace=True)', try using 'df.method({col: value}, inplace=True)' or df[col] = df[col].method(value) instead, to perform the operation inplace on the original object.\n\n\n  train_df['keyword'].fillna('', inplace=True)\n/tmp/ipykernel_34/2009976021.py:14: FutureWarning: A value is trying to be set on a copy of a DataFrame or Series through chained assignment using an inplace method.\nThe behavior will change in pandas 3.0. This inplace method will never work because the intermediate object on which we are setting values always behaves as a copy.\n\nFor example, when doing 'df[col].method(value, inplace=True)', try using 'df.method({col: value}, inplace=True)' or df[col] = df[col].method(value) instead, to perform the operation inplace on the original object.\n\n\n  train_df['location'].fillna('', inplace=True)\n/tmp/ipykernel_34/2009976021.py:15: FutureWarning: A value is trying to be set on a copy of a DataFrame or Series through chained assignment using an inplace method.\nThe behavior will change in pandas 3.0. This inplace method will never work because the intermediate object on which we are setting values always behaves as a copy.\n\nFor example, when doing 'df[col].method(value, inplace=True)', try using 'df.method({col: value}, inplace=True)' or df[col] = df[col].method(value) instead, to perform the operation inplace on the original object.\n\n\n  test_df['keyword'].fillna('', inplace=True)\n/tmp/ipykernel_34/2009976021.py:16: FutureWarning: A value is trying to be set on a copy of a DataFrame or Series through chained assignment using an inplace method.\nThe behavior will change in pandas 3.0. This inplace method will never work because the intermediate object on which we are setting values always behaves as a copy.\n\nFor example, when doing 'df[col].method(value, inplace=True)', try using 'df.method({col: value}, inplace=True)' or df[col] = df[col].method(value) instead, to perform the operation inplace on the original object.\n\n\n  test_df['location'].fillna('', inplace=True)\n",
     "output_type": "stream"
    },
    {
     "output_type": "display_data",
     "data": {
      "text/plain": "tokenizer_config.json:   0%|          | 0.00/28.0 [00:00<?, ?B/s]",
      "application/vnd.jupyter.widget-view+json": {
       "version_major": 2,
       "version_minor": 0,
       "model_id": "8be492083ef3437a952ee698246b2759"
      }
     },
     "metadata": {}
    },
    {
     "output_type": "display_data",
     "data": {
      "text/plain": "vocab.txt:   0%|          | 0.00/232k [00:00<?, ?B/s]",
      "application/vnd.jupyter.widget-view+json": {
       "version_major": 2,
       "version_minor": 0,
       "model_id": "c77c5587a43a4563b528fbaf135f5a86"
      }
     },
     "metadata": {}
    },
    {
     "output_type": "display_data",
     "data": {
      "text/plain": "tokenizer.json:   0%|          | 0.00/466k [00:00<?, ?B/s]",
      "application/vnd.jupyter.widget-view+json": {
       "version_major": 2,
       "version_minor": 0,
       "model_id": "10c913719f9a48a784efe66321f62f81"
      }
     },
     "metadata": {}
    },
    {
     "output_type": "display_data",
     "data": {
      "text/plain": "config.json:   0%|          | 0.00/483 [00:00<?, ?B/s]",
      "application/vnd.jupyter.widget-view+json": {
       "version_major": 2,
       "version_minor": 0,
       "model_id": "2354e3344356484aace74cc7219633aa"
      }
     },
     "metadata": {}
    },
    {
     "output_type": "display_data",
     "data": {
      "text/plain": "model.safetensors:   0%|          | 0.00/268M [00:00<?, ?B/s]",
      "application/vnd.jupyter.widget-view+json": {
       "version_major": 2,
       "version_minor": 0,
       "model_id": "f7c8820808114359ad439029899bafdc"
      }
     },
     "metadata": {}
    },
    {
     "name": "stderr",
     "text": "Some weights of DistilBertForSequenceClassification were not initialized from the model checkpoint at distilbert-base-uncased and are newly initialized: ['classifier.bias', 'classifier.weight', 'pre_classifier.bias', 'pre_classifier.weight']\nYou should probably TRAIN this model on a down-stream task to be able to use it for predictions and inference.\n",
     "output_type": "stream"
    }
   ]
  },
  {
   "cell_type": "code",
   "source": [
    "# Defining a function to compute evaluation metrics (F1 score and accuracy)\n",
    "def compute_metrics(pred):\n",
    "    labels = pred.label_ids\n",
    "    preds = pred.predictions.argmax(-1)\n",
    "    f1 = f1_score(labels, preds)\n",
    "    acc = accuracy_score(labels, preds)\n",
    "    return {'accuracy': acc, 'f1': f1}\n",
    "\n",
    "# Setting up training arguments, including directory for results, number of epochs, batch size, etc.\n",
    "training_args = TrainingArguments(\n",
    "    output_dir='/kaggle/working/results',\n",
    "    num_train_epochs=3,\n",
    "    per_device_train_batch_size=16,\n",
    "    per_device_eval_batch_size=64,\n",
    "    warmup_steps=500,\n",
    "    weight_decay=0.01,\n",
    "    logging_dir='/kaggle/working/logs',\n",
    "    logging_steps=10,\n",
    "    evaluation_strategy=\"epoch\",\n",
    "    report_to=\"none\"\n",
    ")\n",
    "\n",
    "# Initializing the Trainer with the model, training arguments, datasets, and evaluation metrics\n",
    "trainer = Trainer(\n",
    "    model=model,\n",
    "    args=training_args,\n",
    "    train_dataset=train_dataset,\n",
    "    eval_dataset=val_dataset,\n",
    "    compute_metrics=compute_metrics\n",
    ")\n",
    "\n",
    "# Training the model on the dataset\n",
    "\n",
    "# Also downloaded transformers \n",
    "# pip install torch"
   ],
   "metadata": {
    "execution": {
     "iopub.status.busy": "2024-02-06T07:05:35.573428Z",
     "iopub.execute_input": "2024-02-06T07:05:35.574447Z",
     "iopub.status.idle": "2024-02-06T07:05:35.591851Z",
     "shell.execute_reply.started": "2024-02-06T07:05:35.574400Z",
     "shell.execute_reply": "2024-02-06T07:05:35.590722Z"
    },
    "trusted": true
   },
   "execution_count": 5,
   "outputs": []
  },
  {
   "cell_type": "code",
   "source": [
    "trainer.train()"
   ],
   "metadata": {
    "execution": {
     "iopub.status.busy": "2024-02-06T07:05:36.954817Z",
     "iopub.execute_input": "2024-02-06T07:05:36.955435Z",
     "iopub.status.idle": "2024-02-06T07:07:20.014547Z",
     "shell.execute_reply.started": "2024-02-06T07:05:36.955406Z",
     "shell.execute_reply": "2024-02-06T07:07:20.013473Z"
    },
    "trusted": true
   },
   "execution_count": 6,
   "outputs": [
    {
     "name": "stderr",
     "text": "/opt/conda/lib/python3.10/site-packages/torch/nn/parallel/_functions.py:68: UserWarning: Was asked to gather along dimension 0, but all input tensors were scalars; will instead unsqueeze and return a vector.\n  warnings.warn('Was asked to gather along dimension 0, but all '\n",
     "output_type": "stream"
    },
    {
     "output_type": "display_data",
     "data": {
      "text/plain": "<IPython.core.display.HTML object>",
      "text/html": "\n    <div>\n      \n      <progress value='645' max='645' style='width:300px; height:20px; vertical-align: middle;'></progress>\n      [645/645 01:39, Epoch 3/3]\n    </div>\n    <table border=\"1\" class=\"dataframe\">\n  <thead>\n <tr style=\"text-align: left;\">\n      <th>Epoch</th>\n      <th>Training Loss</th>\n      <th>Validation Loss</th>\n      <th>Accuracy</th>\n      <th>F1</th>\n    </tr>\n  </thead>\n  <tbody>\n    <tr>\n      <td>1</td>\n      <td>0.431800</td>\n      <td>0.440131</td>\n      <td>0.809711</td>\n      <td>0.780635</td>\n    </tr>\n    <tr>\n      <td>2</td>\n      <td>0.369400</td>\n      <td>0.405252</td>\n      <td>0.830709</td>\n      <td>0.770053</td>\n    </tr>\n    <tr>\n      <td>3</td>\n      <td>0.303100</td>\n      <td>0.424979</td>\n      <td>0.838583</td>\n      <td>0.797364</td>\n    </tr>\n  </tbody>\n</table><p>"
     },
     "metadata": {}
    },
    {
     "name": "stderr",
     "text": "/opt/conda/lib/python3.10/site-packages/torch/nn/parallel/_functions.py:68: UserWarning: Was asked to gather along dimension 0, but all input tensors were scalars; will instead unsqueeze and return a vector.\n  warnings.warn('Was asked to gather along dimension 0, but all '\n/opt/conda/lib/python3.10/site-packages/torch/nn/parallel/_functions.py:68: UserWarning: Was asked to gather along dimension 0, but all input tensors were scalars; will instead unsqueeze and return a vector.\n  warnings.warn('Was asked to gather along dimension 0, but all '\n/opt/conda/lib/python3.10/site-packages/torch/nn/parallel/_functions.py:68: UserWarning: Was asked to gather along dimension 0, but all input tensors were scalars; will instead unsqueeze and return a vector.\n  warnings.warn('Was asked to gather along dimension 0, but all '\n",
     "output_type": "stream"
    },
    {
     "execution_count": 6,
     "output_type": "execute_result",
     "data": {
      "text/plain": "TrainOutput(global_step=645, training_loss=0.40687674293222353, metrics={'train_runtime': 102.6842, 'train_samples_per_second': 200.157, 'train_steps_per_second': 6.281, 'total_flos': 324372556873404.0, 'train_loss': 0.40687674293222353, 'epoch': 3.0})"
     },
     "metadata": {}
    }
   ]
  },
  {
   "cell_type": "code",
   "source": [
    "from sklearn.metrics import roc_curve, auc, confusion_matrix, classification_report, PrecisionRecallDisplay"
   ],
   "metadata": {
    "execution": {
     "iopub.status.busy": "2024-02-06T07:07:20.016400Z",
     "iopub.execute_input": "2024-02-06T07:07:20.016744Z",
     "iopub.status.idle": "2024-02-06T07:07:20.022044Z",
     "shell.execute_reply.started": "2024-02-06T07:07:20.016715Z",
     "shell.execute_reply": "2024-02-06T07:07:20.020893Z"
    },
    "trusted": true
   },
   "execution_count": 7,
   "outputs": []
  },
  {
   "cell_type": "code",
   "source": [
    "trainer.save_model('distilbert.model')"
   ],
   "metadata": {
    "execution": {
     "iopub.status.busy": "2024-02-06T07:07:20.023590Z",
     "iopub.execute_input": "2024-02-06T07:07:20.024028Z",
     "iopub.status.idle": "2024-02-06T07:07:20.621150Z",
     "shell.execute_reply.started": "2024-02-06T07:07:20.023985Z",
     "shell.execute_reply": "2024-02-06T07:07:20.620303Z"
    },
    "trusted": true
   },
   "execution_count": 8,
   "outputs": []
  },
  {
   "cell_type": "code",
   "source": [
    "model.eval()"
   ],
   "metadata": {
    "execution": {
     "iopub.status.busy": "2024-02-06T07:07:37.101872Z",
     "iopub.execute_input": "2024-02-06T07:07:37.102576Z",
     "iopub.status.idle": "2024-02-06T07:07:37.110882Z",
     "shell.execute_reply.started": "2024-02-06T07:07:37.102544Z",
     "shell.execute_reply": "2024-02-06T07:07:37.109688Z"
    },
    "trusted": true
   },
   "execution_count": 9,
   "outputs": [
    {
     "execution_count": 9,
     "output_type": "execute_result",
     "data": {
      "text/plain": "DistilBertForSequenceClassification(\n  (distilbert): DistilBertModel(\n    (embeddings): Embeddings(\n      (word_embeddings): Embedding(30522, 768, padding_idx=0)\n      (position_embeddings): Embedding(512, 768)\n      (LayerNorm): LayerNorm((768,), eps=1e-12, elementwise_affine=True)\n      (dropout): Dropout(p=0.1, inplace=False)\n    )\n    (transformer): Transformer(\n      (layer): ModuleList(\n        (0-5): 6 x TransformerBlock(\n          (attention): MultiHeadSelfAttention(\n            (dropout): Dropout(p=0.1, inplace=False)\n            (q_lin): Linear(in_features=768, out_features=768, bias=True)\n            (k_lin): Linear(in_features=768, out_features=768, bias=True)\n            (v_lin): Linear(in_features=768, out_features=768, bias=True)\n            (out_lin): Linear(in_features=768, out_features=768, bias=True)\n          )\n          (sa_layer_norm): LayerNorm((768,), eps=1e-12, elementwise_affine=True)\n          (ffn): FFN(\n            (dropout): Dropout(p=0.1, inplace=False)\n            (lin1): Linear(in_features=768, out_features=3072, bias=True)\n            (lin2): Linear(in_features=3072, out_features=768, bias=True)\n            (activation): GELUActivation()\n          )\n          (output_layer_norm): LayerNorm((768,), eps=1e-12, elementwise_affine=True)\n        )\n      )\n    )\n  )\n  (pre_classifier): Linear(in_features=768, out_features=768, bias=True)\n  (classifier): Linear(in_features=768, out_features=2, bias=True)\n  (dropout): Dropout(p=0.2, inplace=False)\n)"
     },
     "metadata": {}
    }
   ]
  },
  {
   "cell_type": "code",
   "source": [
    "test_encodings = tokenizer(test_df['combined_text'].tolist(), truncation=True, padding=True, max_length=128, return_tensors='pt')"
   ],
   "metadata": {
    "execution": {
     "iopub.status.busy": "2024-02-06T07:07:43.782137Z",
     "iopub.execute_input": "2024-02-06T07:07:43.782963Z",
     "iopub.status.idle": "2024-02-06T07:07:44.140222Z",
     "shell.execute_reply.started": "2024-02-06T07:07:43.782932Z",
     "shell.execute_reply": "2024-02-06T07:07:44.139077Z"
    },
    "trusted": true
   },
   "execution_count": 10,
   "outputs": []
  },
  {
   "cell_type": "code",
   "source": [
    "input_ids = test_encodings.get('input_ids')\n",
    "attention_mask = test_encodings.get('attention_mask')"
   ],
   "metadata": {
    "execution": {
     "iopub.status.busy": "2024-02-06T07:07:45.901806Z",
     "iopub.execute_input": "2024-02-06T07:07:45.902665Z",
     "iopub.status.idle": "2024-02-06T07:07:45.907300Z",
     "shell.execute_reply.started": "2024-02-06T07:07:45.902631Z",
     "shell.execute_reply": "2024-02-06T07:07:45.906063Z"
    },
    "trusted": true
   },
   "execution_count": 11,
   "outputs": []
  },
  {
   "cell_type": "code",
   "source": [
    "with torch.no_grad():\n",
    "    outputs = model(input_ids.to('cuda'), attention_mask=attention_mask.to('cuda'))\n",
    "    Y_pred = outputs.logits.cpu().argmax(axis=-1)\n",
    "    submission_df = pd.read_csv(\"/kaggle/input/nlp-getting-started/sample_submission.csv\")\n",
    "    submission = pd.DataFrame({\"id\": submission_df['id'],\n",
    "            \"target\":Y_pred})\n",
    "    submission.to_csv('/kaggle/working/submission.csv', index=False)"
   ],
   "metadata": {
    "execution": {
     "iopub.status.busy": "2024-02-06T07:10:18.757604Z",
     "iopub.execute_input": "2024-02-06T07:10:18.758366Z",
     "iopub.status.idle": "2024-02-06T07:10:23.905682Z",
     "shell.execute_reply.started": "2024-02-06T07:10:18.758332Z",
     "shell.execute_reply": "2024-02-06T07:10:23.904815Z"
    },
    "trusted": true
   },
   "execution_count": 15,
   "outputs": []
  },
  {
   "cell_type": "code",
   "source": [
    "Y_pred = outputs.logits.argmax(axis=-1)"
   ],
   "metadata": {
    "trusted": true
   },
   "execution_count": null,
   "outputs": []
  },
  {
   "cell_type": "code",
   "source": [
    "Y_val = val_labels"
   ],
   "metadata": {
    "execution": {
     "iopub.status.busy": "2024-02-06T06:45:06.935018Z",
     "iopub.execute_input": "2024-02-06T06:45:06.936391Z",
     "iopub.status.idle": "2024-02-06T06:45:06.942283Z",
     "shell.execute_reply.started": "2024-02-06T06:45:06.936347Z",
     "shell.execute_reply": "2024-02-06T06:45:06.940752Z"
    },
    "trusted": true
   },
   "execution_count": 19,
   "outputs": []
  },
  {
   "cell_type": "code",
   "source": [
    "print(classification_report(Y_val, Y_pred))"
   ],
   "metadata": {
    "execution": {
     "iopub.status.busy": "2024-02-06T06:45:07.407993Z",
     "iopub.execute_input": "2024-02-06T06:45:07.408500Z",
     "iopub.status.idle": "2024-02-06T06:45:07.429270Z",
     "shell.execute_reply.started": "2024-02-06T06:45:07.408463Z",
     "shell.execute_reply": "2024-02-06T06:45:07.427747Z"
    },
    "trusted": true
   },
   "execution_count": 20,
   "outputs": [
    {
     "name": "stdout",
     "text": "              precision    recall  f1-score   support\n\n           0       0.87      0.86      0.87       452\n           1       0.80      0.81      0.81       310\n\n    accuracy                           0.84       762\n   macro avg       0.84      0.84      0.84       762\nweighted avg       0.84      0.84      0.84       762\n\n",
     "output_type": "stream"
    }
   ]
  },
  {
   "cell_type": "code",
   "source": [
    "fpr_keras, tpr_keras, thresholds_keras = roc_curve(Y_val, Y_pred)\n",
    "roc_auc = auc(fpr_keras, tpr_keras)"
   ],
   "metadata": {
    "execution": {
     "iopub.status.busy": "2024-02-06T06:45:52.793798Z",
     "iopub.execute_input": "2024-02-06T06:45:52.794291Z",
     "iopub.status.idle": "2024-02-06T06:45:52.805159Z",
     "shell.execute_reply.started": "2024-02-06T06:45:52.794254Z",
     "shell.execute_reply": "2024-02-06T06:45:52.803518Z"
    },
    "trusted": true
   },
   "execution_count": 23,
   "outputs": []
  },
  {
   "cell_type": "code",
   "source": [
    "import matplotlib.pyplot as plt\n",
    "plt.figure()\n",
    "lw = 2\n",
    "plt.plot(\n",
    "    fpr_keras,\n",
    "    tpr_keras,\n",
    "    color=\"darkorange\",\n",
    "    lw=lw,\n",
    "    label=\"ROC curve (area = %0.2f)\" % roc_auc,\n",
    ")\n",
    "plt.plot([0, 1], [0, 1], color=\"navy\", lw=lw, linestyle=\"--\")\n",
    "plt.xlim([0.0, 1.0])\n",
    "plt.ylim([0.0, 1.05])\n",
    "plt.xlabel(\"False Positive Rate\")\n",
    "plt.ylabel(\"True Positive Rate\")\n",
    "plt.title(\"Receiver operating characteristic example\")\n",
    "plt.legend(loc=\"lower right\")\n",
    "plt.savefig('roc_curve.png')\n",
    "plt.show()"
   ],
   "metadata": {
    "execution": {
     "iopub.status.busy": "2024-02-06T06:45:53.417545Z",
     "iopub.execute_input": "2024-02-06T06:45:53.418055Z",
     "iopub.status.idle": "2024-02-06T06:45:53.829488Z",
     "shell.execute_reply.started": "2024-02-06T06:45:53.418018Z",
     "shell.execute_reply": "2024-02-06T06:45:53.827911Z"
    },
    "trusted": true
   },
   "execution_count": 24,
   "outputs": [
    {
     "output_type": "display_data",
     "data": {
      "text/plain": "<Figure size 640x480 with 1 Axes>",
      "image/png": "[encoded data removed]"
     },
     "metadata": {}
    }
   ]
  },
  {
   "cell_type": "code",
   "source": [
    "# Generate the confusion matrix that shows the true positive, true neative, false positive, and false negative labels\n",
    "import seaborn as sns\n",
    "matrix = confusion_matrix(Y_val, Y_pred)\n",
    "labels= [\"Non-disaster tweet\", \"Disaster tweet\"]\n",
    "fig, ax = plt.subplots(figsize=(10, 5))\n",
    "sns.heatmap(matrix, annot=True, fmt=\"g\", ax=ax)\n",
    "plt.xlabel(\"Predicted Tweet Labels\")\n",
    "plt.ylabel(\"Actual Tweet Labels\")\n",
    "plt.title(\"Confusion Matrix\", size=20)\n",
    "plt.yticks(ticks=[0.5, 1.5], labels=labels)\n",
    "plt.savefig('confusion_matrix.png')\n",
    "plt.show()"
   ],
   "metadata": {
    "execution": {
     "iopub.status.busy": "2024-02-06T06:46:18.188395Z",
     "iopub.execute_input": "2024-02-06T06:46:18.189000Z",
     "iopub.status.idle": "2024-02-06T06:46:18.736273Z",
     "shell.execute_reply.started": "2024-02-06T06:46:18.188950Z",
     "shell.execute_reply": "2024-02-06T06:46:18.734585Z"
    },
    "trusted": true
   },
   "execution_count": 26,
   "outputs": [
    {
     "output_type": "display_data",
     "data": {
      "text/plain": "<Figure size 1000x500 with 2 Axes>",
      "image/png": "[encoded data removed]"
     },
     "metadata": {}
    }
   ]
  },
  {
   "cell_type": "code",
   "source": [
    "submission_df = pd.read_csv(\"/kaggle/input/nlp-getting-started/sample_submission.csv\")\n",
    "submission = pd.DataFrame({\"id\": submission_df['id'],\n",
    "            \"target\":Y_pred})\n",
    "submission.to_csv('/kaggle/working/submission.csv', index=False)"
   ],
   "metadata": {},
   "execution_count": null,
   "outputs": []
  }
 ]
}
