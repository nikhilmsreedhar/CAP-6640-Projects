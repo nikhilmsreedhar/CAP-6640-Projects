{
  "nbformat": 4,
  "nbformat_minor": 0,
  "metadata": {
    "colab": {
      "provenance": [],
      "gpuType": "T4"
    },
    "kernelspec": {
      "name": "python3",
      "display_name": "Python 3"
    },
    "language_info": {
      "name": "python"
    },
    "accelerator": "GPU"
  },
  "cells": [
    {
      "cell_type": "code",
      "source": [
        "import numpy as np\n",
        "import pandas as pd\n",
        "import tensorflow as tf\n",
        "from sklearn.metrics import ConfusionMatrixDisplay, confusion_matrix, f1_score, classification_report\n",
        "from sklearn.model_selection import train_test_split\n",
        "import matplotlib.pyplot as plt\n",
        "import re\n",
        "import nltk\n",
        "from nltk.corpus import stopwords\n",
        "from nltk.stem import WordNetLemmatizer\n",
        "from keras.preprocessing.text import Tokenizer\n",
        "from keras.preprocessing.sequence import pad_sequences\n",
        "from keras.layers import Embedding, LSTM, Dense, SpatialDropout1D, Bidirectional, Conv1D, MaxPooling1D\n",
        "from keras.models import Sequential\n",
        "from keras.callbacks import EarlyStopping\n",
        "import pickle\n",
        "from google.colab import drive\n",
        "from keras.regularizers import L1L2\n",
        "from keras import backend as K"
      ],
      "metadata": {
        "id": "nYkxFIrm0FuD"
      },
      "execution_count": null,
      "outputs": []
    },
    {
      "cell_type": "code",
      "source": [
        "drive.mount('/content/drive')"
      ],
      "metadata": {
        "colab": {
          "base_uri": "https://localhost:8080/"
        },
        "id": "1QUP5hJcyIwM",
        "outputId": "dd67cf5b-8869-4cf8-8566-a0132c9bc16a"
      },
      "execution_count": null,
      "outputs": [
        {
          "output_type": "stream",
          "name": "stdout",
          "text": [
            "Drive already mounted at /content/drive; to attempt to forcibly remount, call drive.mount(\"/content/drive\", force_remount=True).\n"
          ]
        }
      ]
    },
    {
      "cell_type": "code",
      "source": [
        "MAX_NUM_WORDS = 50000\n",
        "EMBEDDING_DIM = 200\n",
        "MAX_SEQUENCE_LENGTH = 100"
      ],
      "metadata": {
        "id": "AzHcSR0wbWQR"
      },
      "execution_count": null,
      "outputs": []
    },
    {
      "cell_type": "code",
      "source": [
        "def create_tokenizer(input_data, save_path):\n",
        "  tokenizer = Tokenizer(num_words=MAX_NUM_WORDS,\n",
        "    filters='!\"#$%&()*+,-./:;<=>?@[\\]^_`{|}~',\n",
        "    lower=True)\n",
        "  tokenizer.fit_on_texts(input_data)\n",
        "  save_tokenizer(tokenizer, save_path)\n",
        "  return tokenizer\n",
        "\n",
        "def save_tokenizer(tokenizer, filename):\n",
        "  with open(filename, 'wb') as f:\n",
        "    pickle.dump(tokenizer, f,\n",
        "    protocol=pickle.HIGHEST_PROTOCOL)\n",
        "\n",
        "def load_tokenizer(filename):\n",
        "  with open(filename, 'rb') as f:\n",
        "    tokenizer = pickle.load(f)\n",
        "    return tokenizer\n"
      ],
      "metadata": {
        "id": "A1KdISxlaK66"
      },
      "execution_count": null,
      "outputs": []
    },
    {
      "cell_type": "code",
      "source": [
        "def plot_model(history):\n",
        "  plt.title('Loss')\n",
        "  plt.plot(history.history['loss'], label='train')\n",
        "  plt.plot(history.history['val_loss'],\n",
        "    label='test')\n",
        "  plt.legend()\n",
        "  plt.show()\n",
        "\n",
        "  plt.title('F1 score')\n",
        "  plt.plot(history.history['f1_m'], label='train')\n",
        "  plt.plot(history.history['val_f1_m'],\n",
        "    label='test')\n",
        "  plt.legend()\n",
        "  plt.show()"
      ],
      "metadata": {
        "id": "q-v8-vORcT8c"
      },
      "execution_count": null,
      "outputs": []
    },
    {
      "cell_type": "code",
      "source": [
        "def evaluate(model, X_test, Y_test, le):\n",
        "  Y_pred = model.predict(X_test)\n",
        "  Y_pred = np.argmax(Y_pred, axis=1)\n",
        "  print(classification_report(Y_test, Y_pred))"
      ],
      "metadata": {
        "id": "_juAx-mscZe-"
      },
      "execution_count": null,
      "outputs": []
    },
    {
      "cell_type": "code",
      "source": [
        "def transform_text(tokenizer, texts):\n",
        "  sequences = tokenizer.texts_to_sequences(texts)\n",
        "  return pad_sequences(sequences, maxlen=MAX_SEQUENCE_LENGTH)"
      ],
      "metadata": {
        "id": "6WRSgO6sjNdB"
      },
      "execution_count": null,
      "outputs": []
    },
    {
      "cell_type": "code",
      "execution_count": null,
      "metadata": {
        "id": "R2SOmHLFys9x"
      },
      "outputs": [],
      "source": [
        "df_train = pd.read_csv(\"/content/drive/MyDrive/Works/NLP/Project_1/train.csv\")\n",
        "df_test = pd.read_csv(\"/content/drive/MyDrive/Works/NLP/Project_1/test.csv\")"
      ]
    },
    {
      "cell_type": "code",
      "source": [
        "nltk.download(['stopwords', 'wordnet'])\n",
        "sw = stopwords.words('english')\n",
        "lemmatizer = WordNetLemmatizer()\n",
        "\n",
        "def clean_text(text):\n",
        "\n",
        "    text = text.lower()\n",
        "\n",
        "    text = re.sub(r\"[^a-zA-Z?.!,¿]+\", \" \", text) # replacing everything with space except (a-z, A-Z, \".\", \"?\", \"!\", \",\")\n",
        "\n",
        "    text = re.sub(r\"http\\S+\", \"\",text) #Removing URLs\n",
        "    #text = re.sub(r\"http\", \"\",text)\n",
        "\n",
        "    html=re.compile(r'<.*?>')\n",
        "\n",
        "    text = html.sub(r'',text) #Removing html tags\n",
        "\n",
        "    # punctuations = '@#!?+&*[]-%.:/();$=><|{}^' + \"'`\" + '_'\n",
        "    # for p in punctuations:\n",
        "    #     text = text.replace(p,'') #Removing punctuations\n",
        "\n",
        "    text = [word for word in text.split() if word not in sw]\n",
        "\n",
        "    # text = [lemmatizer.lemmatize(word) for word in text]\n",
        "\n",
        "    text = \" \".join(text) #removing stopwords and lemmatizing\n",
        "\n",
        "    emoji_pattern = re.compile(\"[\"\n",
        "                           u\"\\U0001F600-\\U0001F64F\"  # emoticons\n",
        "                           u\"\\U0001F300-\\U0001F5FF\"  # symbols & pictographs\n",
        "                           u\"\\U0001F680-\\U0001F6FF\"  # transport & map symbols\n",
        "                           u\"\\U0001F1E0-\\U0001F1FF\"  # flags (iOS)\n",
        "                           u\"\\U00002702-\\U000027B0\"\n",
        "                           u\"\\U000024C2-\\U0001F251\"\n",
        "                           \"]+\", flags=re.UNICODE)\n",
        "    text = emoji_pattern.sub(r'', text) #Removing emojis\n",
        "\n",
        "    return text"
      ],
      "metadata": {
        "colab": {
          "base_uri": "https://localhost:8080/"
        },
        "id": "wzfLrFhkz8Fa",
        "outputId": "000db5dd-6221-48f7-8da2-4701833b52c6"
      },
      "execution_count": null,
      "outputs": [
        {
          "output_type": "stream",
          "name": "stderr",
          "text": [
            "[nltk_data] Downloading package stopwords to /root/nltk_data...\n",
            "[nltk_data]   Package stopwords is already up-to-date!\n",
            "[nltk_data] Downloading package wordnet to /root/nltk_data...\n",
            "[nltk_data]   Package wordnet is already up-to-date!\n"
          ]
        }
      ]
    },
    {
      "cell_type": "code",
      "source": [
        "def preprocess(df):\n",
        "  df['text'] = df['text'].apply(lambda x: clean_text(x))\n",
        "  df = df.fillna('No information', axis=1)\n",
        "  #df['text'] = 'KEYWORD= ' + df.keyword + '; LOCATION= ' + df.location + '; TEXT= ' + df.text\n",
        "  df.drop([\"id\", \"keyword\", \"location\"], inplace=True, axis=1)\n",
        "  return df"
      ],
      "metadata": {
        "id": "LoXxHZYmz8wS"
      },
      "execution_count": null,
      "outputs": []
    },
    {
      "cell_type": "code",
      "source": [
        "df_train = preprocess(df_train)\n",
        "df_test = preprocess(df_test)"
      ],
      "metadata": {
        "id": "WKlfXN7D0AK7"
      },
      "execution_count": null,
      "outputs": []
    },
    {
      "cell_type": "code",
      "source": [
        "df_train.isna().sum()"
      ],
      "metadata": {
        "colab": {
          "base_uri": "https://localhost:8080/"
        },
        "id": "V8OwAtyR0DNg",
        "outputId": "75006256-6916-41e9-fc7d-b2ff08c96606"
      },
      "execution_count": null,
      "outputs": [
        {
          "output_type": "execute_result",
          "data": {
            "text/plain": [
              "text      0\n",
              "target    0\n",
              "dtype: int64"
            ]
          },
          "metadata": {},
          "execution_count": 12
        }
      ]
    },
    {
      "cell_type": "code",
      "source": [
        "df_train.shape"
      ],
      "metadata": {
        "colab": {
          "base_uri": "https://localhost:8080/"
        },
        "id": "IaUI7fk_1KqW",
        "outputId": "009fff46-3657-4207-96cc-801e4e3c8e2b"
      },
      "execution_count": null,
      "outputs": [
        {
          "output_type": "execute_result",
          "data": {
            "text/plain": [
              "(7613, 2)"
            ]
          },
          "metadata": {},
          "execution_count": 13
        }
      ]
    },
    {
      "cell_type": "code",
      "source": [
        "df_train['target'].value_counts(normalize=True).plot.bar()"
      ],
      "metadata": {
        "colab": {
          "base_uri": "https://localhost:8080/",
          "height": 443
        },
        "id": "0RJx6AIE1SqV",
        "outputId": "2f3fd4fd-70b2-4bc3-b292-d4df9892cd75"
      },
      "execution_count": null,
      "outputs": [
        {
          "output_type": "execute_result",
          "data": {
            "text/plain": [
              "<Axes: >"
            ]
          },
          "metadata": {},
          "execution_count": 14
        },
        {
          "output_type": "display_data",
          "data": {
            "text/plain": [
              "<Figure size 640x480 with 1 Axes>"
            ],
            "image/png": "[encoded data removed]"
          },
          "metadata": {}
        }
      ]
    },
    {
      "cell_type": "code",
      "source": [
        "tokenizer = create_tokenizer(df_train['text'].values, 'disaster_tokenizer.pickle')\n",
        "X = transform_text(tokenizer, df_train['text'].values)\n",
        "Y = df_train['target'].values.astype('int')\n",
        "X_train, X_val, Y_train, Y_val = train_test_split(X,Y, test_size = 0.20, random_state = 42)"
      ],
      "metadata": {
        "id": "eXp1Vbx52BeT"
      },
      "execution_count": null,
      "outputs": []
    },
    {
      "cell_type": "code",
      "source": [
        "def recall_m(y_true, y_pred):\n",
        "    true_positives = K.sum(K.round(K.clip(y_true * y_pred, 0, 1)))\n",
        "    possible_positives = K.sum(K.round(K.clip(y_true, 0, 1)))\n",
        "    recall = true_positives / (possible_positives + K.epsilon())\n",
        "    return recall\n",
        "\n",
        "def precision_m(y_true, y_pred):\n",
        "    true_positives = K.sum(K.round(K.clip(y_true * y_pred, 0, 1)))\n",
        "    predicted_positives = K.sum(K.round(K.clip(y_pred, 0, 1)))\n",
        "    precision = true_positives / (predicted_positives + K.epsilon())\n",
        "    return precision\n",
        "\n",
        "def f1_m(y_true, y_pred):\n",
        "    precision = precision_m(y_true, y_pred)\n",
        "    recall = recall_m(y_true, y_pred)\n",
        "    return 2*((precision*recall)/(precision+recall+K.epsilon()))"
      ],
      "metadata": {
        "id": "OMRZdwB_Vnod"
      },
      "execution_count": null,
      "outputs": []
    },
    {
      "cell_type": "code",
      "source": [
        "model = Sequential()\n",
        "optimizer = tf.keras.optimizers.Adam(5e-5)\n",
        "model.add(Embedding(MAX_NUM_WORDS, EMBEDDING_DIM,\n",
        "  input_length=MAX_SEQUENCE_LENGTH))\n",
        "model.add(SpatialDropout1D(0.2))\n",
        "model.add(Conv1D(filters=64, kernel_size=5, padding='same', activation='relu'))\n",
        "model.add(MaxPooling1D(pool_size=3))\n",
        "model.add(Bidirectional(LSTM(64, dropout=0.2, recurrent_dropout=0.2,\n",
        "               kernel_regularizer= L1L2(l1=0.01, l2=0.0))))\n",
        "model.add(Dense(1, activation='sigmoid'))"
      ],
      "metadata": {
        "id": "i1TDNDoj2ELG"
      },
      "execution_count": null,
      "outputs": []
    },
    {
      "cell_type": "code",
      "source": [
        "#Standard for multiclass classification\n",
        "loss='binary_crossentropy'\n",
        "model.compile(loss=loss, optimizer=optimizer, metrics=['accuracy', f1_m, precision_m, recall_m])\n",
        "model.summary()"
      ],
      "metadata": {
        "colab": {
          "base_uri": "https://localhost:8080/"
        },
        "id": "fwq0yWDb2M5U",
        "outputId": "a7fc34cc-320d-4e5c-f4ff-5b9015abcb4c"
      },
      "execution_count": null,
      "outputs": [
        {
          "output_type": "stream",
          "name": "stdout",
          "text": [
            "Model: \"sequential_1\"\n",
            "_________________________________________________________________\n",
            " Layer (type)                Output Shape              Param #   \n",
            "=================================================================\n",
            " embedding_1 (Embedding)     (None, 100, 200)          10000000  \n",
            "                                                                 \n",
            " spatial_dropout1d_1 (Spati  (None, 100, 200)          0         \n",
            " alDropout1D)                                                    \n",
            "                                                                 \n",
            " conv1d_1 (Conv1D)           (None, 100, 64)           64064     \n",
            "                                                                 \n",
            " max_pooling1d_1 (MaxPoolin  (None, 33, 64)            0         \n",
            " g1D)                                                            \n",
            "                                                                 \n",
            " bidirectional_1 (Bidirecti  (None, 128)               66048     \n",
            " onal)                                                           \n",
            "                                                                 \n",
            " dense_1 (Dense)             (None, 1)                 129       \n",
            "                                                                 \n",
            "=================================================================\n",
            "Total params: 10130241 (38.64 MB)\n",
            "Trainable params: 10130241 (38.64 MB)\n",
            "Non-trainable params: 0 (0.00 Byte)\n",
            "_________________________________________________________________\n"
          ]
        }
      ]
    },
    {
      "cell_type": "code",
      "source": [
        "X_train"
      ],
      "metadata": {
        "colab": {
          "base_uri": "https://localhost:8080/"
        },
        "id": "iY-XEYi9ArAf",
        "outputId": "f0ebe97f-aeb5-4e0d-af8e-090d44a5630d"
      },
      "execution_count": null,
      "outputs": [
        {
          "output_type": "execute_result",
          "data": {
            "text/plain": [
              "array([[    0,     0,     0, ...,     2,     1, 17157],\n",
              "       [    0,     0,     0, ...,   380,   141, 13576],\n",
              "       [    0,     0,     0, ...,    10,    22, 16974],\n",
              "       ...,\n",
              "       [    0,     0,     0, ...,  8618,    21,    19],\n",
              "       [    0,     0,     0, ...,     1, 22079, 22080],\n",
              "       [    0,     0,     0, ...,     1, 21471,    27]], dtype=int32)"
            ]
          },
          "metadata": {},
          "execution_count": 28
        }
      ]
    },
    {
      "cell_type": "code",
      "source": [
        "Y_train"
      ],
      "metadata": {
        "colab": {
          "base_uri": "https://localhost:8080/"
        },
        "id": "3rrDndVrAsly",
        "outputId": "5f22efe0-74f7-4006-dc0d-2671a979df76"
      },
      "execution_count": null,
      "outputs": [
        {
          "output_type": "execute_result",
          "data": {
            "text/plain": [
              "array([1, 0, 1, ..., 0, 1, 1])"
            ]
          },
          "metadata": {},
          "execution_count": 29
        }
      ]
    },
    {
      "cell_type": "code",
      "source": [
        "epochs = 20\n",
        "batch_size = 32\n",
        "\n",
        "es = EarlyStopping(monitor='val_loss', patience=3, min_delta=1e-5)\n",
        "history = model.fit(X_train, Y_train, epochs=epochs, batch_size=batch_size,\n",
        "                    validation_split=0.2, callbacks=[es], shuffle=True)\n",
        "model.save('/content/drive/MyDrive/Works/NLP/Project_1/disaster_model_4.keras')"
      ],
      "metadata": {
        "colab": {
          "base_uri": "https://localhost:8080/"
        },
        "id": "I3Qt49xB2Qev",
        "outputId": "c0c8d863-b511-4491-d8a2-4d18bd05fdfd"
      },
      "execution_count": 30,
      "outputs": [
        {
          "output_type": "stream",
          "name": "stdout",
          "text": [
            "Epoch 1/20\n",
            "153/153 [==============================] - 72s 417ms/step - loss: 22.0682 - accuracy: 0.5714 - f1_m: 0.0000e+00 - precision_m: 0.0000e+00 - recall_m: 0.0000e+00 - val_loss: 20.8441 - val_accuracy: 0.5616 - val_f1_m: 0.0000e+00 - val_precision_m: 0.0000e+00 - val_recall_m: 0.0000e+00\n",
            "Epoch 2/20\n",
            "153/153 [==============================] - 61s 401ms/step - loss: 19.6911 - accuracy: 0.5714 - f1_m: 0.0000e+00 - precision_m: 0.0000e+00 - recall_m: 0.0000e+00 - val_loss: 18.5398 - val_accuracy: 0.5616 - val_f1_m: 0.0000e+00 - val_precision_m: 0.0000e+00 - val_recall_m: 0.0000e+00\n",
            "Epoch 3/20\n",
            "153/153 [==============================] - 61s 401ms/step - loss: 17.4546 - accuracy: 0.5712 - f1_m: 0.0000e+00 - precision_m: 0.0000e+00 - recall_m: 0.0000e+00 - val_loss: 16.3719 - val_accuracy: 0.5616 - val_f1_m: 0.0000e+00 - val_precision_m: 0.0000e+00 - val_recall_m: 0.0000e+00\n",
            "Epoch 4/20\n",
            "153/153 [==============================] - 61s 397ms/step - loss: 15.3523 - accuracy: 0.5741 - f1_m: 0.0398 - precision_m: 0.1826 - recall_m: 0.0232 - val_loss: 14.3386 - val_accuracy: 0.5657 - val_f1_m: 0.0312 - val_precision_m: 0.2436 - val_recall_m: 0.0167\n",
            "Epoch 5/20\n",
            "153/153 [==============================] - 79s 517ms/step - loss: 13.3846 - accuracy: 0.6071 - f1_m: 0.2153 - precision_m: 0.5951 - recall_m: 0.1424 - val_loss: 12.4433 - val_accuracy: 0.5920 - val_f1_m: 0.1820 - val_precision_m: 0.5444 - val_recall_m: 0.1129\n",
            "Epoch 6/20\n",
            "153/153 [==============================] - 60s 395ms/step - loss: 11.5531 - accuracy: 0.6523 - f1_m: 0.4253 - precision_m: 0.7053 - recall_m: 0.3288 - val_loss: 10.6823 - val_accuracy: 0.6502 - val_f1_m: 0.4632 - val_precision_m: 0.6919 - val_recall_m: 0.3636\n",
            "Epoch 7/20\n",
            "153/153 [==============================] - 63s 414ms/step - loss: 9.8591 - accuracy: 0.6911 - f1_m: 0.5590 - precision_m: 0.7089 - recall_m: 0.4898 - val_loss: 9.0664 - val_accuracy: 0.6782 - val_f1_m: 0.5329 - val_precision_m: 0.7081 - val_recall_m: 0.4468\n",
            "Epoch 8/20\n",
            "153/153 [==============================] - 62s 405ms/step - loss: 8.3007 - accuracy: 0.7239 - f1_m: 0.6270 - precision_m: 0.7348 - recall_m: 0.5675 - val_loss: 7.5971 - val_accuracy: 0.6995 - val_f1_m: 0.5335 - val_precision_m: 0.7864 - val_recall_m: 0.4178\n",
            "Epoch 9/20\n",
            "153/153 [==============================] - 63s 412ms/step - loss: 6.8738 - accuracy: 0.7767 - f1_m: 0.6948 - precision_m: 0.8190 - recall_m: 0.6239 - val_loss: 6.2471 - val_accuracy: 0.7479 - val_f1_m: 0.6337 - val_precision_m: 0.8186 - val_recall_m: 0.5334\n",
            "Epoch 10/20\n",
            "153/153 [==============================] - 60s 394ms/step - loss: 5.5654 - accuracy: 0.8329 - f1_m: 0.7758 - precision_m: 0.8864 - recall_m: 0.7032 - val_loss: 5.0445 - val_accuracy: 0.7800 - val_f1_m: 0.7157 - val_precision_m: 0.7965 - val_recall_m: 0.6610\n",
            "Epoch 11/20\n",
            "153/153 [==============================] - 63s 411ms/step - loss: 4.4030 - accuracy: 0.8623 - f1_m: 0.8168 - precision_m: 0.9141 - recall_m: 0.7494 - val_loss: 4.0056 - val_accuracy: 0.7824 - val_f1_m: 0.7295 - val_precision_m: 0.7816 - val_recall_m: 0.6926\n",
            "Epoch 12/20\n",
            "153/153 [==============================] - 62s 404ms/step - loss: 3.3940 - accuracy: 0.8875 - f1_m: 0.8538 - precision_m: 0.9319 - recall_m: 0.7954 - val_loss: 3.1165 - val_accuracy: 0.7841 - val_f1_m: 0.7306 - val_precision_m: 0.7848 - val_recall_m: 0.6924\n",
            "Epoch 13/20\n",
            "153/153 [==============================] - 61s 402ms/step - loss: 2.5399 - accuracy: 0.8986 - f1_m: 0.8699 - precision_m: 0.9411 - recall_m: 0.8172 - val_loss: 2.3677 - val_accuracy: 0.7890 - val_f1_m: 0.7280 - val_precision_m: 0.7961 - val_recall_m: 0.6818\n",
            "Epoch 14/20\n",
            "153/153 [==============================] - 61s 397ms/step - loss: 1.8260 - accuracy: 0.9074 - f1_m: 0.8784 - precision_m: 0.9450 - recall_m: 0.8295 - val_loss: 1.7632 - val_accuracy: 0.7874 - val_f1_m: 0.7250 - val_precision_m: 0.7967 - val_recall_m: 0.6768\n",
            "Epoch 15/20\n",
            "153/153 [==============================] - 74s 481ms/step - loss: 1.2600 - accuracy: 0.9136 - f1_m: 0.8884 - precision_m: 0.9489 - recall_m: 0.8436 - val_loss: 1.2818 - val_accuracy: 0.7841 - val_f1_m: 0.7296 - val_precision_m: 0.7762 - val_recall_m: 0.7002\n",
            "Epoch 16/20\n",
            "153/153 [==============================] - 64s 416ms/step - loss: 0.8256 - accuracy: 0.9247 - f1_m: 0.9043 - precision_m: 0.9583 - recall_m: 0.8627 - val_loss: 0.9527 - val_accuracy: 0.7759 - val_f1_m: 0.7294 - val_precision_m: 0.7490 - val_recall_m: 0.7215\n",
            "Epoch 17/20\n",
            "153/153 [==============================] - 62s 403ms/step - loss: 0.5324 - accuracy: 0.9269 - f1_m: 0.9020 - precision_m: 0.9502 - recall_m: 0.8648 - val_loss: 0.7367 - val_accuracy: 0.7824 - val_f1_m: 0.7321 - val_precision_m: 0.7655 - val_recall_m: 0.7124\n",
            "Epoch 18/20\n",
            "153/153 [==============================] - 62s 405ms/step - loss: 0.3717 - accuracy: 0.9364 - f1_m: 0.9177 - precision_m: 0.9570 - recall_m: 0.8879 - val_loss: 0.6685 - val_accuracy: 0.7833 - val_f1_m: 0.7329 - val_precision_m: 0.7646 - val_recall_m: 0.7138\n",
            "Epoch 19/20\n",
            "153/153 [==============================] - 63s 413ms/step - loss: 0.3157 - accuracy: 0.9429 - f1_m: 0.9280 - precision_m: 0.9677 - recall_m: 0.8957 - val_loss: 0.6594 - val_accuracy: 0.7783 - val_f1_m: 0.7312 - val_precision_m: 0.7519 - val_recall_m: 0.7215\n",
            "Epoch 20/20\n",
            "153/153 [==============================] - 62s 404ms/step - loss: 0.2908 - accuracy: 0.9440 - f1_m: 0.9313 - precision_m: 0.9658 - recall_m: 0.9034 - val_loss: 0.6539 - val_accuracy: 0.7849 - val_f1_m: 0.7310 - val_precision_m: 0.7741 - val_recall_m: 0.7022\n"
          ]
        }
      ]
    },
    {
      "cell_type": "code",
      "source": [
        "loss, accuracy, f1_score,_,_ = model.evaluate(X_val, Y_val, verbose=0)\n",
        "print(\"F1 score: \", f1_score)"
      ],
      "metadata": {
        "id": "Mo9DL8pZSVhi",
        "colab": {
          "base_uri": "https://localhost:8080/"
        },
        "outputId": "7074570d-0ac0-4c12-acb0-0fc117360f35"
      },
      "execution_count": 31,
      "outputs": [
        {
          "output_type": "stream",
          "name": "stdout",
          "text": [
            "F1 score:  0.7481586933135986\n"
          ]
        }
      ]
    },
    {
      "cell_type": "code",
      "source": [
        "Y_pred = model.predict(X_val)\n",
        "Y_pred = Y_pred.round().astype('int').flatten()\n",
        "print(classification_report(Y_val, Y_pred))\n",
        "plot_model(history)"
      ],
      "metadata": {
        "id": "jtbSQAod2V07",
        "colab": {
          "base_uri": "https://localhost:8080/",
          "height": 1000
        },
        "outputId": "58cd7e44-93f9-43d7-acef-d48ac72624fa"
      },
      "execution_count": 32,
      "outputs": [
        {
          "output_type": "stream",
          "name": "stdout",
          "text": [
            "48/48 [==============================] - 4s 45ms/step\n",
            "              precision    recall  f1-score   support\n",
            "\n",
            "           0       0.80      0.87      0.83       874\n",
            "           1       0.80      0.71      0.75       649\n",
            "\n",
            "    accuracy                           0.80      1523\n",
            "   macro avg       0.80      0.79      0.79      1523\n",
            "weighted avg       0.80      0.80      0.80      1523\n",
            "\n"
          ]
        },
        {
          "output_type": "display_data",
          "data": {
            "text/plain": [
              "<Figure size 640x480 with 1 Axes>"
            ],
            "image/png": "[encoded data removed]"
          },
          "metadata": {}
        },
        {
          "output_type": "display_data",
          "data": {
            "text/plain": [
              "<Figure size 640x480 with 1 Axes>"
            ],
            "image/png": "[encoded data removed]"
          },
          "metadata": {}
        }
      ]
    },
    {
      "cell_type": "code",
      "source": [
        "# Preparing submission\n",
        "tokenizer = load_tokenizer('disaster_tokenizer.pickle')\n",
        "\n",
        "X_test = df_test[\"text\"]\n",
        "X_test_cv = transform_text(tokenizer, X_test)\n",
        "\n",
        "# generate predictions\n",
        "predictions = model.predict(X_test_cv)\n",
        "predictions = predictions.round().astype('int').flatten()\n",
        "predictions"
      ],
      "metadata": {
        "id": "SKtWJae84TRv",
        "colab": {
          "base_uri": "https://localhost:8080/"
        },
        "outputId": "ed76c02e-5f11-463f-d73d-59ce5175def7"
      },
      "execution_count": 33,
      "outputs": [
        {
          "output_type": "stream",
          "name": "stdout",
          "text": [
            "102/102 [==============================] - 5s 45ms/step\n"
          ]
        },
        {
          "output_type": "execute_result",
          "data": {
            "text/plain": [
              "array([0, 1, 1, ..., 1, 1, 0])"
            ]
          },
          "metadata": {},
          "execution_count": 33
        }
      ]
    },
    {
      "cell_type": "code",
      "source": [
        "predicted_df = df_test.copy()\n",
        "predicted_df['target'] = predictions"
      ],
      "metadata": {
        "id": "Hlp0pViD5ImC"
      },
      "execution_count": 34,
      "outputs": []
    },
    {
      "cell_type": "code",
      "source": [
        "predicted_df"
      ],
      "metadata": {
        "id": "31I7eDtK5MI3",
        "colab": {
          "base_uri": "https://localhost:8080/",
          "height": 424
        },
        "outputId": "f80d9d4c-b167-42f8-d62b-1c115a276862"
      },
      "execution_count": 35,
      "outputs": [
        {
          "output_type": "execute_result",
          "data": {
            "text/plain": [
              "                                                   text  target\n",
              "0                           happened terrible car crash       0\n",
              "1     heard earthquake different cities, stay safe e...       1\n",
              "2     forest fire spot pond, geese fleeing across st...       1\n",
              "3                apocalypse lighting. spokane wildfires       0\n",
              "4                   typhoon soudelor kills china taiwan       1\n",
              "...                                                 ...     ...\n",
              "3258  earthquake safety los angeles safety fasteners...       0\n",
              "3259  storm ri worse last hurricane. city amp others...       1\n",
              "3260  green line derailment chicago http t.co utbxlc...       1\n",
              "3261  meg issues hazardous weather outlook hwo http ...       1\n",
              "3262  cityofcalgary activated municipal emergency pl...       0\n",
              "\n",
              "[3263 rows x 2 columns]"
            ],
            "text/html": [
              "\n",
              "  <div id=\"df-8742e81c-0393-4c72-8600-a6a1b390b213\" class=\"colab-df-container\">\n",
              "    <div>\n",
              "<style scoped>\n",
              "    .dataframe tbody tr th:only-of-type {\n",
              "        vertical-align: middle;\n",
              "    }\n",
              "\n",
              "    .dataframe tbody tr th {\n",
              "        vertical-align: top;\n",
              "    }\n",
              "\n",
              "    .dataframe thead th {\n",
              "        text-align: right;\n",
              "    }\n",
              "</style>\n",
              "<table border=\"1\" class=\"dataframe\">\n",
              "  <thead>\n",
              "    <tr style=\"text-align: right;\">\n",
              "      <th></th>\n",
              "      <th>text</th>\n",
              "      <th>target</th>\n",
              "    </tr>\n",
              "  </thead>\n",
              "  <tbody>\n",
              "    <tr>\n",
              "      <th>0</th>\n",
              "      <td>happened terrible car crash</td>\n",
              "      <td>0</td>\n",
              "    </tr>\n",
              "    <tr>\n",
              "      <th>1</th>\n",
              "      <td>heard earthquake different cities, stay safe e...</td>\n",
              "      <td>1</td>\n",
              "    </tr>\n",
              "    <tr>\n",
              "      <th>2</th>\n",
              "      <td>forest fire spot pond, geese fleeing across st...</td>\n",
              "      <td>1</td>\n",
              "    </tr>\n",
              "    <tr>\n",
              "      <th>3</th>\n",
              "      <td>apocalypse lighting. spokane wildfires</td>\n",
              "      <td>0</td>\n",
              "    </tr>\n",
              "    <tr>\n",
              "      <th>4</th>\n",
              "      <td>typhoon soudelor kills china taiwan</td>\n",
              "      <td>1</td>\n",
              "    </tr>\n",
              "    <tr>\n",
              "      <th>...</th>\n",
              "      <td>...</td>\n",
              "      <td>...</td>\n",
              "    </tr>\n",
              "    <tr>\n",
              "      <th>3258</th>\n",
              "      <td>earthquake safety los angeles safety fasteners...</td>\n",
              "      <td>0</td>\n",
              "    </tr>\n",
              "    <tr>\n",
              "      <th>3259</th>\n",
              "      <td>storm ri worse last hurricane. city amp others...</td>\n",
              "      <td>1</td>\n",
              "    </tr>\n",
              "    <tr>\n",
              "      <th>3260</th>\n",
              "      <td>green line derailment chicago http t.co utbxlc...</td>\n",
              "      <td>1</td>\n",
              "    </tr>\n",
              "    <tr>\n",
              "      <th>3261</th>\n",
              "      <td>meg issues hazardous weather outlook hwo http ...</td>\n",
              "      <td>1</td>\n",
              "    </tr>\n",
              "    <tr>\n",
              "      <th>3262</th>\n",
              "      <td>cityofcalgary activated municipal emergency pl...</td>\n",
              "      <td>0</td>\n",
              "    </tr>\n",
              "  </tbody>\n",
              "</table>\n",
              "<p>3263 rows × 2 columns</p>\n",
              "</div>\n",
              "    <div class=\"colab-df-buttons\">\n",
              "\n",
              "  <div class=\"colab-df-container\">\n",
              "    <button class=\"colab-df-convert\" onclick=\"convertToInteractive('df-8742e81c-0393-4c72-8600-a6a1b390b213')\"\n",
              "            title=\"Convert this dataframe to an interactive table.\"\n",
              "            style=\"display:none;\">\n",
              "\n",
              "  <svg xmlns=\"http://www.w3.org/2000/svg\" height=\"24px\" viewBox=\"0 -960 960 960\">\n",
              "    <path d=\"M120-120v-720h720v720H120Zm60-500h600v-160H180v160Zm220 220h160v-160H400v160Zm0 220h160v-160H400v160ZM180-400h160v-160H180v160Zm440 0h160v-160H620v160ZM180-180h160v-160H180v160Zm440 0h160v-160H620v160Z\"/>\n",
              "  </svg>\n",
              "    </button>\n",
              "\n",
              "  <style>\n",
              "    .colab-df-container {\n",
              "      display:flex;\n",
              "      gap: 12px;\n",
              "    }\n",
              "\n",
              "    .colab-df-convert {\n",
              "      background-color: #E8F0FE;\n",
              "      border: none;\n",
              "      border-radius: 50%;\n",
              "      cursor: pointer;\n",
              "      display: none;\n",
              "      fill: #1967D2;\n",
              "      height: 32px;\n",
              "      padding: 0 0 0 0;\n",
              "      width: 32px;\n",
              "    }\n",
              "\n",
              "    .colab-df-convert:hover {\n",
              "      background-color: #E2EBFA;\n",
              "      box-shadow: 0px 1px 2px rgba(60, 64, 67, 0.3), 0px 1px 3px 1px rgba(60, 64, 67, 0.15);\n",
              "      fill: #174EA6;\n",
              "    }\n",
              "\n",
              "    .colab-df-buttons div {\n",
              "      margin-bottom: 4px;\n",
              "    }\n",
              "\n",
              "    [theme=dark] .colab-df-convert {\n",
              "      background-color: #3B4455;\n",
              "      fill: #D2E3FC;\n",
              "    }\n",
              "\n",
              "    [theme=dark] .colab-df-convert:hover {\n",
              "      background-color: #434B5C;\n",
              "      box-shadow: 0px 1px 3px 1px rgba(0, 0, 0, 0.15);\n",
              "      filter: drop-shadow(0px 1px 2px rgba(0, 0, 0, 0.3));\n",
              "      fill: #FFFFFF;\n",
              "    }\n",
              "  </style>\n",
              "\n",
              "    <script>\n",
              "      const buttonEl =\n",
              "        document.querySelector('#df-8742e81c-0393-4c72-8600-a6a1b390b213 button.colab-df-convert');\n",
              "      buttonEl.style.display =\n",
              "        google.colab.kernel.accessAllowed ? 'block' : 'none';\n",
              "\n",
              "      async function convertToInteractive(key) {\n",
              "        const element = document.querySelector('#df-8742e81c-0393-4c72-8600-a6a1b390b213');\n",
              "        const dataTable =\n",
              "          await google.colab.kernel.invokeFunction('convertToInteractive',\n",
              "                                                    [key], {});\n",
              "        if (!dataTable) return;\n",
              "\n",
              "        const docLinkHtml = 'Like what you see? Visit the ' +\n",
              "          '<a target=\"_blank\" href=https://colab.research.google.com/notebooks/data_table.ipynb>data table notebook</a>'\n",
              "          + ' to learn more about interactive tables.';\n",
              "        element.innerHTML = '';\n",
              "        dataTable['output_type'] = 'display_data';\n",
              "        await google.colab.output.renderOutput(dataTable, element);\n",
              "        const docLink = document.createElement('div');\n",
              "        docLink.innerHTML = docLinkHtml;\n",
              "        element.appendChild(docLink);\n",
              "      }\n",
              "    </script>\n",
              "  </div>\n",
              "\n",
              "\n",
              "<div id=\"df-0c7ce3d9-4baf-49da-a23c-2356245d7450\">\n",
              "  <button class=\"colab-df-quickchart\" onclick=\"quickchart('df-0c7ce3d9-4baf-49da-a23c-2356245d7450')\"\n",
              "            title=\"Suggest charts\"\n",
              "            style=\"display:none;\">\n",
              "\n",
              "<svg xmlns=\"http://www.w3.org/2000/svg\" height=\"24px\"viewBox=\"0 0 24 24\"\n",
              "     width=\"24px\">\n",
              "    <g>\n",
              "        <path d=\"M19 3H5c-1.1 0-2 .9-2 2v14c0 1.1.9 2 2 2h14c1.1 0 2-.9 2-2V5c0-1.1-.9-2-2-2zM9 17H7v-7h2v7zm4 0h-2V7h2v10zm4 0h-2v-4h2v4z\"/>\n",
              "    </g>\n",
              "</svg>\n",
              "  </button>\n",
              "\n",
              "<style>\n",
              "  .colab-df-quickchart {\n",
              "      --bg-color: #E8F0FE;\n",
              "      --fill-color: #1967D2;\n",
              "      --hover-bg-color: #E2EBFA;\n",
              "      --hover-fill-color: #174EA6;\n",
              "      --disabled-fill-color: #AAA;\n",
              "      --disabled-bg-color: #DDD;\n",
              "  }\n",
              "\n",
              "  [theme=dark] .colab-df-quickchart {\n",
              "      --bg-color: #3B4455;\n",
              "      --fill-color: #D2E3FC;\n",
              "      --hover-bg-color: #434B5C;\n",
              "      --hover-fill-color: #FFFFFF;\n",
              "      --disabled-bg-color: #3B4455;\n",
              "      --disabled-fill-color: #666;\n",
              "  }\n",
              "\n",
              "  .colab-df-quickchart {\n",
              "    background-color: var(--bg-color);\n",
              "    border: none;\n",
              "    border-radius: 50%;\n",
              "    cursor: pointer;\n",
              "    display: none;\n",
              "    fill: var(--fill-color);\n",
              "    height: 32px;\n",
              "    padding: 0;\n",
              "    width: 32px;\n",
              "  }\n",
              "\n",
              "  .colab-df-quickchart:hover {\n",
              "    background-color: var(--hover-bg-color);\n",
              "    box-shadow: 0 1px 2px rgba(60, 64, 67, 0.3), 0 1px 3px 1px rgba(60, 64, 67, 0.15);\n",
              "    fill: var(--button-hover-fill-color);\n",
              "  }\n",
              "\n",
              "  .colab-df-quickchart-complete:disabled,\n",
              "  .colab-df-quickchart-complete:disabled:hover {\n",
              "    background-color: var(--disabled-bg-color);\n",
              "    fill: var(--disabled-fill-color);\n",
              "    box-shadow: none;\n",
              "  }\n",
              "\n",
              "  .colab-df-spinner {\n",
              "    border: 2px solid var(--fill-color);\n",
              "    border-color: transparent;\n",
              "    border-bottom-color: var(--fill-color);\n",
              "    animation:\n",
              "      spin 1s steps(1) infinite;\n",
              "  }\n",
              "\n",
              "  @keyframes spin {\n",
              "    0% {\n",
              "      border-color: transparent;\n",
              "      border-bottom-color: var(--fill-color);\n",
              "      border-left-color: var(--fill-color);\n",
              "    }\n",
              "    20% {\n",
              "      border-color: transparent;\n",
              "      border-left-color: var(--fill-color);\n",
              "      border-top-color: var(--fill-color);\n",
              "    }\n",
              "    30% {\n",
              "      border-color: transparent;\n",
              "      border-left-color: var(--fill-color);\n",
              "      border-top-color: var(--fill-color);\n",
              "      border-right-color: var(--fill-color);\n",
              "    }\n",
              "    40% {\n",
              "      border-color: transparent;\n",
              "      border-right-color: var(--fill-color);\n",
              "      border-top-color: var(--fill-color);\n",
              "    }\n",
              "    60% {\n",
              "      border-color: transparent;\n",
              "      border-right-color: var(--fill-color);\n",
              "    }\n",
              "    80% {\n",
              "      border-color: transparent;\n",
              "      border-right-color: var(--fill-color);\n",
              "      border-bottom-color: var(--fill-color);\n",
              "    }\n",
              "    90% {\n",
              "      border-color: transparent;\n",
              "      border-bottom-color: var(--fill-color);\n",
              "    }\n",
              "  }\n",
              "</style>\n",
              "\n",
              "  <script>\n",
              "    async function quickchart(key) {\n",
              "      const quickchartButtonEl =\n",
              "        document.querySelector('#' + key + ' button');\n",
              "      quickchartButtonEl.disabled = true;  // To prevent multiple clicks.\n",
              "      quickchartButtonEl.classList.add('colab-df-spinner');\n",
              "      try {\n",
              "        const charts = await google.colab.kernel.invokeFunction(\n",
              "            'suggestCharts', [key], {});\n",
              "      } catch (error) {\n",
              "        console.error('Error during call to suggestCharts:', error);\n",
              "      }\n",
              "      quickchartButtonEl.classList.remove('colab-df-spinner');\n",
              "      quickchartButtonEl.classList.add('colab-df-quickchart-complete');\n",
              "    }\n",
              "    (() => {\n",
              "      let quickchartButtonEl =\n",
              "        document.querySelector('#df-0c7ce3d9-4baf-49da-a23c-2356245d7450 button');\n",
              "      quickchartButtonEl.style.display =\n",
              "        google.colab.kernel.accessAllowed ? 'block' : 'none';\n",
              "    })();\n",
              "  </script>\n",
              "</div>\n",
              "\n",
              "  <div id=\"id_f5acf136-d527-4d7a-8788-80238e433fc6\">\n",
              "    <style>\n",
              "      .colab-df-generate {\n",
              "        background-color: #E8F0FE;\n",
              "        border: none;\n",
              "        border-radius: 50%;\n",
              "        cursor: pointer;\n",
              "        display: none;\n",
              "        fill: #1967D2;\n",
              "        height: 32px;\n",
              "        padding: 0 0 0 0;\n",
              "        width: 32px;\n",
              "      }\n",
              "\n",
              "      .colab-df-generate:hover {\n",
              "        background-color: #E2EBFA;\n",
              "        box-shadow: 0px 1px 2px rgba(60, 64, 67, 0.3), 0px 1px 3px 1px rgba(60, 64, 67, 0.15);\n",
              "        fill: #174EA6;\n",
              "      }\n",
              "\n",
              "      [theme=dark] .colab-df-generate {\n",
              "        background-color: #3B4455;\n",
              "        fill: #D2E3FC;\n",
              "      }\n",
              "\n",
              "      [theme=dark] .colab-df-generate:hover {\n",
              "        background-color: #434B5C;\n",
              "        box-shadow: 0px 1px 3px 1px rgba(0, 0, 0, 0.15);\n",
              "        filter: drop-shadow(0px 1px 2px rgba(0, 0, 0, 0.3));\n",
              "        fill: #FFFFFF;\n",
              "      }\n",
              "    </style>\n",
              "    <button class=\"colab-df-generate\" onclick=\"generateWithVariable('predicted_df')\"\n",
              "            title=\"Generate code using this dataframe.\"\n",
              "            style=\"display:none;\">\n",
              "\n",
              "  <svg xmlns=\"http://www.w3.org/2000/svg\" height=\"24px\"viewBox=\"0 0 24 24\"\n",
              "       width=\"24px\">\n",
              "    <path d=\"M7,19H8.4L18.45,9,17,7.55,7,17.6ZM5,21V16.75L18.45,3.32a2,2,0,0,1,2.83,0l1.4,1.43a1.91,1.91,0,0,1,.58,1.4,1.91,1.91,0,0,1-.58,1.4L9.25,21ZM18.45,9,17,7.55Zm-12,3A5.31,5.31,0,0,0,4.9,8.1,5.31,5.31,0,0,0,1,6.5,5.31,5.31,0,0,0,4.9,4.9,5.31,5.31,0,0,0,6.5,1,5.31,5.31,0,0,0,8.1,4.9,5.31,5.31,0,0,0,12,6.5,5.46,5.46,0,0,0,6.5,12Z\"/>\n",
              "  </svg>\n",
              "    </button>\n",
              "    <script>\n",
              "      (() => {\n",
              "      const buttonEl =\n",
              "        document.querySelector('#id_f5acf136-d527-4d7a-8788-80238e433fc6 button.colab-df-generate');\n",
              "      buttonEl.style.display =\n",
              "        google.colab.kernel.accessAllowed ? 'block' : 'none';\n",
              "\n",
              "      buttonEl.onclick = () => {\n",
              "        google.colab.notebook.generateWithVariable('predicted_df');\n",
              "      }\n",
              "      })();\n",
              "    </script>\n",
              "  </div>\n",
              "\n",
              "    </div>\n",
              "  </div>\n"
            ]
          },
          "metadata": {},
          "execution_count": 35
        }
      ]
    },
    {
      "cell_type": "code",
      "source": [
        "submission_df = pd.read_csv(f'/content/drive/MyDrive/Works/NLP/Project_1/sample_submission.csv')\n",
        "submission = pd.DataFrame({\"id\": submission_df['id'],\n",
        "            \"target\":predictions})\n",
        "submission.to_csv('/content/submission.csv', index=False)"
      ],
      "metadata": {
        "id": "hUYd_q475OzM"
      },
      "execution_count": 36,
      "outputs": []
    },
    {
      "cell_type": "code",
      "source": [],
      "metadata": {
        "id": "4Rd83dZ35sE4"
      },
      "execution_count": null,
      "outputs": []
    }
  ]
}